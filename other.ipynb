{
 "cells": [
  {
   "cell_type": "code",
   "execution_count": null,
   "metadata": {},
   "outputs": [],
   "source": [
    "# reader = Reader()\n",
    "\n",
    "# # get just top 100K rows for faster run time\n",
    "# n_data = Dataset.load_from_df(data_rating[['movie_id', 'customer_id', 'rating']][:], reader)\n",
    "# #data.split(n_folds=3)\n",
    "\n",
    "# svd = SVD()\n",
    "# cross_validate(svd, n_data, measures=['RMSE', 'MAE'])\n",
    "\n",
    "# '''\n",
    "# {'test_rmse': array([0.8817798 , 0.88192341, 0.88248379, 0.88196481, 0.88232605]),\n",
    "#  'test_mae': array([0.68604232, 0.68602275, 0.68641537, 0.68610789, 0.68647331]),\n",
    "#  'fit_time': (930.4507405757904,\n",
    "#   984.6832256317139,\n",
    "#   939.8538687229156,\n",
    "#   942.2527465820312,\n",
    "#   938.3727450370789),\n",
    "#  'test_time': (91.36496424674988,\n",
    "#   103.47529745101929,\n",
    "#   98.98022675514221,\n",
    "#   98.00432777404785,\n",
    "#   105.73217177391052)}\n",
    "# '''"
   ]
  },
  {
   "cell_type": "markdown",
   "metadata": {},
   "source": [
    "#### try again later"
   ]
  },
  {
   "cell_type": "code",
   "execution_count": null,
   "metadata": {},
   "outputs": [],
   "source": [
    "# # temporarly while join with genre not working correctly\n",
    "# data_movies = data_movies_import.copy()\n",
    "# data_movies.set_index('movie_id', inplace = True)\n",
    "# print(data_movies)"
   ]
  },
  {
   "cell_type": "code",
   "execution_count": null,
   "metadata": {},
   "outputs": [],
   "source": [
    "# x_temp = data_movies_import\n",
    "# x2_temp= data_movies_categorize\n",
    "# #x_temp.set_index(\"movie_id\", inplace=True)\n",
    "# #x2_temp.set_index(\"movie_id\", inplace=True)"
   ]
  },
  {
   "cell_type": "code",
   "execution_count": null,
   "metadata": {},
   "outputs": [],
   "source": [
    "# temp_merge = pd.merge(x_temp, x2_temp, on=['movie_title', 'movie_year'], how='outer')\n",
    "# temp_merge = temp_merge[[\"movie_year\", \"movie_title\"]].drop_duplicates(subset=None, keep=\"last\", inplace=False)"
   ]
  },
  {
   "cell_type": "code",
   "execution_count": null,
   "metadata": {},
   "outputs": [],
   "source": [
    "#df_merged[\"genres\"].isnull()"
   ]
  },
  {
   "cell_type": "code",
   "execution_count": null,
   "metadata": {},
   "outputs": [],
   "source": [
    "# #data_movies = pd.merge(x, x2, on=['movie_year', 'movie_title'], how='outer')\n",
    "# data_movies = pd.merge(x, x2, on=[\"movie_title\", \"movie_year\"], how='outer')\n",
    "# data_movies#.set_index('movie_id', inplace = True)\n"
   ]
  },
  {
   "cell_type": "code",
   "execution_count": null,
   "metadata": {},
   "outputs": [],
   "source": [
    "# data_movies.groupby(\"movie_title\").count()"
   ]
  },
  {
   "cell_type": "markdown",
   "metadata": {},
   "source": [
    "#### end of try again later"
   ]
  },
  {
   "cell_type": "markdown",
   "metadata": {},
   "source": []
  }
 ],
 "metadata": {
  "language_info": {
   "name": "python"
  },
  "orig_nbformat": 4
 },
 "nbformat": 4,
 "nbformat_minor": 2
}
