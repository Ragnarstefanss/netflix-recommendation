{
 "cells": [
  {
   "cell_type": "code",
   "execution_count": null,
   "metadata": {},
   "outputs": [],
   "source": [
    "# reader = Reader()\n",
    "\n",
    "# # get just top 100K rows for faster run time\n",
    "# n_data = Dataset.load_from_df(data_rating[['movie_id', 'customer_id', 'rating']][:], reader)\n",
    "# #data.split(n_folds=3)\n",
    "\n",
    "# svd = SVD()\n",
    "# cross_validate(svd, n_data, measures=['RMSE', 'MAE'])\n",
    "\n",
    "# '''\n",
    "# {'test_rmse': array([0.8817798 , 0.88192341, 0.88248379, 0.88196481, 0.88232605]),\n",
    "#  'test_mae': array([0.68604232, 0.68602275, 0.68641537, 0.68610789, 0.68647331]),\n",
    "#  'fit_time': (930.4507405757904,\n",
    "#   984.6832256317139,\n",
    "#   939.8538687229156,\n",
    "#   942.2527465820312,\n",
    "#   938.3727450370789),\n",
    "#  'test_time': (91.36496424674988,\n",
    "#   103.47529745101929,\n",
    "#   98.98022675514221,\n",
    "#   98.00432777404785,\n",
    "#   105.73217177391052)}\n",
    "# '''"
   ]
  }
 ],
 "metadata": {
  "language_info": {
   "name": "python"
  },
  "orig_nbformat": 4
 },
 "nbformat": 4,
 "nbformat_minor": 2
}
