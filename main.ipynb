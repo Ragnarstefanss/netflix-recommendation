{
 "cells": [
  {
   "cell_type": "code",
   "execution_count": 1,
   "metadata": {},
   "outputs": [],
   "source": [
    "#!pip install surprise\n",
    "import pandas as pd\n",
    "import numpy as np\n",
    "import matplotlib.pyplot as plt\n",
    "import seaborn as sns\n",
    "from surprise import Reader, Dataset, SVD\n",
    "from surprise.model_selection import cross_validate\n",
    "import pickle\n",
    "#sns.set_style(\"darkgrid\")"
   ]
  },
  {
   "cell_type": "code",
   "execution_count": 2,
   "metadata": {
    "tags": []
   },
   "outputs": [],
   "source": [
    "## import all combined_data files to pandas\n",
    "df_1 = pd.read_csv('./data/combined_data_1.txt', header = None, names = ['customer_id', 'rating'], usecols = [0,1])\n",
    "#df2 = pd.read_csv('./data/combined_data_2.txt', header = None, names = ['customer_id', 'rating'], usecols = [0,1])\n",
    "#df3 = pd.read_csv('./data/combined_data_3.txt', header = None, names = ['customer_id', 'rating'], usecols = [0,1])\n",
    "#df4 = pd.read_csv('./data/combined_data_4.txt', header = None, names = ['customer_id', 'rating'], usecols = [0,1])\n",
    "## change rating to float\n",
    "df_1['rating'] = df_1['rating'].astype(float)\n",
    "#df2['rating'] = df2['rating'].astype(float)\n",
    "#df3['rating'] = df3['rating'].astype(float)\n",
    "#df4['rating'] = df4['rating'].astype(float)\n",
    "##combine to one large pandas dataframe\n",
    "df_all = df_1\n",
    "#data = data.append(df2)\n",
    "#data = data.append(df3)\n",
    "#data = data.append(df4)\n",
    "df_all.index = np.arange(0,len(df_all))"
   ]
  },
  {
   "cell_type": "code",
   "execution_count": 3,
   "metadata": {},
   "outputs": [],
   "source": [
    "df_movies = pd.read_csv('./data/movie_titles.csv', header = None, names = ['movie_id', 'movie_year', 'movie_title'], usecols = [0,1,2], encoding=\"latin1\")\n",
    "df_movies.set_index('movie_id', inplace = True)"
   ]
  },
  {
   "cell_type": "code",
   "execution_count": 4,
   "metadata": {},
   "outputs": [
    {
     "data": {
      "text/html": [
       "<div>\n",
       "<style scoped>\n",
       "    .dataframe tbody tr th:only-of-type {\n",
       "        vertical-align: middle;\n",
       "    }\n",
       "\n",
       "    .dataframe tbody tr th {\n",
       "        vertical-align: top;\n",
       "    }\n",
       "\n",
       "    .dataframe thead th {\n",
       "        text-align: right;\n",
       "    }\n",
       "</style>\n",
       "<table border=\"1\" class=\"dataframe\">\n",
       "  <thead>\n",
       "    <tr style=\"text-align: right;\">\n",
       "      <th></th>\n",
       "      <th>movie_year</th>\n",
       "      <th>movie_title</th>\n",
       "    </tr>\n",
       "    <tr>\n",
       "      <th>movie_id</th>\n",
       "      <th></th>\n",
       "      <th></th>\n",
       "    </tr>\n",
       "  </thead>\n",
       "  <tbody>\n",
       "    <tr>\n",
       "      <th>1</th>\n",
       "      <td>2003.0</td>\n",
       "      <td>Dinosaur Planet</td>\n",
       "    </tr>\n",
       "    <tr>\n",
       "      <th>2</th>\n",
       "      <td>2004.0</td>\n",
       "      <td>Isle of Man TT 2004 Review</td>\n",
       "    </tr>\n",
       "    <tr>\n",
       "      <th>3</th>\n",
       "      <td>1997.0</td>\n",
       "      <td>Character</td>\n",
       "    </tr>\n",
       "    <tr>\n",
       "      <th>4</th>\n",
       "      <td>1994.0</td>\n",
       "      <td>Paula Abdul's Get Up &amp; Dance</td>\n",
       "    </tr>\n",
       "    <tr>\n",
       "      <th>5</th>\n",
       "      <td>2004.0</td>\n",
       "      <td>The Rise and Fall of ECW</td>\n",
       "    </tr>\n",
       "    <tr>\n",
       "      <th>...</th>\n",
       "      <td>...</td>\n",
       "      <td>...</td>\n",
       "    </tr>\n",
       "    <tr>\n",
       "      <th>17766</th>\n",
       "      <td>2002.0</td>\n",
       "      <td>Where the Wild Things Are and Other Maurice Se...</td>\n",
       "    </tr>\n",
       "    <tr>\n",
       "      <th>17767</th>\n",
       "      <td>2004.0</td>\n",
       "      <td>Fidel Castro: American Experience</td>\n",
       "    </tr>\n",
       "    <tr>\n",
       "      <th>17768</th>\n",
       "      <td>2000.0</td>\n",
       "      <td>Epoch</td>\n",
       "    </tr>\n",
       "    <tr>\n",
       "      <th>17769</th>\n",
       "      <td>2003.0</td>\n",
       "      <td>The Company</td>\n",
       "    </tr>\n",
       "    <tr>\n",
       "      <th>17770</th>\n",
       "      <td>2003.0</td>\n",
       "      <td>Alien Hunter</td>\n",
       "    </tr>\n",
       "  </tbody>\n",
       "</table>\n",
       "<p>17770 rows × 2 columns</p>\n",
       "</div>"
      ],
      "text/plain": [
       "          movie_year                                        movie_title\n",
       "movie_id                                                               \n",
       "1             2003.0                                    Dinosaur Planet\n",
       "2             2004.0                         Isle of Man TT 2004 Review\n",
       "3             1997.0                                          Character\n",
       "4             1994.0                       Paula Abdul's Get Up & Dance\n",
       "5             2004.0                           The Rise and Fall of ECW\n",
       "...              ...                                                ...\n",
       "17766         2002.0  Where the Wild Things Are and Other Maurice Se...\n",
       "17767         2004.0                  Fidel Castro: American Experience\n",
       "17768         2000.0                                              Epoch\n",
       "17769         2003.0                                        The Company\n",
       "17770         2003.0                                       Alien Hunter\n",
       "\n",
       "[17770 rows x 2 columns]"
      ]
     },
     "execution_count": 4,
     "metadata": {},
     "output_type": "execute_result"
    }
   ],
   "source": [
    "df_movies"
   ]
  },
  {
   "cell_type": "code",
   "execution_count": 5,
   "metadata": {
    "tags": []
   },
   "outputs": [],
   "source": [
    "def create_dataframe(use_pickle=True):\n",
    "    if(use_pickle == True):\n",
    "        in_pickle = open(\"pickle/movies_customers_ratings.pickle\", \"rb\")\n",
    "        data = pd.DataFrame(pickle.load(in_pickle), columns=['movie_id', 'customer_id', 'rating', 'index']).drop(['index'], axis=1)\n",
    "    else:\n",
    "        index = 1\n",
    "        last_movie_id = \"1\"\n",
    "        new_data = []\n",
    "        for customer_id in df_all[\"customer_id\"]:\n",
    "            # if we find : that means this is a movie_id and not customer_id\n",
    "            if(customer_id.find(\":\") > 0):\n",
    "                movie_id = customer_id.replace(\":\", \"\")\n",
    "                # if(movie_id != last_movie_id):\n",
    "                #     print(movie_id, \" index is \", index)\n",
    "                last_movie_id = movie_id\n",
    "            else:\n",
    "                # we have this row index so use it to get rating\n",
    "                rating = df_all[\"rating\"][index-1]\n",
    "                new_data.append([last_movie_id, customer_id, rating, index])\n",
    "            index += 1\n",
    "        #output to pickle file\n",
    "        movies_customers_ratings = open(\"pickle/movies_customers_ratings.pickle\",\"wb\")\n",
    "        pickle.dump(new_data, movies_customers_ratings)\n",
    "        movies_customers_ratings.close()\n",
    "        data = pd.DataFrame(new_data, columns=['movie_id', 'customer_id', 'rating', 'index']).drop(['index'], axis=1)\n",
    "\n",
    "    # change columns to numerical\n",
    "    data['movie_id'] = data['movie_id'].astype(int)\n",
    "    data['customer_id'] = data['customer_id'].astype(int)\n",
    "    data[\"rating\"] = data[\"rating\"].astype(int)\n",
    "    return data\n",
    "\n",
    "data = create_dataframe(use_pickle=True)"
   ]
  },
  {
   "cell_type": "code",
   "execution_count": 6,
   "metadata": {},
   "outputs": [],
   "source": [
    "data_rating_and_movie = data.merge(df_movies, on=\"movie_id\", how=\"inner\")"
   ]
  },
  {
   "cell_type": "code",
   "execution_count": 7,
   "metadata": {},
   "outputs": [
    {
     "data": {
      "text/html": [
       "<div>\n",
       "<style scoped>\n",
       "    .dataframe tbody tr th:only-of-type {\n",
       "        vertical-align: middle;\n",
       "    }\n",
       "\n",
       "    .dataframe tbody tr th {\n",
       "        vertical-align: top;\n",
       "    }\n",
       "\n",
       "    .dataframe thead th {\n",
       "        text-align: right;\n",
       "    }\n",
       "</style>\n",
       "<table border=\"1\" class=\"dataframe\">\n",
       "  <thead>\n",
       "    <tr style=\"text-align: right;\">\n",
       "      <th></th>\n",
       "      <th>movie_id</th>\n",
       "      <th>customer_id</th>\n",
       "      <th>rating</th>\n",
       "      <th>movie_year</th>\n",
       "      <th>movie_title</th>\n",
       "    </tr>\n",
       "  </thead>\n",
       "  <tbody>\n",
       "    <tr>\n",
       "      <th>0</th>\n",
       "      <td>1</td>\n",
       "      <td>1488844</td>\n",
       "      <td>3</td>\n",
       "      <td>2003.0</td>\n",
       "      <td>Dinosaur Planet</td>\n",
       "    </tr>\n",
       "    <tr>\n",
       "      <th>1</th>\n",
       "      <td>1</td>\n",
       "      <td>822109</td>\n",
       "      <td>5</td>\n",
       "      <td>2003.0</td>\n",
       "      <td>Dinosaur Planet</td>\n",
       "    </tr>\n",
       "    <tr>\n",
       "      <th>2</th>\n",
       "      <td>1</td>\n",
       "      <td>885013</td>\n",
       "      <td>4</td>\n",
       "      <td>2003.0</td>\n",
       "      <td>Dinosaur Planet</td>\n",
       "    </tr>\n",
       "    <tr>\n",
       "      <th>3</th>\n",
       "      <td>1</td>\n",
       "      <td>30878</td>\n",
       "      <td>4</td>\n",
       "      <td>2003.0</td>\n",
       "      <td>Dinosaur Planet</td>\n",
       "    </tr>\n",
       "    <tr>\n",
       "      <th>4</th>\n",
       "      <td>1</td>\n",
       "      <td>823519</td>\n",
       "      <td>3</td>\n",
       "      <td>2003.0</td>\n",
       "      <td>Dinosaur Planet</td>\n",
       "    </tr>\n",
       "    <tr>\n",
       "      <th>...</th>\n",
       "      <td>...</td>\n",
       "      <td>...</td>\n",
       "      <td>...</td>\n",
       "      <td>...</td>\n",
       "      <td>...</td>\n",
       "    </tr>\n",
       "    <tr>\n",
       "      <th>24053759</th>\n",
       "      <td>4499</td>\n",
       "      <td>2591364</td>\n",
       "      <td>2</td>\n",
       "      <td>2002.0</td>\n",
       "      <td>In My Skin</td>\n",
       "    </tr>\n",
       "    <tr>\n",
       "      <th>24053760</th>\n",
       "      <td>4499</td>\n",
       "      <td>1791000</td>\n",
       "      <td>2</td>\n",
       "      <td>2002.0</td>\n",
       "      <td>In My Skin</td>\n",
       "    </tr>\n",
       "    <tr>\n",
       "      <th>24053761</th>\n",
       "      <td>4499</td>\n",
       "      <td>512536</td>\n",
       "      <td>5</td>\n",
       "      <td>2002.0</td>\n",
       "      <td>In My Skin</td>\n",
       "    </tr>\n",
       "    <tr>\n",
       "      <th>24053762</th>\n",
       "      <td>4499</td>\n",
       "      <td>988963</td>\n",
       "      <td>3</td>\n",
       "      <td>2002.0</td>\n",
       "      <td>In My Skin</td>\n",
       "    </tr>\n",
       "    <tr>\n",
       "      <th>24053763</th>\n",
       "      <td>4499</td>\n",
       "      <td>1704416</td>\n",
       "      <td>3</td>\n",
       "      <td>2002.0</td>\n",
       "      <td>In My Skin</td>\n",
       "    </tr>\n",
       "  </tbody>\n",
       "</table>\n",
       "<p>24053764 rows × 5 columns</p>\n",
       "</div>"
      ],
      "text/plain": [
       "          movie_id  customer_id  rating  movie_year      movie_title\n",
       "0                1      1488844       3      2003.0  Dinosaur Planet\n",
       "1                1       822109       5      2003.0  Dinosaur Planet\n",
       "2                1       885013       4      2003.0  Dinosaur Planet\n",
       "3                1        30878       4      2003.0  Dinosaur Planet\n",
       "4                1       823519       3      2003.0  Dinosaur Planet\n",
       "...            ...          ...     ...         ...              ...\n",
       "24053759      4499      2591364       2      2002.0       In My Skin\n",
       "24053760      4499      1791000       2      2002.0       In My Skin\n",
       "24053761      4499       512536       5      2002.0       In My Skin\n",
       "24053762      4499       988963       3      2002.0       In My Skin\n",
       "24053763      4499      1704416       3      2002.0       In My Skin\n",
       "\n",
       "[24053764 rows x 5 columns]"
      ]
     },
     "execution_count": 7,
     "metadata": {},
     "output_type": "execute_result"
    }
   ],
   "source": [
    "data_rating_and_movie"
   ]
  },
  {
   "cell_type": "code",
   "execution_count": 8,
   "metadata": {},
   "outputs": [
    {
     "name": "stdout",
     "output_type": "stream",
     "text": [
      "24053764\n"
     ]
    }
   ],
   "source": [
    "print(len(data))"
   ]
  },
  {
   "cell_type": "code",
   "execution_count": 9,
   "metadata": {},
   "outputs": [],
   "source": [
    "def all_movie_id_rows(movie_id):\n",
    "    return data[data['movie_id'] == movie_id]\n",
    "\n",
    "def all_custumers_id_rows(customer_id):\n",
    "    return data[data['customer_id'] == customer_id]"
   ]
  },
  {
   "cell_type": "code",
   "execution_count": 10,
   "metadata": {},
   "outputs": [
    {
     "data": {
      "text/html": [
       "<div>\n",
       "<style scoped>\n",
       "    .dataframe tbody tr th:only-of-type {\n",
       "        vertical-align: middle;\n",
       "    }\n",
       "\n",
       "    .dataframe tbody tr th {\n",
       "        vertical-align: top;\n",
       "    }\n",
       "\n",
       "    .dataframe thead th {\n",
       "        text-align: right;\n",
       "    }\n",
       "</style>\n",
       "<table border=\"1\" class=\"dataframe\">\n",
       "  <thead>\n",
       "    <tr style=\"text-align: right;\">\n",
       "      <th></th>\n",
       "      <th>movie_id</th>\n",
       "      <th>customer_id</th>\n",
       "      <th>rating</th>\n",
       "    </tr>\n",
       "  </thead>\n",
       "  <tbody>\n",
       "    <tr>\n",
       "      <th>187297</th>\n",
       "      <td>30</td>\n",
       "      <td>6</td>\n",
       "      <td>3</td>\n",
       "    </tr>\n",
       "    <tr>\n",
       "      <th>539827</th>\n",
       "      <td>157</td>\n",
       "      <td>6</td>\n",
       "      <td>3</td>\n",
       "    </tr>\n",
       "    <tr>\n",
       "      <th>576723</th>\n",
       "      <td>173</td>\n",
       "      <td>6</td>\n",
       "      <td>4</td>\n",
       "    </tr>\n",
       "    <tr>\n",
       "      <th>649632</th>\n",
       "      <td>175</td>\n",
       "      <td>6</td>\n",
       "      <td>5</td>\n",
       "    </tr>\n",
       "    <tr>\n",
       "      <th>795442</th>\n",
       "      <td>191</td>\n",
       "      <td>6</td>\n",
       "      <td>2</td>\n",
       "    </tr>\n",
       "    <tr>\n",
       "      <th>...</th>\n",
       "      <td>...</td>\n",
       "      <td>...</td>\n",
       "      <td>...</td>\n",
       "    </tr>\n",
       "    <tr>\n",
       "      <th>23266008</th>\n",
       "      <td>4356</td>\n",
       "      <td>6</td>\n",
       "      <td>4</td>\n",
       "    </tr>\n",
       "    <tr>\n",
       "      <th>23526258</th>\n",
       "      <td>4393</td>\n",
       "      <td>6</td>\n",
       "      <td>3</td>\n",
       "    </tr>\n",
       "    <tr>\n",
       "      <th>23586501</th>\n",
       "      <td>4406</td>\n",
       "      <td>6</td>\n",
       "      <td>3</td>\n",
       "    </tr>\n",
       "    <tr>\n",
       "      <th>23769931</th>\n",
       "      <td>4432</td>\n",
       "      <td>6</td>\n",
       "      <td>3</td>\n",
       "    </tr>\n",
       "    <tr>\n",
       "      <th>23920753</th>\n",
       "      <td>4472</td>\n",
       "      <td>6</td>\n",
       "      <td>3</td>\n",
       "    </tr>\n",
       "  </tbody>\n",
       "</table>\n",
       "<p>153 rows × 3 columns</p>\n",
       "</div>"
      ],
      "text/plain": [
       "          movie_id  customer_id  rating\n",
       "187297          30            6       3\n",
       "539827         157            6       3\n",
       "576723         173            6       4\n",
       "649632         175            6       5\n",
       "795442         191            6       2\n",
       "...            ...          ...     ...\n",
       "23266008      4356            6       4\n",
       "23526258      4393            6       3\n",
       "23586501      4406            6       3\n",
       "23769931      4432            6       3\n",
       "23920753      4472            6       3\n",
       "\n",
       "[153 rows x 3 columns]"
      ]
     },
     "execution_count": 10,
     "metadata": {},
     "output_type": "execute_result"
    }
   ],
   "source": [
    "all_custumers_id_rows(6)"
   ]
  },
  {
   "cell_type": "code",
   "execution_count": 11,
   "metadata": {},
   "outputs": [],
   "source": [
    "customers_ratings_stats = data.groupby('customer_id').agg({'rating': ['sum', 'count']}).reset_index()"
   ]
  },
  {
   "cell_type": "code",
   "execution_count": 12,
   "metadata": {},
   "outputs": [],
   "source": [
    "customers_ratings_stats['avg_rating'] =  customers_ratings_stats['rating']['sum'] / customers_ratings_stats['rating']['count']"
   ]
  },
  {
   "cell_type": "code",
   "execution_count": 13,
   "metadata": {},
   "outputs": [
    {
     "name": "stdout",
     "output_type": "stream",
     "text": [
      "       customer_id rating       avg_rating\n",
      "                      sum count           \n",
      "0                6    510   153   3.333333\n",
      "1                7    793   195   4.066667\n",
      "2                8     84    21   4.000000\n",
      "3               10    164    49   3.346939\n",
      "4               25     14     4   3.500000\n",
      "...            ...    ...   ...        ...\n",
      "470753     2649404     49    12   4.083333\n",
      "470754     2649409     40    10   4.000000\n",
      "470755     2649421     15     3   5.000000\n",
      "470756     2649426    301    74   4.067568\n",
      "470757     2649429    258    62   4.161290\n",
      "\n",
      "[470758 rows x 4 columns]\n"
     ]
    }
   ],
   "source": [
    "print(customers_ratings_stats)"
   ]
  },
  {
   "cell_type": "code",
   "execution_count": null,
   "metadata": {},
   "outputs": [],
   "source": []
  },
  {
   "cell_type": "markdown",
   "metadata": {},
   "source": [
    "# Recommendations with collaborative filtering"
   ]
  },
  {
   "cell_type": "code",
   "execution_count": 14,
   "metadata": {},
   "outputs": [],
   "source": [
    "# reader = Reader()\n",
    "\n",
    "# # get just top 100K rows for faster run time\n",
    "# n_data = Dataset.load_from_df(data[['movie_id', 'customer_id', 'rating']][:], reader)\n",
    "# #data.split(n_folds=3)\n",
    "\n",
    "# svd = SVD()\n",
    "# cross_validate(svd, n_data, measures=['RMSE', 'MAE'])\n",
    "\n",
    "# '''\n",
    "# {'test_rmse': array([0.8817798 , 0.88192341, 0.88248379, 0.88196481, 0.88232605]),\n",
    "#  'test_mae': array([0.68604232, 0.68602275, 0.68641537, 0.68610789, 0.68647331]),\n",
    "#  'fit_time': (930.4507405757904,\n",
    "#   984.6832256317139,\n",
    "#   939.8538687229156,\n",
    "#   942.2527465820312,\n",
    "#   938.3727450370789),\n",
    "#  'test_time': (91.36496424674988,\n",
    "#   103.47529745101929,\n",
    "#   98.98022675514221,\n",
    "#   98.00432777404785,\n",
    "#   105.73217177391052)}\n",
    "# '''"
   ]
  },
  {
   "cell_type": "code",
   "execution_count": null,
   "metadata": {},
   "outputs": [],
   "source": []
  },
  {
   "cell_type": "code",
   "execution_count": 15,
   "metadata": {},
   "outputs": [],
   "source": [
    "count_movies_rated_by_customer = data.groupby('customer_id').agg({'movie_id': 'count'}).reset_index()"
   ]
  },
  {
   "cell_type": "code",
   "execution_count": 16,
   "metadata": {},
   "outputs": [
    {
     "data": {
      "text/html": [
       "<div>\n",
       "<style scoped>\n",
       "    .dataframe tbody tr th:only-of-type {\n",
       "        vertical-align: middle;\n",
       "    }\n",
       "\n",
       "    .dataframe tbody tr th {\n",
       "        vertical-align: top;\n",
       "    }\n",
       "\n",
       "    .dataframe thead th {\n",
       "        text-align: right;\n",
       "    }\n",
       "</style>\n",
       "<table border=\"1\" class=\"dataframe\">\n",
       "  <thead>\n",
       "    <tr style=\"text-align: right;\">\n",
       "      <th></th>\n",
       "      <th>customer_id</th>\n",
       "      <th>movie_id</th>\n",
       "    </tr>\n",
       "  </thead>\n",
       "  <tbody>\n",
       "    <tr>\n",
       "      <th>0</th>\n",
       "      <td>6</td>\n",
       "      <td>153</td>\n",
       "    </tr>\n",
       "    <tr>\n",
       "      <th>1</th>\n",
       "      <td>7</td>\n",
       "      <td>195</td>\n",
       "    </tr>\n",
       "    <tr>\n",
       "      <th>2</th>\n",
       "      <td>8</td>\n",
       "      <td>21</td>\n",
       "    </tr>\n",
       "    <tr>\n",
       "      <th>3</th>\n",
       "      <td>10</td>\n",
       "      <td>49</td>\n",
       "    </tr>\n",
       "    <tr>\n",
       "      <th>4</th>\n",
       "      <td>25</td>\n",
       "      <td>4</td>\n",
       "    </tr>\n",
       "    <tr>\n",
       "      <th>...</th>\n",
       "      <td>...</td>\n",
       "      <td>...</td>\n",
       "    </tr>\n",
       "    <tr>\n",
       "      <th>470753</th>\n",
       "      <td>2649404</td>\n",
       "      <td>12</td>\n",
       "    </tr>\n",
       "    <tr>\n",
       "      <th>470754</th>\n",
       "      <td>2649409</td>\n",
       "      <td>10</td>\n",
       "    </tr>\n",
       "    <tr>\n",
       "      <th>470755</th>\n",
       "      <td>2649421</td>\n",
       "      <td>3</td>\n",
       "    </tr>\n",
       "    <tr>\n",
       "      <th>470756</th>\n",
       "      <td>2649426</td>\n",
       "      <td>74</td>\n",
       "    </tr>\n",
       "    <tr>\n",
       "      <th>470757</th>\n",
       "      <td>2649429</td>\n",
       "      <td>62</td>\n",
       "    </tr>\n",
       "  </tbody>\n",
       "</table>\n",
       "<p>470758 rows × 2 columns</p>\n",
       "</div>"
      ],
      "text/plain": [
       "        customer_id  movie_id\n",
       "0                 6       153\n",
       "1                 7       195\n",
       "2                 8        21\n",
       "3                10        49\n",
       "4                25         4\n",
       "...             ...       ...\n",
       "470753      2649404        12\n",
       "470754      2649409        10\n",
       "470755      2649421         3\n",
       "470756      2649426        74\n",
       "470757      2649429        62\n",
       "\n",
       "[470758 rows x 2 columns]"
      ]
     },
     "execution_count": 16,
     "metadata": {},
     "output_type": "execute_result"
    }
   ],
   "source": [
    "count_movies_rated_by_customer"
   ]
  },
  {
   "cell_type": "code",
   "execution_count": 17,
   "metadata": {},
   "outputs": [
    {
     "data": {
      "text/html": [
       "<div>\n",
       "<style scoped>\n",
       "    .dataframe tbody tr th:only-of-type {\n",
       "        vertical-align: middle;\n",
       "    }\n",
       "\n",
       "    .dataframe tbody tr th {\n",
       "        vertical-align: top;\n",
       "    }\n",
       "\n",
       "    .dataframe thead th {\n",
       "        text-align: right;\n",
       "    }\n",
       "</style>\n",
       "<table border=\"1\" class=\"dataframe\">\n",
       "  <thead>\n",
       "    <tr style=\"text-align: right;\">\n",
       "      <th></th>\n",
       "      <th>movie_id</th>\n",
       "      <th>customer_id</th>\n",
       "      <th>rating</th>\n",
       "    </tr>\n",
       "  </thead>\n",
       "  <tbody>\n",
       "    <tr>\n",
       "      <th>668785</th>\n",
       "      <td>178</td>\n",
       "      <td>25</td>\n",
       "      <td>3</td>\n",
       "    </tr>\n",
       "    <tr>\n",
       "      <th>4024590</th>\n",
       "      <td>761</td>\n",
       "      <td>25</td>\n",
       "      <td>4</td>\n",
       "    </tr>\n",
       "    <tr>\n",
       "      <th>17901555</th>\n",
       "      <td>3427</td>\n",
       "      <td>25</td>\n",
       "      <td>2</td>\n",
       "    </tr>\n",
       "    <tr>\n",
       "      <th>23685758</th>\n",
       "      <td>4432</td>\n",
       "      <td>25</td>\n",
       "      <td>5</td>\n",
       "    </tr>\n",
       "  </tbody>\n",
       "</table>\n",
       "</div>"
      ],
      "text/plain": [
       "          movie_id  customer_id  rating\n",
       "668785         178           25       3\n",
       "4024590        761           25       4\n",
       "17901555      3427           25       2\n",
       "23685758      4432           25       5"
      ]
     },
     "execution_count": 17,
     "metadata": {},
     "output_type": "execute_result"
    }
   ],
   "source": [
    "all_custumers_id_rows(25)"
   ]
  },
  {
   "cell_type": "markdown",
   "metadata": {},
   "source": [
    "# Average rating stats"
   ]
  },
  {
   "cell_type": "code",
   "execution_count": 18,
   "metadata": {},
   "outputs": [],
   "source": [
    "def get_avg_rating_less_than(max_rating):\n",
    "    print(customers_ratings_stats[customers_ratings_stats['avg_rating'] < max_rating])\n",
    "\n",
    "def get_users_avg_rating(user_id):\n",
    "    output = customers_ratings_stats[customers_ratings_stats['customer_id'] == user_id]\n",
    "    #print(output)\n",
    "    return output['avg_rating']"
   ]
  },
  {
   "cell_type": "code",
   "execution_count": 19,
   "metadata": {},
   "outputs": [
    {
     "data": {
      "text/plain": [
       "4    3.5\n",
       "Name: avg_rating, dtype: float64"
      ]
     },
     "execution_count": 19,
     "metadata": {},
     "output_type": "execute_result"
    }
   ],
   "source": [
    "get_users_avg_rating(25)"
   ]
  },
  {
   "cell_type": "code",
   "execution_count": 20,
   "metadata": {},
   "outputs": [
    {
     "name": "stdout",
     "output_type": "stream",
     "text": [
      "       customer_id rating       avg_rating\n",
      "                      sum count           \n",
      "0                6    510   153   3.333333\n",
      "1                7    793   195   4.066667\n",
      "2                8     84    21   4.000000\n",
      "3               10    164    49   3.346939\n",
      "4               25     14     4   3.500000\n",
      "...            ...    ...   ...        ...\n",
      "470752     2649401    118    30   3.933333\n",
      "470753     2649404     49    12   4.083333\n",
      "470754     2649409     40    10   4.000000\n",
      "470756     2649426    301    74   4.067568\n",
      "470757     2649429    258    62   4.161290\n",
      "\n",
      "[459896 rows x 4 columns]\n"
     ]
    }
   ],
   "source": [
    "get_avg_rating_less_than(5)"
   ]
  },
  {
   "cell_type": "code",
   "execution_count": 21,
   "metadata": {},
   "outputs": [
    {
     "name": "stdout",
     "output_type": "stream",
     "text": [
      "       customer_id rating       avg_rating\n",
      "                      sum count           \n",
      "0                6    510   153   3.333333\n",
      "3               10    164    49   3.346939\n",
      "4               25     14     4   3.500000\n",
      "5               33     38    11   3.454545\n",
      "6               42    142    36   3.944444\n",
      "...            ...    ...   ...        ...\n",
      "470747     2649376    133    34   3.911765\n",
      "470748     2649378    233    72   3.236111\n",
      "470750     2649384     23     7   3.285714\n",
      "470751     2649388    257    77   3.337662\n",
      "470752     2649401    118    30   3.933333\n",
      "\n",
      "[331845 rows x 4 columns]\n"
     ]
    }
   ],
   "source": [
    "get_avg_rating_less_than(4)"
   ]
  },
  {
   "cell_type": "code",
   "execution_count": 22,
   "metadata": {},
   "outputs": [
    {
     "name": "stdout",
     "output_type": "stream",
     "text": [
      "       customer_id rating       avg_rating\n",
      "                      sum count           \n",
      "40             261     17     7   2.428571\n",
      "71             392     19     8   2.375000\n",
      "75             437    211    78   2.705128\n",
      "117            660      8     3   2.666667\n",
      "125            692      2     1   2.000000\n",
      "...            ...    ...   ...        ...\n",
      "470675     2648907     11     6   1.833333\n",
      "470691     2649034     82    33   2.484848\n",
      "470706     2649093    413   139   2.971223\n",
      "470724     2649240      2     1   2.000000\n",
      "470737     2649326     12     5   2.400000\n",
      "\n",
      "[37409 rows x 4 columns]\n"
     ]
    }
   ],
   "source": [
    "get_avg_rating_less_than(3)"
   ]
  },
  {
   "cell_type": "code",
   "execution_count": 23,
   "metadata": {},
   "outputs": [
    {
     "name": "stdout",
     "output_type": "stream",
     "text": [
      "       customer_id rating       avg_rating\n",
      "                      sum count           \n",
      "195           1109     13     7   1.857143\n",
      "426           2443      2     2   1.000000\n",
      "540           3174     45    45   1.000000\n",
      "589           3423    284   145   1.958621\n",
      "682           3920      1     1   1.000000\n",
      "...            ...    ...   ...        ...\n",
      "470101     2645781      2     2   1.000000\n",
      "470194     2646295      3     2   1.500000\n",
      "470230     2646481     82    51   1.607843\n",
      "470553     2648254      2     2   1.000000\n",
      "470675     2648907     11     6   1.833333\n",
      "\n",
      "[2686 rows x 4 columns]\n"
     ]
    }
   ],
   "source": [
    "get_avg_rating_less_than(2)"
   ]
  },
  {
   "cell_type": "code",
   "execution_count": 24,
   "metadata": {},
   "outputs": [
    {
     "name": "stdout",
     "output_type": "stream",
     "text": [
      "Empty DataFrame\n",
      "Columns: [(customer_id, ), (rating, sum), (rating, count), (avg_rating, )]\n",
      "Index: []\n"
     ]
    }
   ],
   "source": [
    "get_avg_rating_less_than(1)"
   ]
  },
  {
   "cell_type": "code",
   "execution_count": 25,
   "metadata": {},
   "outputs": [
    {
     "name": "stdout",
     "output_type": "stream",
     "text": [
      "\n"
     ]
    },
    {
     "data": {
      "text/plain": [
       "470757    4.16129\n",
       "Name: avg_rating, dtype: float64"
      ]
     },
     "execution_count": 25,
     "metadata": {},
     "output_type": "execute_result"
    }
   ],
   "source": [
    "get_users_avg_rating(1109)\n",
    "print(\"\")\n",
    "get_users_avg_rating(2649429)"
   ]
  },
  {
   "cell_type": "code",
   "execution_count": 26,
   "metadata": {},
   "outputs": [],
   "source": [
    "movies_customers_ratings = open(\"pickle/small_movies_customers_ratings.pickle\",\"wb\")\n",
    "pickle.dump(data[0:10000], movies_customers_ratings)\n",
    "movies_customers_ratings.close()"
   ]
  },
  {
   "cell_type": "code",
   "execution_count": 27,
   "metadata": {},
   "outputs": [
    {
     "data": {
      "text/html": [
       "<div>\n",
       "<style scoped>\n",
       "    .dataframe tbody tr th:only-of-type {\n",
       "        vertical-align: middle;\n",
       "    }\n",
       "\n",
       "    .dataframe tbody tr th {\n",
       "        vertical-align: top;\n",
       "    }\n",
       "\n",
       "    .dataframe thead th {\n",
       "        text-align: right;\n",
       "    }\n",
       "</style>\n",
       "<table border=\"1\" class=\"dataframe\">\n",
       "  <thead>\n",
       "    <tr style=\"text-align: right;\">\n",
       "      <th></th>\n",
       "      <th>movie_id</th>\n",
       "      <th>customer_id</th>\n",
       "      <th>rating</th>\n",
       "      <th>movie_year</th>\n",
       "      <th>movie_title</th>\n",
       "    </tr>\n",
       "  </thead>\n",
       "  <tbody>\n",
       "    <tr>\n",
       "      <th>8621267</th>\n",
       "      <td>1719</td>\n",
       "      <td>2648907</td>\n",
       "      <td>1</td>\n",
       "      <td>2004.0</td>\n",
       "      <td>The Life Aquatic with Steve Zissou</td>\n",
       "    </tr>\n",
       "    <tr>\n",
       "      <th>11592374</th>\n",
       "      <td>2200</td>\n",
       "      <td>2648907</td>\n",
       "      <td>2</td>\n",
       "      <td>2002.0</td>\n",
       "      <td>Collateral Damage</td>\n",
       "    </tr>\n",
       "    <tr>\n",
       "      <th>16953480</th>\n",
       "      <td>3282</td>\n",
       "      <td>2648907</td>\n",
       "      <td>5</td>\n",
       "      <td>2004.0</td>\n",
       "      <td>Sideways</td>\n",
       "    </tr>\n",
       "    <tr>\n",
       "      <th>17920476</th>\n",
       "      <td>3427</td>\n",
       "      <td>2648907</td>\n",
       "      <td>1</td>\n",
       "      <td>2002.0</td>\n",
       "      <td>Men in Black II</td>\n",
       "    </tr>\n",
       "    <tr>\n",
       "      <th>19147859</th>\n",
       "      <td>3638</td>\n",
       "      <td>2648907</td>\n",
       "      <td>1</td>\n",
       "      <td>2003.0</td>\n",
       "      <td>Bad Boys II</td>\n",
       "    </tr>\n",
       "    <tr>\n",
       "      <th>21832672</th>\n",
       "      <td>4123</td>\n",
       "      <td>2648907</td>\n",
       "      <td>1</td>\n",
       "      <td>1998.0</td>\n",
       "      <td>Patch Adams</td>\n",
       "    </tr>\n",
       "  </tbody>\n",
       "</table>\n",
       "</div>"
      ],
      "text/plain": [
       "          movie_id  customer_id  rating  movie_year  \\\n",
       "8621267       1719      2648907       1      2004.0   \n",
       "11592374      2200      2648907       2      2002.0   \n",
       "16953480      3282      2648907       5      2004.0   \n",
       "17920476      3427      2648907       1      2002.0   \n",
       "19147859      3638      2648907       1      2003.0   \n",
       "21832672      4123      2648907       1      1998.0   \n",
       "\n",
       "                                 movie_title  \n",
       "8621267   The Life Aquatic with Steve Zissou  \n",
       "11592374                   Collateral Damage  \n",
       "16953480                            Sideways  \n",
       "17920476                     Men in Black II  \n",
       "19147859                         Bad Boys II  \n",
       "21832672                         Patch Adams  "
      ]
     },
     "execution_count": 27,
     "metadata": {},
     "output_type": "execute_result"
    }
   ],
   "source": [
    "data_rating_and_movie[data_rating_and_movie['customer_id'] == 2648907]"
   ]
  },
  {
   "cell_type": "code",
   "execution_count": 28,
   "metadata": {},
   "outputs": [
    {
     "data": {
      "text/html": [
       "<div>\n",
       "<style scoped>\n",
       "    .dataframe tbody tr th:only-of-type {\n",
       "        vertical-align: middle;\n",
       "    }\n",
       "\n",
       "    .dataframe tbody tr th {\n",
       "        vertical-align: top;\n",
       "    }\n",
       "\n",
       "    .dataframe thead th {\n",
       "        text-align: right;\n",
       "    }\n",
       "</style>\n",
       "<table border=\"1\" class=\"dataframe\">\n",
       "  <thead>\n",
       "    <tr style=\"text-align: right;\">\n",
       "      <th></th>\n",
       "      <th>movie_id</th>\n",
       "      <th>customer_id</th>\n",
       "      <th>rating</th>\n",
       "    </tr>\n",
       "  </thead>\n",
       "  <tbody>\n",
       "    <tr>\n",
       "      <th>0</th>\n",
       "      <td>1</td>\n",
       "      <td>1488844</td>\n",
       "      <td>3</td>\n",
       "    </tr>\n",
       "    <tr>\n",
       "      <th>1</th>\n",
       "      <td>1</td>\n",
       "      <td>822109</td>\n",
       "      <td>5</td>\n",
       "    </tr>\n",
       "    <tr>\n",
       "      <th>2</th>\n",
       "      <td>1</td>\n",
       "      <td>885013</td>\n",
       "      <td>4</td>\n",
       "    </tr>\n",
       "    <tr>\n",
       "      <th>3</th>\n",
       "      <td>1</td>\n",
       "      <td>30878</td>\n",
       "      <td>4</td>\n",
       "    </tr>\n",
       "    <tr>\n",
       "      <th>4</th>\n",
       "      <td>1</td>\n",
       "      <td>823519</td>\n",
       "      <td>3</td>\n",
       "    </tr>\n",
       "    <tr>\n",
       "      <th>...</th>\n",
       "      <td>...</td>\n",
       "      <td>...</td>\n",
       "      <td>...</td>\n",
       "    </tr>\n",
       "    <tr>\n",
       "      <th>24053759</th>\n",
       "      <td>4499</td>\n",
       "      <td>2591364</td>\n",
       "      <td>2</td>\n",
       "    </tr>\n",
       "    <tr>\n",
       "      <th>24053760</th>\n",
       "      <td>4499</td>\n",
       "      <td>1791000</td>\n",
       "      <td>2</td>\n",
       "    </tr>\n",
       "    <tr>\n",
       "      <th>24053761</th>\n",
       "      <td>4499</td>\n",
       "      <td>512536</td>\n",
       "      <td>5</td>\n",
       "    </tr>\n",
       "    <tr>\n",
       "      <th>24053762</th>\n",
       "      <td>4499</td>\n",
       "      <td>988963</td>\n",
       "      <td>3</td>\n",
       "    </tr>\n",
       "    <tr>\n",
       "      <th>24053763</th>\n",
       "      <td>4499</td>\n",
       "      <td>1704416</td>\n",
       "      <td>3</td>\n",
       "    </tr>\n",
       "  </tbody>\n",
       "</table>\n",
       "<p>24053764 rows × 3 columns</p>\n",
       "</div>"
      ],
      "text/plain": [
       "          movie_id  customer_id  rating\n",
       "0                1      1488844       3\n",
       "1                1       822109       5\n",
       "2                1       885013       4\n",
       "3                1        30878       4\n",
       "4                1       823519       3\n",
       "...            ...          ...     ...\n",
       "24053759      4499      2591364       2\n",
       "24053760      4499      1791000       2\n",
       "24053761      4499       512536       5\n",
       "24053762      4499       988963       3\n",
       "24053763      4499      1704416       3\n",
       "\n",
       "[24053764 rows x 3 columns]"
      ]
     },
     "execution_count": 28,
     "metadata": {},
     "output_type": "execute_result"
    }
   ],
   "source": [
    "data"
   ]
  },
  {
   "cell_type": "code",
   "execution_count": 29,
   "metadata": {},
   "outputs": [
    {
     "name": "stdout",
     "output_type": "stream",
     "text": [
      "                                                movie_title  rating\n",
      "movie_id                                                           \n",
      "58                                              Dragonheart       5\n",
      "143                                                The Game       5\n",
      "191                                        X2: X-Men United       5\n",
      "468                                 The Matrix: Revolutions       5\n",
      "571                                         American Beauty       5\n",
      "607                                                   Speed       5\n",
      "658                           Robin Hood: Prince of Thieves       5\n",
      "798                                                    Jaws       5\n",
      "851                             Back to the Future Part III       5\n",
      "1180                                       A Beautiful Mind       5\n",
      "1590                                        Life as a House       5\n",
      "1625                            Aliens: Collector's Edition       5\n",
      "1693                                                 Sphere       5\n",
      "1798                                          Lethal Weapon       5\n",
      "1818                                  Magnum P.I.: Season 2       5\n",
      "1861                                              Evolution       5\n",
      "1905      Pirates of the Caribbean: The Curse of the Bla...       5\n",
      "2043                                                  Shane       5\n",
      "2135                                        Nothing to Lose       5\n",
      "2192                                          The Hurricane       5\n",
      "2252                                  Bram Stoker's Dracula       5\n",
      "2372                                   The Bourne Supremacy       5\n",
      "2430                             Alien: Collector's Edition       5\n",
      "2452          Lord of the Rings: The Fellowship of the Ring       5\n",
      "2580                                          Freaky Friday       5\n",
      "2862                               The Silence of the Lambs       5\n",
      "3017                                                 Cocoon       5\n",
      "3071                                        The Way We Were       5\n",
      "3098                            Three Men and a Little Lady       5\n",
      "3128                                                Starman       5\n",
      "3153                                         Doctor Zhivago       5\n",
      "3368                                         The Family Man       5\n",
      "3427                                        Men in Black II       5\n",
      "3579                                       2 Fast 2 Furious       5\n",
      "3817                                               Stargate       5\n",
      "3825                                   The Sum of All Fears       5\n",
      "3864                                          Batman Begins       5\n",
      "3925                                   The Matrix: Reloaded       5\n",
      "4043                                                  Signs       5\n",
      "4056                                     Planet of the Apes       5\n",
      "4216                                      Jurassic Park III       5\n",
      "4227                                         The Full Monty       5\n",
      "4302                             An Officer and a Gentleman       5\n",
      "4306                                        The Sixth Sense       5\n",
      "4432                                        The Italian Job       5\n",
      "4479                                        Ordinary People       5\n",
      "4488                                            Wonder Boys       5\n",
      "\n",
      "avg rating 264791    3.253308\n",
      "Name: avg_rating, dtype: float64\n"
     ]
    }
   ],
   "source": [
    "def get_movies_liked_by_customer(customer_id, min_rating=0):\n",
    "    df_customer_liked = data[(data['customer_id'] == customer_id) & (data['rating'] >= min_rating)]\n",
    "    df_customer_liked = df_customer_liked.set_index('movie_id')\n",
    "    df_customer_liked = df_customer_liked.join(df_movies, on=\"movie_id\")[['movie_title', 'rating']]\n",
    "    print(df_customer_liked)\n",
    "    print(\"\")\n",
    "    average_rating = get_users_avg_rating(customer_id)\n",
    "    print('avg rating', average_rating)\n",
    "    return df_customer_liked\n",
    "df_customer_1488844 = get_movies_liked_by_customer(1488844, 5)"
   ]
  },
  {
   "cell_type": "code",
   "execution_count": 30,
   "metadata": {},
   "outputs": [],
   "source": [
    "df_movie_summary = data.groupby('movie_id')['rating'].agg(['count', 'mean'])\n",
    "df_movie_summary.index = df_movie_summary.index.map(int)\n",
    "movie_benchmark = round(df_movie_summary['count'].quantile(0.7),0)\n",
    "drop_movie_list = df_movie_summary[df_movie_summary['count'] < movie_benchmark].index"
   ]
  },
  {
   "cell_type": "code",
   "execution_count": 50,
   "metadata": {},
   "outputs": [],
   "source": [
    "customer_1488844_pred = df_movies.copy()\n",
    "customer_1488844_pred = df_customer_1488844.reset_index()\n",
    "customer_1488844_pred = customer_1488844_pred[~customer_1488844_pred['movie_id'].isin(drop_movie_list)]"
   ]
  },
  {
   "cell_type": "code",
   "execution_count": 33,
   "metadata": {},
   "outputs": [
    {
     "data": {
      "text/plain": [
       "<surprise.prediction_algorithms.matrix_factorization.SVD at 0x7f5475851730>"
      ]
     },
     "execution_count": 33,
     "metadata": {},
     "output_type": "execute_result"
    }
   ],
   "source": [
    "reader = Reader()\n",
    "svd = SVD()\n",
    "\n",
    "data_new = Dataset.load_from_df(data[['customer_id', 'movie_id', 'rating']], reader)\n",
    "trainset = data_new.build_full_trainset()\n",
    "svd.fit(trainset)"
   ]
  },
  {
   "cell_type": "code",
   "execution_count": 51,
   "metadata": {},
   "outputs": [],
   "source": [
    "customer_1488844_pred['estimated_score'] = customer_1488844_pred['movie_id'].apply(lambda x: svd.predict(1488844, x).est)\n",
    "customer_1488844_pred = customer_1488844_pred.set_index('movie_id')\n",
    "customer_1488844_pred = customer_1488844_pred.sort_values('estimated_score', ascending=False)"
   ]
  },
  {
   "cell_type": "code",
   "execution_count": 53,
   "metadata": {},
   "outputs": [
    {
     "name": "stdout",
     "output_type": "stream",
     "text": [
      "                                                    rating  estimated_score\n",
      "movie_title                                                                \n",
      "The Matrix: Reloaded                                     5         4.390571\n",
      "The Matrix: Revolutions                                  5         4.324012\n",
      "Aliens: Collector's Edition                              5         4.287935\n",
      "The Silence of the Lambs                                 5         4.257462\n",
      "Lethal Weapon                                            5         4.237965\n",
      "Lord of the Rings: The Fellowship of the Ring            5         4.190428\n",
      "A Beautiful Mind                                         5         4.163178\n",
      "Stargate                                                 5         4.133192\n",
      "The Sixth Sense                                          5         4.104595\n",
      "Alien: Collector's Edition                               5         4.094986\n",
      "Jurassic Park III                                        5         4.091300\n",
      "Batman Begins                                            5         4.049691\n",
      "An Officer and a Gentleman                               5         4.044174\n",
      "The Game                                                 5         4.041912\n",
      "Pirates of the Caribbean: The Curse of the Blac...       5         3.972826\n",
      "X2: X-Men United                                         5         3.950103\n",
      "Life as a House                                          5         3.912466\n",
      "Bram Stoker's Dracula                                    5         3.859693\n",
      "Jaws                                                     5         3.831376\n",
      "The Sum of All Fears                                     5         3.814849\n",
      "Cocoon                                                   5         3.802762\n",
      "Signs                                                    5         3.794327\n",
      "The Bourne Supremacy                                     5         3.782310\n",
      "Men in Black II                                          5         3.777457\n",
      "Speed                                                    5         3.776616\n",
      "Starman                                                  5         3.740312\n",
      "The Hurricane                                            5         3.730756\n",
      "Back to the Future Part III                              5         3.713611\n",
      "Doctor Zhivago                                           5         3.712954\n",
      "Robin Hood: Prince of Thieves                            5         3.697513\n",
      "Three Men and a Little Lady                              5         3.689964\n",
      "The Family Man                                           5         3.672875\n",
      "Shane                                                    5         3.662397\n",
      "The Italian Job                                          5         3.621028\n",
      "The Way We Were                                          5         3.570543\n",
      "Sphere                                                   5         3.540665\n",
      "Planet of the Apes                                       5         3.538425\n",
      "American Beauty                                          5         3.536979\n",
      "2 Fast 2 Furious                                         5         3.527786\n",
      "Dragonheart                                              5         3.500368\n",
      "Ordinary People                                          5         3.471205\n",
      "Freaky Friday                                            5         3.366344\n",
      "Wonder Boys                                              5         3.324306\n",
      "The Full Monty                                           5         3.283296\n",
      "Evolution                                                5         3.276796\n",
      "Nothing to Lose                                          5         3.217817\n"
     ]
    }
   ],
   "source": [
    "\n",
    "print(customer_1488844_pred[['movie_title', 'rating', 'estimated_score']].set_index('movie_title'))"
   ]
  },
  {
   "cell_type": "code",
   "execution_count": null,
   "metadata": {},
   "outputs": [],
   "source": []
  }
 ],
 "metadata": {
  "interpreter": {
   "hash": "eb60acc68106785d00a40fb3b1b3b80d861e6f0b0d60f9d8440fa3d46ca2822c"
  },
  "kernelspec": {
   "display_name": "Python 3.8.5 64-bit ('base': conda)",
   "name": "python3"
  },
  "language_info": {
   "codemirror_mode": {
    "name": "ipython",
    "version": 3
   },
   "file_extension": ".py",
   "mimetype": "text/x-python",
   "name": "python",
   "nbconvert_exporter": "python",
   "pygments_lexer": "ipython3",
   "version": "3.8.5"
  },
  "orig_nbformat": 2
 },
 "nbformat": 4,
 "nbformat_minor": 2
}
