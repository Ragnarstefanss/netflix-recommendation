{
 "cells": [
  {
   "cell_type": "code",
   "execution_count": 1,
   "metadata": {},
   "outputs": [],
   "source": [
    "#!pip install surprise\n",
    "#!pip install import-ipynb\n",
    "import os\n",
    "import csv\n",
    "import pandas as pd\n",
    "import numpy as np\n",
    "import heapq\n",
    "import matplotlib.pyplot as plt\n",
    "import seaborn as sns\n",
    "from surprise import Reader, Dataset, SVD\n",
    "from surprise.model_selection import cross_validate\n",
    "import pickle\n",
    "from surprise import accuracy\n",
    "from collections import defaultdict\n",
    "from surprise import KNNBasic\n",
    "from collections import defaultdict\n",
    "from operator import itemgetter\n",
    "import NetflixLoadData as NetflixLoadData\n",
    "import MovieCustomerInformation as information\n",
    "#sns.set_style(\"darkgrid\")"
   ]
  },
  {
   "cell_type": "markdown",
   "metadata": {},
   "source": [
    "## Get data"
   ]
  },
  {
   "cell_type": "code",
   "execution_count": 2,
   "metadata": {},
   "outputs": [],
   "source": [
    "use_pickle_file = True\n",
    "max_n = 2500000 #how many rows we want from data_ratings and data_rating_plus_movie_title"
   ]
  },
  {
   "cell_type": "markdown",
   "metadata": {},
   "source": [
    "in these txt files the movie_id's have been placed amongst the customer_id's, which means that we have to split that column into two, we do this by taking all ratings that are equal to NaN \n",
    "( meaning that we are now refering to a movie and not a customer ) and from there we split it into two columns."
   ]
  },
  {
   "cell_type": "code",
   "execution_count": 3,
   "metadata": {},
   "outputs": [
    {
     "name": "stderr",
     "output_type": "stream",
     "text": [
      "/mnt/24723F86723F5BAC/C Drif/ubuntu-github/netflix-recommendation/NetflixLoadData.py:88: SettingWithCopyWarning: \n",
      "A value is trying to be set on a copy of a slice from a DataFrame.\n",
      "Try using .loc[row_indexer,col_indexer] = value instead\n",
      "\n",
      "See the caveats in the documentation: https://pandas.pydata.org/pandas-docs/stable/user_guide/indexing.html#returning-a-view-versus-a-copy\n",
      "  data_movies_categorize_cleaned[\"movie_year\"] = data_movies_categorize_cleaned[\"movie_year\"].astype(float)\n"
     ]
    }
   ],
   "source": [
    "data_movies, tmp_data_rating, tmp_data_rating_plus_movie_title, data_movies_categorized = NetflixLoadData.get_dataframes(use_pickle=use_pickle_file)"
   ]
  },
  {
   "cell_type": "code",
   "execution_count": 4,
   "metadata": {},
   "outputs": [],
   "source": [
    "data_rating, data_rating_plus_movie_title = NetflixLoadData.get_sample_of_data(tmp_data_rating, tmp_data_rating_plus_movie_title, max_n=max_n)"
   ]
  },
  {
   "cell_type": "markdown",
   "metadata": {},
   "source": [
    "## Helper functions"
   ]
  },
  {
   "cell_type": "code",
   "execution_count": 5,
   "metadata": {},
   "outputs": [],
   "source": [
    "def save_to_pickle(name, df):\n",
    "    path_name = \"pickle/\"+name+\".pickle\"\n",
    "    pickle_file = open(path_name,\"wb\")\n",
    "    pickle.dump(df, pickle_file)\n",
    "    pickle_file.close()\n",
    "\n",
    "def load_pickle(name):\n",
    "    path_name = \"pickle/\"+name+\".pickle\"\n",
    "    return_input = open(path_name, \"rb\")\n",
    "    return pickle.load(return_input)"
   ]
  },
  {
   "cell_type": "markdown",
   "metadata": {},
   "source": [
    "## Working with the data"
   ]
  },
  {
   "cell_type": "markdown",
   "metadata": {},
   "source": [
    "### Details about all customers/movies"
   ]
  },
  {
   "cell_type": "code",
   "execution_count": 6,
   "metadata": {},
   "outputs": [
    {
     "name": "stdout",
     "output_type": "stream",
     "text": [
      "       customer_id rating       avg_rating\n",
      "                      sum count           \n",
      "0                6   45.0    13   3.461538\n",
      "1                7   83.0    18   4.611111\n",
      "2               10   16.0     5   3.200000\n",
      "3               25    3.0     1   3.000000\n",
      "4               33    4.0     1   4.000000\n",
      "...            ...    ...   ...        ...\n",
      "360194     2649401   11.0     3   3.666667\n",
      "360195     2649404    7.0     2   3.500000\n",
      "360196     2649409   15.0     4   3.750000\n",
      "360197     2649426   47.0    11   4.272727\n",
      "360198     2649429   23.0     6   3.833333\n",
      "\n",
      "[360199 rows x 4 columns]\n"
     ]
    }
   ],
   "source": [
    "# get the average movie rating for all customers\n",
    "# used to determine if this user typically gives bad or good reviews\n",
    "# and then we can see if he really hates or loves a movie\n",
    "all_customers_average_ratings =  information.all_average_ratings(df=data_rating, type='customer_id')\n",
    "print(all_customers_average_ratings)"
   ]
  },
  {
   "cell_type": "code",
   "execution_count": 7,
   "metadata": {},
   "outputs": [
    {
     "name": "stdout",
     "output_type": "stream",
     "text": [
      "    movie_id  rating       avg_rating\n",
      "                 sum count           \n",
      "0          1  2051.0   547   3.749543\n",
      "1          2   516.0   145   3.558621\n",
      "2          3  7326.0  2012   3.641153\n",
      "3          4   389.0   142   2.739437\n",
      "4          5  4468.0  1140   3.919298\n",
      "..       ...     ...   ...        ...\n",
      "463      464   226.0    82   2.756098\n",
      "464      465   292.0   100   2.920000\n",
      "465      466  1357.0   362   3.748619\n",
      "466      467  3759.0  1055   3.563033\n",
      "467      468  4062.0  1158   3.507772\n",
      "\n",
      "[468 rows x 4 columns]\n"
     ]
    }
   ],
   "source": [
    "all_movies_average_rating = information.all_average_ratings(df=data_rating, type='movie_id')\n",
    "print(all_movies_average_rating)"
   ]
  },
  {
   "cell_type": "code",
   "execution_count": 8,
   "metadata": {},
   "outputs": [
    {
     "name": "stdout",
     "output_type": "stream",
     "text": [
      "       customer_id rating       avg_rating\n",
      "                      sum count           \n",
      "0                6   45.0    13   3.461538\n",
      "2               10   16.0     5   3.200000\n",
      "3               25    3.0     1   3.000000\n",
      "5               42   14.0     4   3.500000\n",
      "6               59   25.0     7   3.571429\n",
      "...            ...    ...   ...        ...\n",
      "360193     2649388   22.0     7   3.142857\n",
      "360194     2649401   11.0     3   3.666667\n",
      "360195     2649404    7.0     2   3.500000\n",
      "360196     2649409   15.0     4   3.750000\n",
      "360198     2649429   23.0     6   3.833333\n",
      "\n",
      "[207379 rows x 4 columns]\n"
     ]
    }
   ],
   "source": [
    "information.get_avg_rating_less_than(df=all_customers_average_ratings , max_rating=4)"
   ]
  },
  {
   "cell_type": "code",
   "execution_count": 9,
   "metadata": {},
   "outputs": [
    {
     "name": "stdout",
     "output_type": "stream",
     "text": [
      "       customer_id rating       avg_rating\n",
      "                      sum count           \n",
      "1                7   83.0    18   4.611111\n",
      "13             126    5.0     1   5.000000\n",
      "15             134   83.0    18   4.611111\n",
      "19             168    9.0     2   4.500000\n",
      "27             199   76.0    18   4.222222\n",
      "...            ...    ...   ...        ...\n",
      "360181     2649311   29.0     7   4.142857\n",
      "360184     2649328   21.0     5   4.200000\n",
      "360186     2649335   41.0    10   4.100000\n",
      "360190     2649375   30.0     7   4.285714\n",
      "360197     2649426   47.0    11   4.272727\n",
      "\n",
      "[92187 rows x 4 columns]\n"
     ]
    }
   ],
   "source": [
    "information.get_avg_rating_higher_than(df=all_customers_average_ratings, min_rating=4)"
   ]
  },
  {
   "cell_type": "code",
   "execution_count": 10,
   "metadata": {},
   "outputs": [
    {
     "name": "stdout",
     "output_type": "stream",
     "text": [
      "    movie_id  rating       avg_rating\n",
      "                 sum count           \n",
      "0          1  2051.0   547   3.749543\n",
      "1          2   516.0   145   3.558621\n",
      "2          3  7326.0  2012   3.641153\n",
      "3          4   389.0   142   2.739437\n",
      "4          5  4468.0  1140   3.919298\n",
      "..       ...     ...   ...        ...\n",
      "463      464   226.0    82   2.756098\n",
      "464      465   292.0   100   2.920000\n",
      "465      466  1357.0   362   3.748619\n",
      "466      467  3759.0  1055   3.563033\n",
      "467      468  4062.0  1158   3.507772\n",
      "\n",
      "[443 rows x 4 columns]\n"
     ]
    }
   ],
   "source": [
    "information.get_avg_rating_less_than(df=all_movies_average_rating, max_rating=4)"
   ]
  },
  {
   "cell_type": "code",
   "execution_count": 11,
   "metadata": {},
   "outputs": [
    {
     "name": "stdout",
     "output_type": "stream",
     "text": [
      "    movie_id    rating        avg_rating\n",
      "                   sum  count           \n",
      "12        13     569.0    125   4.552000\n",
      "31        32    7549.0   1854   4.071737\n",
      "32        33   28722.0   6890   4.168650\n",
      "67        68    9180.0   2216   4.142599\n",
      "75        76   12083.0   2954   4.090386\n",
      "84        85    1131.0    266   4.251880\n",
      "105      106    3852.0    940   4.097872\n",
      "134      135    1589.0    384   4.138021\n",
      "166      167   37448.0   9151   4.092230\n",
      "174      175  362148.0  90450   4.003847\n",
      "208      209   18195.0   4373   4.160759\n",
      "214      215   23632.0   5817   4.062575\n",
      "222      223  101595.0  24125   4.211192\n",
      "240      241  179297.0  43122   4.157901\n",
      "252      253   20543.0   5050   4.067921\n",
      "269      270  156266.0  36431   4.289369\n",
      "315      316   10841.0   2520   4.301984\n",
      "324      325    4703.0   1121   4.195361\n",
      "344      345   17165.0   4175   4.111377\n",
      "358      359   19027.0   4580   4.154367\n",
      "420      421    3991.0    987   4.043566\n",
      "429      430    6258.0   1546   4.047865\n",
      "450      451    4632.0   1112   4.165468\n",
      "461      462    3142.0    778   4.038560\n",
      "462      463    9356.0   2286   4.092738\n"
     ]
    }
   ],
   "source": [
    "information.get_avg_rating_higher_than(df=all_movies_average_rating, min_rating=4)"
   ]
  },
  {
   "cell_type": "code",
   "execution_count": 12,
   "metadata": {},
   "outputs": [
    {
     "data": {
      "text/html": [
       "<div>\n",
       "<style scoped>\n",
       "    .dataframe tbody tr th:only-of-type {\n",
       "        vertical-align: middle;\n",
       "    }\n",
       "\n",
       "    .dataframe tbody tr th {\n",
       "        vertical-align: top;\n",
       "    }\n",
       "\n",
       "    .dataframe thead th {\n",
       "        text-align: right;\n",
       "    }\n",
       "</style>\n",
       "<table border=\"1\" class=\"dataframe\">\n",
       "  <thead>\n",
       "    <tr style=\"text-align: right;\">\n",
       "      <th></th>\n",
       "      <th>customer_id</th>\n",
       "      <th>movie_id</th>\n",
       "    </tr>\n",
       "  </thead>\n",
       "  <tbody>\n",
       "    <tr>\n",
       "      <th>0</th>\n",
       "      <td>6</td>\n",
       "      <td>13</td>\n",
       "    </tr>\n",
       "    <tr>\n",
       "      <th>1</th>\n",
       "      <td>7</td>\n",
       "      <td>18</td>\n",
       "    </tr>\n",
       "    <tr>\n",
       "      <th>2</th>\n",
       "      <td>10</td>\n",
       "      <td>5</td>\n",
       "    </tr>\n",
       "    <tr>\n",
       "      <th>3</th>\n",
       "      <td>25</td>\n",
       "      <td>1</td>\n",
       "    </tr>\n",
       "    <tr>\n",
       "      <th>4</th>\n",
       "      <td>33</td>\n",
       "      <td>1</td>\n",
       "    </tr>\n",
       "    <tr>\n",
       "      <th>...</th>\n",
       "      <td>...</td>\n",
       "      <td>...</td>\n",
       "    </tr>\n",
       "    <tr>\n",
       "      <th>360194</th>\n",
       "      <td>2649401</td>\n",
       "      <td>3</td>\n",
       "    </tr>\n",
       "    <tr>\n",
       "      <th>360195</th>\n",
       "      <td>2649404</td>\n",
       "      <td>2</td>\n",
       "    </tr>\n",
       "    <tr>\n",
       "      <th>360196</th>\n",
       "      <td>2649409</td>\n",
       "      <td>4</td>\n",
       "    </tr>\n",
       "    <tr>\n",
       "      <th>360197</th>\n",
       "      <td>2649426</td>\n",
       "      <td>11</td>\n",
       "    </tr>\n",
       "    <tr>\n",
       "      <th>360198</th>\n",
       "      <td>2649429</td>\n",
       "      <td>6</td>\n",
       "    </tr>\n",
       "  </tbody>\n",
       "</table>\n",
       "<p>360199 rows × 2 columns</p>\n",
       "</div>"
      ],
      "text/plain": [
       "        customer_id  movie_id\n",
       "0                 6        13\n",
       "1                 7        18\n",
       "2                10         5\n",
       "3                25         1\n",
       "4                33         1\n",
       "...             ...       ...\n",
       "360194      2649401         3\n",
       "360195      2649404         2\n",
       "360196      2649409         4\n",
       "360197      2649426        11\n",
       "360198      2649429         6\n",
       "\n",
       "[360199 rows x 2 columns]"
      ]
     },
     "execution_count": 12,
     "metadata": {},
     "output_type": "execute_result"
    }
   ],
   "source": [
    "count_movies_rated_by_customer = information.all_get_rated_count(df=data_rating, type=\"customer_id\")\n",
    "count_movies_rated_by_customer"
   ]
  },
  {
   "cell_type": "code",
   "execution_count": 13,
   "metadata": {},
   "outputs": [],
   "source": [
    "# def generate_random_user_ids(from_n, to_n):\n",
    "#     ids = np.unique(data_rating['customer_id'])[from_n:to_n]\n",
    "#     print(\"random user id used while in development\\n\")\n",
    "#     return ids\n",
    "# generate_random_user_ids(1000, 1500)"
   ]
  },
  {
   "cell_type": "markdown",
   "metadata": {},
   "source": [
    "### Details about a specific customer"
   ]
  },
  {
   "cell_type": "code",
   "execution_count": 47,
   "metadata": {},
   "outputs": [],
   "source": [
    "# ids I like -> 28812, 56514, 56520, 1488844\n",
    "customer_id_use = 6 #84100"
   ]
  },
  {
   "cell_type": "code",
   "execution_count": 48,
   "metadata": {},
   "outputs": [
    {
     "data": {
      "text/html": [
       "<div>\n",
       "<style scoped>\n",
       "    .dataframe tbody tr th:only-of-type {\n",
       "        vertical-align: middle;\n",
       "    }\n",
       "\n",
       "    .dataframe tbody tr th {\n",
       "        vertical-align: top;\n",
       "    }\n",
       "\n",
       "    .dataframe thead th {\n",
       "        text-align: right;\n",
       "    }\n",
       "</style>\n",
       "<table border=\"1\" class=\"dataframe\">\n",
       "  <thead>\n",
       "    <tr style=\"text-align: right;\">\n",
       "      <th></th>\n",
       "      <th>movie_id</th>\n",
       "      <th>customer_id</th>\n",
       "      <th>rating</th>\n",
       "      <th>movie_year</th>\n",
       "      <th>movie_title</th>\n",
       "    </tr>\n",
       "  </thead>\n",
       "  <tbody>\n",
       "    <tr>\n",
       "      <th>187297</th>\n",
       "      <td>30</td>\n",
       "      <td>6</td>\n",
       "      <td>3.0</td>\n",
       "      <td>2003.0</td>\n",
       "      <td>Something's Gotta Give</td>\n",
       "    </tr>\n",
       "    <tr>\n",
       "      <th>539827</th>\n",
       "      <td>157</td>\n",
       "      <td>6</td>\n",
       "      <td>3.0</td>\n",
       "      <td>2004.0</td>\n",
       "      <td>Laird: White Knuckle Extreme</td>\n",
       "    </tr>\n",
       "    <tr>\n",
       "      <th>576723</th>\n",
       "      <td>173</td>\n",
       "      <td>6</td>\n",
       "      <td>4.0</td>\n",
       "      <td>1968.0</td>\n",
       "      <td>The Devil's Brigade</td>\n",
       "    </tr>\n",
       "    <tr>\n",
       "      <th>649632</th>\n",
       "      <td>175</td>\n",
       "      <td>6</td>\n",
       "      <td>5.0</td>\n",
       "      <td>1992.0</td>\n",
       "      <td>Reservoir Dogs</td>\n",
       "    </tr>\n",
       "    <tr>\n",
       "      <th>795442</th>\n",
       "      <td>191</td>\n",
       "      <td>6</td>\n",
       "      <td>2.0</td>\n",
       "      <td>2003.0</td>\n",
       "      <td>X2: X-Men United</td>\n",
       "    </tr>\n",
       "    <tr>\n",
       "      <th>881625</th>\n",
       "      <td>197</td>\n",
       "      <td>6</td>\n",
       "      <td>3.0</td>\n",
       "      <td>2004.0</td>\n",
       "      <td>Taking Lives</td>\n",
       "    </tr>\n",
       "    <tr>\n",
       "      <th>1053784</th>\n",
       "      <td>241</td>\n",
       "      <td>6</td>\n",
       "      <td>3.0</td>\n",
       "      <td>1959.0</td>\n",
       "      <td>North by Northwest</td>\n",
       "    </tr>\n",
       "    <tr>\n",
       "      <th>1368432</th>\n",
       "      <td>295</td>\n",
       "      <td>6</td>\n",
       "      <td>4.0</td>\n",
       "      <td>1995.0</td>\n",
       "      <td>Ace Ventura: When Nature Calls</td>\n",
       "    </tr>\n",
       "    <tr>\n",
       "      <th>1438379</th>\n",
       "      <td>299</td>\n",
       "      <td>6</td>\n",
       "      <td>3.0</td>\n",
       "      <td>2001.0</td>\n",
       "      <td>Bridget Jones's Diary</td>\n",
       "    </tr>\n",
       "    <tr>\n",
       "      <th>1723378</th>\n",
       "      <td>329</td>\n",
       "      <td>6</td>\n",
       "      <td>4.0</td>\n",
       "      <td>1999.0</td>\n",
       "      <td>Dogma</td>\n",
       "    </tr>\n",
       "    <tr>\n",
       "      <th>2019967</th>\n",
       "      <td>361</td>\n",
       "      <td>6</td>\n",
       "      <td>3.0</td>\n",
       "      <td>2004.0</td>\n",
       "      <td>The Phantom of the Opera: Special Edition</td>\n",
       "    </tr>\n",
       "    <tr>\n",
       "      <th>2357110</th>\n",
       "      <td>445</td>\n",
       "      <td>6</td>\n",
       "      <td>3.0</td>\n",
       "      <td>1996.0</td>\n",
       "      <td>Michael Collins</td>\n",
       "    </tr>\n",
       "    <tr>\n",
       "      <th>2461952</th>\n",
       "      <td>457</td>\n",
       "      <td>6</td>\n",
       "      <td>5.0</td>\n",
       "      <td>2004.0</td>\n",
       "      <td>Kill Bill: Vol. 2</td>\n",
       "    </tr>\n",
       "  </tbody>\n",
       "</table>\n",
       "</div>"
      ],
      "text/plain": [
       "         movie_id  customer_id  rating  movie_year  \\\n",
       "187297         30            6     3.0      2003.0   \n",
       "539827        157            6     3.0      2004.0   \n",
       "576723        173            6     4.0      1968.0   \n",
       "649632        175            6     5.0      1992.0   \n",
       "795442        191            6     2.0      2003.0   \n",
       "881625        197            6     3.0      2004.0   \n",
       "1053784       241            6     3.0      1959.0   \n",
       "1368432       295            6     4.0      1995.0   \n",
       "1438379       299            6     3.0      2001.0   \n",
       "1723378       329            6     4.0      1999.0   \n",
       "2019967       361            6     3.0      2004.0   \n",
       "2357110       445            6     3.0      1996.0   \n",
       "2461952       457            6     5.0      2004.0   \n",
       "\n",
       "                                       movie_title  \n",
       "187297                      Something's Gotta Give  \n",
       "539827                Laird: White Knuckle Extreme  \n",
       "576723                         The Devil's Brigade  \n",
       "649632                              Reservoir Dogs  \n",
       "795442                            X2: X-Men United  \n",
       "881625                                Taking Lives  \n",
       "1053784                         North by Northwest  \n",
       "1368432             Ace Ventura: When Nature Calls  \n",
       "1438379                      Bridget Jones's Diary  \n",
       "1723378                                      Dogma  \n",
       "2019967  The Phantom of the Opera: Special Edition  \n",
       "2357110                            Michael Collins  \n",
       "2461952                          Kill Bill: Vol. 2  "
      ]
     },
     "execution_count": 48,
     "metadata": {},
     "output_type": "execute_result"
    }
   ],
   "source": [
    "#all_custumers_id_rows(customer_id=customer_id_use)\n",
    "## same as line above but including movie_year and movie_title\n",
    "all_customers_id_plus_movie_title_rows(customer_id=customer_id_use)"
   ]
  },
  {
   "cell_type": "code",
   "execution_count": 49,
   "metadata": {},
   "outputs": [
    {
     "data": {
      "text/plain": [
       "0    3.461538\n",
       "Name: avg_rating, dtype: float64"
      ]
     },
     "execution_count": 49,
     "metadata": {},
     "output_type": "execute_result"
    }
   ],
   "source": [
    "get_users_avg_rating(customer_id=customer_id_use)"
   ]
  },
  {
   "cell_type": "code",
   "execution_count": 50,
   "metadata": {},
   "outputs": [
    {
     "name": "stdout",
     "output_type": "stream",
     "text": [
      "                             movie_title  rating\n",
      "movie_id                                        \n",
      "173                  The Devil's Brigade     4.0\n",
      "175                       Reservoir Dogs     5.0\n",
      "295       Ace Ventura: When Nature Calls     4.0\n",
      "329                                Dogma     4.0\n",
      "457                    Kill Bill: Vol. 2     5.0\n",
      "average rating 0    3.461538\n",
      "Name: avg_rating, dtype: float64\n"
     ]
    }
   ],
   "source": [
    "display_movies_customer_rated_higher_than(customer_id=customer_id_use, min_rating=4)"
   ]
  },
  {
   "cell_type": "code",
   "execution_count": 51,
   "metadata": {},
   "outputs": [
    {
     "name": "stdout",
     "output_type": "stream",
     "text": [
      "                                        movie_title  rating\n",
      "movie_id                                                   \n",
      "30                           Something's Gotta Give     3.0\n",
      "157                    Laird: White Knuckle Extreme     3.0\n",
      "191                                X2: X-Men United     2.0\n",
      "197                                    Taking Lives     3.0\n",
      "241                              North by Northwest     3.0\n",
      "299                           Bridget Jones's Diary     3.0\n",
      "361       The Phantom of the Opera: Special Edition     3.0\n",
      "445                                 Michael Collins     3.0\n",
      "average rating 0    3.461538\n",
      "Name: avg_rating, dtype: float64\n"
     ]
    }
   ],
   "source": [
    "display_movies_customer_rated_lower_than(customer_id=customer_id_use, max_rating=4)"
   ]
  },
  {
   "cell_type": "code",
   "execution_count": 52,
   "metadata": {},
   "outputs": [
    {
     "name": "stdout",
     "output_type": "stream",
     "text": [
      "User 6 loved these movies\n",
      "The Devil's Brigade\n",
      "Reservoir Dogs\n",
      "Ace Ventura: When Nature Calls\n",
      "Dogma\n",
      "Kill Bill: Vol. 2\n",
      "\n",
      "and disliked these movies\n",
      "Something's Gotta Give\n",
      "Laird: White Knuckle Extreme\n",
      "X2: X-Men United\n",
      "Taking Lives\n",
      "North by Northwest\n",
      "Bridget Jones's Diary\n",
      "The Phantom of the Opera: Special Edition\n",
      "Michael Collins\n"
     ]
    }
   ],
   "source": [
    "get_users_loved_hated_movies(customer_id=customer_id_use, minmax_rating=4)"
   ]
  },
  {
   "cell_type": "code",
   "execution_count": 53,
   "metadata": {},
   "outputs": [
    {
     "data": {
      "text/html": [
       "<div>\n",
       "<style scoped>\n",
       "    .dataframe tbody tr th:only-of-type {\n",
       "        vertical-align: middle;\n",
       "    }\n",
       "\n",
       "    .dataframe tbody tr th {\n",
       "        vertical-align: top;\n",
       "    }\n",
       "\n",
       "    .dataframe thead th {\n",
       "        text-align: right;\n",
       "    }\n",
       "</style>\n",
       "<table border=\"1\" class=\"dataframe\">\n",
       "  <thead>\n",
       "    <tr style=\"text-align: right;\">\n",
       "      <th></th>\n",
       "      <th>movie_id</th>\n",
       "      <th>customer_id</th>\n",
       "      <th>rating</th>\n",
       "    </tr>\n",
       "  </thead>\n",
       "  <tbody>\n",
       "    <tr>\n",
       "      <th>0</th>\n",
       "      <td>1</td>\n",
       "      <td>1488844</td>\n",
       "      <td>3.0</td>\n",
       "    </tr>\n",
       "    <tr>\n",
       "      <th>1</th>\n",
       "      <td>1</td>\n",
       "      <td>822109</td>\n",
       "      <td>5.0</td>\n",
       "    </tr>\n",
       "    <tr>\n",
       "      <th>2</th>\n",
       "      <td>1</td>\n",
       "      <td>885013</td>\n",
       "      <td>4.0</td>\n",
       "    </tr>\n",
       "    <tr>\n",
       "      <th>3</th>\n",
       "      <td>1</td>\n",
       "      <td>30878</td>\n",
       "      <td>4.0</td>\n",
       "    </tr>\n",
       "    <tr>\n",
       "      <th>4</th>\n",
       "      <td>1</td>\n",
       "      <td>823519</td>\n",
       "      <td>3.0</td>\n",
       "    </tr>\n",
       "    <tr>\n",
       "      <th>...</th>\n",
       "      <td>...</td>\n",
       "      <td>...</td>\n",
       "      <td>...</td>\n",
       "    </tr>\n",
       "    <tr>\n",
       "      <th>2499995</th>\n",
       "      <td>468</td>\n",
       "      <td>1404021</td>\n",
       "      <td>5.0</td>\n",
       "    </tr>\n",
       "    <tr>\n",
       "      <th>2499996</th>\n",
       "      <td>468</td>\n",
       "      <td>544108</td>\n",
       "      <td>3.0</td>\n",
       "    </tr>\n",
       "    <tr>\n",
       "      <th>2499997</th>\n",
       "      <td>468</td>\n",
       "      <td>1071584</td>\n",
       "      <td>4.0</td>\n",
       "    </tr>\n",
       "    <tr>\n",
       "      <th>2499998</th>\n",
       "      <td>468</td>\n",
       "      <td>256747</td>\n",
       "      <td>3.0</td>\n",
       "    </tr>\n",
       "    <tr>\n",
       "      <th>2499999</th>\n",
       "      <td>468</td>\n",
       "      <td>1155304</td>\n",
       "      <td>3.0</td>\n",
       "    </tr>\n",
       "  </tbody>\n",
       "</table>\n",
       "<p>2500000 rows × 3 columns</p>\n",
       "</div>"
      ],
      "text/plain": [
       "         movie_id  customer_id  rating\n",
       "0               1      1488844     3.0\n",
       "1               1       822109     5.0\n",
       "2               1       885013     4.0\n",
       "3               1        30878     4.0\n",
       "4               1       823519     3.0\n",
       "...           ...          ...     ...\n",
       "2499995       468      1404021     5.0\n",
       "2499996       468       544108     3.0\n",
       "2499997       468      1071584     4.0\n",
       "2499998       468       256747     3.0\n",
       "2499999       468      1155304     3.0\n",
       "\n",
       "[2500000 rows x 3 columns]"
      ]
     },
     "execution_count": 53,
     "metadata": {},
     "output_type": "execute_result"
    }
   ],
   "source": [
    "\n",
    "data_rating"
   ]
  },
  {
   "cell_type": "markdown",
   "metadata": {},
   "source": [
    "## Recommendations with collaborative filtering"
   ]
  },
  {
   "cell_type": "code",
   "execution_count": 23,
   "metadata": {},
   "outputs": [],
   "source": [
    "def build_training_set(df):\n",
    "    reader = Reader()\n",
    "    svd = SVD()\n",
    "    data_new = Dataset.load_from_df(df[['customer_id', 'movie_id', 'rating']], reader)\n",
    "    trainset = data_new.build_full_trainset()\n",
    "    svd.fit(trainset)\n",
    "    return trainset, svd\n",
    "\n",
    "def get_summary(type=\"movie_id\"):\n",
    "    #>IF MOVIE:  movie_id, movie rating count, movie rating mean\n",
    "    #>IF CUSTOMER: customer_id, custumer rating count, customer rating mean\n",
    "    df_count_mean_summary = data_rating.groupby(type)['rating'].agg(['count', 'mean'])\n",
    "    df_count_mean_summary.index = df_count_mean_summary.index.map(int)\n",
    "    #>IF MOVIE: returns 1799.0 as a benchmark number\n",
    "    #IF CUSTOMER: returns 52.0 as a benchmark number\n",
    "    benchmark = round(df_count_mean_summary['count'].quantile(0.7),0)\n",
    "    # drop all rows below benchmark\n",
    "    df_drop_list = df_count_mean_summary[df_count_mean_summary['count'] < benchmark]\n",
    "    # return all indexes to drop\n",
    "    return df_drop_list\n",
    "\n",
    "def get_customer_recommendations(customer_id, predictor):\n",
    "    #> returns movie_id, movie_year, movie_title\n",
    "    chosen_customer_pred = data_movies.copy()\n",
    "    # fails if movie_id is the index so we have to reset the index back to normal (0-N)\n",
    "    chosen_customer_pred = chosen_customer_pred.reset_index()\n",
    "    # makes sure that we only pick movies that are not in the movie dropped list\n",
    "    chosen_customer_pred = chosen_customer_pred[~chosen_customer_pred['movie_id'].isin(df_movie_drop_list)]\n",
    "    # make prediction for customer with id = <customer_id> and put it into 'estimated_score'\n",
    "    chosen_customer_pred['estimated_score'] = chosen_customer_pred['movie_id'].apply(lambda x: predictor.predict(customer_id, x).est)\n",
    "    # sort by 'estimated score'\n",
    "    chosen_customer_pred = chosen_customer_pred.sort_values('estimated_score', ascending=False).set_index('movie_id')\n",
    "    return chosen_customer_pred\n",
    "\n",
    "def display_rated_content(customer_id=customer_id_use, number_to_show=20):\n",
    "    print(\"Movies/TV Shows rated by customer\", customer_id)\n",
    "    df = all_customers_id_plus_movie_title_rows(customer_id=customer_id)\n",
    "    df = df[['movie_title', 'rating']].sort_values('rating', ascending=False)\n",
    "    print(df[0:number_to_show].set_index('movie_title'))\n",
    "\n",
    "def display_customers_recommendations(customer_id=customer_id_use, df=[], number_to_show=20):\n",
    "    print(\"Movies/TV Shows recommended to customer\")\n",
    "    print(df[['movie_title', 'estimated_score']][0:number_to_show].set_index('movie_title'))\n",
    "\n",
    "def display_history_plus_recommended(customer_id=customer_id_use, number_to_show=25):\n",
    "    display_rated_content(customer_id=customer_id, number_to_show=number_to_show)\n",
    "    chosen_customer_pred = get_customer_recommendations(customer_id=customer_id, predictor=svd)\n",
    "    display_customers_recommendations(customer_id=customer_id, df=chosen_customer_pred, number_to_show=number_to_show)\n",
    "\n",
    "def get_evaluation_and_svd(use_pickle=True):\n",
    "    evaluationData_file_name = \"evaluationData_build_training_set\"\n",
    "    svd_file_name = \"svd_build_training_set\"\n",
    "    if(use_pickle == True):\n",
    "        evaluationData = load_pickle(evaluationData_file_name)\n",
    "        svd = load_pickle(svd_file_name)\n",
    "        return evaluationData, svd\n",
    "    else:\n",
    "        evaluationData, svd = build_training_set(data_rating)\n",
    "        save_to_pickle(evaluationData_file_name, evaluationData)\n",
    "        save_to_pickle(svd_file_name, svd)\n",
    "        return evaluationData, svd"
   ]
  },
  {
   "cell_type": "code",
   "execution_count": 24,
   "metadata": {},
   "outputs": [],
   "source": [
    "evaluationData, svd = get_evaluation_and_svd(use_pickle=use_pickle_file)"
   ]
  },
  {
   "cell_type": "code",
   "execution_count": 25,
   "metadata": {},
   "outputs": [],
   "source": [
    "## creating a list of the movies that we don't wanna include\n",
    "df_movie_drop_list = get_summary(type=\"movie_id\")\n",
    "#df_customer_drop_list = get_summary(type=\"customer_id\")"
   ]
  },
  {
   "cell_type": "code",
   "execution_count": 26,
   "metadata": {},
   "outputs": [
    {
     "name": "stdout",
     "output_type": "stream",
     "text": [
      "Movies/TV Shows rated by customer 79724\n",
      "                            rating\n",
      "movie_title                       \n",
      "Dogma                          5.0\n",
      "What the #$*! Do We Know!?     4.0\n",
      "Reservoir Dogs                 4.0\n",
      "Ed Wood                        3.0\n",
      "Pay It Forward                 3.0\n",
      "Igby Goes Down                 3.0\n",
      "Elephant                       2.0\n",
      "Movies/TV Shows recommended to customer\n",
      "                                                    estimated_score\n",
      "movie_title                                                        \n",
      "Aqua Teen Hunger Force: Vol. 1                             5.000000\n",
      "Lord of the Rings: The Return of the King: Exte...         4.490710\n",
      "Rudolph the Red-Nosed Reindeer                             4.346710\n",
      "ABC Primetime: Mel Gibson's The Passion of the ...         4.163294\n",
      "The Weather Underground                                    4.129848\n",
      "Boycott                                                    4.119695\n",
      "Zatoichi's Conspiracy                                      4.085259\n",
      "Inspector Morse 31: Death Is Now My Neighbour              4.072674\n",
      "The Rise and Fall of ECW                                   4.014325\n",
      "Lilo and Stitch                                            3.900466\n"
     ]
    }
   ],
   "source": [
    "display_history_plus_recommended(customer_id=79724, number_to_show=10)"
   ]
  },
  {
   "cell_type": "code",
   "execution_count": 27,
   "metadata": {},
   "outputs": [
    {
     "name": "stdout",
     "output_type": "stream",
     "text": [
      "Movies/TV Shows rated by customer 84100\n",
      "                        rating\n",
      "movie_title                   \n",
      "Something's Gotta Give     5.0\n",
      "House of Sand and Fog      5.0\n",
      "X2: X-Men United           4.0\n",
      "Bridget Jones's Diary      4.0\n",
      "Kill Bill: Vol. 2          4.0\n",
      "Movies/TV Shows recommended to customer\n",
      "                                                    estimated_score\n",
      "movie_title                                                        \n",
      "Lord of the Rings: The Return of the King: Exte...         4.657058\n",
      "Spitfire Grill                                             4.183466\n",
      "Zatoichi's Conspiracy                                      4.096977\n",
      "Aqua Teen Hunger Force: Vol. 1                             4.050542\n",
      "ABC Primetime: Mel Gibson's The Passion of the ...         4.047677\n",
      "Inspector Morse 31: Death Is Now My Neighbour              4.040900\n",
      "Dinosaur Planet                                            3.982314\n",
      "Lilo and Stitch                                            3.953918\n",
      "The Rise and Fall of ECW                                   3.922879\n",
      "Immortal Beloved                                           3.896705\n"
     ]
    }
   ],
   "source": [
    "display_history_plus_recommended(customer_id=customer_id_use, number_to_show=10)"
   ]
  },
  {
   "cell_type": "code",
   "execution_count": 28,
   "metadata": {},
   "outputs": [],
   "source": [
    "#TODO:\n",
    "#for the new user problem\n",
    "## find highest rated movie / tv shows that have been watched the most -> how likely is new user to click on it ?"
   ]
  },
  {
   "cell_type": "markdown",
   "metadata": {},
   "source": [
    "## SOMETHING"
   ]
  },
  {
   "cell_type": "code",
   "execution_count": 29,
   "metadata": {},
   "outputs": [],
   "source": [
    "from surprise import dataset\n",
    "from surprise import KNNBaseline\n",
    "from surprise.model_selection import train_test_split \n",
    "from surprise.model_selection import LeaveOneOut\n",
    "from surprise import accuracy"
   ]
  },
  {
   "cell_type": "code",
   "execution_count": 30,
   "metadata": {},
   "outputs": [],
   "source": [
    "def build_training_set_same_as_above(df):\n",
    "    reader = Reader()\n",
    "    svd = SVD()\n",
    "    data_new = Dataset.load_from_df(df[['customer_id', 'movie_id', 'rating']], reader)\n",
    "    trainset = data_new.build_full_trainset()\n",
    "    svd.fit(trainset)\n",
    "    return trainset, svd\n",
    "\n",
    "def print_evaluation_accuracy(prediction):\n",
    "    print(\"\\nEvaluating accuracy of model...\")\n",
    "    print(\"RMSE: \", accuracy.rmse(prediction, verbose=False))\n",
    "    print(\"MAE: \", accuracy.mae(prediction, verbose=False))"
   ]
  },
  {
   "cell_type": "code",
   "execution_count": 31,
   "metadata": {},
   "outputs": [
    {
     "name": "stdout",
     "output_type": "stream",
     "text": [
      "\n",
      "Building recommendation model...\n"
     ]
    }
   ],
   "source": [
    "reader = Reader(line_format='user item rating', rating_scale=(1, 5))\n",
    "class convert_to_raw_ratings(dataset.DatasetAutoFolds):\n",
    "    def __init__(self, df, reader):\n",
    "        self.raw_ratings = [(uid, iid, r, None) for (uid, iid, r) in zip(df['customer_id'], df['movie_id'], df['rating'])]\n",
    "        self.reader=reader\n",
    "\n",
    "raw_ratings = convert_to_raw_ratings(data_rating, reader)\n",
    "print(\"\\nBuilding recommendation model...\")\n",
    "trainSet, testSet = train_test_split(raw_ratings, test_size=.25, random_state=1)"
   ]
  },
  {
   "cell_type": "code",
   "execution_count": 32,
   "metadata": {},
   "outputs": [
    {
     "name": "stdout",
     "output_type": "stream",
     "text": [
      "\n",
      "Computing recommendations...\n"
     ]
    }
   ],
   "source": [
    "algo = SVD(random_state=10)\n",
    "algo.fit(trainSet)\n",
    "\n",
    "print(\"\\nComputing recommendations...\")\n",
    "predictions = algo.test(testSet)"
   ]
  },
  {
   "cell_type": "code",
   "execution_count": 33,
   "metadata": {},
   "outputs": [],
   "source": [
    "#cross_validate(algo,  raw_ratings, cv=5, verbose=True)"
   ]
  },
  {
   "cell_type": "code",
   "execution_count": 34,
   "metadata": {},
   "outputs": [
    {
     "name": "stdout",
     "output_type": "stream",
     "text": [
      "\n",
      "Evaluating accuracy of model...\n",
      "RMSE:  0.9912543460061926\n",
      "MAE:  0.7797843476506224\n"
     ]
    }
   ],
   "source": [
    "print_evaluation_accuracy(predictions)"
   ]
  },
  {
   "cell_type": "code",
   "execution_count": 35,
   "metadata": {},
   "outputs": [
    {
     "name": "stdout",
     "output_type": "stream",
     "text": [
      "\n",
      "Evaluating accuracy of model...\n",
      "RMSE:  1.0386634945860738\n",
      "MAE:  0.8522688604750867\n"
     ]
    }
   ],
   "source": [
    "print_evaluation_accuracy(svd.test(testSet))"
   ]
  },
  {
   "cell_type": "markdown",
   "metadata": {},
   "source": [
    "## other"
   ]
  },
  {
   "cell_type": "code",
   "execution_count": 36,
   "metadata": {},
   "outputs": [],
   "source": [
    "reader = Reader(line_format='user item rating', rating_scale=(1, 5))\n",
    "dataset = Dataset.load_from_df(data_rating[['customer_id', 'movie_id', 'rating']], reader)\n",
    "trainset = dataset.build_full_trainset()"
   ]
  },
  {
   "cell_type": "code",
   "execution_count": 37,
   "metadata": {},
   "outputs": [],
   "source": [
    "tmp_data_movies = data_movies[['movie_id', 'movie_title']]\n",
    "tmp_data_movies = tmp_data_movies.set_index('movie_id').T\n",
    "tmp_data_movies = tmp_data_movies.to_dict('list')\n",
    "tmp_data_movies = {k: str(v[0]) for k,v in tmp_data_movies.items()}"
   ]
  },
  {
   "cell_type": "code",
   "execution_count": 38,
   "metadata": {},
   "outputs": [
    {
     "name": "stdout",
     "output_type": "stream",
     "text": [
      "Computing the cosine similarity matrix...\n",
      "Done computing similarity matrix.\n",
      "Computing the cosine similarity matrix...\n",
      "Done computing similarity matrix.\n"
     ]
    }
   ],
   "source": [
    "similarity_matrix = KNNBasic(sim_options={'name': 'cosine', 'user_based': False}).fit(trainset).compute_similarities()"
   ]
  },
  {
   "cell_type": "code",
   "execution_count": 39,
   "metadata": {},
   "outputs": [],
   "source": [
    "# generate_random_user_ids(1000, 1500)"
   ]
  },
  {
   "cell_type": "code",
   "execution_count": 40,
   "metadata": {},
   "outputs": [],
   "source": [
    "# for i in generate_random_user_ids(1000, 1500):\n",
    "#     if (len(all_custumers_id_rows(i)) > 3):\n",
    "#         print(i)"
   ]
  },
  {
   "cell_type": "code",
   "execution_count": 41,
   "metadata": {},
   "outputs": [],
   "source": [
    "test_subject = customer_id_use#16272\n",
    "k = 10"
   ]
  },
  {
   "cell_type": "code",
   "execution_count": 42,
   "metadata": {},
   "outputs": [],
   "source": [
    "test_subject_iid = trainset.to_inner_uid(test_subject)\n",
    "\n",
    "test_subject_ratings = trainset.ur[test_subject_iid]\n",
    "k_neighbours = heapq.nlargest(k, test_subject_ratings, key=lambda t: t[1])"
   ]
  },
  {
   "cell_type": "code",
   "execution_count": 43,
   "metadata": {},
   "outputs": [],
   "source": [
    "candidates = defaultdict(float)\n",
    "\n",
    "for itemID, rating in k_neighbours:\n",
    "    try:\n",
    "        similarities = similarity_matrix[itemID]\n",
    "        for innerID, score in enumerate(similarities):\n",
    "            candidates[innerID] += score * (rating / 5.0)\n",
    "    except:\n",
    "        continue"
   ]
  },
  {
   "cell_type": "code",
   "execution_count": 44,
   "metadata": {},
   "outputs": [],
   "source": [
    "def getMovieName(movieID):\n",
    "  if int(movieID) in tmp_data_movies:\n",
    "    return tmp_data_movies[int(movieID)]\n",
    "  else:\n",
    "      return \"\""
   ]
  },
  {
   "cell_type": "code",
   "execution_count": 45,
   "metadata": {},
   "outputs": [
    {
     "name": "stdout",
     "output_type": "stream",
     "text": [
      "Movie:  Lord of the Rings: The Return of the King: Extended Edition: Bonus Material\n",
      "Movie:  Mississippi Burning\n",
      "Movie:  North by Northwest\n",
      "Movie:  Silkwood\n",
      "Movie:  Rabbit-Proof Fence\n",
      "Movie:  Woman of the Year\n",
      "Movie:  Elfen Lied\n",
      "Movie:  The Chorus\n",
      "Movie:  Sex and the City: Season 4\n",
      "Movie:  Parenthood\n",
      "Movie:  Charlotte's Web\n"
     ]
    }
   ],
   "source": [
    "watched = {}\n",
    "for itemID, rating in trainset.ur[test_subject_iid]:\n",
    "    watched[itemID] = 1\n",
    "\n",
    "recommendations = []\n",
    "position = 0\n",
    "for itemID, rating_sum in sorted(candidates.items(), key=itemgetter(1), reverse=True):\n",
    "    if not itemID in watched:\n",
    "        recommendations.append(getMovieName(trainset.to_raw_iid(itemID)))\n",
    "        position += 1\n",
    "        # only want top n which in our case in 10\n",
    "        if(position > 10): break\n",
    "\n",
    "for rec in recommendations:\n",
    "    print(\"Movie: \", rec)\n"
   ]
  },
  {
   "cell_type": "markdown",
   "metadata": {},
   "source": []
  },
  {
   "cell_type": "code",
   "execution_count": 46,
   "metadata": {},
   "outputs": [],
   "source": [
    "# #TODO: keep or throw away since it's never used\n",
    "# sim_options = {'name': 'pearson_baseline', 'user_based': False}\n",
    "# simsAlgo = KNNBaseline(sim_options=sim_options)\n",
    "# simsAlgo.fit(evaluationData)"
   ]
  },
  {
   "cell_type": "code",
   "execution_count": null,
   "metadata": {},
   "outputs": [],
   "source": []
  }
 ],
 "metadata": {
  "interpreter": {
   "hash": "eb60acc68106785d00a40fb3b1b3b80d861e6f0b0d60f9d8440fa3d46ca2822c"
  },
  "kernelspec": {
   "display_name": "Python 3.8.8 64-bit ('base': conda)",
   "name": "python3"
  },
  "language_info": {
   "codemirror_mode": {
    "name": "ipython",
    "version": 3
   },
   "file_extension": ".py",
   "mimetype": "text/x-python",
   "name": "python",
   "nbconvert_exporter": "python",
   "pygments_lexer": "ipython3",
   "version": "3.8.5"
  },
  "orig_nbformat": 2
 },
 "nbformat": 4,
 "nbformat_minor": 2
}
