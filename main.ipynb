{
 "cells": [
  {
   "cell_type": "code",
   "execution_count": 1,
   "metadata": {},
   "outputs": [],
   "source": [
    "#!pip install surprise\n",
    "#!pip install import-ipynb\n",
    "import pandas as pd\n",
    "import numpy as np\n",
    "import matplotlib.pyplot as plt\n",
    "import seaborn as sns\n",
    "from surprise import Reader, Dataset, SVD\n",
    "from surprise.model_selection import cross_validate\n",
    "import pickle\n",
    "#sns.set_style(\"darkgrid\")\n",
    "from surprise import accuracy\n",
    "from collections import defaultdict\n",
    "from surprise import KNNBasic\n",
    "\n",
    "from collections import defaultdict\n",
    "from operator import itemgetter\n",
    "import heapq\n",
    "import os\n",
    "import csv"
   ]
  },
  {
   "cell_type": "code",
   "execution_count": 2,
   "metadata": {},
   "outputs": [],
   "source": [
    "use_pickle_file = True"
   ]
  },
  {
   "cell_type": "markdown",
   "metadata": {},
   "source": [
    "## Helper functions"
   ]
  },
  {
   "cell_type": "code",
   "execution_count": 3,
   "metadata": {},
   "outputs": [],
   "source": [
    "def all_movie_id_rows(movie_id):\n",
    "    return data_rating[data_rating['movie_id'] == movie_id]\n",
    "\n",
    "def all_custumers_id_rows(customer_id):\n",
    "    return data_rating[data_rating['customer_id'] == customer_id]\n",
    "\n",
    "def all_customers_id_plus_movie_title_rows(customer_id):\n",
    "    return data_rating_plus_movie_title[data_rating_plus_movie_title['customer_id'] == customer_id]\n",
    "\n",
    "def all_movies_get_average_rating():\n",
    "    movie_ratings_stats = data_rating.groupby('movie_id').agg({'rating': ['sum', 'count']}).reset_index()\n",
    "    movie_ratings_stats['avg_rating'] =  movie_ratings_stats['rating']['sum'] / movie_ratings_stats['rating']['count']\n",
    "    return movie_ratings_stats\n",
    "\n",
    "def all_customers_get_average_rating():\n",
    "    customers_ratings_stats = data_rating.groupby('customer_id').agg({'rating': ['sum', 'count']}).reset_index()\n",
    "    customers_ratings_stats['avg_rating'] =  customers_ratings_stats['rating']['sum'] / customers_ratings_stats['rating']['count']\n",
    "    return customers_ratings_stats\n",
    "\n",
    "def all_movies_get_rated_count():\n",
    "    return data_rating.groupby('movie_id').agg({'movie_id': 'count'}).reset_index()\n",
    "\n",
    "def all_customers_get_movie_rated_count():\n",
    "    return data_rating.groupby('customer_id').agg({'movie_id': 'count'}).reset_index()\n",
    "\n",
    "def get_customers_avg_rating_less_than(max_rating):\n",
    "    print(all_customers_average_ratings[all_customers_average_ratings['avg_rating'] < max_rating])\n",
    "\n",
    "def get_movies_avg_rating_less_than(max_rating):\n",
    "    print(all_movies_average_rating[all_movies_average_rating['avg_rating'] < max_rating])\n",
    "\n",
    "def get_customers_avg_rating_higher_than(min_rating):\n",
    "    print(all_customers_average_ratings[all_customers_average_ratings['avg_rating'] > min_rating])\n",
    "\n",
    "def get_movies_avg_rating_higher_than(min_rating):\n",
    "    print(all_movies_average_rating[all_movies_average_rating['avg_rating'] > min_rating])\n",
    "\n",
    "\n",
    "def get_movie_avg_rating(movie_id):\n",
    "    output = all_movies_average_rating[all_movies_average_rating['movie_id'] == movie_id]\n",
    "    #print(output)\n",
    "    return output['avg_rating']\n",
    "\n",
    "def get_users_avg_rating(customer_id):\n",
    "    output = all_customers_average_ratings[all_customers_average_ratings['customer_id'] == customer_id]\n",
    "    #print(output)\n",
    "    return output['avg_rating']\n",
    "\n",
    "def get_movies_customer_rated_higher_than(customer_id, min_rating=4):\n",
    "    temp = data_rating_plus_movie_title.copy()\n",
    "    return temp[(temp['customer_id'] == customer_id) & (temp['rating'] >= min_rating)].set_index('movie_id')\n",
    "\n",
    "def get_movies_customer_rated_lower_than(customer_id, max_rating=4):\n",
    "    temp = data_rating_plus_movie_title.copy()\n",
    "    return temp[(temp['customer_id'] == customer_id) & (temp['rating'] < max_rating)].set_index('movie_id')\n",
    "\n",
    "def display_movies_customer_rated_higher_than(customer_id, min_rating=0):\n",
    "    df_customer_liked = get_movies_customer_rated_higher_than(customer_id=customer_id, min_rating=min_rating)\n",
    "    print(df_customer_liked[['movie_title', 'rating']])\n",
    "    print('average rating', get_users_avg_rating(customer_id))\n",
    "\n",
    "def display_movies_customer_rated_lower_than(customer_id, max_rating=0):\n",
    "    df_customer_disliked = get_movies_customer_rated_lower_than(customer_id=customer_id, max_rating=max_rating)\n",
    "    print(df_customer_disliked[['movie_title', 'rating']])\n",
    "    print('average rating', get_users_avg_rating(customer_id))\n",
    "\n",
    "def save_to_pickle(name, df):\n",
    "    path_name = \"pickle/\"+name+\".pickle\"\n",
    "    pickle_file = open(path_name,\"wb\")\n",
    "    pickle.dump(df, pickle_file)\n",
    "    pickle_file.close()\n",
    "\n",
    "def load_pickle(name):\n",
    "    path_name = \"pickle/\"+name+\".pickle\"\n",
    "    return_input = open(path_name, \"rb\")\n",
    "    return pickle.load(return_input)\n"
   ]
  },
  {
   "cell_type": "markdown",
   "metadata": {},
   "source": [
    "## Get the data"
   ]
  },
  {
   "cell_type": "code",
   "execution_count": 4,
   "metadata": {},
   "outputs": [],
   "source": [
    "def create_dataframe(use_pickle=True):\n",
    "    if(use_pickle == True):\n",
    "        in_pickle = open(\"pickle/movies_customers_ratings.pickle\", \"rb\")\n",
    "        data = pd.DataFrame(pickle.load(in_pickle), columns=['movie_id', 'customer_id', 'rating', 'index']).drop(['index'], axis=1)\n",
    "    else:\n",
    "        index = 1\n",
    "        last_movie_id = \"1\"\n",
    "        new_data = []\n",
    "        ## import all combined_data files to one large pandas dataframe\n",
    "        ##> returns index, customer_id (which is both movie and customer), rating (NaN = customer_id is a movie, Not NaN = customers rating)\n",
    "        df_all = pd.read_csv('./data/combined_data_1.txt', header = None, names = ['customer_id', 'rating'], usecols = [0,1])\n",
    "        #df_all = df_all.append(pd.read_csv('./data/combined_data_2.txt', header = None, names = ['customer_id', 'rating'], usecols = [0,1]))\n",
    "        #df_all = df_all.append(pd.read_csv('./data/combined_data_3.txt', header = None, names = ['customer_id', 'rating'], usecols = [0,1]))\n",
    "        #df_all = df_all.append(pd.read_csv('./data/combined_data_4.txt', header = None, names = ['customer_id', 'rating'], usecols = [0,1]))\n",
    "        df_all.index = np.arange(0,len(df_all))\n",
    "        df_all['rating'] = df_all['rating'].astype(float)\n",
    "        \n",
    "        for customer_id in df_all[\"customer_id\"]:\n",
    "            # if we find : that means this is a movie_id and not customer_id\n",
    "            if(customer_id.find(\":\") > 0):\n",
    "                movie_id = customer_id.replace(\":\", \"\")\n",
    "                last_movie_id = movie_id\n",
    "            else:\n",
    "                # we have this row index so use it to get rating\n",
    "                rating = df_all[\"rating\"][index-1]\n",
    "                new_data.append([last_movie_id, customer_id, rating, index])\n",
    "            index += 1\n",
    "        #output to pickle file\n",
    "        movies_customers_ratings = open(\"pickle/movies_customers_ratings.pickle\",\"wb\")\n",
    "        pickle.dump(new_data, movies_customers_ratings)\n",
    "        movies_customers_ratings.close()\n",
    "        data = pd.DataFrame(new_data, columns=['movie_id', 'customer_id', 'rating', 'index']).drop(['index'], axis=1)\n",
    "\n",
    "    # change columns to numerical\n",
    "    data['movie_id'] = data['movie_id'].astype(int)\n",
    "    data['customer_id'] = data['customer_id'].astype(int)\n",
    "    data[\"rating\"] = data[\"rating\"].astype(float)\n",
    "    return data\n",
    "\n",
    "def get_dataframes(use_pickle=True):\n",
    "    # dataframe containing all informations about the movies\n",
    "    #> returns movie_id, movie_year, movie_title\n",
    "    data_movies = pd.read_csv('./data/movie_titles.csv', header = None, names = ['movie_id', 'movie_year', 'movie_title'], usecols = [0,1,2], encoding=\"latin1\")\n",
    "    #data_movies_import.set_index('movie_id', inplace = True)\n",
    "\n",
    "    ## ------------------------------------------------------------------------------------- ##\n",
    "\n",
    "    # dataframe containing all informations about the movie ratings by customer\n",
    "    #> returns index, movie_id, customer_id, rating\n",
    "    data_rating = create_dataframe(use_pickle=use_pickle)\n",
    "\n",
    "    # ## ------------------------------------------------------------------------------------- ##\n",
    "\n",
    "    # ##combine customer ratings to movie titles\n",
    "    # ##> returns index, movie_id, customer_id, rating, movie_year, movie_title\n",
    "    data_rating_plus_movie_title = data_rating.merge(data_movies, on=\"movie_id\", how=\"inner\")\n",
    "\n",
    "    ## ------------------------------------------------------------------------------------- ##\n",
    "\n",
    "    data_movies_categorize = pd.read_csv('./data/movies.csv', header = None, names = ['movie_id', 'movie_title', 'genres'], usecols = [0,1,2], encoding=\"latin1\")[1:] #dataset is off by one\n",
    "    #data_movies_categorize.set_index('movie_id', inplace = True)\n",
    "    data_movies_categorize_split = data_movies_categorize['movie_title'].str.split('(', n = 1, expand=True) # split movie_title to movie_title and movie_year\n",
    "    data_movies_categorize_split[1] = data_movies_categorize_split[1].str.replace(r')', '') #removing ) at the end of movie_year\n",
    "    data_movies_categorize[\"movie_year\"] = data_movies_categorize_split[1]\n",
    "    data_movies_categorize[\"movie_title\"] = data_movies_categorize_split[0]\n",
    "    #data_movies_categorize[\"movie_year\"] = data_movies_categorize[\"movie_year\"].astype(float)\n",
    "    #data_movies_categorize\n",
    "    data_movies_categorize_cleaned = data_movies_categorize[pd.to_numeric(data_movies_categorize['movie_year'], errors='coerce').notnull()]\n",
    "    data_movies_categorize_cleaned[\"movie_year\"] = data_movies_categorize_cleaned[\"movie_year\"].astype(float)\n",
    "    \n",
    "    return data_movies, data_rating, data_rating_plus_movie_title, data_movies_categorize_cleaned\n",
    "\n",
    "\n",
    "def get_users_loved_hated_movies(customer_id, minmax_rating):\n",
    "    users_ratings_higher_than_four = get_movies_customer_rated_higher_than(customer_id=customer_id_use, min_rating=minmax_rating)\n",
    "    users_ratings_lower_than_four = get_movies_customer_rated_lower_than(customer_id=customer_id_use, max_rating=minmax_rating)\n",
    "    print(\"User\", customer_id_use ,\"loved these movies\")\n",
    "    for rating in users_ratings_higher_than_four['movie_title']:\n",
    "        print(rating)\n",
    "    print('')\n",
    "    print(\"and disliked these movies\")\n",
    "    for rating in users_ratings_lower_than_four['movie_title']:\n",
    "        print(rating)"
   ]
  },
  {
   "cell_type": "markdown",
   "metadata": {},
   "source": [
    "in these txt files the movie_id's have been placed amongst the customer_id's, which means that we have to split that column into two, we do this by taking all ratings that are equal to NaN \n",
    "( meaning that we are now refering to a movie and not a customer ) and from there we split it into two columns."
   ]
  },
  {
   "cell_type": "code",
   "execution_count": 5,
   "metadata": {
    "tags": []
   },
   "outputs": [
    {
     "name": "stderr",
     "output_type": "stream",
     "text": [
      "<ipython-input-4-53fccbde2917>:69: SettingWithCopyWarning: \n",
      "A value is trying to be set on a copy of a slice from a DataFrame.\n",
      "Try using .loc[row_indexer,col_indexer] = value instead\n",
      "\n",
      "See the caveats in the documentation: https://pandas.pydata.org/pandas-docs/stable/user_guide/indexing.html#returning-a-view-versus-a-copy\n",
      "  data_movies_categorize_cleaned[\"movie_year\"] = data_movies_categorize_cleaned[\"movie_year\"].astype(float)\n"
     ]
    }
   ],
   "source": [
    "data_movies, data_rating, data_rating_plus_movie_title, data_movies_categorized = get_dataframes(use_pickle=use_pickle_file)"
   ]
  },
  {
   "cell_type": "code",
   "execution_count": 6,
   "metadata": {},
   "outputs": [],
   "source": [
    "max_n = 250000\n",
    "data_rating = data_rating[:max_n]\n",
    "data_rating_plus_movie_title = data_rating_plus_movie_title[:max_n]"
   ]
  },
  {
   "cell_type": "markdown",
   "metadata": {},
   "source": [
    "#### try again later"
   ]
  },
  {
   "cell_type": "code",
   "execution_count": 7,
   "metadata": {},
   "outputs": [],
   "source": [
    "# # temporarly while join with genre not working correctly\n",
    "# data_movies = data_movies_import.copy()\n",
    "# data_movies.set_index('movie_id', inplace = True)\n",
    "# print(data_movies)"
   ]
  },
  {
   "cell_type": "code",
   "execution_count": 8,
   "metadata": {},
   "outputs": [],
   "source": [
    "# x_temp = data_movies_import\n",
    "# x2_temp= data_movies_categorize\n",
    "# #x_temp.set_index(\"movie_id\", inplace=True)\n",
    "# #x2_temp.set_index(\"movie_id\", inplace=True)"
   ]
  },
  {
   "cell_type": "code",
   "execution_count": 9,
   "metadata": {},
   "outputs": [],
   "source": [
    "# temp_merge = pd.merge(x_temp, x2_temp, on=['movie_title', 'movie_year'], how='outer')\n",
    "# temp_merge = temp_merge[[\"movie_year\", \"movie_title\"]].drop_duplicates(subset=None, keep=\"last\", inplace=False)"
   ]
  },
  {
   "cell_type": "code",
   "execution_count": 10,
   "metadata": {},
   "outputs": [],
   "source": [
    "# df_merged = pd.merge(x_temp, x2_temp, on=[\"movie_title\", \"movie_year\"], how=\"left\")"
   ]
  },
  {
   "cell_type": "code",
   "execution_count": 11,
   "metadata": {},
   "outputs": [],
   "source": [
    "#df_merged[\"genres\"].isnull()"
   ]
  },
  {
   "cell_type": "code",
   "execution_count": 12,
   "metadata": {},
   "outputs": [],
   "source": [
    "# #data_movies = pd.merge(x, x2, on=['movie_year', 'movie_title'], how='outer')\n",
    "# data_movies = pd.merge(x, x2, on=[\"movie_title\", \"movie_year\"], how='outer')\n",
    "# data_movies#.set_index('movie_id', inplace = True)\n"
   ]
  },
  {
   "cell_type": "code",
   "execution_count": 13,
   "metadata": {},
   "outputs": [],
   "source": [
    "# data_movies.groupby(\"movie_title\").count()"
   ]
  },
  {
   "cell_type": "markdown",
   "metadata": {},
   "source": [
    "#### end of try again later"
   ]
  },
  {
   "cell_type": "markdown",
   "metadata": {},
   "source": [
    "## Working with the data"
   ]
  },
  {
   "cell_type": "markdown",
   "metadata": {},
   "source": [
    "### Details about all customers/movies"
   ]
  },
  {
   "cell_type": "code",
   "execution_count": 14,
   "metadata": {},
   "outputs": [
    {
     "name": "stdout",
     "output_type": "stream",
     "text": [
      "       customer_id rating       avg_rating\n",
      "                      sum count           \n",
      "0                6    3.0     1   3.000000\n",
      "1                7   14.0     3   4.666667\n",
      "2               42    4.0     1   4.000000\n",
      "3               59    2.0     1   2.000000\n",
      "4               79    3.0     1   3.000000\n",
      "...            ...    ...   ...        ...\n",
      "169942     2649376    5.0     1   5.000000\n",
      "169943     2649378    6.0     2   3.000000\n",
      "169944     2649388    3.0     1   3.000000\n",
      "169945     2649426   12.0     3   4.000000\n",
      "169946     2649429    5.0     1   5.000000\n",
      "\n",
      "[169947 rows x 4 columns]\n"
     ]
    }
   ],
   "source": [
    "# get the average movie rating for all customers\n",
    "# used to determine if this user typically gives bad or good reviews\n",
    "# and then we can see if he really hates or loves a movie\n",
    "all_customers_average_ratings = all_customers_get_average_rating()\n",
    "print(all_customers_average_ratings)"
   ]
  },
  {
   "cell_type": "code",
   "execution_count": 15,
   "metadata": {},
   "outputs": [
    {
     "name": "stdout",
     "output_type": "stream",
     "text": [
      "   movie_id    rating         avg_rating\n",
      "                  sum   count           \n",
      "0         1    2051.0     547   3.749543\n",
      "1         2     516.0     145   3.558621\n",
      "2         3    7326.0    2012   3.641153\n",
      "3         4     389.0     142   2.739437\n",
      "4         5    4468.0    1140   3.919298\n",
      "5         6    3143.0    1019   3.084396\n",
      "6         7     198.0      93   2.129032\n",
      "7         8   47560.0   14910   3.189805\n",
      "8         9     249.0      95   2.621053\n",
      "9        10     792.0     249   3.180723\n",
      "10       11     600.0     198   3.030303\n",
      "11       12    1866.0     546   3.417582\n",
      "12       13     569.0     125   4.552000\n",
      "13       14     357.0     118   3.025424\n",
      "14       15     953.0     290   3.286207\n",
      "15       16    8363.0    2699   3.098555\n",
      "16       17   20636.0    7108   2.903208\n",
      "17       18   40576.0   10722   3.784369\n",
      "18       19    1792.0     539   3.324675\n",
      "19       20     365.0     116   3.146552\n",
      "20       21     755.0     218   3.463303\n",
      "21       22     456.0     203   2.246305\n",
      "22       23    2187.0     615   3.556098\n",
      "23       24    3991.0    1333   2.993998\n",
      "24       25    4792.0    1207   3.970174\n",
      "25       26   16374.0    5861   2.793721\n",
      "26       27     963.0     273   3.527473\n",
      "27       28  151982.0   39752   3.823254\n",
      "28       29    1882.0     523   3.598470\n",
      "29       30  445451.0  118413   3.761842\n",
      "30       31     675.0     221   3.054299\n",
      "31       32    7549.0    1854   4.071737\n",
      "32       33   28722.0    6890   4.168650\n",
      "33       34     293.0     108   2.712963\n",
      "34       35    2639.0     839   3.145411\n",
      "35       36    2836.0     939   3.020234\n",
      "36       37    1121.0     281   3.989324\n",
      "37       38    1645.0     802   2.051122\n",
      "38       39    1832.0     752   2.436170\n",
      "39       40    1434.0     491   2.920570\n",
      "40       41     152.0      93   1.634409\n",
      "41       42     298.0     128   2.328125\n",
      "42       43     270.0     105   2.571429\n",
      "43       44   31318.0    8501   3.684037\n",
      "44       45    7775.0    2619   2.968690\n",
      "45       46   24963.0    6558   3.806496\n",
      "46       47    7676.0    2350   3.266383\n",
      "47       48   13326.0    3591   3.710944\n",
      "48       49     847.0     231   3.666667\n",
      "49       50     993.0     328   3.027439\n",
      "50       51     321.0      90   3.566667\n",
      "51       52    3836.0    1018   3.768173\n"
     ]
    }
   ],
   "source": [
    "all_movies_average_rating = all_movies_get_average_rating()\n",
    "print(all_movies_average_rating)"
   ]
  },
  {
   "cell_type": "code",
   "execution_count": 16,
   "metadata": {},
   "outputs": [
    {
     "name": "stdout",
     "output_type": "stream",
     "text": [
      "       customer_id rating       avg_rating\n",
      "                      sum count           \n",
      "0                6    3.0     1   3.000000\n",
      "1                7   14.0     3   4.666667\n",
      "2               42    4.0     1   4.000000\n",
      "3               59    2.0     1   2.000000\n",
      "4               79    3.0     1   3.000000\n",
      "...            ...    ...   ...        ...\n",
      "169940     2649351    3.0     1   3.000000\n",
      "169941     2649375    4.0     1   4.000000\n",
      "169943     2649378    6.0     2   3.000000\n",
      "169944     2649388    3.0     1   3.000000\n",
      "169945     2649426   12.0     3   4.000000\n",
      "\n",
      "[138194 rows x 4 columns]\n"
     ]
    }
   ],
   "source": [
    "get_customers_avg_rating_less_than(max_rating=5)"
   ]
  },
  {
   "cell_type": "code",
   "execution_count": 17,
   "metadata": {},
   "outputs": [
    {
     "name": "stdout",
     "output_type": "stream",
     "text": [
      "       customer_id rating       avg_rating\n",
      "                      sum count           \n",
      "0                6    3.0     1   3.000000\n",
      "3               59    2.0     1   2.000000\n",
      "4               79    3.0     1   3.000000\n",
      "9              188    3.0     1   3.000000\n",
      "17             296    7.0     2   3.500000\n",
      "...            ...    ...   ...        ...\n",
      "169933     2649285    7.0     2   3.500000\n",
      "169934     2649296   10.0     3   3.333333\n",
      "169940     2649351    3.0     1   3.000000\n",
      "169943     2649378    6.0     2   3.000000\n",
      "169944     2649388    3.0     1   3.000000\n",
      "\n",
      "[73394 rows x 4 columns]\n"
     ]
    }
   ],
   "source": [
    "get_customers_avg_rating_less_than(max_rating=4)"
   ]
  },
  {
   "cell_type": "code",
   "execution_count": 18,
   "metadata": {},
   "outputs": [
    {
     "name": "stdout",
     "output_type": "stream",
     "text": [
      "       customer_id rating       avg_rating\n",
      "                      sum count           \n",
      "1                7   14.0     3   4.666667\n",
      "6              134    5.0     1   5.000000\n",
      "10             199    5.0     1   5.000000\n",
      "11             201    9.0     2   4.500000\n",
      "15             268    5.0     1   5.000000\n",
      "...            ...    ...   ...        ...\n",
      "169931     2649267   10.0     2   5.000000\n",
      "169932     2649268    5.0     1   5.000000\n",
      "169938     2649331    5.0     1   5.000000\n",
      "169942     2649376    5.0     1   5.000000\n",
      "169946     2649429    5.0     1   5.000000\n",
      "\n",
      "[40010 rows x 4 columns]\n"
     ]
    }
   ],
   "source": [
    "get_customers_avg_rating_higher_than(min_rating=4)"
   ]
  },
  {
   "cell_type": "code",
   "execution_count": 19,
   "metadata": {},
   "outputs": [
    {
     "name": "stdout",
     "output_type": "stream",
     "text": [
      "   movie_id    rating         avg_rating\n",
      "                  sum   count           \n",
      "0         1    2051.0     547   3.749543\n",
      "1         2     516.0     145   3.558621\n",
      "2         3    7326.0    2012   3.641153\n",
      "3         4     389.0     142   2.739437\n",
      "4         5    4468.0    1140   3.919298\n",
      "5         6    3143.0    1019   3.084396\n",
      "6         7     198.0      93   2.129032\n",
      "7         8   47560.0   14910   3.189805\n",
      "8         9     249.0      95   2.621053\n",
      "9        10     792.0     249   3.180723\n",
      "10       11     600.0     198   3.030303\n",
      "11       12    1866.0     546   3.417582\n",
      "12       13     569.0     125   4.552000\n",
      "13       14     357.0     118   3.025424\n",
      "14       15     953.0     290   3.286207\n",
      "15       16    8363.0    2699   3.098555\n",
      "16       17   20636.0    7108   2.903208\n",
      "17       18   40576.0   10722   3.784369\n",
      "18       19    1792.0     539   3.324675\n",
      "19       20     365.0     116   3.146552\n",
      "20       21     755.0     218   3.463303\n",
      "21       22     456.0     203   2.246305\n",
      "22       23    2187.0     615   3.556098\n",
      "23       24    3991.0    1333   2.993998\n",
      "24       25    4792.0    1207   3.970174\n",
      "25       26   16374.0    5861   2.793721\n",
      "26       27     963.0     273   3.527473\n",
      "27       28  151982.0   39752   3.823254\n",
      "28       29    1882.0     523   3.598470\n",
      "29       30  445451.0  118413   3.761842\n",
      "30       31     675.0     221   3.054299\n",
      "31       32    7549.0    1854   4.071737\n",
      "32       33   28722.0    6890   4.168650\n",
      "33       34     293.0     108   2.712963\n",
      "34       35    2639.0     839   3.145411\n",
      "35       36    2836.0     939   3.020234\n",
      "36       37    1121.0     281   3.989324\n",
      "37       38    1645.0     802   2.051122\n",
      "38       39    1832.0     752   2.436170\n",
      "39       40    1434.0     491   2.920570\n",
      "40       41     152.0      93   1.634409\n",
      "41       42     298.0     128   2.328125\n",
      "42       43     270.0     105   2.571429\n",
      "43       44   31318.0    8501   3.684037\n",
      "44       45    7775.0    2619   2.968690\n",
      "45       46   24963.0    6558   3.806496\n",
      "46       47    7676.0    2350   3.266383\n",
      "47       48   13326.0    3591   3.710944\n",
      "48       49     847.0     231   3.666667\n",
      "49       50     993.0     328   3.027439\n",
      "50       51     321.0      90   3.566667\n",
      "51       52    3836.0    1018   3.768173\n"
     ]
    }
   ],
   "source": [
    "get_movies_avg_rating_less_than(max_rating=5)"
   ]
  },
  {
   "cell_type": "code",
   "execution_count": 20,
   "metadata": {},
   "outputs": [
    {
     "name": "stdout",
     "output_type": "stream",
     "text": [
      "   movie_id    rating         avg_rating\n",
      "                  sum   count           \n",
      "0         1    2051.0     547   3.749543\n",
      "1         2     516.0     145   3.558621\n",
      "2         3    7326.0    2012   3.641153\n",
      "3         4     389.0     142   2.739437\n",
      "4         5    4468.0    1140   3.919298\n",
      "5         6    3143.0    1019   3.084396\n",
      "6         7     198.0      93   2.129032\n",
      "7         8   47560.0   14910   3.189805\n",
      "8         9     249.0      95   2.621053\n",
      "9        10     792.0     249   3.180723\n",
      "10       11     600.0     198   3.030303\n",
      "11       12    1866.0     546   3.417582\n",
      "13       14     357.0     118   3.025424\n",
      "14       15     953.0     290   3.286207\n",
      "15       16    8363.0    2699   3.098555\n",
      "16       17   20636.0    7108   2.903208\n",
      "17       18   40576.0   10722   3.784369\n",
      "18       19    1792.0     539   3.324675\n",
      "19       20     365.0     116   3.146552\n",
      "20       21     755.0     218   3.463303\n",
      "21       22     456.0     203   2.246305\n",
      "22       23    2187.0     615   3.556098\n",
      "23       24    3991.0    1333   2.993998\n",
      "24       25    4792.0    1207   3.970174\n",
      "25       26   16374.0    5861   2.793721\n",
      "26       27     963.0     273   3.527473\n",
      "27       28  151982.0   39752   3.823254\n",
      "28       29    1882.0     523   3.598470\n",
      "29       30  445451.0  118413   3.761842\n",
      "30       31     675.0     221   3.054299\n",
      "33       34     293.0     108   2.712963\n",
      "34       35    2639.0     839   3.145411\n",
      "35       36    2836.0     939   3.020234\n",
      "36       37    1121.0     281   3.989324\n",
      "37       38    1645.0     802   2.051122\n",
      "38       39    1832.0     752   2.436170\n",
      "39       40    1434.0     491   2.920570\n",
      "40       41     152.0      93   1.634409\n",
      "41       42     298.0     128   2.328125\n",
      "42       43     270.0     105   2.571429\n",
      "43       44   31318.0    8501   3.684037\n",
      "44       45    7775.0    2619   2.968690\n",
      "45       46   24963.0    6558   3.806496\n",
      "46       47    7676.0    2350   3.266383\n",
      "47       48   13326.0    3591   3.710944\n",
      "48       49     847.0     231   3.666667\n",
      "49       50     993.0     328   3.027439\n",
      "50       51     321.0      90   3.566667\n",
      "51       52    3836.0    1018   3.768173\n"
     ]
    }
   ],
   "source": [
    "get_movies_avg_rating_less_than(max_rating=4)"
   ]
  },
  {
   "cell_type": "code",
   "execution_count": 21,
   "metadata": {},
   "outputs": [
    {
     "data": {
      "text/html": [
       "<div>\n",
       "<style scoped>\n",
       "    .dataframe tbody tr th:only-of-type {\n",
       "        vertical-align: middle;\n",
       "    }\n",
       "\n",
       "    .dataframe tbody tr th {\n",
       "        vertical-align: top;\n",
       "    }\n",
       "\n",
       "    .dataframe thead th {\n",
       "        text-align: right;\n",
       "    }\n",
       "</style>\n",
       "<table border=\"1\" class=\"dataframe\">\n",
       "  <thead>\n",
       "    <tr style=\"text-align: right;\">\n",
       "      <th></th>\n",
       "      <th>customer_id</th>\n",
       "      <th>movie_id</th>\n",
       "    </tr>\n",
       "  </thead>\n",
       "  <tbody>\n",
       "    <tr>\n",
       "      <th>0</th>\n",
       "      <td>6</td>\n",
       "      <td>1</td>\n",
       "    </tr>\n",
       "    <tr>\n",
       "      <th>1</th>\n",
       "      <td>7</td>\n",
       "      <td>3</td>\n",
       "    </tr>\n",
       "    <tr>\n",
       "      <th>2</th>\n",
       "      <td>42</td>\n",
       "      <td>1</td>\n",
       "    </tr>\n",
       "    <tr>\n",
       "      <th>3</th>\n",
       "      <td>59</td>\n",
       "      <td>1</td>\n",
       "    </tr>\n",
       "    <tr>\n",
       "      <th>4</th>\n",
       "      <td>79</td>\n",
       "      <td>1</td>\n",
       "    </tr>\n",
       "    <tr>\n",
       "      <th>...</th>\n",
       "      <td>...</td>\n",
       "      <td>...</td>\n",
       "    </tr>\n",
       "    <tr>\n",
       "      <th>169942</th>\n",
       "      <td>2649376</td>\n",
       "      <td>1</td>\n",
       "    </tr>\n",
       "    <tr>\n",
       "      <th>169943</th>\n",
       "      <td>2649378</td>\n",
       "      <td>2</td>\n",
       "    </tr>\n",
       "    <tr>\n",
       "      <th>169944</th>\n",
       "      <td>2649388</td>\n",
       "      <td>1</td>\n",
       "    </tr>\n",
       "    <tr>\n",
       "      <th>169945</th>\n",
       "      <td>2649426</td>\n",
       "      <td>3</td>\n",
       "    </tr>\n",
       "    <tr>\n",
       "      <th>169946</th>\n",
       "      <td>2649429</td>\n",
       "      <td>1</td>\n",
       "    </tr>\n",
       "  </tbody>\n",
       "</table>\n",
       "<p>169947 rows × 2 columns</p>\n",
       "</div>"
      ],
      "text/plain": [
       "        customer_id  movie_id\n",
       "0                 6         1\n",
       "1                 7         3\n",
       "2                42         1\n",
       "3                59         1\n",
       "4                79         1\n",
       "...             ...       ...\n",
       "169942      2649376         1\n",
       "169943      2649378         2\n",
       "169944      2649388         1\n",
       "169945      2649426         3\n",
       "169946      2649429         1\n",
       "\n",
       "[169947 rows x 2 columns]"
      ]
     },
     "execution_count": 21,
     "metadata": {},
     "output_type": "execute_result"
    }
   ],
   "source": [
    "count_movies_rated_by_customer = all_customers_get_movie_rated_count()\n",
    "count_movies_rated_by_customer"
   ]
  },
  {
   "cell_type": "code",
   "execution_count": 22,
   "metadata": {},
   "outputs": [],
   "source": [
    "def generate_random_user_ids(from_n, to_n):\n",
    "    ids = np.unique(data_rating['customer_id'])[from_n:to_n]\n",
    "    print(\"random user id used while in development\\n\")\n",
    "    return ids"
   ]
  },
  {
   "cell_type": "code",
   "execution_count": 23,
   "metadata": {},
   "outputs": [
    {
     "name": "stdout",
     "output_type": "stream",
     "text": [
      "random user id used while in development\n",
      "\n"
     ]
    },
    {
     "data": {
      "text/plain": [
       "array([16121, 16144, 16146, 16150, 16154, 16166, 16168, 16178, 16184,\n",
       "       16189, 16201, 16211, 16229, 16239, 16241, 16272, 16273, 16287,\n",
       "       16313, 16326, 16345, 16361, 16364, 16386, 16388, 16408, 16427,\n",
       "       16455, 16456, 16475, 16479, 16487, 16525, 16540, 16558, 16565,\n",
       "       16581, 16583, 16588, 16591, 16599, 16631, 16649, 16651, 16708,\n",
       "       16719, 16723, 16736, 16747, 16786, 16789, 16792, 16800, 16818,\n",
       "       16819, 16833, 16837, 16855, 16962, 17008, 17035, 17041, 17042,\n",
       "       17062, 17063, 17064, 17078, 17083, 17088, 17119, 17128, 17136,\n",
       "       17138, 17140, 17147, 17149, 17151, 17181, 17184, 17189, 17227,\n",
       "       17246, 17252, 17268, 17274, 17288, 17299, 17321, 17336, 17369,\n",
       "       17375, 17382, 17385, 17433, 17451, 17462, 17503, 17510, 17519,\n",
       "       17530, 17576, 17634, 17643, 17665, 17672, 17690, 17691, 17697,\n",
       "       17699, 17707, 17713, 17743, 17745, 17836, 17845, 17864, 17868,\n",
       "       17890, 17914, 17916, 17919, 17924, 17946, 17949, 17957, 17982,\n",
       "       17984, 17995, 18015, 18018, 18042, 18067, 18103, 18105, 18106,\n",
       "       18108, 18122, 18161, 18221, 18274, 18279, 18293, 18309, 18327,\n",
       "       18352, 18360, 18376, 18415, 18426, 18432, 18459, 18501, 18517,\n",
       "       18555, 18587, 18630, 18634, 18643, 18645, 18649, 18659, 18666,\n",
       "       18700, 18702, 18709, 18721, 18739, 18753, 18764, 18786, 18816,\n",
       "       18830, 18836, 18843, 18849, 18856, 18896, 18906, 18907, 18909,\n",
       "       18914, 18918, 18922, 18927, 18949, 18956, 18960, 19006, 19014,\n",
       "       19026, 19046, 19059, 19080, 19091, 19106, 19117, 19121, 19129,\n",
       "       19162, 19189, 19226, 19239, 19271, 19289, 19296, 19318, 19336,\n",
       "       19360, 19365, 19381, 19415, 19416, 19431, 19438, 19439, 19475,\n",
       "       19476, 19480, 19489, 19494, 19495, 19515, 19544, 19572, 19573,\n",
       "       19577, 19595, 19606, 19629, 19641, 19679, 19703, 19731, 19751,\n",
       "       19787, 19825, 19915, 19930, 19938, 19970, 20005, 20040, 20055,\n",
       "       20076, 20086, 20117, 20119, 20122, 20130, 20156, 20158, 20177,\n",
       "       20181, 20193, 20203, 20208, 20215, 20217, 20223, 20278, 20295,\n",
       "       20350, 20365, 20369, 20371, 20380, 20392, 20402, 20408, 20421,\n",
       "       20460, 20461, 20492, 20538, 20544, 20562, 20607, 20616, 20634,\n",
       "       20646, 20658, 20696, 20707, 20735, 20737, 20766, 20774, 20794,\n",
       "       20800, 20814, 20818, 20826, 20830, 20839, 20871, 20903, 20918,\n",
       "       20919, 20936, 20938, 20948, 21015, 21022, 21044, 21059, 21078,\n",
       "       21092, 21115, 21116, 21117, 21127, 21153, 21157, 21184, 21212,\n",
       "       21247, 21251, 21262, 21295, 21296, 21302, 21322, 21334, 21364,\n",
       "       21368, 21373, 21377, 21386, 21414, 21418, 21434, 21448, 21506,\n",
       "       21507, 21512, 21514, 21527, 21576, 21591, 21597, 21607, 21619,\n",
       "       21644, 21652, 21667, 21677, 21678, 21702, 21705, 21722, 21727,\n",
       "       21760, 21777, 21815, 21823, 21873, 21882, 21889, 21903, 21924,\n",
       "       21953, 21983, 21988, 22001, 22007, 22015, 22047, 22058, 22070,\n",
       "       22086, 22096, 22123, 22133, 22145, 22178, 22193, 22219, 22226,\n",
       "       22231, 22235, 22287, 22308, 22312, 22316, 22355, 22418, 22420,\n",
       "       22432, 22445, 22457, 22512, 22530, 22538, 22560, 22575, 22578,\n",
       "       22601, 22637, 22642, 22662, 22663, 22670, 22696, 22718, 22725,\n",
       "       22727, 22750, 22784, 22785, 22786, 22813, 22842, 22853, 22855,\n",
       "       22887, 22893, 22910, 22941, 22953, 22955, 22964, 22994, 23002,\n",
       "       23018, 23024, 23051, 23057, 23061, 23075, 23086, 23149, 23174,\n",
       "       23178, 23196, 23200, 23203, 23236, 23302, 23304, 23316, 23347,\n",
       "       23354, 23363, 23379, 23391, 23392, 23402, 23418, 23421, 23445,\n",
       "       23455, 23472, 23476, 23477, 23500, 23503, 23507, 23573, 23580,\n",
       "       23589, 23652, 23657, 23662, 23689, 23705, 23711, 23713, 23714,\n",
       "       23721, 23808, 23830, 23844, 23898, 23899, 23904, 23914, 23948,\n",
       "       23992, 24037, 24058, 24059, 24088, 24095, 24102, 24130, 24131,\n",
       "       24139, 24141, 24144, 24148, 24218, 24244, 24246, 24294, 24300,\n",
       "       24311, 24312, 24313, 24344, 24402])"
      ]
     },
     "execution_count": 23,
     "metadata": {},
     "output_type": "execute_result"
    }
   ],
   "source": [
    "generate_random_user_ids(1000, 1500)"
   ]
  },
  {
   "cell_type": "markdown",
   "metadata": {},
   "source": [
    "### Details about a specific customer"
   ]
  },
  {
   "cell_type": "code",
   "execution_count": 24,
   "metadata": {},
   "outputs": [],
   "source": [
    "# ids I like -> 28812, 56514, 56520, 1488844\n",
    "customer_id_use = 84100"
   ]
  },
  {
   "cell_type": "code",
   "execution_count": 25,
   "metadata": {},
   "outputs": [
    {
     "data": {
      "text/html": [
       "<div>\n",
       "<style scoped>\n",
       "    .dataframe tbody tr th:only-of-type {\n",
       "        vertical-align: middle;\n",
       "    }\n",
       "\n",
       "    .dataframe tbody tr th {\n",
       "        vertical-align: top;\n",
       "    }\n",
       "\n",
       "    .dataframe thead th {\n",
       "        text-align: right;\n",
       "    }\n",
       "</style>\n",
       "<table border=\"1\" class=\"dataframe\">\n",
       "  <thead>\n",
       "    <tr style=\"text-align: right;\">\n",
       "      <th></th>\n",
       "      <th>movie_id</th>\n",
       "      <th>customer_id</th>\n",
       "      <th>rating</th>\n",
       "      <th>movie_year</th>\n",
       "      <th>movie_title</th>\n",
       "    </tr>\n",
       "  </thead>\n",
       "  <tbody>\n",
       "    <tr>\n",
       "      <th>141847</th>\n",
       "      <td>30</td>\n",
       "      <td>84100</td>\n",
       "      <td>5.0</td>\n",
       "      <td>2003.0</td>\n",
       "      <td>Something's Gotta Give</td>\n",
       "    </tr>\n",
       "  </tbody>\n",
       "</table>\n",
       "</div>"
      ],
      "text/plain": [
       "        movie_id  customer_id  rating  movie_year             movie_title\n",
       "141847        30        84100     5.0      2003.0  Something's Gotta Give"
      ]
     },
     "execution_count": 25,
     "metadata": {},
     "output_type": "execute_result"
    }
   ],
   "source": [
    "#all_custumers_id_rows(customer_id=customer_id_use)\n",
    "## same as line above but including movie_year and movie_title\n",
    "all_customers_id_plus_movie_title_rows(customer_id=customer_id_use)"
   ]
  },
  {
   "cell_type": "code",
   "execution_count": 26,
   "metadata": {},
   "outputs": [
    {
     "data": {
      "text/plain": [
       "5287    5.0\n",
       "Name: avg_rating, dtype: float64"
      ]
     },
     "execution_count": 26,
     "metadata": {},
     "output_type": "execute_result"
    }
   ],
   "source": [
    "get_users_avg_rating(customer_id=customer_id_use)"
   ]
  },
  {
   "cell_type": "code",
   "execution_count": 27,
   "metadata": {},
   "outputs": [
    {
     "name": "stdout",
     "output_type": "stream",
     "text": [
      "                     movie_title  rating\n",
      "movie_id                                \n",
      "30        Something's Gotta Give     5.0\n",
      "average rating 5287    5.0\n",
      "Name: avg_rating, dtype: float64\n"
     ]
    }
   ],
   "source": [
    "display_movies_customer_rated_higher_than(customer_id=customer_id_use, min_rating=4)"
   ]
  },
  {
   "cell_type": "code",
   "execution_count": 28,
   "metadata": {},
   "outputs": [
    {
     "name": "stdout",
     "output_type": "stream",
     "text": [
      "Empty DataFrame\n",
      "Columns: [movie_title, rating]\n",
      "Index: []\n",
      "average rating 5287    5.0\n",
      "Name: avg_rating, dtype: float64\n"
     ]
    }
   ],
   "source": [
    "display_movies_customer_rated_lower_than(customer_id=customer_id_use, max_rating=4)"
   ]
  },
  {
   "cell_type": "code",
   "execution_count": 29,
   "metadata": {},
   "outputs": [
    {
     "name": "stdout",
     "output_type": "stream",
     "text": [
      "User 84100 loved these movies\n",
      "Something's Gotta Give\n",
      "\n",
      "and disliked these movies\n"
     ]
    }
   ],
   "source": [
    "get_users_loved_hated_movies(customer_id=customer_id_use, minmax_rating=4)"
   ]
  },
  {
   "cell_type": "code",
   "execution_count": 30,
   "metadata": {},
   "outputs": [
    {
     "data": {
      "text/html": [
       "<div>\n",
       "<style scoped>\n",
       "    .dataframe tbody tr th:only-of-type {\n",
       "        vertical-align: middle;\n",
       "    }\n",
       "\n",
       "    .dataframe tbody tr th {\n",
       "        vertical-align: top;\n",
       "    }\n",
       "\n",
       "    .dataframe thead th {\n",
       "        text-align: right;\n",
       "    }\n",
       "</style>\n",
       "<table border=\"1\" class=\"dataframe\">\n",
       "  <thead>\n",
       "    <tr style=\"text-align: right;\">\n",
       "      <th></th>\n",
       "      <th>movie_id</th>\n",
       "      <th>customer_id</th>\n",
       "      <th>rating</th>\n",
       "    </tr>\n",
       "  </thead>\n",
       "  <tbody>\n",
       "    <tr>\n",
       "      <th>0</th>\n",
       "      <td>1</td>\n",
       "      <td>1488844</td>\n",
       "      <td>3.0</td>\n",
       "    </tr>\n",
       "    <tr>\n",
       "      <th>1</th>\n",
       "      <td>1</td>\n",
       "      <td>822109</td>\n",
       "      <td>5.0</td>\n",
       "    </tr>\n",
       "    <tr>\n",
       "      <th>2</th>\n",
       "      <td>1</td>\n",
       "      <td>885013</td>\n",
       "      <td>4.0</td>\n",
       "    </tr>\n",
       "    <tr>\n",
       "      <th>3</th>\n",
       "      <td>1</td>\n",
       "      <td>30878</td>\n",
       "      <td>4.0</td>\n",
       "    </tr>\n",
       "    <tr>\n",
       "      <th>4</th>\n",
       "      <td>1</td>\n",
       "      <td>823519</td>\n",
       "      <td>3.0</td>\n",
       "    </tr>\n",
       "    <tr>\n",
       "      <th>...</th>\n",
       "      <td>...</td>\n",
       "      <td>...</td>\n",
       "      <td>...</td>\n",
       "    </tr>\n",
       "    <tr>\n",
       "      <th>249995</th>\n",
       "      <td>52</td>\n",
       "      <td>1691722</td>\n",
       "      <td>4.0</td>\n",
       "    </tr>\n",
       "    <tr>\n",
       "      <th>249996</th>\n",
       "      <td>52</td>\n",
       "      <td>1034571</td>\n",
       "      <td>5.0</td>\n",
       "    </tr>\n",
       "    <tr>\n",
       "      <th>249997</th>\n",
       "      <td>52</td>\n",
       "      <td>684917</td>\n",
       "      <td>4.0</td>\n",
       "    </tr>\n",
       "    <tr>\n",
       "      <th>249998</th>\n",
       "      <td>52</td>\n",
       "      <td>1810496</td>\n",
       "      <td>2.0</td>\n",
       "    </tr>\n",
       "    <tr>\n",
       "      <th>249999</th>\n",
       "      <td>52</td>\n",
       "      <td>1914525</td>\n",
       "      <td>4.0</td>\n",
       "    </tr>\n",
       "  </tbody>\n",
       "</table>\n",
       "<p>250000 rows × 3 columns</p>\n",
       "</div>"
      ],
      "text/plain": [
       "        movie_id  customer_id  rating\n",
       "0              1      1488844     3.0\n",
       "1              1       822109     5.0\n",
       "2              1       885013     4.0\n",
       "3              1        30878     4.0\n",
       "4              1       823519     3.0\n",
       "...          ...          ...     ...\n",
       "249995        52      1691722     4.0\n",
       "249996        52      1034571     5.0\n",
       "249997        52       684917     4.0\n",
       "249998        52      1810496     2.0\n",
       "249999        52      1914525     4.0\n",
       "\n",
       "[250000 rows x 3 columns]"
      ]
     },
     "execution_count": 30,
     "metadata": {},
     "output_type": "execute_result"
    }
   ],
   "source": [
    "\n",
    "data_rating"
   ]
  },
  {
   "cell_type": "markdown",
   "metadata": {},
   "source": [
    "## Recommendations with collaborative filtering"
   ]
  },
  {
   "cell_type": "code",
   "execution_count": 31,
   "metadata": {},
   "outputs": [],
   "source": [
    "def build_training_set(df):\n",
    "    reader = Reader()\n",
    "    svd = SVD()\n",
    "    data_new = Dataset.load_from_df(df[['customer_id', 'movie_id', 'rating']], reader)\n",
    "    trainset = data_new.build_full_trainset()\n",
    "    svd.fit(trainset)\n",
    "    return trainset, svd\n",
    "\n",
    "def get_summary(type=\"movie_id\"):\n",
    "    #>IF MOVIE:  movie_id, movie rating count, movie rating mean\n",
    "    #>IF CUSTOMER: customer_id, custumer rating count, customer rating mean\n",
    "    df_count_mean_summary = data_rating.groupby(type)['rating'].agg(['count', 'mean'])\n",
    "    df_count_mean_summary.index = df_count_mean_summary.index.map(int)\n",
    "    #>IF MOVIE: returns 1799.0 as a benchmark number\n",
    "    #IF CUSTOMER: returns 52.0 as a benchmark number\n",
    "    benchmark = round(df_count_mean_summary['count'].quantile(0.7),0)\n",
    "    # drop all rows below benchmark\n",
    "    df_drop_list = df_count_mean_summary[df_count_mean_summary['count'] < benchmark]\n",
    "    # return all indexes to drop\n",
    "    return df_drop_list\n",
    "\n",
    "def get_customer_recommendations(customer_id, predictor):\n",
    "    #> returns movie_id, movie_year, movie_title\n",
    "    chosen_customer_pred = data_movies.copy()\n",
    "    # fails if movie_id is the index so we have to reset the index back to normal (0-N)\n",
    "    chosen_customer_pred = chosen_customer_pred.reset_index()\n",
    "    # makes sure that we only pick movies that are not in the movie dropped list\n",
    "    chosen_customer_pred = chosen_customer_pred[~chosen_customer_pred['movie_id'].isin(df_movie_drop_list)]\n",
    "    # make prediction for customer with id = <customer_id> and put it into 'estimated_score'\n",
    "    chosen_customer_pred['estimated_score'] = chosen_customer_pred['movie_id'].apply(lambda x: predictor.predict(customer_id, x).est)\n",
    "    # sort by 'estimated score'\n",
    "    chosen_customer_pred = chosen_customer_pred.sort_values('estimated_score', ascending=False).set_index('movie_id')\n",
    "    return chosen_customer_pred\n",
    "\n",
    "def display_rated_content(customer_id=customer_id_use, number_to_show=20):\n",
    "    print(\"Movies/TV Shows rated by customer\", customer_id)\n",
    "    df = all_customers_id_plus_movie_title_rows(customer_id=customer_id)\n",
    "    df = df[['movie_title', 'rating']].sort_values('rating', ascending=False)\n",
    "    print(df[0:number_to_show].set_index('movie_title'))\n",
    "\n",
    "def display_customers_recommendations(customer_id=customer_id_use, df=[], number_to_show=20):\n",
    "    print(\"Movies/TV Shows recommended to customer\")\n",
    "    print(df[['movie_title', 'estimated_score']][0:number_to_show].set_index('movie_title'))\n",
    "\n",
    "def display_history_plus_recommended(customer_id=customer_id_use, number_to_show=25):\n",
    "    display_rated_content(customer_id=customer_id, number_to_show=number_to_show)\n",
    "    chosen_customer_pred = get_customer_recommendations(customer_id=customer_id, predictor=svd)\n",
    "    display_customers_recommendations(customer_id=customer_id, df=chosen_customer_pred, number_to_show=number_to_show)\n",
    "\n",
    "def get_evaluation_and_svd(use_pickle=True):\n",
    "    evaluationData_file_name = \"evaluationData_build_training_set\"\n",
    "    svd_file_name = \"svd_build_training_set\"\n",
    "    if(use_pickle == True):\n",
    "        evaluationData = load_pickle(evaluationData_file_name)\n",
    "        svd = load_pickle(svd_file_name)\n",
    "        return evaluationData, svd\n",
    "    else:\n",
    "        evaluationData, svd = build_training_set(data_rating)\n",
    "        save_to_pickle(evaluationData_file_name, evaluationData)\n",
    "        save_to_pickle(svd_file_name, svd)\n",
    "        return evaluationData, svd"
   ]
  },
  {
   "cell_type": "code",
   "execution_count": 32,
   "metadata": {},
   "outputs": [],
   "source": [
    "evaluationData, svd = get_evaluation_and_svd(use_pickle=use_pickle_file)"
   ]
  },
  {
   "cell_type": "code",
   "execution_count": 33,
   "metadata": {},
   "outputs": [],
   "source": [
    "## creating a list of the movies that we don't wanna include\n",
    "df_movie_drop_list = get_summary(type=\"movie_id\")\n",
    "#df_customer_drop_list = get_summary(type=\"customer_id\")"
   ]
  },
  {
   "cell_type": "code",
   "execution_count": 34,
   "metadata": {},
   "outputs": [
    {
     "name": "stdout",
     "output_type": "stream",
     "text": [
      "Movies/TV Shows rated by customer 79724\n",
      "                            rating\n",
      "movie_title                       \n",
      "What the #$*! Do We Know!?     4.0\n",
      "Movies/TV Shows recommended to customer\n",
      "                                                    estimated_score\n",
      "movie_title                                                        \n",
      "Aqua Teen Hunger Force: Vol. 1                             5.000000\n",
      "Lord of the Rings: The Return of the King: Exte...         4.490710\n",
      "Rudolph the Red-Nosed Reindeer                             4.346710\n",
      "ABC Primetime: Mel Gibson's The Passion of the ...         4.163294\n",
      "The Weather Underground                                    4.129848\n",
      "Boycott                                                    4.119695\n",
      "Zatoichi's Conspiracy                                      4.085259\n",
      "Inspector Morse 31: Death Is Now My Neighbour              4.072674\n",
      "The Rise and Fall of ECW                                   4.014325\n",
      "Lilo and Stitch                                            3.900466\n"
     ]
    }
   ],
   "source": [
    "display_history_plus_recommended(customer_id=79724, number_to_show=10)"
   ]
  },
  {
   "cell_type": "code",
   "execution_count": 35,
   "metadata": {},
   "outputs": [
    {
     "name": "stdout",
     "output_type": "stream",
     "text": [
      "Movies/TV Shows rated by customer 84100\n",
      "                        rating\n",
      "movie_title                   \n",
      "Something's Gotta Give     5.0\n",
      "Movies/TV Shows recommended to customer\n",
      "                                                    estimated_score\n",
      "movie_title                                                        \n",
      "Lord of the Rings: The Return of the King: Exte...         4.657058\n",
      "Spitfire Grill                                             4.183466\n",
      "Zatoichi's Conspiracy                                      4.096977\n",
      "Aqua Teen Hunger Force: Vol. 1                             4.050542\n",
      "ABC Primetime: Mel Gibson's The Passion of the ...         4.047677\n",
      "Inspector Morse 31: Death Is Now My Neighbour              4.040900\n",
      "Dinosaur Planet                                            3.982314\n",
      "Lilo and Stitch                                            3.953918\n",
      "The Rise and Fall of ECW                                   3.922879\n",
      "Immortal Beloved                                           3.896705\n"
     ]
    }
   ],
   "source": [
    "display_history_plus_recommended(customer_id=customer_id_use, number_to_show=10)"
   ]
  },
  {
   "cell_type": "code",
   "execution_count": 36,
   "metadata": {},
   "outputs": [],
   "source": [
    "#TODO:\n",
    "#for the new user problem\n",
    "## find highest rated movie / tv shows that have been watched the most -> how likely is new user to click on it ?"
   ]
  },
  {
   "cell_type": "markdown",
   "metadata": {},
   "source": [
    "## SOMETHING"
   ]
  },
  {
   "cell_type": "code",
   "execution_count": 37,
   "metadata": {},
   "outputs": [],
   "source": [
    "from surprise import dataset\n",
    "from surprise import KNNBaseline\n",
    "from surprise.model_selection import train_test_split \n",
    "from surprise.model_selection import LeaveOneOut\n",
    "from surprise import accuracy"
   ]
  },
  {
   "cell_type": "code",
   "execution_count": 38,
   "metadata": {},
   "outputs": [],
   "source": [
    "def build_training_set_same_as_above(df):\n",
    "    reader = Reader()\n",
    "    svd = SVD()\n",
    "    data_new = Dataset.load_from_df(df[['customer_id', 'movie_id', 'rating']], reader)\n",
    "    trainset = data_new.build_full_trainset()\n",
    "    svd.fit(trainset)\n",
    "    return trainset, svd\n",
    "\n",
    "def print_evaluation_accuracy(prediction):\n",
    "    print(\"\\nEvaluating accuracy of model...\")\n",
    "    print(\"RMSE: \", accuracy.rmse(prediction, verbose=False))\n",
    "    print(\"MAE: \", accuracy.mae(prediction, verbose=False))"
   ]
  },
  {
   "cell_type": "code",
   "execution_count": 39,
   "metadata": {},
   "outputs": [
    {
     "name": "stdout",
     "output_type": "stream",
     "text": [
      "\n",
      "Building recommendation model...\n"
     ]
    }
   ],
   "source": [
    "reader = Reader(line_format='user item rating', rating_scale=(1, 5))\n",
    "class convert_to_raw_ratings(dataset.DatasetAutoFolds):\n",
    "    def __init__(self, df, reader):\n",
    "        self.raw_ratings = [(uid, iid, r, None) for (uid, iid, r) in zip(df['customer_id'], df['movie_id'], df['rating'])]\n",
    "        self.reader=reader\n",
    "\n",
    "raw_ratings = convert_to_raw_ratings(data_rating, reader)\n",
    "print(\"\\nBuilding recommendation model...\")\n",
    "trainSet, testSet = train_test_split(raw_ratings, test_size=.25, random_state=1)"
   ]
  },
  {
   "cell_type": "code",
   "execution_count": 40,
   "metadata": {},
   "outputs": [
    {
     "name": "stdout",
     "output_type": "stream",
     "text": [
      "\n",
      "Computing recommendations...\n"
     ]
    }
   ],
   "source": [
    "algo = SVD(random_state=10)\n",
    "algo.fit(trainSet)\n",
    "\n",
    "print(\"\\nComputing recommendations...\")\n",
    "predictions = algo.test(testSet)"
   ]
  },
  {
   "cell_type": "code",
   "execution_count": 41,
   "metadata": {},
   "outputs": [
    {
     "name": "stdout",
     "output_type": "stream",
     "text": [
      "Evaluating RMSE, MAE of algorithm SVD on 5 split(s).\n",
      "\n",
      "                  Fold 1  Fold 2  Fold 3  Fold 4  Fold 5  Mean    Std     \n",
      "RMSE (testset)    1.0061  1.0043  1.0051  1.0122  1.0058  1.0067  0.0028  \n",
      "MAE (testset)     0.7860  0.7829  0.7833  0.7908  0.7856  0.7857  0.0028  \n",
      "Fit time          9.53    9.23    9.23    9.33    9.30    9.33    0.11    \n",
      "Test time         0.47    0.45    0.25    0.24    0.25    0.33    0.11    \n"
     ]
    },
    {
     "data": {
      "text/plain": [
       "{'test_rmse': array([1.00611476, 1.00434891, 1.00505026, 1.0121597 , 1.00580061]),\n",
       " 'test_mae': array([0.78603597, 0.78290394, 0.78333974, 0.79077806, 0.78558601]),\n",
       " 'fit_time': (9.53354024887085,\n",
       "  9.234821557998657,\n",
       "  9.22996187210083,\n",
       "  9.327168464660645,\n",
       "  9.304248332977295),\n",
       " 'test_time': (0.47446417808532715,\n",
       "  0.4479801654815674,\n",
       "  0.24709725379943848,\n",
       "  0.23809337615966797,\n",
       "  0.2474501132965088)}"
      ]
     },
     "execution_count": 41,
     "metadata": {},
     "output_type": "execute_result"
    }
   ],
   "source": [
    "cross_validate(algo,  raw_ratings, cv=5, verbose=True)"
   ]
  },
  {
   "cell_type": "code",
   "execution_count": 42,
   "metadata": {},
   "outputs": [
    {
     "name": "stdout",
     "output_type": "stream",
     "text": [
      "\n",
      "Evaluating accuracy of model...\n",
      "RMSE:  1.0100800835447845\n",
      "MAE:  0.7994188019027819\n"
     ]
    }
   ],
   "source": [
    "print_evaluation_accuracy(predictions)"
   ]
  },
  {
   "cell_type": "code",
   "execution_count": 43,
   "metadata": {},
   "outputs": [
    {
     "name": "stdout",
     "output_type": "stream",
     "text": [
      "\n",
      "Evaluating accuracy of model...\n",
      "RMSE:  0.7603538739190463\n",
      "MAE:  0.5983802863056151\n"
     ]
    }
   ],
   "source": [
    "print_evaluation_accuracy(svd.test(testSet))"
   ]
  },
  {
   "cell_type": "markdown",
   "metadata": {},
   "source": [
    "## other"
   ]
  },
  {
   "cell_type": "code",
   "execution_count": 44,
   "metadata": {},
   "outputs": [],
   "source": [
    "reader = Reader(line_format='user item rating', rating_scale=(1, 5))\n",
    "dataset = Dataset.load_from_df(data_rating[['customer_id', 'movie_id', 'rating']], reader)\n",
    "trainset = dataset.build_full_trainset()"
   ]
  },
  {
   "cell_type": "code",
   "execution_count": 45,
   "metadata": {},
   "outputs": [],
   "source": [
    "tmp_data_movies = data_movies[['movie_id', 'movie_title']]\n",
    "tmp_data_movies = tmp_data_movies.set_index('movie_id').T\n",
    "tmp_data_movies = tmp_data_movies.to_dict('list')\n",
    "tmp_data_movies = {k: str(v[0]) for k,v in tmp_data_movies.items()}"
   ]
  },
  {
   "cell_type": "code",
   "execution_count": 46,
   "metadata": {},
   "outputs": [
    {
     "name": "stdout",
     "output_type": "stream",
     "text": [
      "Computing the cosine similarity matrix...\n",
      "Done computing similarity matrix.\n",
      "Computing the cosine similarity matrix...\n",
      "Done computing similarity matrix.\n"
     ]
    }
   ],
   "source": [
    "similarity_matrix = KNNBasic(sim_options={'name': 'cosine', 'user_based': False}).fit(trainset).compute_similarities()"
   ]
  },
  {
   "cell_type": "code",
   "execution_count": 47,
   "metadata": {},
   "outputs": [],
   "source": [
    "# generate_random_user_ids(1000, 1500)"
   ]
  },
  {
   "cell_type": "code",
   "execution_count": 48,
   "metadata": {},
   "outputs": [],
   "source": [
    "# for i in generate_random_user_ids(1000, 1500):\n",
    "#     if (len(all_custumers_id_rows(i)) > 3):\n",
    "#         print(i)"
   ]
  },
  {
   "cell_type": "code",
   "execution_count": 49,
   "metadata": {},
   "outputs": [],
   "source": [
    "test_subject = 16272\n",
    "k = 10"
   ]
  },
  {
   "cell_type": "code",
   "execution_count": 50,
   "metadata": {},
   "outputs": [],
   "source": [
    "test_subject_iid = trainset.to_inner_uid(test_subject)\n",
    "\n",
    "test_subject_ratings = trainset.ur[test_subject_iid]\n",
    "k_neighbours = heapq.nlargest(k, test_subject_ratings, key=lambda t: t[1])"
   ]
  },
  {
   "cell_type": "code",
   "execution_count": 51,
   "metadata": {},
   "outputs": [],
   "source": [
    "candidates = defaultdict(float)\n",
    "\n",
    "for itemID, rating in k_neighbours:\n",
    "    try:\n",
    "        similarities = similarity_matrix[itemID]\n",
    "        for innerID, score in enumerate(similarities):\n",
    "            candidates[innerID] += score * (rating / 5.0)\n",
    "    except:\n",
    "        continue"
   ]
  },
  {
   "cell_type": "code",
   "execution_count": 52,
   "metadata": {},
   "outputs": [],
   "source": [
    "def getMovieName(movieID):\n",
    "  if int(movieID) in tmp_data_movies:\n",
    "    return tmp_data_movies[int(movieID)]\n",
    "  else:\n",
    "      return \"\""
   ]
  },
  {
   "cell_type": "code",
   "execution_count": 53,
   "metadata": {},
   "outputs": [
    {
     "name": "stdout",
     "output_type": "stream",
     "text": [
      "Movie:  The Weather Underground\n",
      "Movie:  Full Frame: Documentary Shorts\n",
      "Movie:  Searching for Paradise\n",
      "Movie:  Isle of Man TT 2004 Review\n",
      "Movie:  Inspector Morse 31: Death Is Now My Neighbour\n",
      "Movie:  Zatoichi's Conspiracy\n",
      "Movie:  My Favorite Brunette\n",
      "Movie:  Ashtanga Yoga: Beginner's Practice with Nicki Doane\n",
      "Movie:  ABC Primetime: Mel Gibson's The Passion of the Christ\n",
      "Movie:  Boycott\n",
      "Movie:  Rudolph the Red-Nosed Reindeer\n"
     ]
    }
   ],
   "source": [
    "watched = {}\n",
    "for itemID, rating in trainset.ur[test_subject_iid]:\n",
    "    watched[itemID] = 1\n",
    "\n",
    "recommendations = []\n",
    "position = 0\n",
    "for itemID, rating_sum in sorted(candidates.items(), key=itemgetter(1), reverse=True):\n",
    "    if not itemID in watched:\n",
    "        recommendations.append(getMovieName(trainset.to_raw_iid(itemID)))\n",
    "        position += 1\n",
    "        # only want top n which in our case in 10\n",
    "        if(position > 10): break\n",
    "\n",
    "for rec in recommendations:\n",
    "    print(\"Movie: \", rec)\n"
   ]
  },
  {
   "cell_type": "markdown",
   "metadata": {},
   "source": []
  },
  {
   "cell_type": "code",
   "execution_count": 54,
   "metadata": {},
   "outputs": [],
   "source": [
    "# #TODO: keep or throw away since it's never used\n",
    "# sim_options = {'name': 'pearson_baseline', 'user_based': False}\n",
    "# simsAlgo = KNNBaseline(sim_options=sim_options)\n",
    "# simsAlgo.fit(evaluationData)"
   ]
  },
  {
   "cell_type": "code",
   "execution_count": null,
   "metadata": {},
   "outputs": [],
   "source": []
  }
 ],
 "metadata": {
  "interpreter": {
   "hash": "eb60acc68106785d00a40fb3b1b3b80d861e6f0b0d60f9d8440fa3d46ca2822c"
  },
  "kernelspec": {
   "display_name": "Python 3.8.8 64-bit ('base': conda)",
   "name": "python3"
  },
  "language_info": {
   "codemirror_mode": {
    "name": "ipython",
    "version": 3
   },
   "file_extension": ".py",
   "mimetype": "text/x-python",
   "name": "python",
   "nbconvert_exporter": "python",
   "pygments_lexer": "ipython3",
   "version": "3.8.5"
  },
  "orig_nbformat": 2
 },
 "nbformat": 4,
 "nbformat_minor": 2
}
