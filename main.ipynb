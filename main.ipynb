{
 "cells": [
  {
   "cell_type": "code",
   "execution_count": 4,
   "metadata": {},
   "outputs": [],
   "source": [
    "#!pip install surprise\n",
    "#!pip install import-ipynb\n",
    "import os\n",
    "import csv\n",
    "import pandas as pd\n",
    "import numpy as np\n",
    "import heapq\n",
    "import matplotlib.pyplot as plt\n",
    "import seaborn as sns\n",
    "from surprise import Reader, Dataset, SVD\n",
    "from surprise.model_selection import cross_validate\n",
    "import pickle\n",
    "from surprise import accuracy\n",
    "from collections import defaultdict\n",
    "from surprise import KNNBasic\n",
    "from collections import defaultdict\n",
    "from operator import itemgetter\n",
    "import NetflixLoadData as NetflixLoadData\n",
    "#sns.set_style(\"darkgrid\")"
   ]
  },
  {
   "cell_type": "markdown",
   "metadata": {},
   "source": [
    "## Get data"
   ]
  },
  {
   "cell_type": "code",
   "execution_count": 5,
   "metadata": {},
   "outputs": [],
   "source": [
    "use_pickle_file = True\n",
    "max_n = 5000000 #how many rows we want from data_ratings and data_rating_plus_movie_title\n",
    "reader = Reader(line_format='user item rating', rating_scale=(1, 5))"
   ]
  },
  {
   "cell_type": "markdown",
   "metadata": {},
   "source": [
    "in these txt files the movie_id's have been placed amongst the customer_id's, which means that we have to split that column into two, we do this by taking all ratings that are equal to NaN \n",
    "( meaning that we are now refering to a movie and not a customer ) and from there we split it into two columns."
   ]
  },
  {
   "cell_type": "code",
   "execution_count": 6,
   "metadata": {},
   "outputs": [
    {
     "name": "stderr",
     "output_type": "stream",
     "text": [
      "/home/ragnar/netflix-recommendation/NetflixLoadData.py:82: FutureWarning: The default value of regex will change from True to False in a future version. In addition, single character regular expressions will*not* be treated as literal strings when regex=True.\n",
      "  data_movies_categorize_split[1] = data_movies_categorize_split[1].str.replace(r')', '') #removing ) at the end of movie_year\n",
      "/home/ragnar/netflix-recommendation/NetflixLoadData.py:88: SettingWithCopyWarning: \n",
      "A value is trying to be set on a copy of a slice from a DataFrame.\n",
      "Try using .loc[row_indexer,col_indexer] = value instead\n",
      "\n",
      "See the caveats in the documentation: https://pandas.pydata.org/pandas-docs/stable/user_guide/indexing.html#returning-a-view-versus-a-copy\n",
      "  data_movies_categorize_cleaned[\"movie_year\"] = data_movies_categorize_cleaned[\"movie_year\"].astype(float)\n"
     ]
    }
   ],
   "source": [
    "data_movies, tmp_data_rating, tmp_data_rating_plus_movie_title, data_movies_categorized = NetflixLoadData.get_dataframes(use_pickle=use_pickle_file)"
   ]
  },
  {
   "cell_type": "code",
   "execution_count": 7,
   "metadata": {},
   "outputs": [],
   "source": [
    "data_rating, data_rating_plus_movie_title = NetflixLoadData.get_sample_of_data(tmp_data_rating, tmp_data_rating_plus_movie_title, max_n=max_n)"
   ]
  },
  {
   "cell_type": "markdown",
   "metadata": {},
   "source": [
    "## Helper functions"
   ]
  },
  {
   "cell_type": "code",
   "execution_count": 8,
   "metadata": {},
   "outputs": [],
   "source": [
    "def save_to_pickle(name, df):\n",
    "    path_name = \"pickle/\"+name+\".pickle\"\n",
    "    pickle_file = open(path_name,\"wb\")\n",
    "    pickle.dump(df, pickle_file)\n",
    "    pickle_file.close()\n",
    "\n",
    "def load_pickle(name):\n",
    "    path_name = \"pickle/\"+name+\".pickle\"\n",
    "    return_input = open(path_name, \"rb\")\n",
    "    return pickle.load(return_input)"
   ]
  },
  {
   "cell_type": "markdown",
   "metadata": {},
   "source": [
    "## Finding information about the data before doing anything major"
   ]
  },
  {
   "cell_type": "code",
   "execution_count": 9,
   "metadata": {},
   "outputs": [],
   "source": [
    "import MovieCustomerInformation as information\n",
    "max_rating = 4\n",
    "min_rating = 4"
   ]
  },
  {
   "cell_type": "markdown",
   "metadata": {},
   "source": [
    "### Details about all customers/movies"
   ]
  },
  {
   "cell_type": "code",
   "execution_count": 10,
   "metadata": {},
   "outputs": [
    {
     "name": "stdout",
     "output_type": "stream",
     "text": [
      "       customer_id rating       avg_rating\n",
      "                      sum count           \n",
      "0                6   95.0    28   3.392857\n",
      "1                7  159.0    37   4.297297\n",
      "2               10   40.0    12   3.333333\n",
      "3               25    7.0     2   3.500000\n",
      "4               33    9.0     3   3.000000\n",
      "...            ...    ...   ...        ...\n",
      "404473     2649401   11.0     3   3.666667\n",
      "404474     2649404   12.0     3   4.000000\n",
      "404475     2649409   15.0     4   3.750000\n",
      "404476     2649426   65.0    15   4.333333\n",
      "404477     2649429   56.0    14   4.000000\n",
      "\n",
      "[404478 rows x 4 columns]\n"
     ]
    }
   ],
   "source": [
    "# get the average movie rating for all customers\n",
    "# used to determine if this user typically gives bad or good reviews\n",
    "# and then we can see if he really hates or loves a movie\n",
    "all_customers_average_ratings =  information.all_average_ratings(df=data_rating, type='customer_id')\n",
    "print(all_customers_average_ratings)"
   ]
  },
  {
   "cell_type": "code",
   "execution_count": 11,
   "metadata": {},
   "outputs": [
    {
     "name": "stdout",
     "output_type": "stream",
     "text": [
      "    movie_id   rating        avg_rating\n",
      "                  sum  count           \n",
      "0          1   2051.0    547   3.749543\n",
      "1          2    516.0    145   3.558621\n",
      "2          3   7326.0   2012   3.641153\n",
      "3          4    389.0    142   2.739437\n",
      "4          5   4468.0   1140   3.919298\n",
      "..       ...      ...    ...        ...\n",
      "991      992  24433.0   6210   3.934461\n",
      "992      993  10185.0   3337   3.052143\n",
      "993      994  42674.0  13253   3.219950\n",
      "994      995    179.0    104   1.721154\n",
      "995      996  17489.0   4323   4.045570\n",
      "\n",
      "[996 rows x 4 columns]\n"
     ]
    }
   ],
   "source": [
    "all_movies_average_rating = information.all_average_ratings(df=data_rating, type='movie_id')\n",
    "print(all_movies_average_rating)"
   ]
  },
  {
   "cell_type": "code",
   "execution_count": 12,
   "metadata": {},
   "outputs": [
    {
     "name": "stdout",
     "output_type": "stream",
     "text": [
      "       customer_id rating       avg_rating\n",
      "                      sum count           \n",
      "0                6   95.0    28   3.392857\n",
      "2               10   40.0    12   3.333333\n",
      "3               25    7.0     2   3.500000\n",
      "4               33    9.0     3   3.000000\n",
      "5               42   22.0     6   3.666667\n",
      "...            ...    ...   ...        ...\n",
      "404468     2649370   49.0    13   3.769231\n",
      "404471     2649378   44.0    14   3.142857\n",
      "404472     2649388   40.0    13   3.076923\n",
      "404473     2649401   11.0     3   3.666667\n",
      "404475     2649409   15.0     4   3.750000\n",
      "\n",
      "[248957 rows x 4 columns]\n"
     ]
    }
   ],
   "source": [
    "information.get_avg_rating_less_than(df=all_customers_average_ratings , max_rating=max_rating)"
   ]
  },
  {
   "cell_type": "code",
   "execution_count": 13,
   "metadata": {},
   "outputs": [
    {
     "name": "stdout",
     "output_type": "stream",
     "text": [
      "       customer_id rating       avg_rating\n",
      "                      sum count           \n",
      "1                7  159.0    37   4.297297\n",
      "6               59   50.0    12   4.166667\n",
      "13             126    5.0     1   5.000000\n",
      "16             134  160.0    34   4.705882\n",
      "19             164   33.0     8   4.125000\n",
      "...            ...    ...   ...        ...\n",
      "404460     2649311   60.0    14   4.285714\n",
      "404464     2649331   46.0    11   4.181818\n",
      "404469     2649375   48.0    11   4.363636\n",
      "404470     2649376   36.0     8   4.500000\n",
      "404476     2649426   65.0    15   4.333333\n",
      "\n",
      "[102021 rows x 4 columns]\n"
     ]
    }
   ],
   "source": [
    "information.get_avg_rating_higher_than(df=all_customers_average_ratings, min_rating=min_rating)"
   ]
  },
  {
   "cell_type": "code",
   "execution_count": 14,
   "metadata": {},
   "outputs": [
    {
     "name": "stdout",
     "output_type": "stream",
     "text": [
      "    movie_id   rating        avg_rating\n",
      "                  sum  count           \n",
      "0          1   2051.0    547   3.749543\n",
      "1          2    516.0    145   3.558621\n",
      "2          3   7326.0   2012   3.641153\n",
      "3          4    389.0    142   2.739437\n",
      "4          5   4468.0   1140   3.919298\n",
      "..       ...      ...    ...        ...\n",
      "990      991   1312.0    359   3.654596\n",
      "991      992  24433.0   6210   3.934461\n",
      "992      993  10185.0   3337   3.052143\n",
      "993      994  42674.0  13253   3.219950\n",
      "994      995    179.0    104   1.721154\n",
      "\n",
      "[939 rows x 4 columns]\n"
     ]
    }
   ],
   "source": [
    "information.get_avg_rating_less_than(df=all_movies_average_rating, max_rating=max_rating)"
   ]
  },
  {
   "cell_type": "code",
   "execution_count": 15,
   "metadata": {},
   "outputs": [
    {
     "name": "stdout",
     "output_type": "stream",
     "text": [
      "    movie_id    rating         avg_rating\n",
      "                   sum   count           \n",
      "12        13     569.0     125   4.552000\n",
      "31        32    7549.0    1854   4.071737\n",
      "32        33   28722.0    6890   4.168650\n",
      "67        68    9180.0    2216   4.142599\n",
      "75        76   12083.0    2954   4.090386\n",
      "84        85    1131.0     266   4.251880\n",
      "105      106    3852.0     940   4.097872\n",
      "134      135    1589.0     384   4.138021\n",
      "166      167   37448.0    9151   4.092230\n",
      "174      175  362148.0   90450   4.003847\n",
      "208      209   18195.0    4373   4.160759\n",
      "214      215   23632.0    5817   4.062575\n",
      "222      223  101595.0   24125   4.211192\n",
      "240      241  179297.0   43122   4.157901\n",
      "252      253   20543.0    5050   4.067921\n",
      "269      270  156266.0   36431   4.289369\n",
      "315      316   10841.0    2520   4.301984\n",
      "324      325    4703.0    1121   4.195361\n",
      "344      345   17165.0    4175   4.111377\n",
      "358      359   19027.0    4580   4.154367\n",
      "420      421    3991.0     987   4.043566\n",
      "429      430    6258.0    1546   4.047865\n",
      "450      451    4632.0    1112   4.165468\n",
      "461      462    3142.0     778   4.038560\n",
      "462      463    9356.0    2286   4.092738\n",
      "470      471   18321.0    4500   4.071333\n",
      "472      473   95197.0   23602   4.033429\n",
      "475      476    8377.0    2027   4.132708\n",
      "493      494  110445.0   27601   4.001485\n",
      "497      498    1147.0     282   4.067376\n",
      "503      504    9515.0    2343   4.061033\n",
      "554      555    4209.0    1050   4.008571\n",
      "559      560    7151.0    1706   4.191676\n",
      "574      575    8602.0    2122   4.053723\n",
      "576      577    8781.0    2094   4.193410\n",
      "594      595    6759.0    1622   4.167078\n",
      "633      634    6359.0    1532   4.150783\n",
      "656      657    7807.0    1930   4.045078\n",
      "662      663    3384.0     811   4.172626\n",
      "709      710    1065.0     257   4.143969\n",
      "711      712    3711.0     898   4.132517\n",
      "721      722   24383.0    5955   4.094542\n",
      "723      724    5391.0    1223   4.408013\n",
      "751      752   36878.0    8669   4.254009\n",
      "773      774   10517.0    2475   4.249293\n",
      "798      799    4489.0    1104   4.066123\n",
      "821      822   15524.0    3812   4.072403\n",
      "824      825   24129.0    5872   4.109162\n",
      "838      839    3774.0     917   4.115594\n",
      "871      872  133090.0   31691   4.199615\n",
      "885      886  454626.0  108606   4.186012\n",
      "888      889   11810.0    2914   4.052848\n",
      "906      907   19679.0    4900   4.016122\n",
      "907      908   46264.0   11038   4.191339\n",
      "932      933    1065.0     263   4.049430\n",
      "934      935    3084.0     726   4.247934\n",
      "995      996   17489.0    4323   4.045570\n"
     ]
    }
   ],
   "source": [
    "information.get_avg_rating_higher_than(df=all_movies_average_rating, min_rating=min_rating)"
   ]
  },
  {
   "cell_type": "code",
   "execution_count": 16,
   "metadata": {},
   "outputs": [
    {
     "data": {
      "text/html": [
       "<div>\n",
       "<style scoped>\n",
       "    .dataframe tbody tr th:only-of-type {\n",
       "        vertical-align: middle;\n",
       "    }\n",
       "\n",
       "    .dataframe tbody tr th {\n",
       "        vertical-align: top;\n",
       "    }\n",
       "\n",
       "    .dataframe thead th {\n",
       "        text-align: right;\n",
       "    }\n",
       "</style>\n",
       "<table border=\"1\" class=\"dataframe\">\n",
       "  <thead>\n",
       "    <tr style=\"text-align: right;\">\n",
       "      <th></th>\n",
       "      <th>customer_id</th>\n",
       "      <th>movie_id</th>\n",
       "    </tr>\n",
       "  </thead>\n",
       "  <tbody>\n",
       "    <tr>\n",
       "      <th>0</th>\n",
       "      <td>6</td>\n",
       "      <td>28</td>\n",
       "    </tr>\n",
       "    <tr>\n",
       "      <th>1</th>\n",
       "      <td>7</td>\n",
       "      <td>37</td>\n",
       "    </tr>\n",
       "    <tr>\n",
       "      <th>2</th>\n",
       "      <td>10</td>\n",
       "      <td>12</td>\n",
       "    </tr>\n",
       "    <tr>\n",
       "      <th>3</th>\n",
       "      <td>25</td>\n",
       "      <td>2</td>\n",
       "    </tr>\n",
       "    <tr>\n",
       "      <th>4</th>\n",
       "      <td>33</td>\n",
       "      <td>3</td>\n",
       "    </tr>\n",
       "    <tr>\n",
       "      <th>...</th>\n",
       "      <td>...</td>\n",
       "      <td>...</td>\n",
       "    </tr>\n",
       "    <tr>\n",
       "      <th>404473</th>\n",
       "      <td>2649401</td>\n",
       "      <td>3</td>\n",
       "    </tr>\n",
       "    <tr>\n",
       "      <th>404474</th>\n",
       "      <td>2649404</td>\n",
       "      <td>3</td>\n",
       "    </tr>\n",
       "    <tr>\n",
       "      <th>404475</th>\n",
       "      <td>2649409</td>\n",
       "      <td>4</td>\n",
       "    </tr>\n",
       "    <tr>\n",
       "      <th>404476</th>\n",
       "      <td>2649426</td>\n",
       "      <td>15</td>\n",
       "    </tr>\n",
       "    <tr>\n",
       "      <th>404477</th>\n",
       "      <td>2649429</td>\n",
       "      <td>14</td>\n",
       "    </tr>\n",
       "  </tbody>\n",
       "</table>\n",
       "<p>404478 rows × 2 columns</p>\n",
       "</div>"
      ],
      "text/plain": [
       "        customer_id  movie_id\n",
       "0                 6        28\n",
       "1                 7        37\n",
       "2                10        12\n",
       "3                25         2\n",
       "4                33         3\n",
       "...             ...       ...\n",
       "404473      2649401         3\n",
       "404474      2649404         3\n",
       "404475      2649409         4\n",
       "404476      2649426        15\n",
       "404477      2649429        14\n",
       "\n",
       "[404478 rows x 2 columns]"
      ]
     },
     "execution_count": 16,
     "metadata": {},
     "output_type": "execute_result"
    }
   ],
   "source": [
    "count_movies_rated_by_customer = information.all_get_rated_count(df=data_rating, type=\"customer_id\")\n",
    "count_movies_rated_by_customer"
   ]
  },
  {
   "cell_type": "code",
   "execution_count": 17,
   "metadata": {},
   "outputs": [],
   "source": [
    "# def generate_random_user_ids(from_n, to_n):\n",
    "#     ids = np.unique(data_rating['customer_id'])[from_n:to_n]\n",
    "#     print(\"random user id used while in development\\n\")\n",
    "#     return ids\n",
    "# generate_random_user_ids(1000, 1500)"
   ]
  },
  {
   "cell_type": "markdown",
   "metadata": {},
   "source": [
    "### Details about a specific customer"
   ]
  },
  {
   "cell_type": "code",
   "execution_count": 18,
   "metadata": {},
   "outputs": [],
   "source": [
    "# ids I like -> 28812, 56514, 56520, 1488844\n",
    "customer_id_use = 6 #84100"
   ]
  },
  {
   "cell_type": "code",
   "execution_count": 19,
   "metadata": {},
   "outputs": [
    {
     "data": {
      "text/html": [
       "<div>\n",
       "<style scoped>\n",
       "    .dataframe tbody tr th:only-of-type {\n",
       "        vertical-align: middle;\n",
       "    }\n",
       "\n",
       "    .dataframe tbody tr th {\n",
       "        vertical-align: top;\n",
       "    }\n",
       "\n",
       "    .dataframe thead th {\n",
       "        text-align: right;\n",
       "    }\n",
       "</style>\n",
       "<table border=\"1\" class=\"dataframe\">\n",
       "  <thead>\n",
       "    <tr style=\"text-align: right;\">\n",
       "      <th></th>\n",
       "      <th>movie_id</th>\n",
       "      <th>customer_id</th>\n",
       "      <th>rating</th>\n",
       "      <th>movie_year</th>\n",
       "      <th>movie_title</th>\n",
       "    </tr>\n",
       "  </thead>\n",
       "  <tbody>\n",
       "    <tr>\n",
       "      <th>187297</th>\n",
       "      <td>30</td>\n",
       "      <td>6</td>\n",
       "      <td>3.0</td>\n",
       "      <td>2003.0</td>\n",
       "      <td>Something's Gotta Give</td>\n",
       "    </tr>\n",
       "    <tr>\n",
       "      <th>539827</th>\n",
       "      <td>157</td>\n",
       "      <td>6</td>\n",
       "      <td>3.0</td>\n",
       "      <td>2004.0</td>\n",
       "      <td>Laird: White Knuckle Extreme</td>\n",
       "    </tr>\n",
       "    <tr>\n",
       "      <th>576723</th>\n",
       "      <td>173</td>\n",
       "      <td>6</td>\n",
       "      <td>4.0</td>\n",
       "      <td>1968.0</td>\n",
       "      <td>The Devil's Brigade</td>\n",
       "    </tr>\n",
       "    <tr>\n",
       "      <th>649632</th>\n",
       "      <td>175</td>\n",
       "      <td>6</td>\n",
       "      <td>5.0</td>\n",
       "      <td>1992.0</td>\n",
       "      <td>Reservoir Dogs</td>\n",
       "    </tr>\n",
       "    <tr>\n",
       "      <th>795442</th>\n",
       "      <td>191</td>\n",
       "      <td>6</td>\n",
       "      <td>2.0</td>\n",
       "      <td>2003.0</td>\n",
       "      <td>X2: X-Men United</td>\n",
       "    </tr>\n",
       "    <tr>\n",
       "      <th>881625</th>\n",
       "      <td>197</td>\n",
       "      <td>6</td>\n",
       "      <td>3.0</td>\n",
       "      <td>2004.0</td>\n",
       "      <td>Taking Lives</td>\n",
       "    </tr>\n",
       "    <tr>\n",
       "      <th>1053784</th>\n",
       "      <td>241</td>\n",
       "      <td>6</td>\n",
       "      <td>3.0</td>\n",
       "      <td>1959.0</td>\n",
       "      <td>North by Northwest</td>\n",
       "    </tr>\n",
       "    <tr>\n",
       "      <th>1368432</th>\n",
       "      <td>295</td>\n",
       "      <td>6</td>\n",
       "      <td>4.0</td>\n",
       "      <td>1995.0</td>\n",
       "      <td>Ace Ventura: When Nature Calls</td>\n",
       "    </tr>\n",
       "    <tr>\n",
       "      <th>1438379</th>\n",
       "      <td>299</td>\n",
       "      <td>6</td>\n",
       "      <td>3.0</td>\n",
       "      <td>2001.0</td>\n",
       "      <td>Bridget Jones's Diary</td>\n",
       "    </tr>\n",
       "    <tr>\n",
       "      <th>1723378</th>\n",
       "      <td>329</td>\n",
       "      <td>6</td>\n",
       "      <td>4.0</td>\n",
       "      <td>1999.0</td>\n",
       "      <td>Dogma</td>\n",
       "    </tr>\n",
       "    <tr>\n",
       "      <th>2019967</th>\n",
       "      <td>361</td>\n",
       "      <td>6</td>\n",
       "      <td>3.0</td>\n",
       "      <td>2004.0</td>\n",
       "      <td>The Phantom of the Opera: Special Edition</td>\n",
       "    </tr>\n",
       "    <tr>\n",
       "      <th>2357110</th>\n",
       "      <td>445</td>\n",
       "      <td>6</td>\n",
       "      <td>3.0</td>\n",
       "      <td>1996.0</td>\n",
       "      <td>Michael Collins</td>\n",
       "    </tr>\n",
       "    <tr>\n",
       "      <th>2461952</th>\n",
       "      <td>457</td>\n",
       "      <td>6</td>\n",
       "      <td>5.0</td>\n",
       "      <td>2004.0</td>\n",
       "      <td>Kill Bill: Vol. 2</td>\n",
       "    </tr>\n",
       "    <tr>\n",
       "      <th>2547216</th>\n",
       "      <td>468</td>\n",
       "      <td>6</td>\n",
       "      <td>3.0</td>\n",
       "      <td>2003.0</td>\n",
       "      <td>The Matrix: Revolutions</td>\n",
       "    </tr>\n",
       "    <tr>\n",
       "      <th>2785153</th>\n",
       "      <td>494</td>\n",
       "      <td>6</td>\n",
       "      <td>3.0</td>\n",
       "      <td>1983.0</td>\n",
       "      <td>Monty Python's The Meaning of Life: Special Ed...</td>\n",
       "    </tr>\n",
       "    <tr>\n",
       "      <th>2810837</th>\n",
       "      <td>501</td>\n",
       "      <td>6</td>\n",
       "      <td>3.0</td>\n",
       "      <td>1975.0</td>\n",
       "      <td>Three Days of the Condor</td>\n",
       "    </tr>\n",
       "    <tr>\n",
       "      <th>2885992</th>\n",
       "      <td>528</td>\n",
       "      <td>6</td>\n",
       "      <td>4.0</td>\n",
       "      <td>2005.0</td>\n",
       "      <td>The Hitchhiker's Guide to the Galaxy</td>\n",
       "    </tr>\n",
       "    <tr>\n",
       "      <th>3005392</th>\n",
       "      <td>564</td>\n",
       "      <td>6</td>\n",
       "      <td>4.0</td>\n",
       "      <td>1990.0</td>\n",
       "      <td>Predator 2</td>\n",
       "    </tr>\n",
       "    <tr>\n",
       "      <th>3182810</th>\n",
       "      <td>580</td>\n",
       "      <td>6</td>\n",
       "      <td>3.0</td>\n",
       "      <td>1971.0</td>\n",
       "      <td>THX 1138: Special Edition</td>\n",
       "    </tr>\n",
       "    <tr>\n",
       "      <th>3451899</th>\n",
       "      <td>658</td>\n",
       "      <td>6</td>\n",
       "      <td>3.0</td>\n",
       "      <td>1991.0</td>\n",
       "      <td>Robin Hood: Prince of Thieves</td>\n",
       "    </tr>\n",
       "    <tr>\n",
       "      <th>3657676</th>\n",
       "      <td>705</td>\n",
       "      <td>6</td>\n",
       "      <td>3.0</td>\n",
       "      <td>1989.0</td>\n",
       "      <td>Major League</td>\n",
       "    </tr>\n",
       "    <tr>\n",
       "      <th>3666127</th>\n",
       "      <td>706</td>\n",
       "      <td>6</td>\n",
       "      <td>3.0</td>\n",
       "      <td>1991.0</td>\n",
       "      <td>Mobsters</td>\n",
       "    </tr>\n",
       "    <tr>\n",
       "      <th>3806712</th>\n",
       "      <td>723</td>\n",
       "      <td>6</td>\n",
       "      <td>3.0</td>\n",
       "      <td>1991.0</td>\n",
       "      <td>Curly Sue</td>\n",
       "    </tr>\n",
       "    <tr>\n",
       "      <th>4099736</th>\n",
       "      <td>788</td>\n",
       "      <td>6</td>\n",
       "      <td>3.0</td>\n",
       "      <td>1994.0</td>\n",
       "      <td>Clerks</td>\n",
       "    </tr>\n",
       "    <tr>\n",
       "      <th>4299238</th>\n",
       "      <td>825</td>\n",
       "      <td>6</td>\n",
       "      <td>3.0</td>\n",
       "      <td>1983.0</td>\n",
       "      <td>Bill Cosby: Himself</td>\n",
       "    </tr>\n",
       "    <tr>\n",
       "      <th>4459822</th>\n",
       "      <td>872</td>\n",
       "      <td>6</td>\n",
       "      <td>3.0</td>\n",
       "      <td>1954.0</td>\n",
       "      <td>Seven Samurai</td>\n",
       "    </tr>\n",
       "    <tr>\n",
       "      <th>4563823</th>\n",
       "      <td>886</td>\n",
       "      <td>6</td>\n",
       "      <td>5.0</td>\n",
       "      <td>2004.0</td>\n",
       "      <td>Ray</td>\n",
       "    </tr>\n",
       "    <tr>\n",
       "      <th>4927300</th>\n",
       "      <td>985</td>\n",
       "      <td>6</td>\n",
       "      <td>4.0</td>\n",
       "      <td>1999.0</td>\n",
       "      <td>The Mummy</td>\n",
       "    </tr>\n",
       "  </tbody>\n",
       "</table>\n",
       "</div>"
      ],
      "text/plain": [
       "         movie_id  customer_id  rating  movie_year  \\\n",
       "187297         30            6     3.0      2003.0   \n",
       "539827        157            6     3.0      2004.0   \n",
       "576723        173            6     4.0      1968.0   \n",
       "649632        175            6     5.0      1992.0   \n",
       "795442        191            6     2.0      2003.0   \n",
       "881625        197            6     3.0      2004.0   \n",
       "1053784       241            6     3.0      1959.0   \n",
       "1368432       295            6     4.0      1995.0   \n",
       "1438379       299            6     3.0      2001.0   \n",
       "1723378       329            6     4.0      1999.0   \n",
       "2019967       361            6     3.0      2004.0   \n",
       "2357110       445            6     3.0      1996.0   \n",
       "2461952       457            6     5.0      2004.0   \n",
       "2547216       468            6     3.0      2003.0   \n",
       "2785153       494            6     3.0      1983.0   \n",
       "2810837       501            6     3.0      1975.0   \n",
       "2885992       528            6     4.0      2005.0   \n",
       "3005392       564            6     4.0      1990.0   \n",
       "3182810       580            6     3.0      1971.0   \n",
       "3451899       658            6     3.0      1991.0   \n",
       "3657676       705            6     3.0      1989.0   \n",
       "3666127       706            6     3.0      1991.0   \n",
       "3806712       723            6     3.0      1991.0   \n",
       "4099736       788            6     3.0      1994.0   \n",
       "4299238       825            6     3.0      1983.0   \n",
       "4459822       872            6     3.0      1954.0   \n",
       "4563823       886            6     5.0      2004.0   \n",
       "4927300       985            6     4.0      1999.0   \n",
       "\n",
       "                                               movie_title  \n",
       "187297                              Something's Gotta Give  \n",
       "539827                        Laird: White Knuckle Extreme  \n",
       "576723                                 The Devil's Brigade  \n",
       "649632                                      Reservoir Dogs  \n",
       "795442                                    X2: X-Men United  \n",
       "881625                                        Taking Lives  \n",
       "1053784                                 North by Northwest  \n",
       "1368432                     Ace Ventura: When Nature Calls  \n",
       "1438379                              Bridget Jones's Diary  \n",
       "1723378                                              Dogma  \n",
       "2019967          The Phantom of the Opera: Special Edition  \n",
       "2357110                                    Michael Collins  \n",
       "2461952                                  Kill Bill: Vol. 2  \n",
       "2547216                            The Matrix: Revolutions  \n",
       "2785153  Monty Python's The Meaning of Life: Special Ed...  \n",
       "2810837                           Three Days of the Condor  \n",
       "2885992               The Hitchhiker's Guide to the Galaxy  \n",
       "3005392                                         Predator 2  \n",
       "3182810                          THX 1138: Special Edition  \n",
       "3451899                      Robin Hood: Prince of Thieves  \n",
       "3657676                                       Major League  \n",
       "3666127                                           Mobsters  \n",
       "3806712                                          Curly Sue  \n",
       "4099736                                             Clerks  \n",
       "4299238                                Bill Cosby: Himself  \n",
       "4459822                                      Seven Samurai  \n",
       "4563823                                                Ray  \n",
       "4927300                                          The Mummy  "
      ]
     },
     "execution_count": 19,
     "metadata": {},
     "output_type": "execute_result"
    }
   ],
   "source": [
    "#all_custumers_id_rows(customer_id=customer_id_use)\n",
    "## same as line above but including movie_year and movie_title\n",
    "\n",
    "#all_customers_id_plus_movie_title_rows(customer_id=customer_id_use)\n",
    "information.all_id_rows(df=data_rating_plus_movie_title, type=\"customer_id\", item_id=customer_id_use)"
   ]
  },
  {
   "cell_type": "code",
   "execution_count": 20,
   "metadata": {},
   "outputs": [
    {
     "data": {
      "text/html": [
       "<div>\n",
       "<style scoped>\n",
       "    .dataframe tbody tr th:only-of-type {\n",
       "        vertical-align: middle;\n",
       "    }\n",
       "\n",
       "    .dataframe tbody tr th {\n",
       "        vertical-align: top;\n",
       "    }\n",
       "\n",
       "    .dataframe thead tr th {\n",
       "        text-align: left;\n",
       "    }\n",
       "</style>\n",
       "<table border=\"1\" class=\"dataframe\">\n",
       "  <thead>\n",
       "    <tr>\n",
       "      <th></th>\n",
       "      <th>customer_id</th>\n",
       "      <th colspan=\"2\" halign=\"left\">rating</th>\n",
       "      <th>avg_rating</th>\n",
       "    </tr>\n",
       "    <tr>\n",
       "      <th></th>\n",
       "      <th></th>\n",
       "      <th>sum</th>\n",
       "      <th>count</th>\n",
       "      <th></th>\n",
       "    </tr>\n",
       "  </thead>\n",
       "  <tbody>\n",
       "    <tr>\n",
       "      <th>0</th>\n",
       "      <td>6</td>\n",
       "      <td>95.0</td>\n",
       "      <td>28</td>\n",
       "      <td>3.392857</td>\n",
       "    </tr>\n",
       "  </tbody>\n",
       "</table>\n",
       "</div>"
      ],
      "text/plain": [
       "  customer_id rating       avg_rating\n",
       "                 sum count           \n",
       "0           6   95.0    28   3.392857"
      ]
     },
     "execution_count": 20,
     "metadata": {},
     "output_type": "execute_result"
    }
   ],
   "source": [
    "#get_users_avg_rating(customer_id=customer_id_use)\n",
    "information.get_item_avg_rating(df=all_customers_average_ratings, type='customer_id', item_id=customer_id_use)"
   ]
  },
  {
   "cell_type": "code",
   "execution_count": 21,
   "metadata": {},
   "outputs": [
    {
     "name": "stdout",
     "output_type": "stream",
     "text": [
      "                                   movie_title  rating\n",
      "movie_id                                              \n",
      "173                        The Devil's Brigade     4.0\n",
      "175                             Reservoir Dogs     5.0\n",
      "295             Ace Ventura: When Nature Calls     4.0\n",
      "329                                      Dogma     4.0\n",
      "457                          Kill Bill: Vol. 2     5.0\n",
      "528       The Hitchhiker's Guide to the Galaxy     4.0\n",
      "564                                 Predator 2     4.0\n",
      "886                                        Ray     5.0\n",
      "985                                  The Mummy     4.0\n",
      "average rating 0    3.392857\n",
      "Name: avg_rating, dtype: float64\n"
     ]
    }
   ],
   "source": [
    "#display_movies_customer_rated_higher_than(customer_id=customer_id_use, min_rating=4)\n",
    "information.display_movies_customer_rated_higher_than(df=data_rating_plus_movie_title, customer_id=customer_id_use, min_rating=min_rating)"
   ]
  },
  {
   "cell_type": "code",
   "execution_count": 22,
   "metadata": {},
   "outputs": [
    {
     "name": "stdout",
     "output_type": "stream",
     "text": [
      "                                                movie_title  rating\n",
      "movie_id                                                           \n",
      "30                                   Something's Gotta Give     3.0\n",
      "157                            Laird: White Knuckle Extreme     3.0\n",
      "191                                        X2: X-Men United     2.0\n",
      "197                                            Taking Lives     3.0\n",
      "241                                      North by Northwest     3.0\n",
      "299                                   Bridget Jones's Diary     3.0\n",
      "361               The Phantom of the Opera: Special Edition     3.0\n",
      "445                                         Michael Collins     3.0\n",
      "468                                 The Matrix: Revolutions     3.0\n",
      "494       Monty Python's The Meaning of Life: Special Ed...     3.0\n",
      "501                                Three Days of the Condor     3.0\n",
      "580                               THX 1138: Special Edition     3.0\n",
      "658                           Robin Hood: Prince of Thieves     3.0\n",
      "705                                            Major League     3.0\n",
      "706                                                Mobsters     3.0\n",
      "723                                               Curly Sue     3.0\n",
      "788                                                  Clerks     3.0\n",
      "825                                     Bill Cosby: Himself     3.0\n",
      "872                                           Seven Samurai     3.0\n",
      "average rating 0    3.392857\n",
      "Name: avg_rating, dtype: float64\n"
     ]
    }
   ],
   "source": [
    "information.display_movies_customer_rated_lower_than(df= data_rating_plus_movie_title,customer_id=customer_id_use, max_rating=max_rating)"
   ]
  },
  {
   "cell_type": "code",
   "execution_count": 23,
   "metadata": {},
   "outputs": [
    {
     "name": "stdout",
     "output_type": "stream",
     "text": [
      "User 6 loved these movies\n",
      "The Devil's Brigade\n",
      "Reservoir Dogs\n",
      "Ace Ventura: When Nature Calls\n",
      "Dogma\n",
      "Kill Bill: Vol. 2\n",
      "The Hitchhiker's Guide to the Galaxy\n",
      "Predator 2\n",
      "Ray\n",
      "The Mummy\n",
      "\n",
      "and disliked these movies\n",
      "Something's Gotta Give\n",
      "Laird: White Knuckle Extreme\n",
      "X2: X-Men United\n",
      "Taking Lives\n",
      "North by Northwest\n",
      "Bridget Jones's Diary\n",
      "The Phantom of the Opera: Special Edition\n",
      "Michael Collins\n",
      "The Matrix: Revolutions\n",
      "Monty Python's The Meaning of Life: Special Edition\n",
      "Three Days of the Condor\n",
      "THX 1138: Special Edition\n",
      "Robin Hood: Prince of Thieves\n",
      "Major League\n",
      "Mobsters\n",
      "Curly Sue\n",
      "Clerks\n",
      "Bill Cosby: Himself\n",
      "Seven Samurai\n"
     ]
    }
   ],
   "source": [
    "information.get_users_loved_hated_movies(df=data_rating_plus_movie_title, customer_id=customer_id_use, minmax_rating=4)"
   ]
  },
  {
   "cell_type": "markdown",
   "metadata": {},
   "source": [
    "## Recommendations with collaborative filtering"
   ]
  },
  {
   "cell_type": "markdown",
   "metadata": {},
   "source": [
    "#### functions"
   ]
  },
  {
   "cell_type": "code",
   "execution_count": 24,
   "metadata": {},
   "outputs": [],
   "source": [
    "from surprise import dataset, KNNBaseline, accuracy\n",
    "from surprise.model_selection import train_test_split, LeaveOneOut\n",
    "\n",
    "def get_drop_list(type=\"movie_id\"):\n",
    "    #>IF MOVIE:  movie_id, movie rating count, movie rating mean\n",
    "    #>IF CUSTOMER: customer_id, custumer rating count, customer rating mean\n",
    "    df_count_mean_summary = data_rating.groupby(type)['rating'].agg(['count', 'mean'])\n",
    "    df_count_mean_summary.index = df_count_mean_summary.index.map(int)\n",
    "    #>IF MOVIE: returns 1799.0 as a benchmark number\n",
    "    #IF CUSTOMER: returns 52.0 as a benchmark number\n",
    "    benchmark = round(df_count_mean_summary['count'].quantile(0.7),0)\n",
    "    # drop all rows below benchmark\n",
    "    df_drop_list = df_count_mean_summary[df_count_mean_summary['count'] < benchmark]\n",
    "    # return all indexes to drop\n",
    "    return df_drop_list\n",
    "\n",
    "def get_customer_recommendations(customer_id, predictor):\n",
    "    #> returns movie_id, movie_year, movie_title\n",
    "    chosen_customer_pred = data_movies.copy()\n",
    "    # fails if movie_id is the index so we have to reset the index back to normal (0-N)\n",
    "    chosen_customer_pred = chosen_customer_pred.reset_index()\n",
    "    # makes sure that we only pick movies that are not in the movie dropped list\n",
    "    chosen_customer_pred = chosen_customer_pred[~chosen_customer_pred['movie_id'].isin(df_movie_drop_list)]\n",
    "    # make prediction for customer with id = <customer_id> and put it into 'estimated_score'\n",
    "    chosen_customer_pred['estimated_score'] = chosen_customer_pred['movie_id'].apply(lambda x: predictor.predict(customer_id, x).est)\n",
    "    # sort by 'estimated score'\n",
    "    chosen_customer_pred = chosen_customer_pred.sort_values('estimated_score', ascending=False).set_index('movie_id')\n",
    "    return chosen_customer_pred\n",
    "\n",
    "# print out movies/tv show user has previously rated\n",
    "def display_rated_content(customer_id=customer_id_use, number_to_show=20):\n",
    "    print(\"Movies/TV Shows rated by customer\", customer_id)\n",
    "    #df = all_customers_id_plus_movie_title_rows(customer_id=customer_id)\n",
    "    df = information.all_id_rows(df=data_rating_plus_movie_title, type='customer_id', item_id=customer_id)\n",
    "    df = df[['movie_title', 'rating']].sort_values('rating', ascending=False)\n",
    "    print(df[0:number_to_show].set_index('movie_title'))\n",
    "\n",
    "def display_customers_recommendations(customer_id=customer_id_use, df=[], number_to_show=20):\n",
    "    print(\"Movies/TV Shows recommended to customer\")\n",
    "    tmp_df = df[['movie_title', 'estimated_score']][0:number_to_show]\n",
    "    tmp_df = tmp_df.set_index('movie_title')\n",
    "    print(tmp_df)\n",
    "\n",
    "def display_recommendation(customer_id, number_to_show, predictor):\n",
    "    chosen_customer_pred = get_customer_recommendations(customer_id=customer_id, predictor=predictor)\n",
    "    display_customers_recommendations(customer_id=customer_id, df=chosen_customer_pred, number_to_show=number_to_show)\n",
    "\n",
    "def print_evaluation_accuracy(prediction):\n",
    "    print(\"\\nEvaluating accuracy of model...\")\n",
    "    print(\"RMSE: \", accuracy.rmse(prediction, verbose=False))\n",
    "    print(\"MAE: \", accuracy.mae(prediction, verbose=False))"
   ]
  },
  {
   "cell_type": "markdown",
   "metadata": {},
   "source": [
    "#### create recommenders"
   ]
  },
  {
   "cell_type": "code",
   "execution_count": 25,
   "metadata": {},
   "outputs": [],
   "source": [
    "## creating a list of the movies that we don't wanna include\n",
    "df_movie_drop_list = get_drop_list(type=\"movie_id\")\n",
    "#df_customer_drop_list = get_summary(type=\"customer_id\")"
   ]
  },
  {
   "cell_type": "code",
   "execution_count": 26,
   "metadata": {},
   "outputs": [
    {
     "name": "stdout",
     "output_type": "stream",
     "text": [
      "\n",
      "Building recommendation model...\n"
     ]
    }
   ],
   "source": [
    "class convert_to_raw_ratings(dataset.DatasetAutoFolds):\n",
    "    def __init__(self, df, reader):\n",
    "        self.raw_ratings = [(uid, iid, r, None) for (uid, iid, r) in zip(df['customer_id'], df['movie_id'], df['rating'])]\n",
    "        self.reader=reader\n",
    "\n",
    "raw_ratings = convert_to_raw_ratings(data_rating, reader)\n",
    "print(\"\\nBuilding recommendation model...\")\n",
    "trainSet, testSet = train_test_split(raw_ratings, test_size=.25, random_state=1)\n",
    "\n",
    "algo = SVD(random_state=10)\n",
    "algo.fit(trainSet)\n",
    "algo_predictions = algo.test(testSet)"
   ]
  },
  {
   "cell_type": "code",
   "execution_count": 49,
   "metadata": {},
   "outputs": [],
   "source": [
    "#save_to_pickle(name=\"algo_svd\", df=algo)\n",
    "#load_pickle(\"algo_svd\")"
   ]
  },
  {
   "cell_type": "code",
   "execution_count": 27,
   "metadata": {},
   "outputs": [],
   "source": [
    "svd = SVD(random_state=10)\n",
    "data_new = Dataset.load_from_df(data_rating[['customer_id', 'movie_id', 'rating']], reader)\n",
    "trainset = data_new.build_full_trainset()\n",
    "svd.fit(trainset)\n",
    "svd_predictions = svd.test(testSet)\n"
   ]
  },
  {
   "cell_type": "code",
   "execution_count": 50,
   "metadata": {},
   "outputs": [],
   "source": [
    "#save_to_pickle(name=\"svd\", df=svd)\n",
    "#load_pickle(\"svd\")"
   ]
  },
  {
   "cell_type": "markdown",
   "metadata": {},
   "source": [
    "### display recommendations"
   ]
  },
  {
   "cell_type": "code",
   "execution_count": 28,
   "metadata": {},
   "outputs": [],
   "source": [
    "number_to_show = 10"
   ]
  },
  {
   "cell_type": "markdown",
   "metadata": {},
   "source": [
    "#### customer = 79724"
   ]
  },
  {
   "cell_type": "code",
   "execution_count": 29,
   "metadata": {},
   "outputs": [
    {
     "name": "stdout",
     "output_type": "stream",
     "text": [
      "Movies/TV Shows rated by customer 79724\n",
      "                            rating\n",
      "movie_title                       \n",
      "Dogma                          5.0\n",
      "American Beauty                5.0\n",
      "What the #$*! Do We Know!?     4.0\n",
      "Reservoir Dogs                 4.0\n",
      "Ed Wood                        3.0\n",
      "Pay It Forward                 3.0\n",
      "Igby Goes Down                 3.0\n",
      "Jaws                           3.0\n",
      "Elephant                       2.0\n",
      "Logan's Run                    2.0\n"
     ]
    }
   ],
   "source": [
    "display_rated_content(customer_id=79724, number_to_show=number_to_show)"
   ]
  },
  {
   "cell_type": "code",
   "execution_count": 30,
   "metadata": {},
   "outputs": [
    {
     "name": "stdout",
     "output_type": "stream",
     "text": [
      "Movies/TV Shows recommended to customer\n",
      "                                        estimated_score\n",
      "movie_title                                            \n",
      "Foyle's War: Set 2                             4.727764\n",
      "Monarch of the Glen: Series 2                  4.621920\n",
      "La Femme Nikita: Season 3                      4.587257\n",
      "Invader Zim                                    4.494654\n",
      "Ghosts of Rwanda: Frontline                    4.469619\n",
      "Reno 911: Season 2                             4.446906\n",
      "Yu Yu Hakusho                                  4.423891\n",
      "A Touch of Frost: Seasons 7 & 8                4.415173\n",
      "Homicide: Life on the Street: Season 7         4.402799\n",
      "Mary Poppins: Bonus Material                   4.363708\n"
     ]
    }
   ],
   "source": [
    "display_recommendation(customer_id=79724, number_to_show=number_to_show, predictor=svd)"
   ]
  },
  {
   "cell_type": "code",
   "execution_count": 31,
   "metadata": {},
   "outputs": [
    {
     "name": "stdout",
     "output_type": "stream",
     "text": [
      "Movies/TV Shows recommended to customer\n",
      "                                               estimated_score\n",
      "movie_title                                                   \n",
      "Xena: Warrior Princess: Season 3                      4.500141\n",
      "Dogma                                                 4.461506\n",
      "Yu Yu Hakusho                                         4.450138\n",
      "The Tick: The Entire Series                           4.433872\n",
      "GTO: Great Teacher Onizuka: Set 2                     4.373271\n",
      "Viva La Bam: Season 1                                 4.370851\n",
      "Absolutely Fabulous: Series 5                         4.351257\n",
      "Sex and the City: Season 4                            4.346610\n",
      "Unprecedented: The 2000 Presidential Election         4.318533\n",
      "Clerks                                                4.314401\n"
     ]
    }
   ],
   "source": [
    "display_recommendation(customer_id=79724, number_to_show=number_to_show, predictor=algo)"
   ]
  },
  {
   "cell_type": "markdown",
   "metadata": {},
   "source": [
    "#### customer = customer_id_use"
   ]
  },
  {
   "cell_type": "code",
   "execution_count": 32,
   "metadata": {},
   "outputs": [
    {
     "name": "stdout",
     "output_type": "stream",
     "text": [
      "Movies/TV Shows rated by customer 6\n",
      "                                      rating\n",
      "movie_title                                 \n",
      "Kill Bill: Vol. 2                        5.0\n",
      "Reservoir Dogs                           5.0\n",
      "Ray                                      5.0\n",
      "The Mummy                                4.0\n",
      "Ace Ventura: When Nature Calls           4.0\n",
      "Dogma                                    4.0\n",
      "Predator 2                               4.0\n",
      "The Hitchhiker's Guide to the Galaxy     4.0\n",
      "The Devil's Brigade                      4.0\n",
      "Bill Cosby: Himself                      3.0\n"
     ]
    }
   ],
   "source": [
    "display_rated_content(customer_id=customer_id_use, number_to_show=number_to_show)"
   ]
  },
  {
   "cell_type": "code",
   "execution_count": 33,
   "metadata": {},
   "outputs": [
    {
     "name": "stdout",
     "output_type": "stream",
     "text": [
      "Movies/TV Shows recommended to customer\n",
      "                                                    estimated_score\n",
      "movie_title                                                        \n",
      "La Femme Nikita: Season 3                                  4.553385\n",
      "Reno 911: Season 2                                         4.314836\n",
      "Stevie Ray Vaughan and Double Trouble: Live at ...         4.306074\n",
      "Baby Einstein: Baby Da Vinci                               4.235643\n",
      "The Chorus                                                 4.232877\n",
      "Ghosts of Rwanda: Frontline                                4.225248\n",
      "Blue Planet: IMAX                                          4.220234\n",
      "A Touch of Frost: Seasons 7 & 8                            4.219744\n",
      "Foyle's War: Set 2                                         4.198104\n",
      "Christmas with The Simpsons                                4.197200\n"
     ]
    }
   ],
   "source": [
    "display_recommendation(customer_id=customer_id_use, number_to_show=number_to_show, predictor=svd)"
   ]
  },
  {
   "cell_type": "code",
   "execution_count": 34,
   "metadata": {},
   "outputs": [
    {
     "name": "stdout",
     "output_type": "stream",
     "text": [
      "Movies/TV Shows recommended to customer\n",
      "                                                    estimated_score\n",
      "movie_title                                                        \n",
      "Foyle's War: Set 2                                         4.065095\n",
      "That '70s Show: Season 1                                   4.032636\n",
      "Princess Mononoke                                          4.025240\n",
      "Highlander: Season 4                                       4.023670\n",
      "Reno 911: Season 2                                         3.980902\n",
      "Ghosts of Rwanda: Frontline                                3.973723\n",
      "Baby Einstein: Baby Da Vinci                               3.962280\n",
      "Lord of the Rings: The Return of the King: Exte...         3.945479\n",
      "Sharpe 4: Sharpe's Enemy                                   3.939068\n",
      "George Lopez: Why You Crying?                              3.920651\n"
     ]
    }
   ],
   "source": [
    "display_recommendation(customer_id=customer_id_use, number_to_show=number_to_show, predictor=algo)\n",
    "# recommends for example: Reservoir Dogs, which the user has already rated"
   ]
  },
  {
   "cell_type": "markdown",
   "metadata": {},
   "source": [
    "### print accuracy"
   ]
  },
  {
   "cell_type": "code",
   "execution_count": 35,
   "metadata": {},
   "outputs": [
    {
     "name": "stdout",
     "output_type": "stream",
     "text": [
      "\n",
      "Evaluating accuracy of model...\n",
      "RMSE:  0.7642118848136733\n",
      "MAE:  0.5967149757624542\n"
     ]
    }
   ],
   "source": [
    "print_evaluation_accuracy(svd_predictions)"
   ]
  },
  {
   "cell_type": "code",
   "execution_count": 36,
   "metadata": {},
   "outputs": [
    {
     "name": "stdout",
     "output_type": "stream",
     "text": [
      "\n",
      "Evaluating accuracy of model...\n",
      "RMSE:  0.9602373221265598\n",
      "MAE:  0.7530683221520933\n"
     ]
    }
   ],
   "source": [
    "print_evaluation_accuracy(algo_predictions)"
   ]
  },
  {
   "cell_type": "markdown",
   "metadata": {},
   "source": [
    "## other"
   ]
  },
  {
   "cell_type": "code",
   "execution_count": 37,
   "metadata": {},
   "outputs": [],
   "source": [
    "\n",
    "dataset = Dataset.load_from_df(data_rating[['customer_id', 'movie_id', 'rating']], reader)\n",
    "trainset = dataset.build_full_trainset()"
   ]
  },
  {
   "cell_type": "code",
   "execution_count": 38,
   "metadata": {},
   "outputs": [],
   "source": [
    "tmp_data_movies = data_movies[['movie_id', 'movie_title']]\n",
    "tmp_data_movies = tmp_data_movies.set_index('movie_id').T\n",
    "tmp_data_movies = tmp_data_movies.to_dict('list')\n",
    "tmp_data_movies = {k: str(v[0]) for k,v in tmp_data_movies.items()}"
   ]
  },
  {
   "cell_type": "code",
   "execution_count": 39,
   "metadata": {},
   "outputs": [
    {
     "name": "stdout",
     "output_type": "stream",
     "text": [
      "Computing the cosine similarity matrix...\n",
      "Done computing similarity matrix.\n",
      "Computing the cosine similarity matrix...\n",
      "Done computing similarity matrix.\n"
     ]
    }
   ],
   "source": [
    "similarity_matrix = KNNBasic(sim_options={'name': 'cosine', 'user_based': False}).fit(trainset).compute_similarities()"
   ]
  },
  {
   "cell_type": "code",
   "execution_count": 40,
   "metadata": {},
   "outputs": [],
   "source": [
    "# generate_random_user_ids(1000, 1500)"
   ]
  },
  {
   "cell_type": "code",
   "execution_count": 41,
   "metadata": {},
   "outputs": [],
   "source": [
    "# for i in generate_random_user_ids(1000, 1500):\n",
    "#     if (len(all_custumers_id_rows(i)) > 3):\n",
    "#         print(i)"
   ]
  },
  {
   "cell_type": "code",
   "execution_count": 42,
   "metadata": {},
   "outputs": [],
   "source": [
    "test_subject = customer_id_use#16272\n",
    "k = 10"
   ]
  },
  {
   "cell_type": "code",
   "execution_count": 43,
   "metadata": {},
   "outputs": [],
   "source": [
    "test_subject_iid = trainset.to_inner_uid(test_subject)\n",
    "\n",
    "test_subject_ratings = trainset.ur[test_subject_iid]\n",
    "k_neighbours = heapq.nlargest(k, test_subject_ratings, key=lambda t: t[1])"
   ]
  },
  {
   "cell_type": "code",
   "execution_count": 44,
   "metadata": {},
   "outputs": [],
   "source": [
    "candidates = defaultdict(float)\n",
    "\n",
    "for itemID, rating in k_neighbours:\n",
    "    try:\n",
    "        similarities = similarity_matrix[itemID]\n",
    "        for innerID, score in enumerate(similarities):\n",
    "            candidates[innerID] += score * (rating / 5.0)\n",
    "    except:\n",
    "        continue"
   ]
  },
  {
   "cell_type": "code",
   "execution_count": 45,
   "metadata": {},
   "outputs": [],
   "source": [
    "def getMovieName(movieID):\n",
    "  if int(movieID) in tmp_data_movies:\n",
    "    return tmp_data_movies[int(movieID)]\n",
    "  else:\n",
    "      return \"\""
   ]
  },
  {
   "cell_type": "code",
   "execution_count": 46,
   "metadata": {},
   "outputs": [
    {
     "name": "stdout",
     "output_type": "stream",
     "text": [
      "Movie:  Lord of the Rings: The Return of the King: Extended Edition: Bonus Material\n",
      "Movie:  Mississippi Burning\n",
      "Movie:  The Legend\n",
      "Movie:  Firestarter\n",
      "Movie:  Back to the Future Part III\n",
      "Movie:  Fallen\n",
      "Movie:  Richard Pryor: Live on the Sunset Strip\n",
      "Movie:  George Carlin: Personal Favorites\n",
      "Movie:  Christmas with The Simpsons\n",
      "Movie:  Futurama: Monster Robot Maniac Fun Collection\n",
      "Movie:  Unleashed\n"
     ]
    }
   ],
   "source": [
    "watched = {}\n",
    "for itemID, rating in trainset.ur[test_subject_iid]:\n",
    "    watched[itemID] = 1\n",
    "\n",
    "recommendations = []\n",
    "position = 0\n",
    "for itemID, rating_sum in sorted(candidates.items(), key=itemgetter(1), reverse=True):\n",
    "    if not itemID in watched:\n",
    "        recommendations.append(getMovieName(trainset.to_raw_iid(itemID)))\n",
    "        position += 1\n",
    "        # only want top n which in our case in 10\n",
    "        if(position > 10): break\n",
    "\n",
    "for rec in recommendations:\n",
    "    print(\"Movie: \", rec)\n"
   ]
  },
  {
   "cell_type": "code",
   "execution_count": 47,
   "metadata": {},
   "outputs": [
    {
     "name": "stdout",
     "output_type": "stream",
     "text": [
      "user 6 previous recommendations\n",
      "Movies/TV Shows recommended to customer\n",
      "                                                    estimated_score\n",
      "movie_title                                                        \n",
      "La Femme Nikita: Season 3                                  4.553385\n",
      "Reno 911: Season 2                                         4.314836\n",
      "Stevie Ray Vaughan and Double Trouble: Live at ...         4.306074\n",
      "Baby Einstein: Baby Da Vinci                               4.235643\n",
      "The Chorus                                                 4.232877\n",
      "Ghosts of Rwanda: Frontline                                4.225248\n",
      "Blue Planet: IMAX                                          4.220234\n",
      "A Touch of Frost: Seasons 7 & 8                            4.219744\n",
      "Foyle's War: Set 2                                         4.198104\n",
      "Christmas with The Simpsons                                4.197200\n"
     ]
    }
   ],
   "source": [
    "print(\"user\", test_subject, 'previous recommendations')\n",
    "display_recommendation(customer_id=test_subject, number_to_show=10, predictor=svd)"
   ]
  },
  {
   "cell_type": "code",
   "execution_count": 48,
   "metadata": {},
   "outputs": [],
   "source": [
    "#TODO:\n",
    "#for the new user problem\n",
    "## find highest rated movie / tv shows that have been watched the most -> how likely is new user to click on it ?"
   ]
  },
  {
   "cell_type": "code",
   "execution_count": null,
   "metadata": {},
   "outputs": [],
   "source": []
  }
 ],
 "metadata": {
  "interpreter": {
   "hash": "eb60acc68106785d00a40fb3b1b3b80d861e6f0b0d60f9d8440fa3d46ca2822c"
  },
  "kernelspec": {
   "display_name": "Python 3.8.8 64-bit ('base': conda)",
   "name": "python3"
  },
  "language_info": {
   "codemirror_mode": {
    "name": "ipython",
    "version": 3
   },
   "file_extension": ".py",
   "mimetype": "text/x-python",
   "name": "python",
   "nbconvert_exporter": "python",
   "pygments_lexer": "ipython3",
   "version": "3.7.10"
  },
  "orig_nbformat": 2
 },
 "nbformat": 4,
 "nbformat_minor": 2
}
