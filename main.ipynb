{
 "cells": [
  {
   "cell_type": "code",
   "execution_count": null,
   "metadata": {},
   "outputs": [],
   "source": [
    "#!pip install surprise\n",
    "import pandas as pd\n",
    "import numpy as np\n",
    "import matplotlib.pyplot as plt\n",
    "import seaborn as sns\n",
    "from surprise import Reader, Dataset, SVD\n",
    "from surprise.model_selection import cross_validate\n",
    "import pickle\n",
    "#sns.set_style(\"darkgrid\")"
   ]
  },
  {
   "cell_type": "markdown",
   "metadata": {},
   "source": [
    "## Callable functions"
   ]
  },
  {
   "cell_type": "code",
   "execution_count": null,
   "metadata": {},
   "outputs": [],
   "source": [
    "def all_movie_id_rows(movie_id):\n",
    "    return data_rating[data_rating['movie_id'] == movie_id]\n",
    "\n",
    "def all_custumers_id_rows(customer_id):\n",
    "    return data_rating[data_rating['customer_id'] == customer_id]\n",
    "\n",
    "def all_customers_id_plus_movie_title_rows(customer_id):\n",
    "    return data_rating_plus_movie_title[data_rating_plus_movie_title['customer_id'] == customer_id_use]\n",
    "\n",
    "def all_movies_get_average_rating():\n",
    "    movie_ratings_stats = data_rating.groupby('movie_id').agg({'rating': ['sum', 'count']}).reset_index()\n",
    "    movie_ratings_stats['avg_rating'] =  movie_ratings_stats['rating']['sum'] / movie_ratings_stats['rating']['count']\n",
    "    return movie_ratings_stats\n",
    "\n",
    "def all_customers_get_average_rating():\n",
    "    customers_ratings_stats = data_rating.groupby('customer_id').agg({'rating': ['sum', 'count']}).reset_index()\n",
    "    customers_ratings_stats['avg_rating'] =  customers_ratings_stats['rating']['sum'] / customers_ratings_stats['rating']['count']\n",
    "    return customers_ratings_stats\n",
    "\n",
    "def all_movies_get_rated_count():\n",
    "    return data_rating.groupby('movie_id').agg({'movie_id': 'count'}).reset_index()\n",
    "\n",
    "def all_customers_get_movie_rated_count():\n",
    "    return data_rating.groupby('customer_id').agg({'movie_id': 'count'}).reset_index()\n",
    "\n",
    "def get_avg_rating_less_than(max_rating):\n",
    "    print(all_customers_average_ratings[all_customers_average_ratings['avg_rating'] < max_rating])\n",
    "\n",
    "\n",
    "def get_movie_avg_rating(movie_id):\n",
    "    output = all_movies_average_rating[all_movies_average_rating['movie_id'] == movie_id]\n",
    "    #print(output)\n",
    "    return output['avg_rating']\n",
    "\n",
    "def get_users_avg_rating(customer_id):\n",
    "    output = all_customers_average_ratings[all_customers_average_ratings['customer_id'] == customer_id]\n",
    "    #print(output)\n",
    "    return output['avg_rating']\n",
    "\n",
    "def get_movies_customer_rated_higher_than(customer_id, min_rating=0):\n",
    "    temp = data_rating_plus_movie_title.copy()\n",
    "    df_customer_liked = temp[(temp['customer_id'] == customer_id) & (temp['rating'] >= min_rating)].set_index('movie_id')\n",
    "    print(df_customer_liked[['movie_title', 'rating']])\n",
    "    print('average rating', get_users_avg_rating(customer_id))\n",
    "\n",
    "## WORK IN PROGRESS\n",
    "# def get_all_customer_rated_movie_higher_than(movie_id, min_rating):\n",
    "#     temp = data_rating_plus_movie_title.copy()\n",
    "#     df_movie_customers = temp[temp['movie_id'] == movie_id] & (temp['rating'] >= min_rating)\n",
    "#     print(df_movie_customers['movie_title', 'customer_id', 'rating'])\n",
    "#     print('movie average rating', get_movie_avg_rating(movie_id))"
   ]
  },
  {
   "cell_type": "markdown",
   "metadata": {},
   "source": [
    "## Get the data"
   ]
  },
  {
   "cell_type": "code",
   "execution_count": null,
   "metadata": {},
   "outputs": [],
   "source": [
    "## if use_pickle = True then we don't have to create a new dataframe because it's already been done\n",
    "## how ever if you add another csv file to df_all then you will have to set use_pickle = False to get the new data\n",
    "def create_dataframe(use_pickle=True):\n",
    "    if(use_pickle == True):\n",
    "        in_pickle = open(\"pickle/movies_customers_ratings.pickle\", \"rb\")\n",
    "        data = pd.DataFrame(pickle.load(in_pickle), columns=['movie_id', 'customer_id', 'rating', 'index']).drop(['index'], axis=1)\n",
    "    else:\n",
    "        index = 1\n",
    "        last_movie_id = \"1\"\n",
    "        new_data = []\n",
    "        for customer_id in df_all[\"customer_id\"]:\n",
    "            # if we find : that means this is a movie_id and not customer_id\n",
    "            if(customer_id.find(\":\") > 0):\n",
    "                movie_id = customer_id.replace(\":\", \"\")\n",
    "                last_movie_id = movie_id\n",
    "            else:\n",
    "                # we have this row index so use it to get rating\n",
    "                rating = df_all[\"rating\"][index-1]\n",
    "                new_data.append([last_movie_id, customer_id, rating, index])\n",
    "            index += 1\n",
    "        #output to pickle file\n",
    "        movies_customers_ratings = open(\"pickle/movies_customers_ratings.pickle\",\"wb\")\n",
    "        pickle.dump(new_data, movies_customers_ratings)\n",
    "        movies_customers_ratings.close()\n",
    "        data = pd.DataFrame(new_data, columns=['movie_id', 'customer_id', 'rating', 'index']).drop(['index'], axis=1)\n",
    "\n",
    "    # change columns to numerical\n",
    "    data['movie_id'] = data['movie_id'].astype(int)\n",
    "    data['customer_id'] = data['customer_id'].astype(int)\n",
    "    data[\"rating\"] = data[\"rating\"].astype(float)\n",
    "    return data\n"
   ]
  },
  {
   "cell_type": "markdown",
   "metadata": {},
   "source": [
    "in these txt files the movie_id's have been placed amongst the customer_id's, which means that we have to split that column into two, we do this by taking all ratings that are equal to NaN \n",
    "( meaning that we are now refering to a movie and not a customer ) and from there we split it into two columns."
   ]
  },
  {
   "cell_type": "code",
   "execution_count": null,
   "metadata": {
    "tags": []
   },
   "outputs": [],
   "source": [
    "## import all combined_data files to one large pandas dataframe\n",
    "##> returns index, customer_id (which is both movie and customer), rating (NaN = customer_id is a movie, Not NaN = customers rating)\n",
    "df_all = pd.read_csv('./data/combined_data_1.txt', header = None, names = ['customer_id', 'rating'], usecols = [0,1])\n",
    "#df_all = df_all.append(pd.read_csv('./data/combined_data_2.txt', header = None, names = ['customer_id', 'rating'], usecols = [0,1]))\n",
    "#df_all = df_all.append(pd.read_csv('./data/combined_data_3.txt', header = None, names = ['customer_id', 'rating'], usecols = [0,1]))\n",
    "#df_all = df_all.append(pd.read_csv('./data/combined_data_4.txt', header = None, names = ['customer_id', 'rating'], usecols = [0,1]))\n",
    "df_all.index = np.arange(0,len(df_all))\n",
    "df_all['rating'] = df_all['rating'].astype(float)\n",
    "\n",
    "## ------------------------------------------------------------------------------------- ##\n",
    "\n",
    "# dataframe containing all informations about the movies\n",
    "#> returns movie_id, movie_year, movie_title\n",
    "data_movies = pd.read_csv('./data/movie_titles.csv', header = None, names = ['movie_id', 'movie_year', 'movie_title'], usecols = [0,1,2], encoding=\"latin1\")\n",
    "data_movies.set_index('movie_id', inplace = True)\n",
    "\n",
    "## ------------------------------------------------------------------------------------- ##\n",
    "\n",
    "# dataframe containing all informations about the movie ratings by customer\n",
    "#> returns index, movie_id, customer_id, rating\n",
    "data_rating = create_dataframe(use_pickle=True)\n",
    "\n",
    "## ------------------------------------------------------------------------------------- ##\n",
    "\n",
    "# combine customer ratings to movie titles\n",
    "#> returns index, movie_id, customer_id, rating, movie_year, movie_title\n",
    "data_rating_plus_movie_title = data_rating.merge(data_movies, on=\"movie_id\", how=\"inner\")\n",
    "data_rating_plus_movie_title"
   ]
  },
  {
   "cell_type": "markdown",
   "metadata": {},
   "source": [
    "## Working with the data"
   ]
  },
  {
   "cell_type": "markdown",
   "metadata": {},
   "source": [
    "### Details about all customers"
   ]
  },
  {
   "cell_type": "code",
   "execution_count": null,
   "metadata": {},
   "outputs": [],
   "source": [
    "# get the average movie rating for all customers\n",
    "# used to determine if this user typically gives bad or good reviews\n",
    "# and then we can see if he really hates or loves a movie\n",
    "all_customers_average_ratings = all_customers_get_average_rating()\n",
    "print(all_customers_average_ratings)"
   ]
  },
  {
   "cell_type": "code",
   "execution_count": null,
   "metadata": {},
   "outputs": [],
   "source": [
    "get_avg_rating_less_than(5)"
   ]
  },
  {
   "cell_type": "code",
   "execution_count": null,
   "metadata": {},
   "outputs": [],
   "source": [
    "get_avg_rating_less_than(4)"
   ]
  },
  {
   "cell_type": "code",
   "execution_count": null,
   "metadata": {},
   "outputs": [],
   "source": [
    "count_movies_rated_by_customer = all_customers_get_movie_rated_count()\n",
    "count_movies_rated_by_customer"
   ]
  },
  {
   "cell_type": "code",
   "execution_count": null,
   "metadata": {},
   "outputs": [],
   "source": [
    "#all_movies_average_rating = all_movies_get_average_rating()\n",
    "#get_all_customer_rated_movie_higher_than(1, 4)"
   ]
  },
  {
   "cell_type": "code",
   "execution_count": null,
   "metadata": {},
   "outputs": [],
   "source": [
    "print(\"random user id used while in development\\n\", np.unique(data_rating['customer_id'])[14800:15000])"
   ]
  },
  {
   "cell_type": "markdown",
   "metadata": {},
   "source": [
    "### Details about a specific customer"
   ]
  },
  {
   "cell_type": "code",
   "execution_count": null,
   "metadata": {},
   "outputs": [],
   "source": [
    "# ids I like -> 28812, 56514, 56520, 1488844\n",
    "customer_id_use = 84100"
   ]
  },
  {
   "cell_type": "code",
   "execution_count": null,
   "metadata": {},
   "outputs": [],
   "source": [
    "#all_custumers_id_rows(customer_id=customer_id_use)\n",
    "## same as line above but including movie_year and movie_title\n",
    "all_customers_id_plus_movie_title_rows(customer_id=customer_id_use)"
   ]
  },
  {
   "cell_type": "code",
   "execution_count": null,
   "metadata": {},
   "outputs": [],
   "source": [
    "get_users_avg_rating(customer_id=customer_id_use)"
   ]
  },
  {
   "cell_type": "code",
   "execution_count": null,
   "metadata": {},
   "outputs": [],
   "source": [
    "get_movies_customer_rated_higher_than(customer_id_use, 4)"
   ]
  },
  {
   "cell_type": "markdown",
   "metadata": {},
   "source": [
    "# Recommendations with collaborative filtering"
   ]
  },
  {
   "cell_type": "code",
   "execution_count": null,
   "metadata": {},
   "outputs": [],
   "source": [
    "df_movie_summary = data_rating.groupby('movie_id')['rating'].agg(['count', 'mean'])\n",
    "df_movie_summary.index = df_movie_summary.index.map(int)\n",
    "movie_benchmark = round(df_movie_summary['count'].quantile(0.7),0)\n",
    "drop_movie_list = df_movie_summary[df_movie_summary['count'] < movie_benchmark].index"
   ]
  },
  {
   "cell_type": "code",
   "execution_count": null,
   "metadata": {},
   "outputs": [],
   "source": [
    "chosen_customer_pred = data_movies.copy()\n",
    "chosen_customer_pred = chosen_customer_pred.reset_index()\n",
    "chosen_customer_pred = chosen_customer_pred[~chosen_customer_pred['movie_id'].isin(drop_movie_list)]"
   ]
  },
  {
   "cell_type": "code",
   "execution_count": null,
   "metadata": {},
   "outputs": [],
   "source": [
    "reader = Reader()\n",
    "svd = SVD()\n",
    "\n",
    "data_new = Dataset.load_from_df(data_rating[['customer_id', 'movie_id', 'rating']], reader)\n",
    "trainset = data_new.build_full_trainset()\n",
    "svd.fit(trainset)"
   ]
  },
  {
   "cell_type": "code",
   "execution_count": null,
   "metadata": {},
   "outputs": [],
   "source": [
    "chosen_customer_pred['estimated_score'] = chosen_customer_pred['movie_id'].apply(lambda x: svd.predict(customer_id_use, x).est)\n",
    "chosen_customer_pred = chosen_customer_pred.set_index('movie_id')\n",
    "chosen_customer_pred = chosen_customer_pred.sort_values('estimated_score', ascending=False)"
   ]
  },
  {
   "cell_type": "code",
   "execution_count": null,
   "metadata": {},
   "outputs": [],
   "source": [
    "\n",
    "print(chosen_customer_pred[['movie_title', 'rating', 'estimated_score']].set_index('movie_title'))"
   ]
  },
  {
   "cell_type": "code",
   "execution_count": null,
   "metadata": {},
   "outputs": [],
   "source": [
    "#for the new user problem\n",
    "## find highest rated movie / tv shows that have been watched the most -> how likely is new user to click on it ?\n"
   ]
  }
 ],
 "metadata": {
  "interpreter": {
   "hash": "eb60acc68106785d00a40fb3b1b3b80d861e6f0b0d60f9d8440fa3d46ca2822c"
  },
  "kernelspec": {
   "display_name": "Python 3.8.5 64-bit ('base': conda)",
   "name": "python3"
  },
  "language_info": {
   "codemirror_mode": {
    "name": "ipython",
    "version": 3
   },
   "file_extension": ".py",
   "mimetype": "text/x-python",
   "name": "python",
   "nbconvert_exporter": "python",
   "pygments_lexer": "ipython3",
   "version": "3.8.5"
  },
  "orig_nbformat": 2
 },
 "nbformat": 4,
 "nbformat_minor": 2
}
