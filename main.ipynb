{
 "cells": [
  {
   "cell_type": "code",
   "execution_count": 1,
   "metadata": {},
   "outputs": [],
   "source": [
    "#!pip install surprise\n",
    "#!pip install import-ipynb\n",
    "import pandas as pd\n",
    "import numpy as np\n",
    "import matplotlib.pyplot as plt\n",
    "import seaborn as sns\n",
    "from surprise import Reader, Dataset, SVD\n",
    "from surprise.model_selection import cross_validate\n",
    "import pickle\n",
    "#sns.set_style(\"darkgrid\")\n",
    "from surprise import accuracy\n",
    "from collections import defaultdict\n",
    "from surprise import KNNBasic\n",
    "\n",
    "from collections import defaultdict\n",
    "from operator import itemgetter\n",
    "import heapq\n",
    "import os\n",
    "import csv"
   ]
  },
  {
   "cell_type": "code",
   "execution_count": 2,
   "metadata": {},
   "outputs": [],
   "source": [
    "use_pickle_file = True\n",
    "max_n = 2500000 #how many rows we want from data_ratings and data_rating_plus_movie_title\n"
   ]
  },
  {
   "cell_type": "markdown",
   "metadata": {},
   "source": [
    "## Helper functions"
   ]
  },
  {
   "cell_type": "code",
   "execution_count": 3,
   "metadata": {},
   "outputs": [],
   "source": [
    "def all_movie_id_rows(movie_id):\n",
    "    return data_rating[data_rating['movie_id'] == movie_id]\n",
    "\n",
    "def all_custumers_id_rows(customer_id):\n",
    "    return data_rating[data_rating['customer_id'] == customer_id]\n",
    "\n",
    "def all_customers_id_plus_movie_title_rows(customer_id):\n",
    "    return data_rating_plus_movie_title[data_rating_plus_movie_title['customer_id'] == customer_id]\n",
    "\n",
    "def all_movies_get_average_rating():\n",
    "    movie_ratings_stats = data_rating.groupby('movie_id').agg({'rating': ['sum', 'count']}).reset_index()\n",
    "    movie_ratings_stats['avg_rating'] =  movie_ratings_stats['rating']['sum'] / movie_ratings_stats['rating']['count']\n",
    "    return movie_ratings_stats\n",
    "\n",
    "def all_customers_get_average_rating():\n",
    "    customers_ratings_stats = data_rating.groupby('customer_id').agg({'rating': ['sum', 'count']}).reset_index()\n",
    "    customers_ratings_stats['avg_rating'] =  customers_ratings_stats['rating']['sum'] / customers_ratings_stats['rating']['count']\n",
    "    return customers_ratings_stats\n",
    "\n",
    "def all_movies_get_rated_count():\n",
    "    return data_rating.groupby('movie_id').agg({'movie_id': 'count'}).reset_index()\n",
    "\n",
    "def all_customers_get_movie_rated_count():\n",
    "    return data_rating.groupby('customer_id').agg({'movie_id': 'count'}).reset_index()\n",
    "\n",
    "def get_customers_avg_rating_less_than(max_rating):\n",
    "    print(all_customers_average_ratings[all_customers_average_ratings['avg_rating'] < max_rating])\n",
    "\n",
    "def get_movies_avg_rating_less_than(max_rating):\n",
    "    print(all_movies_average_rating[all_movies_average_rating['avg_rating'] < max_rating])\n",
    "\n",
    "def get_customers_avg_rating_higher_than(min_rating):\n",
    "    print(all_customers_average_ratings[all_customers_average_ratings['avg_rating'] > min_rating])\n",
    "\n",
    "def get_movies_avg_rating_higher_than(min_rating):\n",
    "    print(all_movies_average_rating[all_movies_average_rating['avg_rating'] > min_rating])\n",
    "\n",
    "\n",
    "def get_movie_avg_rating(movie_id):\n",
    "    output = all_movies_average_rating[all_movies_average_rating['movie_id'] == movie_id]\n",
    "    #print(output)\n",
    "    return output['avg_rating']\n",
    "\n",
    "def get_users_avg_rating(customer_id):\n",
    "    output = all_customers_average_ratings[all_customers_average_ratings['customer_id'] == customer_id]\n",
    "    #print(output)\n",
    "    return output['avg_rating']\n",
    "\n",
    "def get_movies_customer_rated_higher_than(customer_id, min_rating=4):\n",
    "    temp = data_rating_plus_movie_title.copy()\n",
    "    return temp[(temp['customer_id'] == customer_id) & (temp['rating'] >= min_rating)].set_index('movie_id')\n",
    "\n",
    "def get_movies_customer_rated_lower_than(customer_id, max_rating=4):\n",
    "    temp = data_rating_plus_movie_title.copy()\n",
    "    return temp[(temp['customer_id'] == customer_id) & (temp['rating'] < max_rating)].set_index('movie_id')\n",
    "\n",
    "def display_movies_customer_rated_higher_than(customer_id, min_rating=0):\n",
    "    df_customer_liked = get_movies_customer_rated_higher_than(customer_id=customer_id, min_rating=min_rating)\n",
    "    print(df_customer_liked[['movie_title', 'rating']])\n",
    "    print('average rating', get_users_avg_rating(customer_id))\n",
    "\n",
    "def display_movies_customer_rated_lower_than(customer_id, max_rating=0):\n",
    "    df_customer_disliked = get_movies_customer_rated_lower_than(customer_id=customer_id, max_rating=max_rating)\n",
    "    print(df_customer_disliked[['movie_title', 'rating']])\n",
    "    print('average rating', get_users_avg_rating(customer_id))\n",
    "\n",
    "def save_to_pickle(name, df):\n",
    "    path_name = \"pickle/\"+name+\".pickle\"\n",
    "    pickle_file = open(path_name,\"wb\")\n",
    "    pickle.dump(df, pickle_file)\n",
    "    pickle_file.close()\n",
    "\n",
    "def load_pickle(name):\n",
    "    path_name = \"pickle/\"+name+\".pickle\"\n",
    "    return_input = open(path_name, \"rb\")\n",
    "    return pickle.load(return_input)\n"
   ]
  },
  {
   "cell_type": "markdown",
   "metadata": {},
   "source": [
    "## Get the data"
   ]
  },
  {
   "cell_type": "code",
   "execution_count": 4,
   "metadata": {},
   "outputs": [],
   "source": [
    "def create_dataframe(use_pickle=True):\n",
    "    if(use_pickle == True):\n",
    "        in_pickle = open(\"pickle/movies_customers_ratings.pickle\", \"rb\")\n",
    "        data = pd.DataFrame(pickle.load(in_pickle), columns=['movie_id', 'customer_id', 'rating', 'index']).drop(['index'], axis=1)\n",
    "    else:\n",
    "        index = 1\n",
    "        last_movie_id = \"1\"\n",
    "        new_data = []\n",
    "        ## import all combined_data files to one large pandas dataframe\n",
    "        ##> returns index, customer_id (which is both movie and customer), rating (NaN = customer_id is a movie, Not NaN = customers rating)\n",
    "        df_all = pd.read_csv('./data/combined_data_1.txt', header = None, names = ['customer_id', 'rating'], usecols = [0,1])\n",
    "        #df_all = df_all.append(pd.read_csv('./data/combined_data_2.txt', header = None, names = ['customer_id', 'rating'], usecols = [0,1]))\n",
    "        #df_all = df_all.append(pd.read_csv('./data/combined_data_3.txt', header = None, names = ['customer_id', 'rating'], usecols = [0,1]))\n",
    "        #df_all = df_all.append(pd.read_csv('./data/combined_data_4.txt', header = None, names = ['customer_id', 'rating'], usecols = [0,1]))\n",
    "        df_all.index = np.arange(0,len(df_all))\n",
    "        df_all['rating'] = df_all['rating'].astype(float)\n",
    "        \n",
    "        for customer_id in df_all[\"customer_id\"]:\n",
    "            # if we find : that means this is a movie_id and not customer_id\n",
    "            if(customer_id.find(\":\") > 0):\n",
    "                movie_id = customer_id.replace(\":\", \"\")\n",
    "                last_movie_id = movie_id\n",
    "            else:\n",
    "                # we have this row index so use it to get rating\n",
    "                rating = df_all[\"rating\"][index-1]\n",
    "                new_data.append([last_movie_id, customer_id, rating, index])\n",
    "            index += 1\n",
    "        #output to pickle file\n",
    "        movies_customers_ratings = open(\"pickle/movies_customers_ratings.pickle\",\"wb\")\n",
    "        pickle.dump(new_data, movies_customers_ratings)\n",
    "        movies_customers_ratings.close()\n",
    "        data = pd.DataFrame(new_data, columns=['movie_id', 'customer_id', 'rating', 'index']).drop(['index'], axis=1)\n",
    "\n",
    "    # change columns to numerical\n",
    "    data['movie_id'] = data['movie_id'].astype(int)\n",
    "    data['customer_id'] = data['customer_id'].astype(int)\n",
    "    data[\"rating\"] = data[\"rating\"].astype(float)\n",
    "    return data\n",
    "\n",
    "def get_dataframes(use_pickle=True):\n",
    "    # dataframe containing all informations about the movies\n",
    "    #> returns movie_id, movie_year, movie_title\n",
    "    data_movies = pd.read_csv('./data/movie_titles.csv', header = None, names = ['movie_id', 'movie_year', 'movie_title'], usecols = [0,1,2], encoding=\"latin1\")\n",
    "    #data_movies_import.set_index('movie_id', inplace = True)\n",
    "\n",
    "    ## ------------------------------------------------------------------------------------- ##\n",
    "\n",
    "    # dataframe containing all informations about the movie ratings by customer\n",
    "    #> returns index, movie_id, customer_id, rating\n",
    "    data_rating = create_dataframe(use_pickle=use_pickle)\n",
    "\n",
    "    # ## ------------------------------------------------------------------------------------- ##\n",
    "\n",
    "    # ##combine customer ratings to movie titles\n",
    "    # ##> returns index, movie_id, customer_id, rating, movie_year, movie_title\n",
    "    data_rating_plus_movie_title = data_rating.merge(data_movies, on=\"movie_id\", how=\"inner\")\n",
    "\n",
    "    ## ------------------------------------------------------------------------------------- ##\n",
    "\n",
    "    data_movies_categorize = pd.read_csv('./data/movies.csv', header = None, names = ['movie_id', 'movie_title', 'genres'], usecols = [0,1,2], encoding=\"latin1\")[1:] #dataset is off by one\n",
    "    #data_movies_categorize.set_index('movie_id', inplace = True)\n",
    "    data_movies_categorize_split = data_movies_categorize['movie_title'].str.split('(', n = 1, expand=True) # split movie_title to movie_title and movie_year\n",
    "    data_movies_categorize_split[1] = data_movies_categorize_split[1].str.replace(r')', '') #removing ) at the end of movie_year\n",
    "    data_movies_categorize[\"movie_year\"] = data_movies_categorize_split[1]\n",
    "    data_movies_categorize[\"movie_title\"] = data_movies_categorize_split[0]\n",
    "    #data_movies_categorize[\"movie_year\"] = data_movies_categorize[\"movie_year\"].astype(float)\n",
    "    #data_movies_categorize\n",
    "    data_movies_categorize_cleaned = data_movies_categorize[pd.to_numeric(data_movies_categorize['movie_year'], errors='coerce').notnull()]\n",
    "    data_movies_categorize_cleaned[\"movie_year\"] = data_movies_categorize_cleaned[\"movie_year\"].astype(float)\n",
    "    \n",
    "    return data_movies, data_rating, data_rating_plus_movie_title, data_movies_categorize_cleaned\n",
    "\n",
    "\n",
    "def get_users_loved_hated_movies(customer_id, minmax_rating):\n",
    "    users_ratings_higher_than_four = get_movies_customer_rated_higher_than(customer_id=customer_id_use, min_rating=minmax_rating)\n",
    "    users_ratings_lower_than_four = get_movies_customer_rated_lower_than(customer_id=customer_id_use, max_rating=minmax_rating)\n",
    "    print(\"User\", customer_id_use ,\"loved these movies\")\n",
    "    for rating in users_ratings_higher_than_four['movie_title']:\n",
    "        print(rating)\n",
    "    print('')\n",
    "    print(\"and disliked these movies\")\n",
    "    for rating in users_ratings_lower_than_four['movie_title']:\n",
    "        print(rating)"
   ]
  },
  {
   "cell_type": "markdown",
   "metadata": {},
   "source": [
    "in these txt files the movie_id's have been placed amongst the customer_id's, which means that we have to split that column into two, we do this by taking all ratings that are equal to NaN \n",
    "( meaning that we are now refering to a movie and not a customer ) and from there we split it into two columns."
   ]
  },
  {
   "cell_type": "code",
   "execution_count": 5,
   "metadata": {
    "tags": []
   },
   "outputs": [
    {
     "name": "stderr",
     "output_type": "stream",
     "text": [
      "<ipython-input-4-53fccbde2917>:69: SettingWithCopyWarning: \n",
      "A value is trying to be set on a copy of a slice from a DataFrame.\n",
      "Try using .loc[row_indexer,col_indexer] = value instead\n",
      "\n",
      "See the caveats in the documentation: https://pandas.pydata.org/pandas-docs/stable/user_guide/indexing.html#returning-a-view-versus-a-copy\n",
      "  data_movies_categorize_cleaned[\"movie_year\"] = data_movies_categorize_cleaned[\"movie_year\"].astype(float)\n"
     ]
    }
   ],
   "source": [
    "data_movies, data_rating, data_rating_plus_movie_title, data_movies_categorized = get_dataframes(use_pickle=use_pickle_file)"
   ]
  },
  {
   "cell_type": "code",
   "execution_count": 6,
   "metadata": {},
   "outputs": [],
   "source": [
    "data_rating = data_rating[:max_n]\n",
    "data_rating_plus_movie_title = data_rating_plus_movie_title[:max_n]"
   ]
  },
  {
   "cell_type": "markdown",
   "metadata": {},
   "source": [
    "#### try again later"
   ]
  },
  {
   "cell_type": "code",
   "execution_count": 7,
   "metadata": {},
   "outputs": [],
   "source": [
    "# # temporarly while join with genre not working correctly\n",
    "# data_movies = data_movies_import.copy()\n",
    "# data_movies.set_index('movie_id', inplace = True)\n",
    "# print(data_movies)"
   ]
  },
  {
   "cell_type": "code",
   "execution_count": 8,
   "metadata": {},
   "outputs": [],
   "source": [
    "# x_temp = data_movies_import\n",
    "# x2_temp= data_movies_categorize\n",
    "# #x_temp.set_index(\"movie_id\", inplace=True)\n",
    "# #x2_temp.set_index(\"movie_id\", inplace=True)"
   ]
  },
  {
   "cell_type": "code",
   "execution_count": 9,
   "metadata": {},
   "outputs": [],
   "source": [
    "# temp_merge = pd.merge(x_temp, x2_temp, on=['movie_title', 'movie_year'], how='outer')\n",
    "# temp_merge = temp_merge[[\"movie_year\", \"movie_title\"]].drop_duplicates(subset=None, keep=\"last\", inplace=False)"
   ]
  },
  {
   "cell_type": "code",
   "execution_count": 10,
   "metadata": {},
   "outputs": [],
   "source": [
    "# df_merged = pd.merge(x_temp, x2_temp, on=[\"movie_title\", \"movie_year\"], how=\"left\")"
   ]
  },
  {
   "cell_type": "code",
   "execution_count": 11,
   "metadata": {},
   "outputs": [],
   "source": [
    "#df_merged[\"genres\"].isnull()"
   ]
  },
  {
   "cell_type": "code",
   "execution_count": 12,
   "metadata": {},
   "outputs": [],
   "source": [
    "# #data_movies = pd.merge(x, x2, on=['movie_year', 'movie_title'], how='outer')\n",
    "# data_movies = pd.merge(x, x2, on=[\"movie_title\", \"movie_year\"], how='outer')\n",
    "# data_movies#.set_index('movie_id', inplace = True)\n"
   ]
  },
  {
   "cell_type": "code",
   "execution_count": 13,
   "metadata": {},
   "outputs": [],
   "source": [
    "# data_movies.groupby(\"movie_title\").count()"
   ]
  },
  {
   "cell_type": "markdown",
   "metadata": {},
   "source": [
    "#### end of try again later"
   ]
  },
  {
   "cell_type": "markdown",
   "metadata": {},
   "source": [
    "## Working with the data"
   ]
  },
  {
   "cell_type": "markdown",
   "metadata": {},
   "source": [
    "### Details about all customers/movies"
   ]
  },
  {
   "cell_type": "code",
   "execution_count": 14,
   "metadata": {},
   "outputs": [
    {
     "name": "stdout",
     "output_type": "stream",
     "text": [
      "       customer_id rating       avg_rating\n",
      "                      sum count           \n",
      "0                6   45.0    13   3.461538\n",
      "1                7   83.0    18   4.611111\n",
      "2               10   16.0     5   3.200000\n",
      "3               25    3.0     1   3.000000\n",
      "4               33    4.0     1   4.000000\n",
      "...            ...    ...   ...        ...\n",
      "360194     2649401   11.0     3   3.666667\n",
      "360195     2649404    7.0     2   3.500000\n",
      "360196     2649409   15.0     4   3.750000\n",
      "360197     2649426   47.0    11   4.272727\n",
      "360198     2649429   23.0     6   3.833333\n",
      "\n",
      "[360199 rows x 4 columns]\n"
     ]
    }
   ],
   "source": [
    "# get the average movie rating for all customers\n",
    "# used to determine if this user typically gives bad or good reviews\n",
    "# and then we can see if he really hates or loves a movie\n",
    "all_customers_average_ratings = all_customers_get_average_rating()\n",
    "print(all_customers_average_ratings)"
   ]
  },
  {
   "cell_type": "code",
   "execution_count": 15,
   "metadata": {},
   "outputs": [
    {
     "name": "stdout",
     "output_type": "stream",
     "text": [
      "    movie_id  rating       avg_rating\n",
      "                 sum count           \n",
      "0          1  2051.0   547   3.749543\n",
      "1          2   516.0   145   3.558621\n",
      "2          3  7326.0  2012   3.641153\n",
      "3          4   389.0   142   2.739437\n",
      "4          5  4468.0  1140   3.919298\n",
      "..       ...     ...   ...        ...\n",
      "463      464   226.0    82   2.756098\n",
      "464      465   292.0   100   2.920000\n",
      "465      466  1357.0   362   3.748619\n",
      "466      467  3759.0  1055   3.563033\n",
      "467      468  4062.0  1158   3.507772\n",
      "\n",
      "[468 rows x 4 columns]\n"
     ]
    }
   ],
   "source": [
    "all_movies_average_rating = all_movies_get_average_rating()\n",
    "print(all_movies_average_rating)"
   ]
  },
  {
   "cell_type": "code",
   "execution_count": 55,
   "metadata": {},
   "outputs": [
    {
     "name": "stdout",
     "output_type": "stream",
     "text": [
      "       customer_id rating       avg_rating\n",
      "                      sum count           \n",
      "0                6   45.0    13   3.461538\n",
      "2               10   16.0     5   3.200000\n",
      "3               25    3.0     1   3.000000\n",
      "5               42   14.0     4   3.500000\n",
      "6               59   25.0     7   3.571429\n",
      "...            ...    ...   ...        ...\n",
      "360193     2649388   22.0     7   3.142857\n",
      "360194     2649401   11.0     3   3.666667\n",
      "360195     2649404    7.0     2   3.500000\n",
      "360196     2649409   15.0     4   3.750000\n",
      "360198     2649429   23.0     6   3.833333\n",
      "\n",
      "[207379 rows x 4 columns]\n"
     ]
    }
   ],
   "source": [
    "get_customers_avg_rating_less_than(max_rating=4)"
   ]
  },
  {
   "cell_type": "code",
   "execution_count": 17,
   "metadata": {},
   "outputs": [
    {
     "name": "stdout",
     "output_type": "stream",
     "text": [
      "       customer_id rating       avg_rating\n",
      "                      sum count           \n",
      "0                6   45.0    13   3.461538\n",
      "2               10   16.0     5   3.200000\n",
      "3               25    3.0     1   3.000000\n",
      "5               42   14.0     4   3.500000\n",
      "6               59   25.0     7   3.571429\n",
      "...            ...    ...   ...        ...\n",
      "360193     2649388   22.0     7   3.142857\n",
      "360194     2649401   11.0     3   3.666667\n",
      "360195     2649404    7.0     2   3.500000\n",
      "360196     2649409   15.0     4   3.750000\n",
      "360198     2649429   23.0     6   3.833333\n",
      "\n",
      "[207379 rows x 4 columns]\n"
     ]
    }
   ],
   "source": [
    "get_customers_avg_rating_less_than(max_rating=4)"
   ]
  },
  {
   "cell_type": "code",
   "execution_count": 18,
   "metadata": {},
   "outputs": [
    {
     "name": "stdout",
     "output_type": "stream",
     "text": [
      "       customer_id rating       avg_rating\n",
      "                      sum count           \n",
      "1                7   83.0    18   4.611111\n",
      "13             126    5.0     1   5.000000\n",
      "15             134   83.0    18   4.611111\n",
      "19             168    9.0     2   4.500000\n",
      "27             199   76.0    18   4.222222\n",
      "...            ...    ...   ...        ...\n",
      "360181     2649311   29.0     7   4.142857\n",
      "360184     2649328   21.0     5   4.200000\n",
      "360186     2649335   41.0    10   4.100000\n",
      "360190     2649375   30.0     7   4.285714\n",
      "360197     2649426   47.0    11   4.272727\n",
      "\n",
      "[92187 rows x 4 columns]\n"
     ]
    }
   ],
   "source": [
    "get_customers_avg_rating_higher_than(min_rating=4)"
   ]
  },
  {
   "cell_type": "code",
   "execution_count": 19,
   "metadata": {},
   "outputs": [
    {
     "name": "stdout",
     "output_type": "stream",
     "text": [
      "    movie_id  rating       avg_rating\n",
      "                 sum count           \n",
      "0          1  2051.0   547   3.749543\n",
      "1          2   516.0   145   3.558621\n",
      "2          3  7326.0  2012   3.641153\n",
      "3          4   389.0   142   2.739437\n",
      "4          5  4468.0  1140   3.919298\n",
      "..       ...     ...   ...        ...\n",
      "463      464   226.0    82   2.756098\n",
      "464      465   292.0   100   2.920000\n",
      "465      466  1357.0   362   3.748619\n",
      "466      467  3759.0  1055   3.563033\n",
      "467      468  4062.0  1158   3.507772\n",
      "\n",
      "[468 rows x 4 columns]\n"
     ]
    }
   ],
   "source": [
    "get_movies_avg_rating_less_than(max_rating=5)"
   ]
  },
  {
   "cell_type": "code",
   "execution_count": 20,
   "metadata": {},
   "outputs": [
    {
     "name": "stdout",
     "output_type": "stream",
     "text": [
      "    movie_id  rating       avg_rating\n",
      "                 sum count           \n",
      "0          1  2051.0   547   3.749543\n",
      "1          2   516.0   145   3.558621\n",
      "2          3  7326.0  2012   3.641153\n",
      "3          4   389.0   142   2.739437\n",
      "4          5  4468.0  1140   3.919298\n",
      "..       ...     ...   ...        ...\n",
      "463      464   226.0    82   2.756098\n",
      "464      465   292.0   100   2.920000\n",
      "465      466  1357.0   362   3.748619\n",
      "466      467  3759.0  1055   3.563033\n",
      "467      468  4062.0  1158   3.507772\n",
      "\n",
      "[443 rows x 4 columns]\n"
     ]
    }
   ],
   "source": [
    "get_movies_avg_rating_less_than(max_rating=4)"
   ]
  },
  {
   "cell_type": "code",
   "execution_count": 21,
   "metadata": {},
   "outputs": [
    {
     "data": {
      "text/html": [
       "<div>\n",
       "<style scoped>\n",
       "    .dataframe tbody tr th:only-of-type {\n",
       "        vertical-align: middle;\n",
       "    }\n",
       "\n",
       "    .dataframe tbody tr th {\n",
       "        vertical-align: top;\n",
       "    }\n",
       "\n",
       "    .dataframe thead th {\n",
       "        text-align: right;\n",
       "    }\n",
       "</style>\n",
       "<table border=\"1\" class=\"dataframe\">\n",
       "  <thead>\n",
       "    <tr style=\"text-align: right;\">\n",
       "      <th></th>\n",
       "      <th>customer_id</th>\n",
       "      <th>movie_id</th>\n",
       "    </tr>\n",
       "  </thead>\n",
       "  <tbody>\n",
       "    <tr>\n",
       "      <th>0</th>\n",
       "      <td>6</td>\n",
       "      <td>13</td>\n",
       "    </tr>\n",
       "    <tr>\n",
       "      <th>1</th>\n",
       "      <td>7</td>\n",
       "      <td>18</td>\n",
       "    </tr>\n",
       "    <tr>\n",
       "      <th>2</th>\n",
       "      <td>10</td>\n",
       "      <td>5</td>\n",
       "    </tr>\n",
       "    <tr>\n",
       "      <th>3</th>\n",
       "      <td>25</td>\n",
       "      <td>1</td>\n",
       "    </tr>\n",
       "    <tr>\n",
       "      <th>4</th>\n",
       "      <td>33</td>\n",
       "      <td>1</td>\n",
       "    </tr>\n",
       "    <tr>\n",
       "      <th>...</th>\n",
       "      <td>...</td>\n",
       "      <td>...</td>\n",
       "    </tr>\n",
       "    <tr>\n",
       "      <th>360194</th>\n",
       "      <td>2649401</td>\n",
       "      <td>3</td>\n",
       "    </tr>\n",
       "    <tr>\n",
       "      <th>360195</th>\n",
       "      <td>2649404</td>\n",
       "      <td>2</td>\n",
       "    </tr>\n",
       "    <tr>\n",
       "      <th>360196</th>\n",
       "      <td>2649409</td>\n",
       "      <td>4</td>\n",
       "    </tr>\n",
       "    <tr>\n",
       "      <th>360197</th>\n",
       "      <td>2649426</td>\n",
       "      <td>11</td>\n",
       "    </tr>\n",
       "    <tr>\n",
       "      <th>360198</th>\n",
       "      <td>2649429</td>\n",
       "      <td>6</td>\n",
       "    </tr>\n",
       "  </tbody>\n",
       "</table>\n",
       "<p>360199 rows × 2 columns</p>\n",
       "</div>"
      ],
      "text/plain": [
       "        customer_id  movie_id\n",
       "0                 6        13\n",
       "1                 7        18\n",
       "2                10         5\n",
       "3                25         1\n",
       "4                33         1\n",
       "...             ...       ...\n",
       "360194      2649401         3\n",
       "360195      2649404         2\n",
       "360196      2649409         4\n",
       "360197      2649426        11\n",
       "360198      2649429         6\n",
       "\n",
       "[360199 rows x 2 columns]"
      ]
     },
     "execution_count": 21,
     "metadata": {},
     "output_type": "execute_result"
    }
   ],
   "source": [
    "count_movies_rated_by_customer = all_customers_get_movie_rated_count()\n",
    "count_movies_rated_by_customer"
   ]
  },
  {
   "cell_type": "code",
   "execution_count": 22,
   "metadata": {},
   "outputs": [],
   "source": [
    "def generate_random_user_ids(from_n, to_n):\n",
    "    ids = np.unique(data_rating['customer_id'])[from_n:to_n]\n",
    "    print(\"random user id used while in development\\n\")\n",
    "    return ids"
   ]
  },
  {
   "cell_type": "code",
   "execution_count": 23,
   "metadata": {},
   "outputs": [
    {
     "name": "stdout",
     "output_type": "stream",
     "text": [
      "random user id used while in development\n",
      "\n"
     ]
    },
    {
     "data": {
      "text/plain": [
       "array([ 7410,  7411,  7459,  7461,  7462,  7497,  7521,  7524,  7538,\n",
       "        7544,  7548,  7550,  7554,  7576,  7577,  7579,  7580,  7581,\n",
       "        7594,  7599,  7601,  7602,  7613,  7617,  7620,  7623,  7628,\n",
       "        7634,  7652,  7659,  7661,  7677,  7683,  7703,  7708,  7714,\n",
       "        7715,  7730,  7745,  7748,  7751,  7766,  7770,  7775,  7786,\n",
       "        7797,  7798,  7799,  7801,  7805,  7806,  7807,  7815,  7837,\n",
       "        7839,  7846,  7851,  7867,  7869,  7877,  7882,  7889,  7899,\n",
       "        7903,  7904,  7908,  7910,  7911,  7921,  7927,  7940,  7942,\n",
       "        7949,  7953,  7956,  7963,  7964,  7968,  7997,  8002,  8004,\n",
       "        8012,  8023,  8026,  8032,  8043,  8053,  8055,  8056,  8061,\n",
       "        8074,  8079,  8081,  8092,  8095,  8102,  8117,  8118,  8121,\n",
       "        8130,  8135,  8138,  8141,  8143,  8158,  8160,  8167,  8170,\n",
       "        8174,  8175,  8180,  8183,  8185,  8191,  8198,  8200,  8205,\n",
       "        8207,  8209,  8210,  8212,  8219,  8221,  8226,  8230,  8270,\n",
       "        8274,  8275,  8291,  8293,  8298,  8299,  8309,  8325,  8334,\n",
       "        8336,  8344,  8358,  8367,  8372,  8377,  8380,  8382,  8388,\n",
       "        8396,  8413,  8422,  8427,  8431,  8440,  8441,  8450,  8458,\n",
       "        8465,  8493,  8503,  8505,  8509,  8511,  8522,  8523,  8524,\n",
       "        8540,  8554,  8568,  8570,  8573,  8579,  8580,  8588,  8591,\n",
       "        8606,  8621,  8625,  8626,  8629,  8632,  8643,  8650,  8651,\n",
       "        8660,  8664,  8668,  8669,  8670,  8679,  8680,  8685,  8689,\n",
       "        8705,  8722,  8723,  8727,  8731,  8748,  8753,  8754,  8755,\n",
       "        8757,  8764,  8766,  8781,  8797,  8801,  8803,  8804,  8807,\n",
       "        8808,  8809,  8815,  8820,  8826,  8832,  8846,  8847,  8862,\n",
       "        8881,  8883,  8886,  8895,  8896,  8899,  8915,  8923,  8924,\n",
       "        8929,  8945,  8965,  8973,  8980,  8981,  8983,  8991,  8992,\n",
       "        8999,  9003,  9004,  9005,  9008,  9033,  9045,  9049,  9064,\n",
       "        9071,  9106,  9107,  9114,  9133,  9139,  9160,  9166,  9172,\n",
       "        9174,  9176,  9184,  9204,  9245,  9270,  9271,  9280,  9282,\n",
       "        9290,  9296,  9320,  9321,  9326,  9330,  9338,  9360,  9366,\n",
       "        9367,  9371,  9375,  9377,  9388,  9393,  9394,  9395,  9396,\n",
       "        9398,  9399,  9417,  9424,  9450,  9456,  9462,  9482,  9489,\n",
       "        9507,  9541,  9545,  9551,  9553,  9557,  9561,  9564,  9580,\n",
       "        9582,  9592,  9595,  9597,  9601,  9607,  9625,  9630,  9632,\n",
       "        9636,  9660,  9661,  9667,  9678,  9682,  9686,  9687,  9691,\n",
       "        9711,  9714,  9724,  9727,  9730,  9732,  9734,  9748,  9781,\n",
       "        9790,  9796,  9801,  9803,  9815,  9816,  9824,  9850,  9861,\n",
       "        9872,  9891,  9893,  9894,  9897,  9911,  9914,  9924,  9928,\n",
       "        9948,  9954,  9960,  9964,  9971,  9972,  9979,  9980,  9999,\n",
       "       10006, 10007, 10016, 10021, 10023, 10032, 10044, 10045, 10051,\n",
       "       10071, 10078, 10084, 10089, 10095, 10100, 10114, 10115, 10121,\n",
       "       10137, 10161, 10192, 10200, 10202, 10224, 10227, 10228, 10230,\n",
       "       10232, 10241, 10251, 10252, 10261, 10268, 10270, 10273, 10289,\n",
       "       10308, 10310, 10311, 10315, 10325, 10337, 10346, 10349, 10353,\n",
       "       10356, 10367, 10374, 10380, 10397, 10401, 10411, 10456, 10470,\n",
       "       10478, 10485, 10490, 10493, 10496, 10520, 10536, 10541, 10547,\n",
       "       10548, 10564, 10565, 10567, 10574, 10577, 10584, 10593, 10609,\n",
       "       10610, 10612, 10616, 10624, 10630, 10637, 10638, 10645, 10655,\n",
       "       10661, 10670, 10677, 10679, 10688, 10696, 10703, 10712, 10728,\n",
       "       10733, 10737, 10742, 10746, 10772, 10779, 10791, 10794, 10800,\n",
       "       10805, 10808, 10817, 10822, 10827, 10830, 10832, 10833, 10839,\n",
       "       10841, 10853, 10855, 10867, 10870, 10874, 10896, 10897, 10899,\n",
       "       10901, 10906, 10910, 10918, 10942, 10943, 10947, 10948, 10949,\n",
       "       10954, 10970, 10971, 10972, 10976, 10977, 10981, 10996, 11005,\n",
       "       11007, 11016, 11019, 11027, 11043, 11050, 11059, 11062, 11070,\n",
       "       11099, 11102, 11104, 11109, 11122])"
      ]
     },
     "execution_count": 23,
     "metadata": {},
     "output_type": "execute_result"
    }
   ],
   "source": [
    "generate_random_user_ids(1000, 1500)"
   ]
  },
  {
   "cell_type": "markdown",
   "metadata": {},
   "source": [
    "### Details about a specific customer"
   ]
  },
  {
   "cell_type": "code",
   "execution_count": 24,
   "metadata": {},
   "outputs": [],
   "source": [
    "# ids I like -> 28812, 56514, 56520, 1488844\n",
    "customer_id_use = 84100"
   ]
  },
  {
   "cell_type": "code",
   "execution_count": 25,
   "metadata": {},
   "outputs": [
    {
     "data": {
      "text/html": [
       "<div>\n",
       "<style scoped>\n",
       "    .dataframe tbody tr th:only-of-type {\n",
       "        vertical-align: middle;\n",
       "    }\n",
       "\n",
       "    .dataframe tbody tr th {\n",
       "        vertical-align: top;\n",
       "    }\n",
       "\n",
       "    .dataframe thead th {\n",
       "        text-align: right;\n",
       "    }\n",
       "</style>\n",
       "<table border=\"1\" class=\"dataframe\">\n",
       "  <thead>\n",
       "    <tr style=\"text-align: right;\">\n",
       "      <th></th>\n",
       "      <th>movie_id</th>\n",
       "      <th>customer_id</th>\n",
       "      <th>rating</th>\n",
       "      <th>movie_year</th>\n",
       "      <th>movie_title</th>\n",
       "    </tr>\n",
       "  </thead>\n",
       "  <tbody>\n",
       "    <tr>\n",
       "      <th>141847</th>\n",
       "      <td>30</td>\n",
       "      <td>84100</td>\n",
       "      <td>5.0</td>\n",
       "      <td>2003.0</td>\n",
       "      <td>Something's Gotta Give</td>\n",
       "    </tr>\n",
       "    <tr>\n",
       "      <th>757653</th>\n",
       "      <td>191</td>\n",
       "      <td>84100</td>\n",
       "      <td>4.0</td>\n",
       "      <td>2003.0</td>\n",
       "      <td>X2: X-Men United</td>\n",
       "    </tr>\n",
       "    <tr>\n",
       "      <th>1408832</th>\n",
       "      <td>299</td>\n",
       "      <td>84100</td>\n",
       "      <td>4.0</td>\n",
       "      <td>2001.0</td>\n",
       "      <td>Bridget Jones's Diary</td>\n",
       "    </tr>\n",
       "    <tr>\n",
       "      <th>1936216</th>\n",
       "      <td>357</td>\n",
       "      <td>84100</td>\n",
       "      <td>5.0</td>\n",
       "      <td>2003.0</td>\n",
       "      <td>House of Sand and Fog</td>\n",
       "    </tr>\n",
       "    <tr>\n",
       "      <th>2417368</th>\n",
       "      <td>457</td>\n",
       "      <td>84100</td>\n",
       "      <td>4.0</td>\n",
       "      <td>2004.0</td>\n",
       "      <td>Kill Bill: Vol. 2</td>\n",
       "    </tr>\n",
       "  </tbody>\n",
       "</table>\n",
       "</div>"
      ],
      "text/plain": [
       "         movie_id  customer_id  rating  movie_year             movie_title\n",
       "141847         30        84100     5.0      2003.0  Something's Gotta Give\n",
       "757653        191        84100     4.0      2003.0        X2: X-Men United\n",
       "1408832       299        84100     4.0      2001.0   Bridget Jones's Diary\n",
       "1936216       357        84100     5.0      2003.0   House of Sand and Fog\n",
       "2417368       457        84100     4.0      2004.0       Kill Bill: Vol. 2"
      ]
     },
     "execution_count": 25,
     "metadata": {},
     "output_type": "execute_result"
    }
   ],
   "source": [
    "#all_custumers_id_rows(customer_id=customer_id_use)\n",
    "## same as line above but including movie_year and movie_title\n",
    "all_customers_id_plus_movie_title_rows(customer_id=customer_id_use)"
   ]
  },
  {
   "cell_type": "code",
   "execution_count": 26,
   "metadata": {},
   "outputs": [
    {
     "data": {
      "text/plain": [
       "11376    4.4\n",
       "Name: avg_rating, dtype: float64"
      ]
     },
     "execution_count": 26,
     "metadata": {},
     "output_type": "execute_result"
    }
   ],
   "source": [
    "get_users_avg_rating(customer_id=customer_id_use)"
   ]
  },
  {
   "cell_type": "code",
   "execution_count": 27,
   "metadata": {},
   "outputs": [
    {
     "name": "stdout",
     "output_type": "stream",
     "text": [
      "                     movie_title  rating\n",
      "movie_id                                \n",
      "30        Something's Gotta Give     5.0\n",
      "191             X2: X-Men United     4.0\n",
      "299        Bridget Jones's Diary     4.0\n",
      "357        House of Sand and Fog     5.0\n",
      "457            Kill Bill: Vol. 2     4.0\n",
      "average rating 11376    4.4\n",
      "Name: avg_rating, dtype: float64\n"
     ]
    }
   ],
   "source": [
    "display_movies_customer_rated_higher_than(customer_id=customer_id_use, min_rating=4)"
   ]
  },
  {
   "cell_type": "code",
   "execution_count": 28,
   "metadata": {},
   "outputs": [
    {
     "name": "stdout",
     "output_type": "stream",
     "text": [
      "Empty DataFrame\n",
      "Columns: [movie_title, rating]\n",
      "Index: []\n",
      "average rating 11376    4.4\n",
      "Name: avg_rating, dtype: float64\n"
     ]
    }
   ],
   "source": [
    "display_movies_customer_rated_lower_than(customer_id=customer_id_use, max_rating=4)"
   ]
  },
  {
   "cell_type": "code",
   "execution_count": 29,
   "metadata": {},
   "outputs": [
    {
     "name": "stdout",
     "output_type": "stream",
     "text": [
      "User 84100 loved these movies\n",
      "Something's Gotta Give\n",
      "X2: X-Men United\n",
      "Bridget Jones's Diary\n",
      "House of Sand and Fog\n",
      "Kill Bill: Vol. 2\n",
      "\n",
      "and disliked these movies\n"
     ]
    }
   ],
   "source": [
    "get_users_loved_hated_movies(customer_id=customer_id_use, minmax_rating=4)"
   ]
  },
  {
   "cell_type": "code",
   "execution_count": 30,
   "metadata": {},
   "outputs": [
    {
     "data": {
      "text/html": [
       "<div>\n",
       "<style scoped>\n",
       "    .dataframe tbody tr th:only-of-type {\n",
       "        vertical-align: middle;\n",
       "    }\n",
       "\n",
       "    .dataframe tbody tr th {\n",
       "        vertical-align: top;\n",
       "    }\n",
       "\n",
       "    .dataframe thead th {\n",
       "        text-align: right;\n",
       "    }\n",
       "</style>\n",
       "<table border=\"1\" class=\"dataframe\">\n",
       "  <thead>\n",
       "    <tr style=\"text-align: right;\">\n",
       "      <th></th>\n",
       "      <th>movie_id</th>\n",
       "      <th>customer_id</th>\n",
       "      <th>rating</th>\n",
       "    </tr>\n",
       "  </thead>\n",
       "  <tbody>\n",
       "    <tr>\n",
       "      <th>0</th>\n",
       "      <td>1</td>\n",
       "      <td>1488844</td>\n",
       "      <td>3.0</td>\n",
       "    </tr>\n",
       "    <tr>\n",
       "      <th>1</th>\n",
       "      <td>1</td>\n",
       "      <td>822109</td>\n",
       "      <td>5.0</td>\n",
       "    </tr>\n",
       "    <tr>\n",
       "      <th>2</th>\n",
       "      <td>1</td>\n",
       "      <td>885013</td>\n",
       "      <td>4.0</td>\n",
       "    </tr>\n",
       "    <tr>\n",
       "      <th>3</th>\n",
       "      <td>1</td>\n",
       "      <td>30878</td>\n",
       "      <td>4.0</td>\n",
       "    </tr>\n",
       "    <tr>\n",
       "      <th>4</th>\n",
       "      <td>1</td>\n",
       "      <td>823519</td>\n",
       "      <td>3.0</td>\n",
       "    </tr>\n",
       "    <tr>\n",
       "      <th>...</th>\n",
       "      <td>...</td>\n",
       "      <td>...</td>\n",
       "      <td>...</td>\n",
       "    </tr>\n",
       "    <tr>\n",
       "      <th>2499995</th>\n",
       "      <td>468</td>\n",
       "      <td>1404021</td>\n",
       "      <td>5.0</td>\n",
       "    </tr>\n",
       "    <tr>\n",
       "      <th>2499996</th>\n",
       "      <td>468</td>\n",
       "      <td>544108</td>\n",
       "      <td>3.0</td>\n",
       "    </tr>\n",
       "    <tr>\n",
       "      <th>2499997</th>\n",
       "      <td>468</td>\n",
       "      <td>1071584</td>\n",
       "      <td>4.0</td>\n",
       "    </tr>\n",
       "    <tr>\n",
       "      <th>2499998</th>\n",
       "      <td>468</td>\n",
       "      <td>256747</td>\n",
       "      <td>3.0</td>\n",
       "    </tr>\n",
       "    <tr>\n",
       "      <th>2499999</th>\n",
       "      <td>468</td>\n",
       "      <td>1155304</td>\n",
       "      <td>3.0</td>\n",
       "    </tr>\n",
       "  </tbody>\n",
       "</table>\n",
       "<p>2500000 rows × 3 columns</p>\n",
       "</div>"
      ],
      "text/plain": [
       "         movie_id  customer_id  rating\n",
       "0               1      1488844     3.0\n",
       "1               1       822109     5.0\n",
       "2               1       885013     4.0\n",
       "3               1        30878     4.0\n",
       "4               1       823519     3.0\n",
       "...           ...          ...     ...\n",
       "2499995       468      1404021     5.0\n",
       "2499996       468       544108     3.0\n",
       "2499997       468      1071584     4.0\n",
       "2499998       468       256747     3.0\n",
       "2499999       468      1155304     3.0\n",
       "\n",
       "[2500000 rows x 3 columns]"
      ]
     },
     "execution_count": 30,
     "metadata": {},
     "output_type": "execute_result"
    }
   ],
   "source": [
    "\n",
    "data_rating"
   ]
  },
  {
   "cell_type": "markdown",
   "metadata": {},
   "source": [
    "## Recommendations with collaborative filtering"
   ]
  },
  {
   "cell_type": "code",
   "execution_count": 31,
   "metadata": {},
   "outputs": [],
   "source": [
    "def build_training_set(df):\n",
    "    reader = Reader()\n",
    "    svd = SVD()\n",
    "    data_new = Dataset.load_from_df(df[['customer_id', 'movie_id', 'rating']], reader)\n",
    "    trainset = data_new.build_full_trainset()\n",
    "    svd.fit(trainset)\n",
    "    return trainset, svd\n",
    "\n",
    "def get_summary(type=\"movie_id\"):\n",
    "    #>IF MOVIE:  movie_id, movie rating count, movie rating mean\n",
    "    #>IF CUSTOMER: customer_id, custumer rating count, customer rating mean\n",
    "    df_count_mean_summary = data_rating.groupby(type)['rating'].agg(['count', 'mean'])\n",
    "    df_count_mean_summary.index = df_count_mean_summary.index.map(int)\n",
    "    #>IF MOVIE: returns 1799.0 as a benchmark number\n",
    "    #IF CUSTOMER: returns 52.0 as a benchmark number\n",
    "    benchmark = round(df_count_mean_summary['count'].quantile(0.7),0)\n",
    "    # drop all rows below benchmark\n",
    "    df_drop_list = df_count_mean_summary[df_count_mean_summary['count'] < benchmark]\n",
    "    # return all indexes to drop\n",
    "    return df_drop_list\n",
    "\n",
    "def get_customer_recommendations(customer_id, predictor):\n",
    "    #> returns movie_id, movie_year, movie_title\n",
    "    chosen_customer_pred = data_movies.copy()\n",
    "    # fails if movie_id is the index so we have to reset the index back to normal (0-N)\n",
    "    chosen_customer_pred = chosen_customer_pred.reset_index()\n",
    "    # makes sure that we only pick movies that are not in the movie dropped list\n",
    "    chosen_customer_pred = chosen_customer_pred[~chosen_customer_pred['movie_id'].isin(df_movie_drop_list)]\n",
    "    # make prediction for customer with id = <customer_id> and put it into 'estimated_score'\n",
    "    chosen_customer_pred['estimated_score'] = chosen_customer_pred['movie_id'].apply(lambda x: predictor.predict(customer_id, x).est)\n",
    "    # sort by 'estimated score'\n",
    "    chosen_customer_pred = chosen_customer_pred.sort_values('estimated_score', ascending=False).set_index('movie_id')\n",
    "    return chosen_customer_pred\n",
    "\n",
    "def display_rated_content(customer_id=customer_id_use, number_to_show=20):\n",
    "    print(\"Movies/TV Shows rated by customer\", customer_id)\n",
    "    df = all_customers_id_plus_movie_title_rows(customer_id=customer_id)\n",
    "    df = df[['movie_title', 'rating']].sort_values('rating', ascending=False)\n",
    "    print(df[0:number_to_show].set_index('movie_title'))\n",
    "\n",
    "def display_customers_recommendations(customer_id=customer_id_use, df=[], number_to_show=20):\n",
    "    print(\"Movies/TV Shows recommended to customer\")\n",
    "    print(df[['movie_title', 'estimated_score']][0:number_to_show].set_index('movie_title'))\n",
    "\n",
    "def display_history_plus_recommended(customer_id=customer_id_use, number_to_show=25):\n",
    "    display_rated_content(customer_id=customer_id, number_to_show=number_to_show)\n",
    "    chosen_customer_pred = get_customer_recommendations(customer_id=customer_id, predictor=svd)\n",
    "    display_customers_recommendations(customer_id=customer_id, df=chosen_customer_pred, number_to_show=number_to_show)\n",
    "\n",
    "def get_evaluation_and_svd(use_pickle=True):\n",
    "    evaluationData_file_name = \"evaluationData_build_training_set\"\n",
    "    svd_file_name = \"svd_build_training_set\"\n",
    "    if(use_pickle == True):\n",
    "        evaluationData = load_pickle(evaluationData_file_name)\n",
    "        svd = load_pickle(svd_file_name)\n",
    "        return evaluationData, svd\n",
    "    else:\n",
    "        evaluationData, svd = build_training_set(data_rating)\n",
    "        save_to_pickle(evaluationData_file_name, evaluationData)\n",
    "        save_to_pickle(svd_file_name, svd)\n",
    "        return evaluationData, svd"
   ]
  },
  {
   "cell_type": "code",
   "execution_count": 32,
   "metadata": {},
   "outputs": [],
   "source": [
    "evaluationData, svd = get_evaluation_and_svd(use_pickle=use_pickle_file)"
   ]
  },
  {
   "cell_type": "code",
   "execution_count": 33,
   "metadata": {},
   "outputs": [],
   "source": [
    "## creating a list of the movies that we don't wanna include\n",
    "df_movie_drop_list = get_summary(type=\"movie_id\")\n",
    "#df_customer_drop_list = get_summary(type=\"customer_id\")"
   ]
  },
  {
   "cell_type": "code",
   "execution_count": 34,
   "metadata": {},
   "outputs": [
    {
     "name": "stdout",
     "output_type": "stream",
     "text": [
      "Movies/TV Shows rated by customer 79724\n",
      "                            rating\n",
      "movie_title                       \n",
      "Dogma                          5.0\n",
      "What the #$*! Do We Know!?     4.0\n",
      "Reservoir Dogs                 4.0\n",
      "Ed Wood                        3.0\n",
      "Pay It Forward                 3.0\n",
      "Igby Goes Down                 3.0\n",
      "Elephant                       2.0\n",
      "Movies/TV Shows recommended to customer\n",
      "                                                    estimated_score\n",
      "movie_title                                                        \n",
      "Aqua Teen Hunger Force: Vol. 1                             5.000000\n",
      "Lord of the Rings: The Return of the King: Exte...         4.490710\n",
      "Rudolph the Red-Nosed Reindeer                             4.346710\n",
      "ABC Primetime: Mel Gibson's The Passion of the ...         4.163294\n",
      "The Weather Underground                                    4.129848\n",
      "Boycott                                                    4.119695\n",
      "Zatoichi's Conspiracy                                      4.085259\n",
      "Inspector Morse 31: Death Is Now My Neighbour              4.072674\n",
      "The Rise and Fall of ECW                                   4.014325\n",
      "Lilo and Stitch                                            3.900466\n"
     ]
    }
   ],
   "source": [
    "display_history_plus_recommended(customer_id=79724, number_to_show=10)"
   ]
  },
  {
   "cell_type": "code",
   "execution_count": 35,
   "metadata": {},
   "outputs": [
    {
     "name": "stdout",
     "output_type": "stream",
     "text": [
      "Movies/TV Shows rated by customer 84100\n",
      "                        rating\n",
      "movie_title                   \n",
      "Something's Gotta Give     5.0\n",
      "House of Sand and Fog      5.0\n",
      "X2: X-Men United           4.0\n",
      "Bridget Jones's Diary      4.0\n",
      "Kill Bill: Vol. 2          4.0\n",
      "Movies/TV Shows recommended to customer\n",
      "                                                    estimated_score\n",
      "movie_title                                                        \n",
      "Lord of the Rings: The Return of the King: Exte...         4.657058\n",
      "Spitfire Grill                                             4.183466\n",
      "Zatoichi's Conspiracy                                      4.096977\n",
      "Aqua Teen Hunger Force: Vol. 1                             4.050542\n",
      "ABC Primetime: Mel Gibson's The Passion of the ...         4.047677\n",
      "Inspector Morse 31: Death Is Now My Neighbour              4.040900\n",
      "Dinosaur Planet                                            3.982314\n",
      "Lilo and Stitch                                            3.953918\n",
      "The Rise and Fall of ECW                                   3.922879\n",
      "Immortal Beloved                                           3.896705\n"
     ]
    }
   ],
   "source": [
    "display_history_plus_recommended(customer_id=customer_id_use, number_to_show=10)"
   ]
  },
  {
   "cell_type": "code",
   "execution_count": 36,
   "metadata": {},
   "outputs": [],
   "source": [
    "#TODO:\n",
    "#for the new user problem\n",
    "## find highest rated movie / tv shows that have been watched the most -> how likely is new user to click on it ?"
   ]
  },
  {
   "cell_type": "markdown",
   "metadata": {},
   "source": [
    "## SOMETHING"
   ]
  },
  {
   "cell_type": "code",
   "execution_count": 37,
   "metadata": {},
   "outputs": [],
   "source": [
    "from surprise import dataset\n",
    "from surprise import KNNBaseline\n",
    "from surprise.model_selection import train_test_split \n",
    "from surprise.model_selection import LeaveOneOut\n",
    "from surprise import accuracy"
   ]
  },
  {
   "cell_type": "code",
   "execution_count": 38,
   "metadata": {},
   "outputs": [],
   "source": [
    "def build_training_set_same_as_above(df):\n",
    "    reader = Reader()\n",
    "    svd = SVD()\n",
    "    data_new = Dataset.load_from_df(df[['customer_id', 'movie_id', 'rating']], reader)\n",
    "    trainset = data_new.build_full_trainset()\n",
    "    svd.fit(trainset)\n",
    "    return trainset, svd\n",
    "\n",
    "def print_evaluation_accuracy(prediction):\n",
    "    print(\"\\nEvaluating accuracy of model...\")\n",
    "    print(\"RMSE: \", accuracy.rmse(prediction, verbose=False))\n",
    "    print(\"MAE: \", accuracy.mae(prediction, verbose=False))"
   ]
  },
  {
   "cell_type": "code",
   "execution_count": 39,
   "metadata": {},
   "outputs": [
    {
     "name": "stdout",
     "output_type": "stream",
     "text": [
      "\n",
      "Building recommendation model...\n"
     ]
    }
   ],
   "source": [
    "reader = Reader(line_format='user item rating', rating_scale=(1, 5))\n",
    "class convert_to_raw_ratings(dataset.DatasetAutoFolds):\n",
    "    def __init__(self, df, reader):\n",
    "        self.raw_ratings = [(uid, iid, r, None) for (uid, iid, r) in zip(df['customer_id'], df['movie_id'], df['rating'])]\n",
    "        self.reader=reader\n",
    "\n",
    "raw_ratings = convert_to_raw_ratings(data_rating, reader)\n",
    "print(\"\\nBuilding recommendation model...\")\n",
    "trainSet, testSet = train_test_split(raw_ratings, test_size=.25, random_state=1)"
   ]
  },
  {
   "cell_type": "code",
   "execution_count": 40,
   "metadata": {},
   "outputs": [
    {
     "name": "stdout",
     "output_type": "stream",
     "text": [
      "\n",
      "Computing recommendations...\n"
     ]
    }
   ],
   "source": [
    "algo = SVD(random_state=10)\n",
    "algo.fit(trainSet)\n",
    "\n",
    "print(\"\\nComputing recommendations...\")\n",
    "predictions = algo.test(testSet)"
   ]
  },
  {
   "cell_type": "code",
   "execution_count": 41,
   "metadata": {},
   "outputs": [
    {
     "name": "stdout",
     "output_type": "stream",
     "text": [
      "Evaluating RMSE, MAE of algorithm SVD on 5 split(s).\n",
      "\n",
      "                  Fold 1  Fold 2  Fold 3  Fold 4  Fold 5  Mean    Std     \n",
      "RMSE (testset)    0.9888  0.9902  0.9898  0.9902  0.9916  0.9901  0.0009  \n",
      "MAE (testset)     0.7784  0.7787  0.7792  0.7786  0.7789  0.7787  0.0003  \n",
      "Fit time          93.36   95.67   94.75   91.04   91.13   93.19   1.87    \n",
      "Test time         4.59    3.12    4.12    4.15    4.15    4.02    0.49    \n"
     ]
    },
    {
     "data": {
      "text/plain": [
       "{'test_rmse': array([0.9887969 , 0.99020735, 0.98982276, 0.99020268, 0.99156106]),\n",
       " 'test_mae': array([0.77835025, 0.77868123, 0.77916855, 0.77860402, 0.77885895]),\n",
       " 'fit_time': (93.35542702674866,\n",
       "  95.67373394966125,\n",
       "  94.74725008010864,\n",
       "  91.03855204582214,\n",
       "  91.12549901008606),\n",
       " 'test_time': (4.58624267578125,\n",
       "  3.118312358856201,\n",
       "  4.116436004638672,\n",
       "  4.154078006744385,\n",
       "  4.148710250854492)}"
      ]
     },
     "execution_count": 41,
     "metadata": {},
     "output_type": "execute_result"
    }
   ],
   "source": [
    "cross_validate(algo,  raw_ratings, cv=5, verbose=True)"
   ]
  },
  {
   "cell_type": "code",
   "execution_count": 42,
   "metadata": {},
   "outputs": [
    {
     "name": "stdout",
     "output_type": "stream",
     "text": [
      "\n",
      "Evaluating accuracy of model...\n",
      "RMSE:  0.9912543460061926\n",
      "MAE:  0.7797843476506224\n"
     ]
    }
   ],
   "source": [
    "print_evaluation_accuracy(predictions)"
   ]
  },
  {
   "cell_type": "code",
   "execution_count": 43,
   "metadata": {},
   "outputs": [
    {
     "name": "stdout",
     "output_type": "stream",
     "text": [
      "\n",
      "Evaluating accuracy of model...\n",
      "RMSE:  1.0386634945860738\n",
      "MAE:  0.8522688604750867\n"
     ]
    }
   ],
   "source": [
    "print_evaluation_accuracy(svd.test(testSet))"
   ]
  },
  {
   "cell_type": "markdown",
   "metadata": {},
   "source": [
    "## other"
   ]
  },
  {
   "cell_type": "code",
   "execution_count": 44,
   "metadata": {},
   "outputs": [],
   "source": [
    "reader = Reader(line_format='user item rating', rating_scale=(1, 5))\n",
    "dataset = Dataset.load_from_df(data_rating[['customer_id', 'movie_id', 'rating']], reader)\n",
    "trainset = dataset.build_full_trainset()"
   ]
  },
  {
   "cell_type": "code",
   "execution_count": 45,
   "metadata": {},
   "outputs": [],
   "source": [
    "tmp_data_movies = data_movies[['movie_id', 'movie_title']]\n",
    "tmp_data_movies = tmp_data_movies.set_index('movie_id').T\n",
    "tmp_data_movies = tmp_data_movies.to_dict('list')\n",
    "tmp_data_movies = {k: str(v[0]) for k,v in tmp_data_movies.items()}"
   ]
  },
  {
   "cell_type": "code",
   "execution_count": 46,
   "metadata": {},
   "outputs": [
    {
     "name": "stdout",
     "output_type": "stream",
     "text": [
      "Computing the cosine similarity matrix...\n",
      "Done computing similarity matrix.\n",
      "Computing the cosine similarity matrix...\n",
      "Done computing similarity matrix.\n"
     ]
    }
   ],
   "source": [
    "similarity_matrix = KNNBasic(sim_options={'name': 'cosine', 'user_based': False}).fit(trainset).compute_similarities()"
   ]
  },
  {
   "cell_type": "code",
   "execution_count": 47,
   "metadata": {},
   "outputs": [],
   "source": [
    "# generate_random_user_ids(1000, 1500)"
   ]
  },
  {
   "cell_type": "code",
   "execution_count": 48,
   "metadata": {},
   "outputs": [],
   "source": [
    "# for i in generate_random_user_ids(1000, 1500):\n",
    "#     if (len(all_custumers_id_rows(i)) > 3):\n",
    "#         print(i)"
   ]
  },
  {
   "cell_type": "code",
   "execution_count": 49,
   "metadata": {},
   "outputs": [],
   "source": [
    "test_subject = customer_id_use#16272\n",
    "k = 10"
   ]
  },
  {
   "cell_type": "code",
   "execution_count": 50,
   "metadata": {},
   "outputs": [],
   "source": [
    "test_subject_iid = trainset.to_inner_uid(test_subject)\n",
    "\n",
    "test_subject_ratings = trainset.ur[test_subject_iid]\n",
    "k_neighbours = heapq.nlargest(k, test_subject_ratings, key=lambda t: t[1])"
   ]
  },
  {
   "cell_type": "code",
   "execution_count": 51,
   "metadata": {},
   "outputs": [],
   "source": [
    "candidates = defaultdict(float)\n",
    "\n",
    "for itemID, rating in k_neighbours:\n",
    "    try:\n",
    "        similarities = similarity_matrix[itemID]\n",
    "        for innerID, score in enumerate(similarities):\n",
    "            candidates[innerID] += score * (rating / 5.0)\n",
    "    except:\n",
    "        continue"
   ]
  },
  {
   "cell_type": "code",
   "execution_count": 52,
   "metadata": {},
   "outputs": [],
   "source": [
    "def getMovieName(movieID):\n",
    "  if int(movieID) in tmp_data_movies:\n",
    "    return tmp_data_movies[int(movieID)]\n",
    "  else:\n",
    "      return \"\""
   ]
  },
  {
   "cell_type": "code",
   "execution_count": 53,
   "metadata": {},
   "outputs": [
    {
     "name": "stdout",
     "output_type": "stream",
     "text": [
      "Movie:  Lord of the Rings: The Return of the King: Extended Edition: Bonus Material\n",
      "Movie:  Mississippi Burning\n",
      "Movie:  North by Northwest\n",
      "Movie:  Silkwood\n",
      "Movie:  Rabbit-Proof Fence\n",
      "Movie:  Woman of the Year\n",
      "Movie:  Elfen Lied\n",
      "Movie:  The Chorus\n",
      "Movie:  Sex and the City: Season 4\n",
      "Movie:  Parenthood\n",
      "Movie:  Charlotte's Web\n"
     ]
    }
   ],
   "source": [
    "watched = {}\n",
    "for itemID, rating in trainset.ur[test_subject_iid]:\n",
    "    watched[itemID] = 1\n",
    "\n",
    "recommendations = []\n",
    "position = 0\n",
    "for itemID, rating_sum in sorted(candidates.items(), key=itemgetter(1), reverse=True):\n",
    "    if not itemID in watched:\n",
    "        recommendations.append(getMovieName(trainset.to_raw_iid(itemID)))\n",
    "        position += 1\n",
    "        # only want top n which in our case in 10\n",
    "        if(position > 10): break\n",
    "\n",
    "for rec in recommendations:\n",
    "    print(\"Movie: \", rec)\n"
   ]
  },
  {
   "cell_type": "markdown",
   "metadata": {},
   "source": []
  },
  {
   "cell_type": "code",
   "execution_count": 54,
   "metadata": {},
   "outputs": [],
   "source": [
    "# #TODO: keep or throw away since it's never used\n",
    "# sim_options = {'name': 'pearson_baseline', 'user_based': False}\n",
    "# simsAlgo = KNNBaseline(sim_options=sim_options)\n",
    "# simsAlgo.fit(evaluationData)"
   ]
  },
  {
   "cell_type": "code",
   "execution_count": null,
   "metadata": {},
   "outputs": [],
   "source": []
  }
 ],
 "metadata": {
  "interpreter": {
   "hash": "eb60acc68106785d00a40fb3b1b3b80d861e6f0b0d60f9d8440fa3d46ca2822c"
  },
  "kernelspec": {
   "display_name": "Python 3.8.8 64-bit ('base': conda)",
   "name": "python3"
  },
  "language_info": {
   "codemirror_mode": {
    "name": "ipython",
    "version": 3
   },
   "file_extension": ".py",
   "mimetype": "text/x-python",
   "name": "python",
   "nbconvert_exporter": "python",
   "pygments_lexer": "ipython3",
   "version": "3.8.5"
  },
  "orig_nbformat": 2
 },
 "nbformat": 4,
 "nbformat_minor": 2
}
