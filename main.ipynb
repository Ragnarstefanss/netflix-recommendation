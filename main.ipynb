{
 "cells": [
  {
   "cell_type": "code",
   "execution_count": 1,
   "metadata": {},
   "outputs": [],
   "source": [
    "## INSTALL IF YOU DON'T HAVE SURPRISE ON YOUR MACHINE AND WOULD LIKE TO RUN THE CODE\n",
    "#!pip install surprise\n",
    "#!pip install import-ipynb"
   ]
  },
  {
   "cell_type": "code",
   "execution_count": 2,
   "metadata": {},
   "outputs": [],
   "source": [
    "import os\n",
    "import csv\n",
    "import pandas as pd\n",
    "import numpy as np\n",
    "import heapq\n",
    "import matplotlib.pyplot as plt\n",
    "import seaborn as sns\n",
    "from surprise import Reader, Dataset, SVD\n",
    "from surprise import dataset, KNNBaseline, accuracy\n",
    "from surprise.model_selection import cross_validate\n",
    "import pickle\n",
    "from random import *\n",
    "from surprise import accuracy\n",
    "from collections import defaultdict\n",
    "from surprise import KNNBasic\n",
    "from collections import defaultdict\n",
    "from operator import itemgetter\n",
    "import NetflixLoadData as NetflixLoadData"
   ]
  },
  {
   "cell_type": "markdown",
   "metadata": {},
   "source": [
    "# Explanation"
   ]
  },
  {
   "cell_type": "raw",
   "metadata": {},
   "source": [
    "I choose the netflix price dataset ( https://www.kaggle.com/netflix-inc/netflix-prize-data ). \n",
    "This data spans the timeframe from 1896 to 2005 and was used in the million dollar competition by Netflix.\n",
    "\n",
    "Which gave me a huge headache in the beginning of the project since the structure of the \n",
    "ratings csv had been implemented in a weird way.\n",
    "\n",
    "The way I fixed this to create a pandas dataframe can be seen in NetflixLoadData.py \n",
    "function create_dataframe(), I began by saving last seen movie_id which are the rows with\n",
    "\":\" in them, then I removed those lines and only focused on lines with multiple columns (with \",\" in them)\n",
    "until I saw the next line with \":\" which I used to replace as current movie_id.\n",
    "With this I was able to have movie_id in each row it correspended to.\n",
    "\n",
    "I also removed the date of review since it could influence the prediction algorithmn."
   ]
  },
  {
   "cell_type": "raw",
   "metadata": {},
   "source": [
    "---------------\n",
    "old structure:\n",
    "---------------\n",
    ": = movie_id\n",
    "_, _, _ = customer_id, rating, date_of_rating\n",
    "\n",
    "---------------\n",
    "new structure:\n",
    "---------------\n",
    "_, _, _ = movie_id, customer_id, rating\n",
    "\n",
    "\n",
    "\n",
    "From ===>\n",
    "\n",
    "1: \n",
    "1488844,3,2005-09-06\n",
    "822109,5,2005-05-13\n",
    "885013,4,2005-10-19\n",
    "30878,4,2005-12-26\n",
    "823519,3,2004-05-03\n",
    "...\n",
    "2:\n",
    "2059652,4,2005-09-05\n",
    "1666394,3,2005-04-19\n",
    "1759415,4,2005-04-22\n",
    "1959936,5,2005-11-21\n",
    "998862,4,2004-11-13\n",
    "...\n",
    "\n",
    "To ===>\n",
    "\n",
    "1,1488844,3.0\n",
    "1,822109,5.0\n",
    "1,885013,4.0\n",
    "1,30878,4.0\n",
    "1,823519,3.0\n",
    "...\n",
    "2, 2059652,4\n",
    "2, 1666394,3\n",
    "2, 1759415,4\n",
    "2, 1959936,5\n",
    "2, 998862,4"
   ]
  },
  {
   "cell_type": "raw",
   "metadata": {},
   "source": [
    "I chose this project to learn more about recommendations and how they worked.\n",
    "My main two hypothesis are would the leave one out algorithm make for better predictions or worse than using \n",
    "an algorithm with full data, and my second hypothesis is that outliers will affect average_rating in a big way."
   ]
  },
  {
   "cell_type": "raw",
   "metadata": {},
   "source": [
    "I chose only 5000 users and their accompaning data (movies/tv shows ratings) but the entire dataset is over 2gb of csv files.\n",
    "The reason for this is because this project is really computer heavy and finding recommendation could take \n",
    "from 10 minutes to an hour+ based on which algorithm I was using.\n",
    "\n",
    "The original user count was 480189, which is alot of data and by only choosing five thousand users there are 13271 movies/tv shows\n",
    "that don't have ratings (these five thousand users rated 4499 movies/tv shows out of 17770).\n",
    "\n",
    "This made the program run much smoother and faster but to get accurate recommendations, we would have to include \n",
    "the entire dataset in the future.\n",
    "\n",
    "I also exported all my data into their own files inside the folder data/ called smaller_netflix_*_cleaned.csv so I wouldn't have\n",
    "to call the first file I got from Kaggle, every single time which is 500mb+ and required filtering to be done on runtime.\n",
    "\n",
    "Now it's much faster to run that step and the streamlit website can open in seconds instead of minutes.\n",
    "\n",
    "I also put some of the algorithms in pickles files so the streamlit website does not have to do any of the hard tasks but I believe \n",
    "the files will be to large for canvas so if you are going to run the website for your selves the files can be located at\n",
    "https://drive.google.com/drive/folders/1mCLgawJHxQ9zqIlhnwqDyOEOzf8SEIZd?usp=sharing put it in the main directory under the folder name pickle/ \n",
    "and you should be good to go."
   ]
  },
  {
   "cell_type": "raw",
   "metadata": {},
   "source": [
    "I will use Surprise to work with the recommendations, Surprise is a Python Scikit tool used for recommendations systems https://surprise.readthedocs.io/en/stable/index.html\n",
    "\n",
    "Most of the helper function for this code is inside the file MovieCustomerInformation.py"
   ]
  },
  {
   "cell_type": "markdown",
   "metadata": {},
   "source": []
  },
  {
   "cell_type": "markdown",
   "metadata": {},
   "source": [
    "# Notebook"
   ]
  },
  {
   "cell_type": "code",
   "execution_count": 3,
   "metadata": {},
   "outputs": [],
   "source": [
    "use_pickle_file = True\n",
    "max_n = 2500000 #how many rows we want from data_ratings and data_rating_plus_movie_title\n",
    "reader = Reader(line_format='user item rating', rating_scale=(1, 5))\n",
    "\n",
    "def save_to_pickle(name, df):\n",
    "    path_name = \"pickle/\"+name+\".pickle\"\n",
    "    pickle_file = open(path_name,\"wb\")\n",
    "    pickle.dump(df, pickle_file)\n",
    "    pickle_file.close()\n",
    "\n",
    "def load_pickle(name):\n",
    "    path_name = \"pickle/\"+name+\".pickle\"\n",
    "    return_input = open(path_name, \"rb\")\n",
    "    return pickle.load(return_input)"
   ]
  },
  {
   "cell_type": "markdown",
   "metadata": {},
   "source": [
    "## Get data"
   ]
  },
  {
   "cell_type": "code",
   "execution_count": 4,
   "metadata": {},
   "outputs": [],
   "source": [
    "data_movies, data_rating, data_rating_plus_movie_title, _ = NetflixLoadData.get_data_files(use_small_dataset=True)"
   ]
  },
  {
   "cell_type": "code",
   "execution_count": 5,
   "metadata": {},
   "outputs": [
    {
     "data": {
      "text/html": [
       "<div>\n",
       "<style scoped>\n",
       "    .dataframe tbody tr th:only-of-type {\n",
       "        vertical-align: middle;\n",
       "    }\n",
       "\n",
       "    .dataframe tbody tr th {\n",
       "        vertical-align: top;\n",
       "    }\n",
       "\n",
       "    .dataframe thead th {\n",
       "        text-align: right;\n",
       "    }\n",
       "</style>\n",
       "<table border=\"1\" class=\"dataframe\">\n",
       "  <thead>\n",
       "    <tr style=\"text-align: right;\">\n",
       "      <th></th>\n",
       "      <th>movie_id</th>\n",
       "      <th>customer_id</th>\n",
       "      <th>rating</th>\n",
       "    </tr>\n",
       "  </thead>\n",
       "  <tbody>\n",
       "    <tr>\n",
       "      <th>0</th>\n",
       "      <td>1</td>\n",
       "      <td>1488844</td>\n",
       "      <td>3.0</td>\n",
       "    </tr>\n",
       "    <tr>\n",
       "      <th>1</th>\n",
       "      <td>1</td>\n",
       "      <td>822109</td>\n",
       "      <td>5.0</td>\n",
       "    </tr>\n",
       "    <tr>\n",
       "      <th>2</th>\n",
       "      <td>1</td>\n",
       "      <td>885013</td>\n",
       "      <td>4.0</td>\n",
       "    </tr>\n",
       "    <tr>\n",
       "      <th>3</th>\n",
       "      <td>1</td>\n",
       "      <td>30878</td>\n",
       "      <td>4.0</td>\n",
       "    </tr>\n",
       "    <tr>\n",
       "      <th>4</th>\n",
       "      <td>1</td>\n",
       "      <td>823519</td>\n",
       "      <td>3.0</td>\n",
       "    </tr>\n",
       "    <tr>\n",
       "      <th>...</th>\n",
       "      <td>...</td>\n",
       "      <td>...</td>\n",
       "      <td>...</td>\n",
       "    </tr>\n",
       "    <tr>\n",
       "      <th>813413</th>\n",
       "      <td>4499</td>\n",
       "      <td>101554</td>\n",
       "      <td>4.0</td>\n",
       "    </tr>\n",
       "    <tr>\n",
       "      <th>813414</th>\n",
       "      <td>4499</td>\n",
       "      <td>1334851</td>\n",
       "      <td>3.0</td>\n",
       "    </tr>\n",
       "    <tr>\n",
       "      <th>813415</th>\n",
       "      <td>4499</td>\n",
       "      <td>1852040</td>\n",
       "      <td>1.0</td>\n",
       "    </tr>\n",
       "    <tr>\n",
       "      <th>813416</th>\n",
       "      <td>4499</td>\n",
       "      <td>185372</td>\n",
       "      <td>1.0</td>\n",
       "    </tr>\n",
       "    <tr>\n",
       "      <th>813417</th>\n",
       "      <td>4499</td>\n",
       "      <td>2562830</td>\n",
       "      <td>4.0</td>\n",
       "    </tr>\n",
       "  </tbody>\n",
       "</table>\n",
       "<p>813418 rows × 3 columns</p>\n",
       "</div>"
      ],
      "text/plain": [
       "        movie_id  customer_id  rating\n",
       "0              1      1488844     3.0\n",
       "1              1       822109     5.0\n",
       "2              1       885013     4.0\n",
       "3              1        30878     4.0\n",
       "4              1       823519     3.0\n",
       "...          ...          ...     ...\n",
       "813413      4499       101554     4.0\n",
       "813414      4499      1334851     3.0\n",
       "813415      4499      1852040     1.0\n",
       "813416      4499       185372     1.0\n",
       "813417      4499      2562830     4.0\n",
       "\n",
       "[813418 rows x 3 columns]"
      ]
     },
     "execution_count": 5,
     "metadata": {},
     "output_type": "execute_result"
    }
   ],
   "source": [
    "data_rating"
   ]
  },
  {
   "cell_type": "code",
   "execution_count": null,
   "metadata": {},
   "outputs": [],
   "source": []
  },
  {
   "cell_type": "markdown",
   "metadata": {},
   "source": [
    "## Finding information about the data"
   ]
  },
  {
   "cell_type": "code",
   "execution_count": 6,
   "metadata": {},
   "outputs": [],
   "source": [
    "import MovieCustomerInformation as information\n",
    "max_rating = 4\n",
    "min_rating = 4"
   ]
  },
  {
   "cell_type": "markdown",
   "metadata": {},
   "source": [
    "### Details about all customers/movies"
   ]
  },
  {
   "cell_type": "markdown",
   "metadata": {},
   "source": [
    "#### finding out size of the data being used"
   ]
  },
  {
   "cell_type": "code",
   "execution_count": 7,
   "metadata": {},
   "outputs": [
    {
     "name": "stdout",
     "output_type": "stream",
     "text": [
      "number of customers\n",
      "4829\n",
      "4829\n"
     ]
    }
   ],
   "source": [
    "print(\"number of customers\")\n",
    "number_of_customers =  len(information.all_average_ratings(df=data_rating, type='customer_id')['customer_id'])\n",
    "print(number_of_customers)\n",
    "\n",
    "print(len(data_rating[\"customer_id\"].unique()))"
   ]
  },
  {
   "cell_type": "raw",
   "metadata": {},
   "source": [
    "We have to make sure both numbers from above (number of users being used) match otherwise something went wrong"
   ]
  },
  {
   "cell_type": "code",
   "execution_count": 8,
   "metadata": {},
   "outputs": [
    {
     "name": "stdout",
     "output_type": "stream",
     "text": [
      "Number of movies rated 4499\n",
      "Total movies in dataset 17770\n"
     ]
    }
   ],
   "source": [
    "number_of_movies = len(information.all_average_ratings(df=data_rating, type='movie_id')['movie_id'])\n",
    "print(\"Number of movies rated\", number_of_movies)\n",
    "print(\"Total movies in dataset\", len(data_movies[\"movie_id\"].unique()))"
   ]
  },
  {
   "cell_type": "raw",
   "metadata": {},
   "source": [
    "This makes sense, since we chose a very small dataset of 5 thousand users in the beginning because the program would \n",
    "otherwise take a very long time to run, so the 4829 users have rated 4499 movies out of the total 17770 movies"
   ]
  },
  {
   "cell_type": "markdown",
   "metadata": {},
   "source": [
    "#### average rating"
   ]
  },
  {
   "cell_type": "code",
   "execution_count": 9,
   "metadata": {},
   "outputs": [
    {
     "name": "stdout",
     "output_type": "stream",
     "text": [
      "All customers average ratings 3.5321404327111\n"
     ]
    }
   ],
   "source": [
    "customer_average_rating = information.all_average_ratings(df=data_rating, type='customer_id')[\"avg_rating\"].mean()\n",
    "print(\"All customers average ratings\", customer_average_rating)"
   ]
  },
  {
   "cell_type": "code",
   "execution_count": 10,
   "metadata": {},
   "outputs": [
    {
     "name": "stdout",
     "output_type": "stream",
     "text": [
      "All movies average ratings 2.7833812231234294\n"
     ]
    }
   ],
   "source": [
    "movie_average_rating = information.all_average_ratings(df=data_rating, type='movie_id')['avg_rating'].mean()\n",
    "print(\"All movies average ratings\", movie_average_rating)"
   ]
  },
  {
   "cell_type": "raw",
   "metadata": {},
   "source": [
    "possible reason for this bad score is shown in next cell below"
   ]
  },
  {
   "cell_type": "code",
   "execution_count": 11,
   "metadata": {},
   "outputs": [
    {
     "name": "stdout",
     "output_type": "stream",
     "text": [
      "Average rating for all customers (sorted by count)\n",
      "     customer_id   rating       avg_rating\n",
      "                      sum count           \n",
      "549       305344   8464.0  4467   1.894784\n",
      "727       387418   8079.0  4422   1.827001\n",
      "4425     2439493   4973.0  4195   1.185459\n",
      "3049     1664010  17104.0  4019   4.255785\n",
      "3861     2118461  15390.0  3769   4.083311\n",
      "...          ...      ...   ...        ...\n",
      "870       470861      5.0     1   5.000000\n",
      "1731      931793      5.0     1   5.000000\n",
      "3953     2176039      3.0     1   3.000000\n",
      "368       196497      5.0     1   5.000000\n",
      "3652     1989766      4.0     1   4.000000\n",
      "\n",
      "[4829 rows x 4 columns]\n"
     ]
    }
   ],
   "source": [
    "# get the average movie rating for all customers\n",
    "# used to determine if this user typically gives bad or good reviews\n",
    "# and then we can see if he really hates or loves a movie\n",
    "all_customers_average_ratings =  information.all_average_ratings(df=data_rating, type='customer_id')\n",
    "## sort by how many ratings person has given (rating count)\n",
    "print(\"Average rating for all customers (sorted by count)\")\n",
    "print(all_customers_average_ratings.sort_values(by=[('rating', 'count')], ascending=False))"
   ]
  },
  {
   "cell_type": "raw",
   "metadata": {},
   "source": [
    "The users that have rated the most (count) have rated ~99% of all the movies we selected \n",
    "(our movies rated is 4499 out of total 17770) which means that the top users are probaly the \n",
    "reason for why there exists many movies with bad score since they are the once that rated it with low score.\n",
    "\n",
    "for example user 305344 has rated 4467 out of the total 4499 movies which\n",
    "means he has not rated 32 items (movies/tv shows) and since his average_rating is low, he has rated almost all of the data with low score and\n",
    "dras down the average."
   ]
  },
  {
   "cell_type": "raw",
   "metadata": {},
   "source": [
    "the top 3 customer raters (count) also have a average_rating of 1.63, which means they could be the outliers for \n",
    "why movie average_rating is 2.7833812231234294 (seen couple lines above) since they have rated >99% of the movies \n",
    "and have a bad average_rating.\n",
    "\n",
    "This supports my hypothesis that outliers can have a huge impact on average rating but I could not have guessed\n",
    "that the top three users would have an average rating of 1.63, though it does make sense since people favour giving\n",
    "ratings if they dislike something (out of anger perhaps) but since these are the top raters they must watch alot of \n",
    "movies/tv shows which they dislike since they favour giving that rating."
   ]
  },
  {
   "cell_type": "raw",
   "metadata": {},
   "source": [
    "Edit: 18 November 2021 [20:36]\n",
    "(items in the sentence below is referring to movies or tv shows)\n",
    "\n",
    "If I had more time for this, I would implement an algorithm which I don't remember the name of, which\n",
    "takes average user rating for items into account before recommending a specific item to other users.\n",
    "If it knows that a specific user is not like other users in the system because that user gives everything a \n",
    "bad rating (as seen in top 3 users) then it takes that into account for how trust worthy this persons rating is \n",
    "on a specific item which is to be recommended to other users."
   ]
  },
  {
   "cell_type": "markdown",
   "metadata": {},
   "source": []
  },
  {
   "cell_type": "code",
   "execution_count": 12,
   "metadata": {},
   "outputs": [
    {
     "name": "stdout",
     "output_type": "stream",
     "text": [
      "Average rating for all movies (sorted by count)\n",
      "     movie_id   rating       avg_rating\n",
      "                   sum count           \n",
      "1904     1905  11738.0  3030   3.873927\n",
      "570       571  12222.0  3021   4.045680\n",
      "2451     2452  11777.0  2736   4.304459\n",
      "4305     4306  10877.0  2642   4.116957\n",
      "2861     2862  11235.0  2638   4.258908\n",
      "...       ...      ...   ...        ...\n",
      "1140     1141      7.0     4   1.750000\n",
      "4293     4294     15.0     4   3.750000\n",
      "886       887     14.0     4   3.500000\n",
      "2536     2537      3.0     2   1.500000\n",
      "4372     4373      1.0     1   1.000000\n",
      "\n",
      "[4499 rows x 4 columns]\n"
     ]
    }
   ],
   "source": [
    "all_movies_average_rating = information.all_average_ratings(df=data_rating, type='movie_id')\n",
    "## sort by how many ratings movie has (rating count)\n",
    "print(\"Average rating for all movies (sorted by count)\")\n",
    "print(all_movies_average_rating.sort_values(by=[('rating', 'count')], ascending=False))"
   ]
  },
  {
   "cell_type": "code",
   "execution_count": 13,
   "metadata": {},
   "outputs": [
    {
     "name": "stdout",
     "output_type": "stream",
     "text": [
      "As seen as seen here below customer with customer_id = 305344 (which is the top rater) is in 4 out of 5 of the lowest rated movies,\n",
      "this shows that he could be responsible for many of the items having a low score in the data.\n",
      "        movie_id  customer_id  rating\n",
      "789920      4373       305344     1.0\n",
      "        movie_id  customer_id  rating\n",
      "457875      2537       199769     2.0\n",
      "457876      2537       305344     1.0\n",
      "        movie_id  customer_id  rating\n",
      "166319       887      1314869     3.0\n",
      "166320       887      1899913     3.0\n",
      "166321       887      2086129     3.0\n",
      "166322       887       908626     5.0\n",
      "        movie_id  customer_id  rating\n",
      "769926      4294      2536523     5.0\n",
      "769927      4294       721369     4.0\n",
      "769928      4294       984703     5.0\n",
      "769929      4294       305344     1.0\n",
      "        movie_id  customer_id  rating\n",
      "206926      1141      1471238     3.0\n",
      "206927      1141       305344     1.0\n",
      "206928      1141      2056022     2.0\n",
      "206929      1141       387418     1.0\n"
     ]
    }
   ],
   "source": [
    "print(\"As seen as seen here below customer with customer_id = 305344 (which is the top rater) is in 4 out of 5 of the lowest rated movies,\")\n",
    "print(\"this shows that he could be responsible for many of the items having a low score in the data.\")\n",
    "print(data_rating[data_rating[\"movie_id\"] == 4373])\n",
    "print(data_rating[data_rating[\"movie_id\"] == 2537])\n",
    "print(data_rating[data_rating[\"movie_id\"] == 887])\n",
    "print(data_rating[data_rating[\"movie_id\"] == 4294])\n",
    "print(data_rating[data_rating[\"movie_id\"] == 1141])"
   ]
  },
  {
   "cell_type": "markdown",
   "metadata": {},
   "source": [
    "#### rating (low/high)"
   ]
  },
  {
   "cell_type": "code",
   "execution_count": 14,
   "metadata": {},
   "outputs": [
    {
     "name": "stdout",
     "output_type": "stream",
     "text": [
      "Showing customers with scores lower than  4\n"
     ]
    },
    {
     "data": {
      "text/html": [
       "<div>\n",
       "<style scoped>\n",
       "    .dataframe tbody tr th:only-of-type {\n",
       "        vertical-align: middle;\n",
       "    }\n",
       "\n",
       "    .dataframe tbody tr th {\n",
       "        vertical-align: top;\n",
       "    }\n",
       "\n",
       "    .dataframe thead tr th {\n",
       "        text-align: left;\n",
       "    }\n",
       "</style>\n",
       "<table border=\"1\" class=\"dataframe\">\n",
       "  <thead>\n",
       "    <tr>\n",
       "      <th></th>\n",
       "      <th>customer_id</th>\n",
       "      <th colspan=\"2\" halign=\"left\">rating</th>\n",
       "      <th>avg_rating</th>\n",
       "    </tr>\n",
       "    <tr>\n",
       "      <th></th>\n",
       "      <th></th>\n",
       "      <th>sum</th>\n",
       "      <th>count</th>\n",
       "      <th></th>\n",
       "    </tr>\n",
       "  </thead>\n",
       "  <tbody>\n",
       "    <tr>\n",
       "      <th>2</th>\n",
       "      <td>967</td>\n",
       "      <td>87.0</td>\n",
       "      <td>24</td>\n",
       "      <td>3.625000</td>\n",
       "    </tr>\n",
       "    <tr>\n",
       "      <th>3</th>\n",
       "      <td>1333</td>\n",
       "      <td>2007.0</td>\n",
       "      <td>750</td>\n",
       "      <td>2.676000</td>\n",
       "    </tr>\n",
       "    <tr>\n",
       "      <th>4</th>\n",
       "      <td>2442</td>\n",
       "      <td>404.0</td>\n",
       "      <td>118</td>\n",
       "      <td>3.423729</td>\n",
       "    </tr>\n",
       "    <tr>\n",
       "      <th>5</th>\n",
       "      <td>3321</td>\n",
       "      <td>2718.0</td>\n",
       "      <td>1062</td>\n",
       "      <td>2.559322</td>\n",
       "    </tr>\n",
       "    <tr>\n",
       "      <th>7</th>\n",
       "      <td>3718</td>\n",
       "      <td>529.0</td>\n",
       "      <td>175</td>\n",
       "      <td>3.022857</td>\n",
       "    </tr>\n",
       "    <tr>\n",
       "      <th>...</th>\n",
       "      <td>...</td>\n",
       "      <td>...</td>\n",
       "      <td>...</td>\n",
       "      <td>...</td>\n",
       "    </tr>\n",
       "    <tr>\n",
       "      <th>4824</th>\n",
       "      <td>2646591</td>\n",
       "      <td>163.0</td>\n",
       "      <td>51</td>\n",
       "      <td>3.196078</td>\n",
       "    </tr>\n",
       "    <tr>\n",
       "      <th>4825</th>\n",
       "      <td>2647871</td>\n",
       "      <td>814.0</td>\n",
       "      <td>248</td>\n",
       "      <td>3.282258</td>\n",
       "    </tr>\n",
       "    <tr>\n",
       "      <th>4826</th>\n",
       "      <td>2648122</td>\n",
       "      <td>306.0</td>\n",
       "      <td>85</td>\n",
       "      <td>3.600000</td>\n",
       "    </tr>\n",
       "    <tr>\n",
       "      <th>4827</th>\n",
       "      <td>2648650</td>\n",
       "      <td>83.0</td>\n",
       "      <td>27</td>\n",
       "      <td>3.074074</td>\n",
       "    </tr>\n",
       "    <tr>\n",
       "      <th>4828</th>\n",
       "      <td>2648861</td>\n",
       "      <td>181.0</td>\n",
       "      <td>53</td>\n",
       "      <td>3.415094</td>\n",
       "    </tr>\n",
       "  </tbody>\n",
       "</table>\n",
       "<p>4039 rows × 4 columns</p>\n",
       "</div>"
      ],
      "text/plain": [
       "     customer_id  rating       avg_rating\n",
       "                     sum count           \n",
       "2            967    87.0    24   3.625000\n",
       "3           1333  2007.0   750   2.676000\n",
       "4           2442   404.0   118   3.423729\n",
       "5           3321  2718.0  1062   2.559322\n",
       "7           3718   529.0   175   3.022857\n",
       "...          ...     ...   ...        ...\n",
       "4824     2646591   163.0    51   3.196078\n",
       "4825     2647871   814.0   248   3.282258\n",
       "4826     2648122   306.0    85   3.600000\n",
       "4827     2648650    83.0    27   3.074074\n",
       "4828     2648861   181.0    53   3.415094\n",
       "\n",
       "[4039 rows x 4 columns]"
      ]
     },
     "execution_count": 14,
     "metadata": {},
     "output_type": "execute_result"
    }
   ],
   "source": [
    "customer_ratings_low = information.get_avg_rating_less_than(df=all_customers_average_ratings , max_rating=max_rating)\n",
    "print(\"Showing customers with scores lower than \", max_rating)\n",
    "customer_ratings_low"
   ]
  },
  {
   "cell_type": "code",
   "execution_count": 15,
   "metadata": {},
   "outputs": [
    {
     "name": "stdout",
     "output_type": "stream",
     "text": [
      "Showing customers with scores higher (or equal) to  4\n"
     ]
    },
    {
     "data": {
      "text/html": [
       "<div>\n",
       "<style scoped>\n",
       "    .dataframe tbody tr th:only-of-type {\n",
       "        vertical-align: middle;\n",
       "    }\n",
       "\n",
       "    .dataframe tbody tr th {\n",
       "        vertical-align: top;\n",
       "    }\n",
       "\n",
       "    .dataframe thead tr th {\n",
       "        text-align: left;\n",
       "    }\n",
       "</style>\n",
       "<table border=\"1\" class=\"dataframe\">\n",
       "  <thead>\n",
       "    <tr>\n",
       "      <th></th>\n",
       "      <th>customer_id</th>\n",
       "      <th colspan=\"2\" halign=\"left\">rating</th>\n",
       "      <th>avg_rating</th>\n",
       "    </tr>\n",
       "    <tr>\n",
       "      <th></th>\n",
       "      <th></th>\n",
       "      <th>sum</th>\n",
       "      <th>count</th>\n",
       "      <th></th>\n",
       "    </tr>\n",
       "  </thead>\n",
       "  <tbody>\n",
       "    <tr>\n",
       "      <th>0</th>\n",
       "      <td>685</td>\n",
       "      <td>124.0</td>\n",
       "      <td>30</td>\n",
       "      <td>4.133333</td>\n",
       "    </tr>\n",
       "    <tr>\n",
       "      <th>1</th>\n",
       "      <td>915</td>\n",
       "      <td>30.0</td>\n",
       "      <td>7</td>\n",
       "      <td>4.285714</td>\n",
       "    </tr>\n",
       "    <tr>\n",
       "      <th>6</th>\n",
       "      <td>3417</td>\n",
       "      <td>165.0</td>\n",
       "      <td>41</td>\n",
       "      <td>4.024390</td>\n",
       "    </tr>\n",
       "    <tr>\n",
       "      <th>12</th>\n",
       "      <td>5225</td>\n",
       "      <td>108.0</td>\n",
       "      <td>26</td>\n",
       "      <td>4.153846</td>\n",
       "    </tr>\n",
       "    <tr>\n",
       "      <th>18</th>\n",
       "      <td>8117</td>\n",
       "      <td>1062.0</td>\n",
       "      <td>260</td>\n",
       "      <td>4.084615</td>\n",
       "    </tr>\n",
       "    <tr>\n",
       "      <th>...</th>\n",
       "      <td>...</td>\n",
       "      <td>...</td>\n",
       "      <td>...</td>\n",
       "      <td>...</td>\n",
       "    </tr>\n",
       "    <tr>\n",
       "      <th>4800</th>\n",
       "      <td>2632269</td>\n",
       "      <td>103.0</td>\n",
       "      <td>25</td>\n",
       "      <td>4.120000</td>\n",
       "    </tr>\n",
       "    <tr>\n",
       "      <th>4804</th>\n",
       "      <td>2634414</td>\n",
       "      <td>33.0</td>\n",
       "      <td>8</td>\n",
       "      <td>4.125000</td>\n",
       "    </tr>\n",
       "    <tr>\n",
       "      <th>4806</th>\n",
       "      <td>2635437</td>\n",
       "      <td>499.0</td>\n",
       "      <td>115</td>\n",
       "      <td>4.339130</td>\n",
       "    </tr>\n",
       "    <tr>\n",
       "      <th>4807</th>\n",
       "      <td>2635895</td>\n",
       "      <td>314.0</td>\n",
       "      <td>75</td>\n",
       "      <td>4.186667</td>\n",
       "    </tr>\n",
       "    <tr>\n",
       "      <th>4814</th>\n",
       "      <td>2640085</td>\n",
       "      <td>158.0</td>\n",
       "      <td>34</td>\n",
       "      <td>4.647059</td>\n",
       "    </tr>\n",
       "  </tbody>\n",
       "</table>\n",
       "<p>721 rows × 4 columns</p>\n",
       "</div>"
      ],
      "text/plain": [
       "     customer_id  rating       avg_rating\n",
       "                     sum count           \n",
       "0            685   124.0    30   4.133333\n",
       "1            915    30.0     7   4.285714\n",
       "6           3417   165.0    41   4.024390\n",
       "12          5225   108.0    26   4.153846\n",
       "18          8117  1062.0   260   4.084615\n",
       "...          ...     ...   ...        ...\n",
       "4800     2632269   103.0    25   4.120000\n",
       "4804     2634414    33.0     8   4.125000\n",
       "4806     2635437   499.0   115   4.339130\n",
       "4807     2635895   314.0    75   4.186667\n",
       "4814     2640085   158.0    34   4.647059\n",
       "\n",
       "[721 rows x 4 columns]"
      ]
     },
     "execution_count": 15,
     "metadata": {},
     "output_type": "execute_result"
    }
   ],
   "source": [
    "customer_ratings_high = information.get_avg_rating_higher_than(df=all_customers_average_ratings, min_rating=min_rating)\n",
    "print(\"Showing customers with scores higher (or equal) to \", min_rating)\n",
    "customer_ratings_high"
   ]
  },
  {
   "cell_type": "code",
   "execution_count": 16,
   "metadata": {},
   "outputs": [
    {
     "name": "stdout",
     "output_type": "stream",
     "text": [
      "number of rows in low 4039\n",
      "number of rows in high 721\n"
     ]
    }
   ],
   "source": [
    "print(\"number of rows in low\", len(customer_ratings_low))\n",
    "print(\"number of rows in high\", len(customer_ratings_high))"
   ]
  },
  {
   "cell_type": "code",
   "execution_count": 17,
   "metadata": {},
   "outputs": [
    {
     "name": "stdout",
     "output_type": "stream",
     "text": [
      "high rating dataframe is  -82.15 % smaller than low rating dataframe\n"
     ]
    }
   ],
   "source": [
    "customers_low_high_ratings_percentage = ((len(customer_ratings_high)-len(customer_ratings_low)) / len(customer_ratings_low))*100\n",
    "if(customers_low_high_ratings_percentage <= 0):\n",
    "    print(\"high rating dataframe is \" , round(customers_low_high_ratings_percentage, 2),'% smaller than low rating dataframe')\n",
    "\n",
    "if(customers_low_high_ratings_percentage > 0):\n",
    "    print(\"high rating dataframe is \" , round(customers_low_high_ratings_percentage, 2),'% bigger than low rating dataframe')"
   ]
  },
  {
   "cell_type": "markdown",
   "metadata": {},
   "source": [
    "#### average rating (low/high)"
   ]
  },
  {
   "cell_type": "code",
   "execution_count": 18,
   "metadata": {},
   "outputs": [
    {
     "name": "stdout",
     "output_type": "stream",
     "text": [
      "Movies with avg_rating score less than  4\n"
     ]
    },
    {
     "data": {
      "text/html": [
       "<div>\n",
       "<style scoped>\n",
       "    .dataframe tbody tr th:only-of-type {\n",
       "        vertical-align: middle;\n",
       "    }\n",
       "\n",
       "    .dataframe tbody tr th {\n",
       "        vertical-align: top;\n",
       "    }\n",
       "\n",
       "    .dataframe thead tr th {\n",
       "        text-align: left;\n",
       "    }\n",
       "</style>\n",
       "<table border=\"1\" class=\"dataframe\">\n",
       "  <thead>\n",
       "    <tr>\n",
       "      <th></th>\n",
       "      <th>movie_id</th>\n",
       "      <th colspan=\"2\" halign=\"left\">rating</th>\n",
       "      <th>avg_rating</th>\n",
       "    </tr>\n",
       "    <tr>\n",
       "      <th></th>\n",
       "      <th></th>\n",
       "      <th>sum</th>\n",
       "      <th>count</th>\n",
       "      <th></th>\n",
       "    </tr>\n",
       "  </thead>\n",
       "  <tbody>\n",
       "    <tr>\n",
       "      <th>0</th>\n",
       "      <td>1</td>\n",
       "      <td>2051.0</td>\n",
       "      <td>547</td>\n",
       "      <td>3.749543</td>\n",
       "    </tr>\n",
       "    <tr>\n",
       "      <th>1</th>\n",
       "      <td>2</td>\n",
       "      <td>516.0</td>\n",
       "      <td>145</td>\n",
       "      <td>3.558621</td>\n",
       "    </tr>\n",
       "    <tr>\n",
       "      <th>2</th>\n",
       "      <td>3</td>\n",
       "      <td>7326.0</td>\n",
       "      <td>2012</td>\n",
       "      <td>3.641153</td>\n",
       "    </tr>\n",
       "    <tr>\n",
       "      <th>3</th>\n",
       "      <td>4</td>\n",
       "      <td>389.0</td>\n",
       "      <td>142</td>\n",
       "      <td>2.739437</td>\n",
       "    </tr>\n",
       "    <tr>\n",
       "      <th>4</th>\n",
       "      <td>5</td>\n",
       "      <td>4468.0</td>\n",
       "      <td>1140</td>\n",
       "      <td>3.919298</td>\n",
       "    </tr>\n",
       "    <tr>\n",
       "      <th>...</th>\n",
       "      <td>...</td>\n",
       "      <td>...</td>\n",
       "      <td>...</td>\n",
       "      <td>...</td>\n",
       "    </tr>\n",
       "    <tr>\n",
       "      <th>4494</th>\n",
       "      <td>4495</td>\n",
       "      <td>162.0</td>\n",
       "      <td>60</td>\n",
       "      <td>2.700000</td>\n",
       "    </tr>\n",
       "    <tr>\n",
       "      <th>4495</th>\n",
       "      <td>4496</td>\n",
       "      <td>2676.0</td>\n",
       "      <td>713</td>\n",
       "      <td>3.753156</td>\n",
       "    </tr>\n",
       "    <tr>\n",
       "      <th>4496</th>\n",
       "      <td>4497</td>\n",
       "      <td>220.0</td>\n",
       "      <td>84</td>\n",
       "      <td>2.619048</td>\n",
       "    </tr>\n",
       "    <tr>\n",
       "      <th>4497</th>\n",
       "      <td>4498</td>\n",
       "      <td>88.0</td>\n",
       "      <td>36</td>\n",
       "      <td>2.444444</td>\n",
       "    </tr>\n",
       "    <tr>\n",
       "      <th>4498</th>\n",
       "      <td>4499</td>\n",
       "      <td>230.0</td>\n",
       "      <td>83</td>\n",
       "      <td>2.771084</td>\n",
       "    </tr>\n",
       "  </tbody>\n",
       "</table>\n",
       "<p>4457 rows × 4 columns</p>\n",
       "</div>"
      ],
      "text/plain": [
       "     movie_id  rating       avg_rating\n",
       "                  sum count           \n",
       "0           1  2051.0   547   3.749543\n",
       "1           2   516.0   145   3.558621\n",
       "2           3  7326.0  2012   3.641153\n",
       "3           4   389.0   142   2.739437\n",
       "4           5  4468.0  1140   3.919298\n",
       "...       ...     ...   ...        ...\n",
       "4494     4495   162.0    60   2.700000\n",
       "4495     4496  2676.0   713   3.753156\n",
       "4496     4497   220.0    84   2.619048\n",
       "4497     4498    88.0    36   2.444444\n",
       "4498     4499   230.0    83   2.771084\n",
       "\n",
       "[4457 rows x 4 columns]"
      ]
     },
     "execution_count": 18,
     "metadata": {},
     "output_type": "execute_result"
    }
   ],
   "source": [
    "print(\"Movies with avg_rating score less than \", max_rating)\n",
    "information.get_avg_rating_less_than(df=all_movies_average_rating, max_rating=max_rating)"
   ]
  },
  {
   "cell_type": "code",
   "execution_count": 19,
   "metadata": {},
   "outputs": [
    {
     "name": "stdout",
     "output_type": "stream",
     "text": [
      "Movies with avg_rating score higher (or equal) to  4\n"
     ]
    },
    {
     "data": {
      "text/html": [
       "<div>\n",
       "<style scoped>\n",
       "    .dataframe tbody tr th:only-of-type {\n",
       "        vertical-align: middle;\n",
       "    }\n",
       "\n",
       "    .dataframe tbody tr th {\n",
       "        vertical-align: top;\n",
       "    }\n",
       "\n",
       "    .dataframe thead tr th {\n",
       "        text-align: left;\n",
       "    }\n",
       "</style>\n",
       "<table border=\"1\" class=\"dataframe\">\n",
       "  <thead>\n",
       "    <tr>\n",
       "      <th></th>\n",
       "      <th>movie_id</th>\n",
       "      <th colspan=\"2\" halign=\"left\">rating</th>\n",
       "      <th>avg_rating</th>\n",
       "    </tr>\n",
       "    <tr>\n",
       "      <th></th>\n",
       "      <th></th>\n",
       "      <th>sum</th>\n",
       "      <th>count</th>\n",
       "      <th></th>\n",
       "    </tr>\n",
       "  </thead>\n",
       "  <tbody>\n",
       "    <tr>\n",
       "      <th>12</th>\n",
       "      <td>13</td>\n",
       "      <td>38.0</td>\n",
       "      <td>8</td>\n",
       "      <td>4.750000</td>\n",
       "    </tr>\n",
       "    <tr>\n",
       "      <th>222</th>\n",
       "      <td>223</td>\n",
       "      <td>3594.0</td>\n",
       "      <td>875</td>\n",
       "      <td>4.107429</td>\n",
       "    </tr>\n",
       "    <tr>\n",
       "      <th>240</th>\n",
       "      <td>241</td>\n",
       "      <td>5359.0</td>\n",
       "      <td>1317</td>\n",
       "      <td>4.069096</td>\n",
       "    </tr>\n",
       "    <tr>\n",
       "      <th>570</th>\n",
       "      <td>571</td>\n",
       "      <td>12222.0</td>\n",
       "      <td>3021</td>\n",
       "      <td>4.045680</td>\n",
       "    </tr>\n",
       "    <tr>\n",
       "      <th>752</th>\n",
       "      <td>753</td>\n",
       "      <td>33.0</td>\n",
       "      <td>8</td>\n",
       "      <td>4.125000</td>\n",
       "    </tr>\n",
       "    <tr>\n",
       "      <th>871</th>\n",
       "      <td>872</td>\n",
       "      <td>5000.0</td>\n",
       "      <td>1206</td>\n",
       "      <td>4.145937</td>\n",
       "    </tr>\n",
       "    <tr>\n",
       "      <th>885</th>\n",
       "      <td>886</td>\n",
       "      <td>7719.0</td>\n",
       "      <td>1918</td>\n",
       "      <td>4.024505</td>\n",
       "    </tr>\n",
       "    <tr>\n",
       "      <th>1019</th>\n",
       "      <td>1020</td>\n",
       "      <td>3501.0</td>\n",
       "      <td>842</td>\n",
       "      <td>4.157957</td>\n",
       "    </tr>\n",
       "    <tr>\n",
       "      <th>1255</th>\n",
       "      <td>1256</td>\n",
       "      <td>925.0</td>\n",
       "      <td>227</td>\n",
       "      <td>4.074890</td>\n",
       "    </tr>\n",
       "    <tr>\n",
       "      <th>1475</th>\n",
       "      <td>1476</td>\n",
       "      <td>1936.0</td>\n",
       "      <td>447</td>\n",
       "      <td>4.331096</td>\n",
       "    </tr>\n",
       "    <tr>\n",
       "      <th>1624</th>\n",
       "      <td>1625</td>\n",
       "      <td>5149.0</td>\n",
       "      <td>1258</td>\n",
       "      <td>4.093005</td>\n",
       "    </tr>\n",
       "    <tr>\n",
       "      <th>1914</th>\n",
       "      <td>1915</td>\n",
       "      <td>456.0</td>\n",
       "      <td>113</td>\n",
       "      <td>4.035398</td>\n",
       "    </tr>\n",
       "    <tr>\n",
       "      <th>2101</th>\n",
       "      <td>2102</td>\n",
       "      <td>1714.0</td>\n",
       "      <td>384</td>\n",
       "      <td>4.463542</td>\n",
       "    </tr>\n",
       "    <tr>\n",
       "      <th>2141</th>\n",
       "      <td>2142</td>\n",
       "      <td>49.0</td>\n",
       "      <td>11</td>\n",
       "      <td>4.454545</td>\n",
       "    </tr>\n",
       "    <tr>\n",
       "      <th>2161</th>\n",
       "      <td>2162</td>\n",
       "      <td>1919.0</td>\n",
       "      <td>471</td>\n",
       "      <td>4.074310</td>\n",
       "    </tr>\n",
       "    <tr>\n",
       "      <th>2171</th>\n",
       "      <td>2172</td>\n",
       "      <td>3516.0</td>\n",
       "      <td>811</td>\n",
       "      <td>4.335388</td>\n",
       "    </tr>\n",
       "    <tr>\n",
       "      <th>2429</th>\n",
       "      <td>2430</td>\n",
       "      <td>5708.0</td>\n",
       "      <td>1399</td>\n",
       "      <td>4.080057</td>\n",
       "    </tr>\n",
       "    <tr>\n",
       "      <th>2451</th>\n",
       "      <td>2452</td>\n",
       "      <td>11777.0</td>\n",
       "      <td>2736</td>\n",
       "      <td>4.304459</td>\n",
       "    </tr>\n",
       "    <tr>\n",
       "      <th>2462</th>\n",
       "      <td>2463</td>\n",
       "      <td>206.0</td>\n",
       "      <td>51</td>\n",
       "      <td>4.039216</td>\n",
       "    </tr>\n",
       "    <tr>\n",
       "      <th>2607</th>\n",
       "      <td>2608</td>\n",
       "      <td>474.0</td>\n",
       "      <td>116</td>\n",
       "      <td>4.086207</td>\n",
       "    </tr>\n",
       "    <tr>\n",
       "      <th>2699</th>\n",
       "      <td>2700</td>\n",
       "      <td>763.0</td>\n",
       "      <td>185</td>\n",
       "      <td>4.124324</td>\n",
       "    </tr>\n",
       "    <tr>\n",
       "      <th>2742</th>\n",
       "      <td>2743</td>\n",
       "      <td>6786.0</td>\n",
       "      <td>1695</td>\n",
       "      <td>4.003540</td>\n",
       "    </tr>\n",
       "    <tr>\n",
       "      <th>2781</th>\n",
       "      <td>2782</td>\n",
       "      <td>9395.0</td>\n",
       "      <td>2320</td>\n",
       "      <td>4.049569</td>\n",
       "    </tr>\n",
       "    <tr>\n",
       "      <th>2861</th>\n",
       "      <td>2862</td>\n",
       "      <td>11235.0</td>\n",
       "      <td>2638</td>\n",
       "      <td>4.258908</td>\n",
       "    </tr>\n",
       "    <tr>\n",
       "      <th>3045</th>\n",
       "      <td>3046</td>\n",
       "      <td>2610.0</td>\n",
       "      <td>610</td>\n",
       "      <td>4.278689</td>\n",
       "    </tr>\n",
       "    <tr>\n",
       "      <th>3289</th>\n",
       "      <td>3290</td>\n",
       "      <td>8399.0</td>\n",
       "      <td>1937</td>\n",
       "      <td>4.336087</td>\n",
       "    </tr>\n",
       "    <tr>\n",
       "      <th>3443</th>\n",
       "      <td>3444</td>\n",
       "      <td>1695.0</td>\n",
       "      <td>392</td>\n",
       "      <td>4.323980</td>\n",
       "    </tr>\n",
       "    <tr>\n",
       "      <th>3445</th>\n",
       "      <td>3446</td>\n",
       "      <td>4694.0</td>\n",
       "      <td>1161</td>\n",
       "      <td>4.043066</td>\n",
       "    </tr>\n",
       "    <tr>\n",
       "      <th>3455</th>\n",
       "      <td>3456</td>\n",
       "      <td>872.0</td>\n",
       "      <td>191</td>\n",
       "      <td>4.565445</td>\n",
       "    </tr>\n",
       "    <tr>\n",
       "      <th>3604</th>\n",
       "      <td>3605</td>\n",
       "      <td>7545.0</td>\n",
       "      <td>1850</td>\n",
       "      <td>4.078378</td>\n",
       "    </tr>\n",
       "    <tr>\n",
       "      <th>3863</th>\n",
       "      <td>3864</td>\n",
       "      <td>5176.0</td>\n",
       "      <td>1252</td>\n",
       "      <td>4.134185</td>\n",
       "    </tr>\n",
       "    <tr>\n",
       "      <th>3927</th>\n",
       "      <td>3928</td>\n",
       "      <td>1024.0</td>\n",
       "      <td>255</td>\n",
       "      <td>4.015686</td>\n",
       "    </tr>\n",
       "    <tr>\n",
       "      <th>3961</th>\n",
       "      <td>3962</td>\n",
       "      <td>10408.0</td>\n",
       "      <td>2465</td>\n",
       "      <td>4.222312</td>\n",
       "    </tr>\n",
       "    <tr>\n",
       "      <th>4114</th>\n",
       "      <td>4115</td>\n",
       "      <td>973.0</td>\n",
       "      <td>239</td>\n",
       "      <td>4.071130</td>\n",
       "    </tr>\n",
       "    <tr>\n",
       "      <th>4128</th>\n",
       "      <td>4129</td>\n",
       "      <td>101.0</td>\n",
       "      <td>25</td>\n",
       "      <td>4.040000</td>\n",
       "    </tr>\n",
       "    <tr>\n",
       "      <th>4206</th>\n",
       "      <td>4207</td>\n",
       "      <td>1204.0</td>\n",
       "      <td>296</td>\n",
       "      <td>4.067568</td>\n",
       "    </tr>\n",
       "    <tr>\n",
       "      <th>4305</th>\n",
       "      <td>4306</td>\n",
       "      <td>10877.0</td>\n",
       "      <td>2642</td>\n",
       "      <td>4.116957</td>\n",
       "    </tr>\n",
       "    <tr>\n",
       "      <th>4352</th>\n",
       "      <td>4353</td>\n",
       "      <td>2027.0</td>\n",
       "      <td>491</td>\n",
       "      <td>4.128310</td>\n",
       "    </tr>\n",
       "  </tbody>\n",
       "</table>\n",
       "</div>"
      ],
      "text/plain": [
       "     movie_id   rating       avg_rating\n",
       "                   sum count           \n",
       "12         13     38.0     8   4.750000\n",
       "222       223   3594.0   875   4.107429\n",
       "240       241   5359.0  1317   4.069096\n",
       "570       571  12222.0  3021   4.045680\n",
       "752       753     33.0     8   4.125000\n",
       "871       872   5000.0  1206   4.145937\n",
       "885       886   7719.0  1918   4.024505\n",
       "1019     1020   3501.0   842   4.157957\n",
       "1255     1256    925.0   227   4.074890\n",
       "1475     1476   1936.0   447   4.331096\n",
       "1624     1625   5149.0  1258   4.093005\n",
       "1914     1915    456.0   113   4.035398\n",
       "2101     2102   1714.0   384   4.463542\n",
       "2141     2142     49.0    11   4.454545\n",
       "2161     2162   1919.0   471   4.074310\n",
       "2171     2172   3516.0   811   4.335388\n",
       "2429     2430   5708.0  1399   4.080057\n",
       "2451     2452  11777.0  2736   4.304459\n",
       "2462     2463    206.0    51   4.039216\n",
       "2607     2608    474.0   116   4.086207\n",
       "2699     2700    763.0   185   4.124324\n",
       "2742     2743   6786.0  1695   4.003540\n",
       "2781     2782   9395.0  2320   4.049569\n",
       "2861     2862  11235.0  2638   4.258908\n",
       "3045     3046   2610.0   610   4.278689\n",
       "3289     3290   8399.0  1937   4.336087\n",
       "3443     3444   1695.0   392   4.323980\n",
       "3445     3446   4694.0  1161   4.043066\n",
       "3455     3456    872.0   191   4.565445\n",
       "3604     3605   7545.0  1850   4.078378\n",
       "3863     3864   5176.0  1252   4.134185\n",
       "3927     3928   1024.0   255   4.015686\n",
       "3961     3962  10408.0  2465   4.222312\n",
       "4114     4115    973.0   239   4.071130\n",
       "4128     4129    101.0    25   4.040000\n",
       "4206     4207   1204.0   296   4.067568\n",
       "4305     4306  10877.0  2642   4.116957\n",
       "4352     4353   2027.0   491   4.128310"
      ]
     },
     "execution_count": 19,
     "metadata": {},
     "output_type": "execute_result"
    }
   ],
   "source": [
    "print(\"Movies with avg_rating score higher (or equal) to \", min_rating)\n",
    "information.get_avg_rating_higher_than(df=all_movies_average_rating, min_rating=min_rating)"
   ]
  },
  {
   "cell_type": "code",
   "execution_count": 20,
   "metadata": {},
   "outputs": [
    {
     "name": "stdout",
     "output_type": "stream",
     "text": [
      "count of ratings by each user\n",
      "     customer_id rating\n",
      "                  count\n",
      "549       305344   4467\n",
      "727       387418   4422\n",
      "4425     2439493   4195\n",
      "3049     1664010   4019\n",
      "3861     2118461   3769\n",
      "...          ...    ...\n",
      "870       470861      1\n",
      "1731      931793      1\n",
      "3953     2176039      1\n",
      "368       196497      1\n",
      "3652     1989766      1\n",
      "\n",
      "[4829 rows x 2 columns]\n"
     ]
    }
   ],
   "source": [
    "print(\"count of ratings by each user\")\n",
    "print(all_customers_average_ratings[[('customer_id',''),('rating', 'count')]].sort_values(('rating', 'count'), ascending=False))"
   ]
  },
  {
   "cell_type": "markdown",
   "metadata": {},
   "source": [
    "find customers who rated a random movie"
   ]
  },
  {
   "cell_type": "code",
   "execution_count": 21,
   "metadata": {},
   "outputs": [
    {
     "data": {
      "text/html": [
       "<div>\n",
       "<style scoped>\n",
       "    .dataframe tbody tr th:only-of-type {\n",
       "        vertical-align: middle;\n",
       "    }\n",
       "\n",
       "    .dataframe tbody tr th {\n",
       "        vertical-align: top;\n",
       "    }\n",
       "\n",
       "    .dataframe thead th {\n",
       "        text-align: right;\n",
       "    }\n",
       "</style>\n",
       "<table border=\"1\" class=\"dataframe\">\n",
       "  <thead>\n",
       "    <tr style=\"text-align: right;\">\n",
       "      <th></th>\n",
       "      <th>movie_id</th>\n",
       "      <th>customer_id</th>\n",
       "      <th>rating</th>\n",
       "      <th>movie_year</th>\n",
       "      <th>movie_title</th>\n",
       "    </tr>\n",
       "  </thead>\n",
       "  <tbody>\n",
       "    <tr>\n",
       "      <th>27705</th>\n",
       "      <td>172</td>\n",
       "      <td>303948</td>\n",
       "      <td>3.0</td>\n",
       "      <td>2003.0</td>\n",
       "      <td>Jack</td>\n",
       "    </tr>\n",
       "    <tr>\n",
       "      <th>27706</th>\n",
       "      <td>172</td>\n",
       "      <td>402377</td>\n",
       "      <td>3.0</td>\n",
       "      <td>2003.0</td>\n",
       "      <td>Jack</td>\n",
       "    </tr>\n",
       "    <tr>\n",
       "      <th>27707</th>\n",
       "      <td>172</td>\n",
       "      <td>914338</td>\n",
       "      <td>2.0</td>\n",
       "      <td>2003.0</td>\n",
       "      <td>Jack</td>\n",
       "    </tr>\n",
       "    <tr>\n",
       "      <th>27708</th>\n",
       "      <td>172</td>\n",
       "      <td>1314869</td>\n",
       "      <td>2.0</td>\n",
       "      <td>2003.0</td>\n",
       "      <td>Jack</td>\n",
       "    </tr>\n",
       "    <tr>\n",
       "      <th>27709</th>\n",
       "      <td>172</td>\n",
       "      <td>428831</td>\n",
       "      <td>2.0</td>\n",
       "      <td>2003.0</td>\n",
       "      <td>Jack</td>\n",
       "    </tr>\n",
       "    <tr>\n",
       "      <th>...</th>\n",
       "      <td>...</td>\n",
       "      <td>...</td>\n",
       "      <td>...</td>\n",
       "      <td>...</td>\n",
       "      <td>...</td>\n",
       "    </tr>\n",
       "    <tr>\n",
       "      <th>56217</th>\n",
       "      <td>305</td>\n",
       "      <td>1403184</td>\n",
       "      <td>3.0</td>\n",
       "      <td>1996.0</td>\n",
       "      <td>Jack</td>\n",
       "    </tr>\n",
       "    <tr>\n",
       "      <th>56218</th>\n",
       "      <td>305</td>\n",
       "      <td>1795694</td>\n",
       "      <td>3.0</td>\n",
       "      <td>1996.0</td>\n",
       "      <td>Jack</td>\n",
       "    </tr>\n",
       "    <tr>\n",
       "      <th>56219</th>\n",
       "      <td>305</td>\n",
       "      <td>2634967</td>\n",
       "      <td>1.0</td>\n",
       "      <td>1996.0</td>\n",
       "      <td>Jack</td>\n",
       "    </tr>\n",
       "    <tr>\n",
       "      <th>56220</th>\n",
       "      <td>305</td>\n",
       "      <td>1400108</td>\n",
       "      <td>1.0</td>\n",
       "      <td>1996.0</td>\n",
       "      <td>Jack</td>\n",
       "    </tr>\n",
       "    <tr>\n",
       "      <th>56221</th>\n",
       "      <td>305</td>\n",
       "      <td>1527578</td>\n",
       "      <td>4.0</td>\n",
       "      <td>1996.0</td>\n",
       "      <td>Jack</td>\n",
       "    </tr>\n",
       "  </tbody>\n",
       "</table>\n",
       "<p>382 rows × 5 columns</p>\n",
       "</div>"
      ],
      "text/plain": [
       "       movie_id  customer_id  rating  movie_year movie_title\n",
       "27705       172       303948     3.0      2003.0        Jack\n",
       "27706       172       402377     3.0      2003.0        Jack\n",
       "27707       172       914338     2.0      2003.0        Jack\n",
       "27708       172      1314869     2.0      2003.0        Jack\n",
       "27709       172       428831     2.0      2003.0        Jack\n",
       "...         ...          ...     ...         ...         ...\n",
       "56217       305      1403184     3.0      1996.0        Jack\n",
       "56218       305      1795694     3.0      1996.0        Jack\n",
       "56219       305      2634967     1.0      1996.0        Jack\n",
       "56220       305      1400108     1.0      1996.0        Jack\n",
       "56221       305      1527578     4.0      1996.0        Jack\n",
       "\n",
       "[382 rows x 5 columns]"
      ]
     },
     "execution_count": 21,
     "metadata": {},
     "output_type": "execute_result"
    }
   ],
   "source": [
    "movie_to_find = data_movies['movie_title'][randrange(1000)]\n",
    "information.get_customers_who_rated_movie_title(movie_title=movie_to_find)"
   ]
  },
  {
   "cell_type": "code",
   "execution_count": 22,
   "metadata": {},
   "outputs": [
    {
     "data": {
      "text/html": [
       "<div>\n",
       "<style scoped>\n",
       "    .dataframe tbody tr th:only-of-type {\n",
       "        vertical-align: middle;\n",
       "    }\n",
       "\n",
       "    .dataframe tbody tr th {\n",
       "        vertical-align: top;\n",
       "    }\n",
       "\n",
       "    .dataframe thead tr th {\n",
       "        text-align: left;\n",
       "    }\n",
       "</style>\n",
       "<table border=\"1\" class=\"dataframe\">\n",
       "  <thead>\n",
       "    <tr>\n",
       "      <th></th>\n",
       "      <th>movie_id</th>\n",
       "      <th colspan=\"2\" halign=\"left\">rating</th>\n",
       "      <th>avg_rating</th>\n",
       "      <th colspan=\"3\" halign=\"left\">movie_id</th>\n",
       "    </tr>\n",
       "    <tr>\n",
       "      <th></th>\n",
       "      <th></th>\n",
       "      <th>sum</th>\n",
       "      <th>count</th>\n",
       "      <th></th>\n",
       "      <th>movie_id</th>\n",
       "      <th>movie_year</th>\n",
       "      <th>movie_title</th>\n",
       "    </tr>\n",
       "  </thead>\n",
       "  <tbody>\n",
       "    <tr>\n",
       "      <th>171</th>\n",
       "      <td>172</td>\n",
       "      <td>84.0</td>\n",
       "      <td>36</td>\n",
       "      <td>2.333333</td>\n",
       "      <td>172</td>\n",
       "      <td>2003.0</td>\n",
       "      <td>Jack</td>\n",
       "    </tr>\n",
       "  </tbody>\n",
       "</table>\n",
       "</div>"
      ],
      "text/plain": [
       "    movie_id rating       avg_rating movie_id                       \n",
       "                sum count            movie_id movie_year movie_title\n",
       "171      172   84.0    36   2.333333      172     2003.0        Jack"
      ]
     },
     "execution_count": 22,
     "metadata": {},
     "output_type": "execute_result"
    }
   ],
   "source": [
    "information.get_avg_rating_for_movie_title(movie_title=movie_to_find)"
   ]
  },
  {
   "cell_type": "markdown",
   "metadata": {},
   "source": [
    "finding customers who rated a specific movie"
   ]
  },
  {
   "cell_type": "code",
   "execution_count": 23,
   "metadata": {},
   "outputs": [
    {
     "data": {
      "text/html": [
       "<div>\n",
       "<style scoped>\n",
       "    .dataframe tbody tr th:only-of-type {\n",
       "        vertical-align: middle;\n",
       "    }\n",
       "\n",
       "    .dataframe tbody tr th {\n",
       "        vertical-align: top;\n",
       "    }\n",
       "\n",
       "    .dataframe thead th {\n",
       "        text-align: right;\n",
       "    }\n",
       "</style>\n",
       "<table border=\"1\" class=\"dataframe\">\n",
       "  <thead>\n",
       "    <tr style=\"text-align: right;\">\n",
       "      <th></th>\n",
       "      <th>movie_id</th>\n",
       "      <th>customer_id</th>\n",
       "      <th>rating</th>\n",
       "      <th>movie_year</th>\n",
       "      <th>movie_title</th>\n",
       "    </tr>\n",
       "  </thead>\n",
       "  <tbody>\n",
       "    <tr>\n",
       "      <th>51402</th>\n",
       "      <td>290</td>\n",
       "      <td>1436762</td>\n",
       "      <td>4.0</td>\n",
       "      <td>2004.0</td>\n",
       "      <td>Harold and Kumar Go to White Castle</td>\n",
       "    </tr>\n",
       "    <tr>\n",
       "      <th>51403</th>\n",
       "      <td>290</td>\n",
       "      <td>1745265</td>\n",
       "      <td>5.0</td>\n",
       "      <td>2004.0</td>\n",
       "      <td>Harold and Kumar Go to White Castle</td>\n",
       "    </tr>\n",
       "    <tr>\n",
       "      <th>51404</th>\n",
       "      <td>290</td>\n",
       "      <td>1176140</td>\n",
       "      <td>2.0</td>\n",
       "      <td>2004.0</td>\n",
       "      <td>Harold and Kumar Go to White Castle</td>\n",
       "    </tr>\n",
       "    <tr>\n",
       "      <th>51405</th>\n",
       "      <td>290</td>\n",
       "      <td>439011</td>\n",
       "      <td>5.0</td>\n",
       "      <td>2004.0</td>\n",
       "      <td>Harold and Kumar Go to White Castle</td>\n",
       "    </tr>\n",
       "    <tr>\n",
       "      <th>51406</th>\n",
       "      <td>290</td>\n",
       "      <td>2632461</td>\n",
       "      <td>4.0</td>\n",
       "      <td>2004.0</td>\n",
       "      <td>Harold and Kumar Go to White Castle</td>\n",
       "    </tr>\n",
       "    <tr>\n",
       "      <th>...</th>\n",
       "      <td>...</td>\n",
       "      <td>...</td>\n",
       "      <td>...</td>\n",
       "      <td>...</td>\n",
       "      <td>...</td>\n",
       "    </tr>\n",
       "    <tr>\n",
       "      <th>52628</th>\n",
       "      <td>290</td>\n",
       "      <td>999312</td>\n",
       "      <td>5.0</td>\n",
       "      <td>2004.0</td>\n",
       "      <td>Harold and Kumar Go to White Castle</td>\n",
       "    </tr>\n",
       "    <tr>\n",
       "      <th>52629</th>\n",
       "      <td>290</td>\n",
       "      <td>520675</td>\n",
       "      <td>4.0</td>\n",
       "      <td>2004.0</td>\n",
       "      <td>Harold and Kumar Go to White Castle</td>\n",
       "    </tr>\n",
       "    <tr>\n",
       "      <th>52630</th>\n",
       "      <td>290</td>\n",
       "      <td>1550207</td>\n",
       "      <td>2.0</td>\n",
       "      <td>2004.0</td>\n",
       "      <td>Harold and Kumar Go to White Castle</td>\n",
       "    </tr>\n",
       "    <tr>\n",
       "      <th>52631</th>\n",
       "      <td>290</td>\n",
       "      <td>1424777</td>\n",
       "      <td>3.0</td>\n",
       "      <td>2004.0</td>\n",
       "      <td>Harold and Kumar Go to White Castle</td>\n",
       "    </tr>\n",
       "    <tr>\n",
       "      <th>52632</th>\n",
       "      <td>290</td>\n",
       "      <td>2317644</td>\n",
       "      <td>1.0</td>\n",
       "      <td>2004.0</td>\n",
       "      <td>Harold and Kumar Go to White Castle</td>\n",
       "    </tr>\n",
       "  </tbody>\n",
       "</table>\n",
       "<p>1231 rows × 5 columns</p>\n",
       "</div>"
      ],
      "text/plain": [
       "       movie_id  customer_id  rating  movie_year  \\\n",
       "51402       290      1436762     4.0      2004.0   \n",
       "51403       290      1745265     5.0      2004.0   \n",
       "51404       290      1176140     2.0      2004.0   \n",
       "51405       290       439011     5.0      2004.0   \n",
       "51406       290      2632461     4.0      2004.0   \n",
       "...         ...          ...     ...         ...   \n",
       "52628       290       999312     5.0      2004.0   \n",
       "52629       290       520675     4.0      2004.0   \n",
       "52630       290      1550207     2.0      2004.0   \n",
       "52631       290      1424777     3.0      2004.0   \n",
       "52632       290      2317644     1.0      2004.0   \n",
       "\n",
       "                               movie_title  \n",
       "51402  Harold and Kumar Go to White Castle  \n",
       "51403  Harold and Kumar Go to White Castle  \n",
       "51404  Harold and Kumar Go to White Castle  \n",
       "51405  Harold and Kumar Go to White Castle  \n",
       "51406  Harold and Kumar Go to White Castle  \n",
       "...                                    ...  \n",
       "52628  Harold and Kumar Go to White Castle  \n",
       "52629  Harold and Kumar Go to White Castle  \n",
       "52630  Harold and Kumar Go to White Castle  \n",
       "52631  Harold and Kumar Go to White Castle  \n",
       "52632  Harold and Kumar Go to White Castle  \n",
       "\n",
       "[1231 rows x 5 columns]"
      ]
     },
     "execution_count": 23,
     "metadata": {},
     "output_type": "execute_result"
    }
   ],
   "source": [
    "\n",
    "information.get_customers_who_rated_movie_title(movie_title=\"Harold and Kumar Go to White Castle\")"
   ]
  },
  {
   "cell_type": "code",
   "execution_count": 24,
   "metadata": {},
   "outputs": [
    {
     "data": {
      "text/html": [
       "<div>\n",
       "<style scoped>\n",
       "    .dataframe tbody tr th:only-of-type {\n",
       "        vertical-align: middle;\n",
       "    }\n",
       "\n",
       "    .dataframe tbody tr th {\n",
       "        vertical-align: top;\n",
       "    }\n",
       "\n",
       "    .dataframe thead tr th {\n",
       "        text-align: left;\n",
       "    }\n",
       "</style>\n",
       "<table border=\"1\" class=\"dataframe\">\n",
       "  <thead>\n",
       "    <tr>\n",
       "      <th></th>\n",
       "      <th>movie_id</th>\n",
       "      <th colspan=\"2\" halign=\"left\">rating</th>\n",
       "      <th>avg_rating</th>\n",
       "      <th colspan=\"3\" halign=\"left\">movie_id</th>\n",
       "    </tr>\n",
       "    <tr>\n",
       "      <th></th>\n",
       "      <th></th>\n",
       "      <th>sum</th>\n",
       "      <th>count</th>\n",
       "      <th></th>\n",
       "      <th>movie_id</th>\n",
       "      <th>movie_year</th>\n",
       "      <th>movie_title</th>\n",
       "    </tr>\n",
       "  </thead>\n",
       "  <tbody>\n",
       "    <tr>\n",
       "      <th>289</th>\n",
       "      <td>290</td>\n",
       "      <td>4351.0</td>\n",
       "      <td>1231</td>\n",
       "      <td>3.534525</td>\n",
       "      <td>290</td>\n",
       "      <td>2004.0</td>\n",
       "      <td>Harold and Kumar Go to White Castle</td>\n",
       "    </tr>\n",
       "  </tbody>\n",
       "</table>\n",
       "</div>"
      ],
      "text/plain": [
       "    movie_id  rating       avg_rating movie_id             \\\n",
       "                 sum count            movie_id movie_year   \n",
       "289      290  4351.0  1231   3.534525      290     2004.0   \n",
       "\n",
       "                                          \n",
       "                             movie_title  \n",
       "289  Harold and Kumar Go to White Castle  "
      ]
     },
     "execution_count": 24,
     "metadata": {},
     "output_type": "execute_result"
    }
   ],
   "source": [
    "information.get_avg_rating_for_movie_title(movie_title=\"Harold and Kumar Go to White Castle\")"
   ]
  },
  {
   "cell_type": "code",
   "execution_count": null,
   "metadata": {},
   "outputs": [],
   "source": []
  },
  {
   "cell_type": "code",
   "execution_count": 25,
   "metadata": {},
   "outputs": [
    {
     "name": "stdout",
     "output_type": "stream",
     "text": [
      "random user id used while in development\n",
      "\n"
     ]
    },
    {
     "data": {
      "text/plain": [
       "array([532439, 532649, 532710, 533381, 534018, 534046, 534152, 534777,\n",
       "       535396, 536526, 537150, 538373, 538741, 539019, 539354, 539743,\n",
       "       539791, 540794, 540807, 541826, 542027, 542345, 543865, 544022,\n",
       "       544496, 544571, 544832, 544833, 545026, 545639, 546933, 547732,\n",
       "       548064, 550170, 550777, 551208, 551817, 552356, 552997, 553632,\n",
       "       553668, 553931, 555509, 555955, 556045, 556249, 556534, 556633,\n",
       "       557801, 558634, 559021, 560851, 561184, 561923, 563237, 563607,\n",
       "       563962, 564660, 565041, 565401, 565510, 565962, 568930, 569099,\n",
       "       569386, 570522, 571700, 571702, 572124, 573330, 573434, 573537,\n",
       "       573975, 573995, 574778, 574843, 575714, 575830, 575867, 576584,\n",
       "       576763, 576990, 577547, 578237, 578632, 578699, 580784, 581199,\n",
       "       582829, 582996, 584542, 584750, 584893, 586421, 586652, 586741,\n",
       "       587259, 587685, 588344, 589596, 589626, 589682, 589967, 590113,\n",
       "       590466, 591072, 591866, 592003, 592122, 592281, 592455, 592671,\n",
       "       592684, 592914, 593167, 593168, 593225, 593454, 594196, 594683,\n",
       "       595674, 595778, 595870, 596255, 596533, 596728, 597410, 597463,\n",
       "       597776, 598610, 599164, 599584, 599635, 600362, 600994, 601778,\n",
       "       601868, 603277, 603543, 604568, 604949, 606144, 606570, 607531,\n",
       "       607980, 608018, 608234, 608271, 608537, 608554, 608576, 609556,\n",
       "       610188, 611620, 611870, 611883, 613805, 613979, 616720, 618272,\n",
       "       618288, 618726, 619721, 620063, 620147, 620771, 620938, 621279,\n",
       "       621342, 621908, 622282, 622482, 622995, 623036, 623943, 624035,\n",
       "       624145, 624388, 626050, 627040, 627875, 630039, 630174, 630196,\n",
       "       630887, 630920, 631857, 631945, 632175, 632346, 634604, 634883,\n",
       "       635056, 635184, 635285, 635607, 636262, 636475, 638020, 638824,\n",
       "       639533, 640588, 640743, 641785, 642036, 643182, 643813, 645800,\n",
       "       645838, 646098, 646981, 647037, 648643, 648760, 649804, 649855,\n",
       "       649963, 650326, 650828, 650986, 651230, 651685, 651807, 652324,\n",
       "       652369, 653682, 656399, 656811, 657582, 657699, 659037, 659505,\n",
       "       659526, 659639, 660454, 660499, 660822, 660962, 661344, 661662,\n",
       "       661894, 662870, 663309, 663355, 664105, 664185, 664705, 665242,\n",
       "       665941, 666860, 667422, 667730, 668126, 668703, 668811, 672980,\n",
       "       672989, 673040, 674255, 675111, 676062, 677213, 678815, 679042,\n",
       "       679555, 679849, 680162, 680740, 681208, 682051, 682402, 682963,\n",
       "       683123, 683124, 683751, 684741, 684850, 684876, 685113, 685253,\n",
       "       685565, 685717, 686629, 688357, 688463, 688747, 689166, 689205,\n",
       "       689229, 690212, 690746, 690939, 691108, 691212, 691460, 693162,\n",
       "       693542, 694149, 695915, 696969, 697867, 697945, 698713, 699412,\n",
       "       699522, 699878, 700747, 700890, 701514, 701615, 701692, 701730,\n",
       "       701960, 702686, 704063, 704249, 704538, 704856, 705026, 705787,\n",
       "       706832, 707012, 707854, 709342, 710202, 711144, 711644, 712209,\n",
       "       712609, 712610, 712664, 713004, 713559, 714550, 714960, 715062,\n",
       "       715897, 716874, 718211, 718564, 719342, 719467, 719598, 719833,\n",
       "       720145, 721369, 721992, 722006, 722591, 723983, 724270, 727242,\n",
       "       728413, 728801, 729321, 729471, 729846, 731988, 732363, 732556,\n",
       "       732936, 734381, 735094, 736671, 738379, 738784, 738804, 740495,\n",
       "       740671, 740905, 741245, 742738, 742766, 743633, 743694, 744011,\n",
       "       744546, 744706, 745661, 745688, 745706, 746154, 746965, 747695,\n",
       "       747986, 748922, 749164, 749353, 751824, 752642, 752702, 753107,\n",
       "       753127, 754135, 755056, 755078, 755319, 755939, 755976, 756162,\n",
       "       756709, 757837, 758850, 758937, 759509, 759737, 760104, 760605,\n",
       "       761585, 762066, 762111, 762240, 762249, 762640, 762808, 763240,\n",
       "       764896, 765573, 765860, 766180, 766450, 766489, 766629, 766872,\n",
       "       767052, 767139, 767232, 767518, 768442, 769643, 769670, 769702,\n",
       "       769824, 770097, 770921, 771637, 772538, 772989, 773165, 773532,\n",
       "       775436, 775861, 775895, 776316, 776473, 777147, 778256, 778849,\n",
       "       779140, 779332, 779476, 779616, 780253, 780282, 780320, 780687,\n",
       "       781347, 781779, 781860, 782308, 782566, 782640, 782949, 783154,\n",
       "       783779, 783838, 785573, 785768, 786312, 786695, 787391, 787827,\n",
       "       788185, 788321, 788698, 788774, 788980, 789014, 789530, 789965,\n",
       "       790920, 791029, 792155, 792580, 792758, 793228, 793564, 793852,\n",
       "       794052, 794717, 794999, 795638, 797889, 797951, 798281, 798296,\n",
       "       799207, 799442, 799810, 799974])"
      ]
     },
     "execution_count": 25,
     "metadata": {},
     "output_type": "execute_result"
    }
   ],
   "source": [
    "def generate_random_user_ids(from_n, to_n):\n",
    "    ids = np.unique(data_rating['customer_id'])[from_n:to_n]\n",
    "    print(\"random user id used while in development\\n\")\n",
    "    return ids\n",
    "## use when developing the program and need new customer_ids\n",
    "generate_random_user_ids(1000, 1500)"
   ]
  },
  {
   "cell_type": "markdown",
   "metadata": {},
   "source": [
    "### Details about a specific customer"
   ]
  },
  {
   "cell_type": "code",
   "execution_count": 26,
   "metadata": {},
   "outputs": [],
   "source": [
    "# ids I like -> 28812, 56514, 56520, 1488844, 84100, 534046\n",
    "customer_id_use = 534046"
   ]
  },
  {
   "cell_type": "code",
   "execution_count": 27,
   "metadata": {},
   "outputs": [
    {
     "name": "stdout",
     "output_type": "stream",
     "text": [
      "Movies/TV Shows user 534046 has rated\n"
     ]
    },
    {
     "data": {
      "text/html": [
       "<div>\n",
       "<style scoped>\n",
       "    .dataframe tbody tr th:only-of-type {\n",
       "        vertical-align: middle;\n",
       "    }\n",
       "\n",
       "    .dataframe tbody tr th {\n",
       "        vertical-align: top;\n",
       "    }\n",
       "\n",
       "    .dataframe thead th {\n",
       "        text-align: right;\n",
       "    }\n",
       "</style>\n",
       "<table border=\"1\" class=\"dataframe\">\n",
       "  <thead>\n",
       "    <tr style=\"text-align: right;\">\n",
       "      <th></th>\n",
       "      <th>movie_id</th>\n",
       "      <th>customer_id</th>\n",
       "      <th>rating</th>\n",
       "      <th>movie_year</th>\n",
       "      <th>movie_title</th>\n",
       "    </tr>\n",
       "  </thead>\n",
       "  <tbody>\n",
       "    <tr>\n",
       "      <th>3131</th>\n",
       "      <td>5</td>\n",
       "      <td>534046</td>\n",
       "      <td>5.0</td>\n",
       "      <td>2004.0</td>\n",
       "      <td>The Rise and Fall of ECW</td>\n",
       "    </tr>\n",
       "    <tr>\n",
       "      <th>8700</th>\n",
       "      <td>30</td>\n",
       "      <td>534046</td>\n",
       "      <td>5.0</td>\n",
       "      <td>2003.0</td>\n",
       "      <td>Something's Gotta Give</td>\n",
       "    </tr>\n",
       "    <tr>\n",
       "      <th>12247</th>\n",
       "      <td>52</td>\n",
       "      <td>534046</td>\n",
       "      <td>5.0</td>\n",
       "      <td>2002.0</td>\n",
       "      <td>The Weather Underground</td>\n",
       "    </tr>\n",
       "    <tr>\n",
       "      <th>31214</th>\n",
       "      <td>187</td>\n",
       "      <td>534046</td>\n",
       "      <td>3.0</td>\n",
       "      <td>2002.0</td>\n",
       "      <td>Death to Smoochy</td>\n",
       "    </tr>\n",
       "    <tr>\n",
       "      <th>34441</th>\n",
       "      <td>194</td>\n",
       "      <td>534046</td>\n",
       "      <td>4.0</td>\n",
       "      <td>1996.0</td>\n",
       "      <td>Arliss: The Best of Arliss</td>\n",
       "    </tr>\n",
       "    <tr>\n",
       "      <th>51683</th>\n",
       "      <td>290</td>\n",
       "      <td>534046</td>\n",
       "      <td>4.0</td>\n",
       "      <td>2004.0</td>\n",
       "      <td>Harold and Kumar Go to White Castle</td>\n",
       "    </tr>\n",
       "    <tr>\n",
       "      <th>111420</th>\n",
       "      <td>571</td>\n",
       "      <td>534046</td>\n",
       "      <td>4.0</td>\n",
       "      <td>1999.0</td>\n",
       "      <td>American Beauty</td>\n",
       "    </tr>\n",
       "    <tr>\n",
       "      <th>187786</th>\n",
       "      <td>1029</td>\n",
       "      <td>534046</td>\n",
       "      <td>1.0</td>\n",
       "      <td>1995.0</td>\n",
       "      <td>Tromeo and Juliet</td>\n",
       "    </tr>\n",
       "    <tr>\n",
       "      <th>210575</th>\n",
       "      <td>1148</td>\n",
       "      <td>534046</td>\n",
       "      <td>4.0</td>\n",
       "      <td>1981.0</td>\n",
       "      <td>For Your Eyes Only</td>\n",
       "    </tr>\n",
       "    <tr>\n",
       "      <th>289148</th>\n",
       "      <td>1642</td>\n",
       "      <td>534046</td>\n",
       "      <td>5.0</td>\n",
       "      <td>1995.0</td>\n",
       "      <td>Casino: 10th Anniversary Edition</td>\n",
       "    </tr>\n",
       "    <tr>\n",
       "      <th>299773</th>\n",
       "      <td>1700</td>\n",
       "      <td>534046</td>\n",
       "      <td>3.0</td>\n",
       "      <td>1996.0</td>\n",
       "      <td>Bottle Rocket</td>\n",
       "    </tr>\n",
       "    <tr>\n",
       "      <th>304076</th>\n",
       "      <td>1719</td>\n",
       "      <td>534046</td>\n",
       "      <td>5.0</td>\n",
       "      <td>2004.0</td>\n",
       "      <td>The Life Aquatic with Steve Zissou</td>\n",
       "    </tr>\n",
       "    <tr>\n",
       "      <th>308255</th>\n",
       "      <td>1744</td>\n",
       "      <td>534046</td>\n",
       "      <td>3.0</td>\n",
       "      <td>1984.0</td>\n",
       "      <td>Beverly Hills Cop</td>\n",
       "    </tr>\n",
       "    <tr>\n",
       "      <th>318144</th>\n",
       "      <td>1798</td>\n",
       "      <td>534046</td>\n",
       "      <td>4.0</td>\n",
       "      <td>1987.0</td>\n",
       "      <td>Lethal Weapon</td>\n",
       "    </tr>\n",
       "    <tr>\n",
       "      <th>328339</th>\n",
       "      <td>1843</td>\n",
       "      <td>534046</td>\n",
       "      <td>4.0</td>\n",
       "      <td>1994.0</td>\n",
       "      <td>Beverly Hills Cop III</td>\n",
       "    </tr>\n",
       "    <tr>\n",
       "      <th>391845</th>\n",
       "      <td>2178</td>\n",
       "      <td>534046</td>\n",
       "      <td>4.0</td>\n",
       "      <td>1998.0</td>\n",
       "      <td>Lock</td>\n",
       "    </tr>\n",
       "    <tr>\n",
       "      <th>445103</th>\n",
       "      <td>2464</td>\n",
       "      <td>534046</td>\n",
       "      <td>4.0</td>\n",
       "      <td>1999.0</td>\n",
       "      <td>Trekkies</td>\n",
       "    </tr>\n",
       "    <tr>\n",
       "      <th>494701</th>\n",
       "      <td>2782</td>\n",
       "      <td>534046</td>\n",
       "      <td>4.0</td>\n",
       "      <td>1995.0</td>\n",
       "      <td>Braveheart</td>\n",
       "    </tr>\n",
       "    <tr>\n",
       "      <th>503004</th>\n",
       "      <td>2840</td>\n",
       "      <td>534046</td>\n",
       "      <td>1.0</td>\n",
       "      <td>1977.0</td>\n",
       "      <td>Fantasm Comes Again</td>\n",
       "    </tr>\n",
       "    <tr>\n",
       "      <th>506551</th>\n",
       "      <td>2862</td>\n",
       "      <td>534046</td>\n",
       "      <td>5.0</td>\n",
       "      <td>1991.0</td>\n",
       "      <td>The Silence of the Lambs</td>\n",
       "    </tr>\n",
       "    <tr>\n",
       "      <th>522995</th>\n",
       "      <td>2939</td>\n",
       "      <td>534046</td>\n",
       "      <td>5.0</td>\n",
       "      <td>2004.0</td>\n",
       "      <td>Michael Moore Hates America</td>\n",
       "    </tr>\n",
       "    <tr>\n",
       "      <th>585867</th>\n",
       "      <td>3290</td>\n",
       "      <td>534046</td>\n",
       "      <td>5.0</td>\n",
       "      <td>1974.0</td>\n",
       "      <td>The Godfather</td>\n",
       "    </tr>\n",
       "    <tr>\n",
       "      <th>645503</th>\n",
       "      <td>3610</td>\n",
       "      <td>534046</td>\n",
       "      <td>4.0</td>\n",
       "      <td>1992.0</td>\n",
       "      <td>Lethal Weapon 3</td>\n",
       "    </tr>\n",
       "    <tr>\n",
       "      <th>661228</th>\n",
       "      <td>3684</td>\n",
       "      <td>534046</td>\n",
       "      <td>4.0</td>\n",
       "      <td>1964.0</td>\n",
       "      <td>Goldfinger</td>\n",
       "    </tr>\n",
       "    <tr>\n",
       "      <th>699273</th>\n",
       "      <td>3893</td>\n",
       "      <td>534046</td>\n",
       "      <td>4.0</td>\n",
       "      <td>1996.0</td>\n",
       "      <td>The People vs. Larry Flynt</td>\n",
       "    </tr>\n",
       "    <tr>\n",
       "      <th>705228</th>\n",
       "      <td>3917</td>\n",
       "      <td>534046</td>\n",
       "      <td>4.0</td>\n",
       "      <td>2004.0</td>\n",
       "      <td>Garden State</td>\n",
       "    </tr>\n",
       "    <tr>\n",
       "      <th>734591</th>\n",
       "      <td>4080</td>\n",
       "      <td>534046</td>\n",
       "      <td>5.0</td>\n",
       "      <td>2003.0</td>\n",
       "      <td>A Mighty Wind</td>\n",
       "    </tr>\n",
       "    <tr>\n",
       "      <th>785187</th>\n",
       "      <td>4356</td>\n",
       "      <td>534046</td>\n",
       "      <td>5.0</td>\n",
       "      <td>2002.0</td>\n",
       "      <td>Road to Perdition</td>\n",
       "    </tr>\n",
       "  </tbody>\n",
       "</table>\n",
       "</div>"
      ],
      "text/plain": [
       "        movie_id  customer_id  rating  movie_year  \\\n",
       "3131           5       534046     5.0      2004.0   \n",
       "8700          30       534046     5.0      2003.0   \n",
       "12247         52       534046     5.0      2002.0   \n",
       "31214        187       534046     3.0      2002.0   \n",
       "34441        194       534046     4.0      1996.0   \n",
       "51683        290       534046     4.0      2004.0   \n",
       "111420       571       534046     4.0      1999.0   \n",
       "187786      1029       534046     1.0      1995.0   \n",
       "210575      1148       534046     4.0      1981.0   \n",
       "289148      1642       534046     5.0      1995.0   \n",
       "299773      1700       534046     3.0      1996.0   \n",
       "304076      1719       534046     5.0      2004.0   \n",
       "308255      1744       534046     3.0      1984.0   \n",
       "318144      1798       534046     4.0      1987.0   \n",
       "328339      1843       534046     4.0      1994.0   \n",
       "391845      2178       534046     4.0      1998.0   \n",
       "445103      2464       534046     4.0      1999.0   \n",
       "494701      2782       534046     4.0      1995.0   \n",
       "503004      2840       534046     1.0      1977.0   \n",
       "506551      2862       534046     5.0      1991.0   \n",
       "522995      2939       534046     5.0      2004.0   \n",
       "585867      3290       534046     5.0      1974.0   \n",
       "645503      3610       534046     4.0      1992.0   \n",
       "661228      3684       534046     4.0      1964.0   \n",
       "699273      3893       534046     4.0      1996.0   \n",
       "705228      3917       534046     4.0      2004.0   \n",
       "734591      4080       534046     5.0      2003.0   \n",
       "785187      4356       534046     5.0      2002.0   \n",
       "\n",
       "                                movie_title  \n",
       "3131               The Rise and Fall of ECW  \n",
       "8700                 Something's Gotta Give  \n",
       "12247               The Weather Underground  \n",
       "31214                      Death to Smoochy  \n",
       "34441            Arliss: The Best of Arliss  \n",
       "51683   Harold and Kumar Go to White Castle  \n",
       "111420                      American Beauty  \n",
       "187786                    Tromeo and Juliet  \n",
       "210575                   For Your Eyes Only  \n",
       "289148     Casino: 10th Anniversary Edition  \n",
       "299773                        Bottle Rocket  \n",
       "304076   The Life Aquatic with Steve Zissou  \n",
       "308255                    Beverly Hills Cop  \n",
       "318144                        Lethal Weapon  \n",
       "328339                Beverly Hills Cop III  \n",
       "391845                                 Lock  \n",
       "445103                             Trekkies  \n",
       "494701                           Braveheart  \n",
       "503004                  Fantasm Comes Again  \n",
       "506551             The Silence of the Lambs  \n",
       "522995          Michael Moore Hates America  \n",
       "585867                        The Godfather  \n",
       "645503                      Lethal Weapon 3  \n",
       "661228                           Goldfinger  \n",
       "699273           The People vs. Larry Flynt  \n",
       "705228                         Garden State  \n",
       "734591                        A Mighty Wind  \n",
       "785187                    Road to Perdition  "
      ]
     },
     "execution_count": 27,
     "metadata": {},
     "output_type": "execute_result"
    }
   ],
   "source": [
    "print(\"Movies/TV Shows user\", customer_id_use, \"has rated\")\n",
    "information.all_id_rows(df=data_rating_plus_movie_title, type=\"customer_id\", item_id=customer_id_use)"
   ]
  },
  {
   "cell_type": "code",
   "execution_count": 28,
   "metadata": {},
   "outputs": [
    {
     "name": "stdout",
     "output_type": "stream",
     "text": [
      "User 534046 stats (sum of all ratings, count of ratings, avg_rating)\n"
     ]
    },
    {
     "data": {
      "text/html": [
       "<div>\n",
       "<style scoped>\n",
       "    .dataframe tbody tr th:only-of-type {\n",
       "        vertical-align: middle;\n",
       "    }\n",
       "\n",
       "    .dataframe tbody tr th {\n",
       "        vertical-align: top;\n",
       "    }\n",
       "\n",
       "    .dataframe thead tr th {\n",
       "        text-align: left;\n",
       "    }\n",
       "</style>\n",
       "<table border=\"1\" class=\"dataframe\">\n",
       "  <thead>\n",
       "    <tr>\n",
       "      <th></th>\n",
       "      <th>customer_id</th>\n",
       "      <th colspan=\"2\" halign=\"left\">rating</th>\n",
       "      <th>avg_rating</th>\n",
       "    </tr>\n",
       "    <tr>\n",
       "      <th></th>\n",
       "      <th></th>\n",
       "      <th>sum</th>\n",
       "      <th>count</th>\n",
       "      <th></th>\n",
       "    </tr>\n",
       "  </thead>\n",
       "  <tbody>\n",
       "    <tr>\n",
       "      <th>1005</th>\n",
       "      <td>534046</td>\n",
       "      <td>113.0</td>\n",
       "      <td>28</td>\n",
       "      <td>4.035714</td>\n",
       "    </tr>\n",
       "  </tbody>\n",
       "</table>\n",
       "</div>"
      ],
      "text/plain": [
       "     customer_id rating       avg_rating\n",
       "                    sum count           \n",
       "1005      534046  113.0    28   4.035714"
      ]
     },
     "execution_count": 28,
     "metadata": {},
     "output_type": "execute_result"
    }
   ],
   "source": [
    "print(\"User\", customer_id_use, \"stats (sum of all ratings, count of ratings, avg_rating)\")\n",
    "information.get_item_avg_rating(df=all_customers_average_ratings, type='customer_id', item_id=customer_id_use)"
   ]
  },
  {
   "cell_type": "code",
   "execution_count": 29,
   "metadata": {},
   "outputs": [
    {
     "name": "stdout",
     "output_type": "stream",
     "text": [
      "Movies/TV Shows user 534046 has rated higher (or equal) to 4\n",
      "                                  movie_title  rating\n",
      "movie_id                                             \n",
      "5                    The Rise and Fall of ECW     5.0\n",
      "30                     Something's Gotta Give     5.0\n",
      "52                    The Weather Underground     5.0\n",
      "194                Arliss: The Best of Arliss     4.0\n",
      "290       Harold and Kumar Go to White Castle     4.0\n",
      "571                           American Beauty     4.0\n",
      "1148                       For Your Eyes Only     4.0\n",
      "1642         Casino: 10th Anniversary Edition     5.0\n",
      "1719       The Life Aquatic with Steve Zissou     5.0\n",
      "1798                            Lethal Weapon     4.0\n",
      "1843                    Beverly Hills Cop III     4.0\n",
      "2178                                     Lock     4.0\n",
      "2464                                 Trekkies     4.0\n",
      "2782                               Braveheart     4.0\n",
      "2862                 The Silence of the Lambs     5.0\n",
      "2939              Michael Moore Hates America     5.0\n",
      "3290                            The Godfather     5.0\n",
      "3610                          Lethal Weapon 3     4.0\n",
      "3684                               Goldfinger     4.0\n",
      "3893               The People vs. Larry Flynt     4.0\n",
      "3917                             Garden State     4.0\n",
      "4080                            A Mighty Wind     5.0\n",
      "4356                        Road to Perdition     5.0\n",
      "average rating 1005    4.035714\n",
      "Name: avg_rating, dtype: float64\n"
     ]
    }
   ],
   "source": [
    "#display_movies_customer_rated_higher_than(customer_id=customer_id_use, min_rating=4)\n",
    "print(\"Movies/TV Shows user\", customer_id_use, \"has rated higher (or equal) to\", min_rating)\n",
    "information.display_movies_customer_rated_higher_than(df=data_rating_plus_movie_title, customer_id=customer_id_use, min_rating=min_rating)"
   ]
  },
  {
   "cell_type": "code",
   "execution_count": 30,
   "metadata": {},
   "outputs": [
    {
     "name": "stdout",
     "output_type": "stream",
     "text": [
      "Movies/TV Shows user 534046 has rated lower than 4\n",
      "                  movie_title  rating\n",
      "movie_id                             \n",
      "187          Death to Smoochy     3.0\n",
      "1029        Tromeo and Juliet     1.0\n",
      "1700            Bottle Rocket     3.0\n",
      "1744        Beverly Hills Cop     3.0\n",
      "2840      Fantasm Comes Again     1.0\n",
      "average rating 1005    4.035714\n",
      "Name: avg_rating, dtype: float64\n"
     ]
    }
   ],
   "source": [
    "print(\"Movies/TV Shows user\", customer_id_use, \"has rated lower than\", max_rating)\n",
    "information.display_movies_customer_rated_lower_than(df= data_rating_plus_movie_title,customer_id=customer_id_use, max_rating=max_rating)"
   ]
  },
  {
   "cell_type": "code",
   "execution_count": 31,
   "metadata": {},
   "outputs": [
    {
     "name": "stdout",
     "output_type": "stream",
     "text": [
      "(Results in this cell is the same as above but now shows clearer which movies/tv shows customer likes and which he hates)\n",
      "User 534046 loved these movies\n",
      "The Rise and Fall of ECW\n",
      "Something's Gotta Give\n",
      "The Weather Underground\n",
      "Arliss: The Best of Arliss\n",
      "Harold and Kumar Go to White Castle\n",
      "American Beauty\n",
      "For Your Eyes Only\n",
      "Casino: 10th Anniversary Edition\n",
      "The Life Aquatic with Steve Zissou\n",
      "Lethal Weapon\n",
      "Beverly Hills Cop III\n",
      "Lock\n",
      "Trekkies\n",
      "Braveheart\n",
      "The Silence of the Lambs\n",
      "Michael Moore Hates America\n",
      "The Godfather\n",
      "Lethal Weapon 3\n",
      "Goldfinger\n",
      "The People vs. Larry Flynt\n",
      "Garden State\n",
      "A Mighty Wind\n",
      "Road to Perdition\n",
      "\n",
      "and disliked these movies\n",
      "Death to Smoochy\n",
      "Tromeo and Juliet\n",
      "Bottle Rocket\n",
      "Beverly Hills Cop\n",
      "Fantasm Comes Again\n"
     ]
    }
   ],
   "source": [
    "print(\"(Results in this cell is the same as above but now shows clearer which movies/tv shows customer likes and which he hates)\")\n",
    "information.get_users_loved_hated_movies(df=data_rating_plus_movie_title, customer_id=customer_id_use, minmax_rating=4)"
   ]
  },
  {
   "cell_type": "code",
   "execution_count": 32,
   "metadata": {},
   "outputs": [
    {
     "name": "stdout",
     "output_type": "stream",
     "text": [
      "showing user 534046 average_rating against all other users that have given a rating\n",
      "\n",
      "average rating for user: 4.571428571428571\n",
      "average rating for all users: 3.5321404327111\n",
      "difference between them 29.42 %\n"
     ]
    }
   ],
   "source": [
    "print(\"showing user\", customer_id_use, \"average_rating against all other users that have given a rating\\n\")\n",
    "all_customers_avg_rating = all_customers_average_ratings[\"avg_rating\"].mean()\n",
    "\n",
    "usr = information.all_average_ratings(df=data_rating, type='customer_id')\n",
    "usr = usr[usr[\"customer_id\"] == 596533]\n",
    "\n",
    "change = ((usr[\"avg_rating\"] - all_customers_avg_rating) / all_customers_avg_rating)*100\n",
    "\n",
    "\n",
    "print(\"average rating for user:\", float(usr[\"avg_rating\"]))\n",
    "print(\"average rating for all users:\", all_customers_avg_rating)\n",
    "print(\"difference between them\", round(float(change), 2), \"%\")"
   ]
  },
  {
   "cell_type": "markdown",
   "metadata": {},
   "source": [
    "## Recommendations with collaborative filtering"
   ]
  },
  {
   "cell_type": "markdown",
   "metadata": {},
   "source": [
    "See the file streamlit-app.py to visually see the recommendations, run by doing this line in a terminal ->\n",
    "streamlit run streamlit-app.py"
   ]
  },
  {
   "cell_type": "markdown",
   "metadata": {},
   "source": [
    "#### functions"
   ]
  },
  {
   "cell_type": "code",
   "execution_count": 33,
   "metadata": {},
   "outputs": [],
   "source": [
    "from surprise import dataset, KNNBaseline, accuracy\n",
    "from surprise.model_selection import train_test_split, LeaveOneOut\n",
    "\n",
    "def get_drop_list(type=\"movie_id\"):\n",
    "    #>IF MOVIE:  movie_id, movie rating count, movie rating mean\n",
    "    #>IF CUSTOMER: customer_id, custumer rating count, customer rating mean\n",
    "    df_count_mean_summary = data_rating.groupby(type)['rating'].agg(['count', 'mean'])\n",
    "    df_count_mean_summary.index = df_count_mean_summary.index.map(int)\n",
    "    #>IF MOVIE: returns 1799.0 as a benchmark number\n",
    "    #IF CUSTOMER: returns 52.0 as a benchmark number\n",
    "    benchmark = round(df_count_mean_summary['count'].quantile(0.7),0)\n",
    "    # drop all rows below benchmark\n",
    "    df_drop_list = df_count_mean_summary[df_count_mean_summary['count'] < benchmark]\n",
    "    # return all indexes to drop\n",
    "    return df_drop_list\n",
    "\n",
    "def get_customer_recommendations(customer_id, predictor):\n",
    "    #> returns movie_id, movie_year, movie_title\n",
    "    chosen_customer_pred = data_movies.copy()\n",
    "    # fails if movie_id is the index so we have to reset the index back to normal (0-N)\n",
    "    chosen_customer_pred = chosen_customer_pred.reset_index()\n",
    "    # makes sure that we only pick movies that are not in the movie dropped list\n",
    "    chosen_customer_pred = chosen_customer_pred[~chosen_customer_pred['movie_id'].isin(df_movie_drop_list)]\n",
    "    # make prediction for customer with id = <customer_id> and put it into 'estimated_score'\n",
    "    chosen_customer_pred['estimated_score'] = chosen_customer_pred['movie_id'].apply(lambda x: predictor.predict(customer_id, x).est)\n",
    "    # sort by 'estimated score'\n",
    "    chosen_customer_pred = chosen_customer_pred.sort_values('estimated_score', ascending=False).set_index('movie_id')\n",
    "    return chosen_customer_pred\n",
    "\n",
    "# print out movies/tv show user has previously rated\n",
    "def display_rated_content(customer_id=customer_id_use, number_to_show=20):\n",
    "    print(\"Movies/TV Shows rated by customer\", customer_id)\n",
    "    #df = all_customers_id_plus_movie_title_rows(customer_id=customer_id)\n",
    "    df = information.all_id_rows(df=data_rating_plus_movie_title, type='customer_id', item_id=customer_id)\n",
    "    df = df[['movie_title', 'rating']].sort_values('rating', ascending=False)\n",
    "    print(df[0:number_to_show].set_index('movie_title'))\n",
    "\n",
    "def display_customers_recommendations(customer_id=customer_id_use, df=[], number_to_show=20):\n",
    "    print(\"Movies/TV Shows recommended to customer\")\n",
    "    tmp_df = df[['movie_title', 'estimated_score']][0:number_to_show]\n",
    "    tmp_df = tmp_df.set_index('movie_title')\n",
    "    print(tmp_df)\n",
    "\n",
    "def display_recommendation(customer_id, number_to_show, predictor):\n",
    "    chosen_customer_pred = get_customer_recommendations(customer_id=customer_id, predictor=predictor)\n",
    "    display_customers_recommendations(customer_id=customer_id, df=chosen_customer_pred, number_to_show=number_to_show)\n",
    "\n",
    "def print_evaluation_accuracy(predictions):\n",
    "    print(\"\\nEvaluating accuracy of model...\")\n",
    "    print(\"RMSE: \", accuracy.rmse(predictions, verbose=False))\n",
    "    print(\"MSE: \", accuracy.mse(predictions, verbose=False))\n",
    "    print(\"MAE: \", accuracy.mae(predictions, verbose=False))\n",
    "    # FCP = Fraction of Concordant Pairs\n",
    "    print(\"FCP: \", accuracy.mae(predictions, verbose=False))"
   ]
  },
  {
   "cell_type": "markdown",
   "metadata": {},
   "source": [
    "#### create recommenders"
   ]
  },
  {
   "cell_type": "code",
   "execution_count": 34,
   "metadata": {},
   "outputs": [],
   "source": [
    "## creating a list of the movies that we don't wanna include\n",
    "df_movie_drop_list = get_drop_list(type=\"movie_id\")\n",
    "#df_customer_drop_list = get_summary(type=\"customer_id\")"
   ]
  },
  {
   "cell_type": "markdown",
   "metadata": {},
   "source": [
    "### algo 1"
   ]
  },
  {
   "cell_type": "code",
   "execution_count": 35,
   "metadata": {},
   "outputs": [],
   "source": [
    "## creating a test function to see if there is any difference in creating a custom function or just use the default\n",
    "# here is the default way\n",
    "def test_against_our_custom_function():\n",
    "    _, data_rating, _, _ = NetflixLoadData.get_data_files(use_small_dataset=True)\n",
    "    dataset = Dataset.load_from_df(data_rating[['customer_id', 'movie_id', 'rating']], reader)\n",
    "    fullTrainset = dataset.build_full_trainset()\n",
    "\n",
    "    trainSet, testSet = train_test_split(dataset, test_size=.25, random_state=1)\n",
    "\n",
    "    algo = SVD(random_state=10)\n",
    "    algo.fit(trainSet)\n",
    "\n",
    "    predictions = algo.test(testSet)\n",
    "    print(\"\\nEvaluating accuracy of model...\")\n",
    "    print(\"RMSE: \", accuracy.rmse(predictions, verbose=False))\n",
    "    print(\"MSE: \", accuracy.mse(predictions, verbose=False))\n",
    "    print(\"MAE: \", accuracy.mae(predictions, verbose=False))\n",
    "    # FCP = Fraction of Concordant Pairs\n",
    "    print(\"FCP: \", accuracy.mae(predictions, verbose=False))\n",
    "\n",
    "#here is my custom function\n",
    "class convert_to_raw_ratings(dataset.DatasetAutoFolds):\n",
    "    def __init__(self, df, reader):\n",
    "        self.raw_ratings = [(uid, iid, r, None) for (uid, iid, r) in zip(df['customer_id'], df['movie_id'], df['rating'])]\n",
    "\n",
    "#raw_ratings = convert_to_raw_ratings(data_rating, reader)\n",
    "#print(\"\\nBuilding recommendation model...\")\n",
    "#trainSet, testSet = train_test_split(raw_ratings, test_size=.25, random_state=1)\n",
    "\n",
    "#algo = SVD(random_state=10)\n",
    "#algo.fit(trainSet)\n",
    "#algo_predictions = algo.test(testSet)\n",
    "\n",
    "#test_against_our_custom_function()\n",
    "#print_evaluation_accuracy(algo_predictions)"
   ]
  },
  {
   "cell_type": "raw",
   "metadata": {},
   "source": [
    "test_against_our_custom_function results =>\n",
    "Evaluating accuracy of model...\n",
    "RMSE:  0.9048402795139483\n",
    "MSE:  0.8187359314308801\n",
    "MAE:  0.7014346782230714\n",
    "FCP:  0.7014346782230714\n",
    "\n",
    "print_evaluation_accuracy(algo_predictions) results =>\n",
    "Evaluating accuracy of model...\n",
    "RMSE:  0.9048402795139483\n",
    "MSE:  0.8187359314308801\n",
    "MAE:  0.7014346782230714\n",
    "FCP:  0.7014346782230714"
   ]
  },
  {
   "cell_type": "raw",
   "metadata": {},
   "source": [
    "I have made many changes since I first created the variable algo and it don't seem to run again so I just commented it out, \n",
    "the main results can be seen above where creating my own custom function added no value and the default is the exact same."
   ]
  },
  {
   "cell_type": "code",
   "execution_count": 36,
   "metadata": {},
   "outputs": [],
   "source": [
    "#save_to_pickle(\"algorithm_svd\", algo)\n",
    "# #save_to_pickle(\"algo_raw_rating\", raw_ratings)\n",
    "# save_to_pickle(\"algo_trainSet\", trainSet)\n",
    "# save_to_pickle(\"algo_testSet\", testSet)"
   ]
  },
  {
   "cell_type": "raw",
   "metadata": {},
   "source": [
    "Running this line below\n",
    "#cross_validate(algo, raw_ratings, measures=['MSE', 'RMSE', 'MAE'], cv=5, verbose=True)\n",
    "\n",
    "\n",
    "gave me these results =>\n",
    "Evaluating MSE, RMSE, MAE of algorithm SVD on 5 split(s).\n",
    "\n",
    "                  Fold 1  Fold 2  Fold 3  Fold 4  Fold 5  Mean    Std     \n",
    "MSE (testset)     0.8141  0.8190  0.8183  0.8185  0.8252  0.8190  0.0036  \n",
    "RMSE (testset)    0.9023  0.9050  0.9046  0.9047  0.9084  0.9050  0.0020  \n",
    "MAE (testset)     0.6996  0.7018  0.7021  0.7012  0.7034  0.7016  0.0013  \n",
    "Fit time          43.46   42.70   43.19   43.22   43.34   43.18   0.26    \n",
    "Test time         1.25    1.80    1.89    2.15    1.86    1.79    0.30    \n",
    "{'test_mse': array([0.8140786 , 0.81902422, 0.81832184, 0.81848648, 0.8252199 ]),\n",
    " 'test_rmse': array([0.90226305, 0.90499957, 0.90461143, 0.90470243, 0.90841615]),\n",
    " 'test_mae': array([0.69956712, 0.70178235, 0.70205342, 0.70116675, 0.70340926]),\n",
    " 'fit_time': (43.46491026878357,\n",
    "  42.70126295089722,\n",
    "  43.18883514404297,\n",
    "  43.22296500205994,\n",
    "  43.34227705001831),\n",
    " 'test_time': (1.2471659183502197,\n",
    "  1.798271894454956,\n",
    "  1.8913426399230957,\n",
    "  2.151172161102295,\n",
    "  1.8620872497558594)}"
   ]
  },
  {
   "cell_type": "markdown",
   "metadata": {},
   "source": [
    "### many different algorithms"
   ]
  },
  {
   "cell_type": "code",
   "execution_count": 37,
   "metadata": {},
   "outputs": [],
   "source": [
    "dataset = Dataset.load_from_df(data_rating[['customer_id', 'movie_id', 'rating']], reader)\n",
    "fullTrainset = dataset.build_full_trainset()\n",
    "trainSet, testSet = train_test_split(dataset, test_size=.25, random_state=1)"
   ]
  },
  {
   "cell_type": "code",
   "execution_count": 38,
   "metadata": {},
   "outputs": [
    {
     "data": {
      "text/html": [
       "<div>\n",
       "<style scoped>\n",
       "    .dataframe tbody tr th:only-of-type {\n",
       "        vertical-align: middle;\n",
       "    }\n",
       "\n",
       "    .dataframe tbody tr th {\n",
       "        vertical-align: top;\n",
       "    }\n",
       "\n",
       "    .dataframe thead th {\n",
       "        text-align: right;\n",
       "    }\n",
       "</style>\n",
       "<table border=\"1\" class=\"dataframe\">\n",
       "  <thead>\n",
       "    <tr style=\"text-align: right;\">\n",
       "      <th></th>\n",
       "      <th>movie_id</th>\n",
       "      <th>customer_id</th>\n",
       "      <th>rating</th>\n",
       "    </tr>\n",
       "  </thead>\n",
       "  <tbody>\n",
       "    <tr>\n",
       "      <th>count</th>\n",
       "      <td>813418.000000</td>\n",
       "      <td>8.134180e+05</td>\n",
       "      <td>813418.000000</td>\n",
       "    </tr>\n",
       "    <tr>\n",
       "      <th>mean</th>\n",
       "      <td>2264.330207</td>\n",
       "      <td>1.318841e+06</td>\n",
       "      <td>3.286366</td>\n",
       "    </tr>\n",
       "    <tr>\n",
       "      <th>std</th>\n",
       "      <td>1315.797799</td>\n",
       "      <td>7.634273e+05</td>\n",
       "      <td>1.206194</td>\n",
       "    </tr>\n",
       "    <tr>\n",
       "      <th>min</th>\n",
       "      <td>1.000000</td>\n",
       "      <td>6.850000e+02</td>\n",
       "      <td>1.000000</td>\n",
       "    </tr>\n",
       "    <tr>\n",
       "      <th>25%</th>\n",
       "      <td>1116.000000</td>\n",
       "      <td>6.362620e+05</td>\n",
       "      <td>3.000000</td>\n",
       "    </tr>\n",
       "    <tr>\n",
       "      <th>50%</th>\n",
       "      <td>2282.000000</td>\n",
       "      <td>1.317671e+06</td>\n",
       "      <td>3.000000</td>\n",
       "    </tr>\n",
       "    <tr>\n",
       "      <th>75%</th>\n",
       "      <td>3406.000000</td>\n",
       "      <td>1.961619e+06</td>\n",
       "      <td>4.000000</td>\n",
       "    </tr>\n",
       "    <tr>\n",
       "      <th>max</th>\n",
       "      <td>4499.000000</td>\n",
       "      <td>2.648861e+06</td>\n",
       "      <td>5.000000</td>\n",
       "    </tr>\n",
       "  </tbody>\n",
       "</table>\n",
       "</div>"
      ],
      "text/plain": [
       "            movie_id   customer_id         rating\n",
       "count  813418.000000  8.134180e+05  813418.000000\n",
       "mean     2264.330207  1.318841e+06       3.286366\n",
       "std      1315.797799  7.634273e+05       1.206194\n",
       "min         1.000000  6.850000e+02       1.000000\n",
       "25%      1116.000000  6.362620e+05       3.000000\n",
       "50%      2282.000000  1.317671e+06       3.000000\n",
       "75%      3406.000000  1.961619e+06       4.000000\n",
       "max      4499.000000  2.648861e+06       5.000000"
      ]
     },
     "execution_count": 38,
     "metadata": {},
     "output_type": "execute_result"
    }
   ],
   "source": [
    "data_rating.describe()"
   ]
  },
  {
   "cell_type": "code",
   "execution_count": 39,
   "metadata": {},
   "outputs": [
    {
     "name": "stdout",
     "output_type": "stream",
     "text": [
      "Computing the msd similarity matrix...\n",
      "Done computing similarity matrix.\n",
      "\n",
      "Evaluating accuracy of model...\n",
      "RMSE:  0.9905971347999022\n",
      "MSE:  0.9812826834737757\n",
      "MAE:  0.7873154069977992\n",
      "FCP:  0.7873154069977992\n"
     ]
    }
   ],
   "source": [
    "knn_basic = KNNBasic(K=40)\n",
    "knn_basic.fit(trainSet)\n",
    "knn_basic_predictions = knn_basic.test(testSet)\n",
    "print_evaluation_accuracy(knn_basic_predictions)"
   ]
  },
  {
   "cell_type": "code",
   "execution_count": 40,
   "metadata": {},
   "outputs": [
    {
     "name": "stdout",
     "output_type": "stream",
     "text": [
      "Computing the msd similarity matrix...\n",
      "Done computing similarity matrix.\n",
      "Computing the msd similarity matrix...\n",
      "Done computing similarity matrix.\n",
      "Computing the msd similarity matrix...\n",
      "Done computing similarity matrix.\n",
      "Evaluating MSE, RMSE, MAE of algorithm KNNBasic on 3 split(s).\n",
      "\n",
      "                  Fold 1  Fold 2  Fold 3  Mean    Std     \n",
      "MSE (testset)     1.0004  1.0025  1.0093  1.0041  0.0038  \n",
      "RMSE (testset)    1.0002  1.0012  1.0046  1.0020  0.0019  \n",
      "MAE (testset)     0.7954  0.7964  0.7991  0.7970  0.0015  \n",
      "Fit time          18.88   21.00   20.66   20.18   0.93    \n",
      "Test time         169.52  161.26  134.65  155.14  14.88   \n"
     ]
    },
    {
     "data": {
      "text/plain": [
       "{'test_mse': array([1.00037021, 1.00249634, 1.00930054]),\n",
       " 'test_rmse': array([1.00018509, 1.00124739, 1.00463951]),\n",
       " 'test_mae': array([0.79544185, 0.79642976, 0.7990663 ]),\n",
       " 'fit_time': (18.88226866722107, 20.9967999458313, 20.658180236816406),\n",
       " 'test_time': (169.51518630981445, 161.25828909873962, 134.65037059783936)}"
      ]
     },
     "execution_count": 40,
     "metadata": {},
     "output_type": "execute_result"
    }
   ],
   "source": [
    "#cross_validate(knn_basic, dataset, measures=['MSE', 'RMSE', 'MAE'], cv=3, verbose=True)"
   ]
  },
  {
   "cell_type": "raw",
   "metadata": {},
   "source": [
    "SVD run =>\n",
    "Evaluating MSE, RMSE, MAE of algorithm SVD on 5 split(s).\n",
    "\n",
    "                  Fold 1  Fold 2  Fold 3  Fold 4  Fold 5  Mean    Std     \n",
    "MSE (testset)     0.8129  0.8173  0.8158  0.8191  0.8206  0.8171  0.0027  \n",
    "RMSE (testset)    0.9016  0.9041  0.9032  0.9050  0.9059  0.9040  0.0015  \n",
    "MAE (testset)     0.6995  0.7011  0.7002  0.7017  0.7015  0.7008  0.0008  \n",
    "Fit time          45.70   45.03   45.65   42.76   42.72   44.37   1.35    \n",
    "Test time         1.28    1.23    1.82    1.88    1.79    1.60    0.28    \n",
    "{'test_mse': array([0.8128914 , 0.81733656, 0.81576003, 0.81906422, 0.82062215]),\n",
    " 'test_rmse': array([0.9016049 , 0.90406668, 0.90319435, 0.90502167, 0.90588197]),\n",
    " 'test_mae': array([0.69946949, 0.70105072, 0.70019792, 0.70172599, 0.701503  ]),\n",
    " 'fit_time': (45.69601392745972,\n",
    "  45.02508091926575,\n",
    "  45.64592099189758,\n",
    "  42.75763988494873,\n",
    "  42.72244310379028),\n",
    " 'test_time': (1.277541160583496,\n",
    "  1.228330135345459,\n",
    "  1.8190929889678955,\n",
    "  1.877488136291504,\n",
    "  1.7900800704956055)}\n",
    "\n",
    "\n",
    "KNNBasic run =>\n",
    "Evaluating MSE, RMSE, MAE of algorithm KNNBasic on 3 split(s). \n",
    "\n",
    "                  Fold 1  Fold 2  Fold 3  Mean    Std     \n",
    "MSE (testset)     1.0004  1.0025  1.0093  1.0041  0.0038  \n",
    "RMSE (testset)    1.0002  1.0012  1.0046  1.0020  0.0019  \n",
    "MAE (testset)     0.7954  0.7964  0.7991  0.7970  0.0015  \n",
    "Fit time          18.88   21.00   20.66   20.18   0.93    \n",
    "Test time         169.52  161.26  134.65  155.14  14.88   \n",
    "{'test_mse': array([1.00037021, 1.00249634, 1.00930054]),\n",
    " 'test_rmse': array([1.00018509, 1.00124739, 1.00463951]),\n",
    " 'test_mae': array([0.79544185, 0.79642976, 0.7990663 ]),\n",
    " 'fit_time': (18.88226866722107, 20.9967999458313, 20.658180236816406),\n",
    " 'test_time': (169.51518630981445, 161.25828909873962, 134.65037059783936)}"
   ]
  },
  {
   "cell_type": "markdown",
   "metadata": {},
   "source": [
    "## testing many different algorithms"
   ]
  },
  {
   "cell_type": "code",
   "execution_count": 43,
   "metadata": {},
   "outputs": [],
   "source": [
    "from surprise import Dataset\n",
    "from surprise import Reader\n",
    "from surprise.model_selection import cross_validate\n",
    "from surprise.model_selection import GridSearchCV\n",
    "from surprise import KNNBasic, KNNWithMeans, KNNWithZScore\n",
    "from surprise import SVD, SVDpp, NMF\n",
    "from surprise import SlopeOne, CoClustering"
   ]
  },
  {
   "cell_type": "code",
   "execution_count": 44,
   "metadata": {},
   "outputs": [],
   "source": [
    "cv = 3\n",
    "n_jobs = 3\n",
    "data = dataset"
   ]
  },
  {
   "cell_type": "markdown",
   "metadata": {},
   "source": [
    "trying below couple of algorithms that I found on the surprise documentation website ( https://surprise.readthedocs.io/en/stable/knn_inspired.html )"
   ]
  },
  {
   "cell_type": "code",
   "execution_count": 45,
   "metadata": {},
   "outputs": [],
   "source": [
    "knn_basic_cv = cross_validate(KNNBasic(), data, cv=cv, n_jobs=n_jobs, verbose=False)\n",
    "knn_means_cv = cross_validate(KNNWithMeans(), data, cv=cv, n_jobs=n_jobs, verbose=False)"
   ]
  },
  {
   "cell_type": "code",
   "execution_count": 46,
   "metadata": {},
   "outputs": [],
   "source": [
    "svd_cv = cross_validate(SVD(), data, cv=cv, n_jobs=n_jobs, verbose=False)\n",
    "#svdpp_cv = cross_validate(SVDpp(), data, cv=cv, n_jobs=n_jobs, verbose=False) # #Quit running after an hour since it had not finished#\n",
    "nmf_cv = cross_validate(NMF(), data, cv=cv, n_jobs=n_jobs, verbose=False)"
   ]
  },
  {
   "cell_type": "code",
   "execution_count": 47,
   "metadata": {},
   "outputs": [],
   "source": [
    "#svd_cv = cross_validate(SVD(), data, cv=cv, n_jobs=n_jobs, verbose=False)\n",
    "#nmf_cv = cross_validate(NMF(), data, cv=cv, n_jobs=n_jobs, verbose=False) "
   ]
  },
  {
   "cell_type": "code",
   "execution_count": 48,
   "metadata": {},
   "outputs": [],
   "source": [
    "slope_cv = cross_validate(SlopeOne(), data, cv=cv, n_jobs=n_jobs, verbose=False)\n",
    "coclus_cv = cross_validate(CoClustering(), data, cv=cv, n_jobs=n_jobs, verbose=False)"
   ]
  },
  {
   "cell_type": "code",
   "execution_count": 49,
   "metadata": {},
   "outputs": [],
   "source": [
    "def display_results_algorithms(title, algorithm):\n",
    "    #print()\n",
    "    print(title, '\\t', round(algorithm['test_rmse'].mean(), 2), '\\t', round(algorithm['test_mae'].mean(), 2))"
   ]
  },
  {
   "cell_type": "code",
   "execution_count": 50,
   "metadata": {},
   "outputs": [
    {
     "name": "stdout",
     "output_type": "stream",
     "text": [
      "Algorithm\t RMSE\t\t MAE\n",
      "\n",
      "KNN Basic \t 1.0 \t 0.8\n",
      "KNN Means \t 0.95 \t 0.74\n",
      "\n",
      "SVD \t 0.92 \t 0.71\n",
      "NMF \t 0.96 \t 0.75\n",
      "\n",
      "SlopeOne \t 0.96 \t 0.75\n",
      "CoClustering \t 0.96 \t 0.74\n"
     ]
    }
   ],
   "source": [
    "print('Algorithm\\t RMSE\\t\\t MAE')\n",
    "print()\n",
    "display_results_algorithms('KNN Basic', knn_basic_cv)\n",
    "display_results_algorithms('KNN Means', knn_means_cv)\n",
    "print()\n",
    "display_results_algorithms('SVD', svd_cv)\n",
    "#display_results_algorithms('SVDpp', svdpp_cv) # after an hour I just quit running this since it had not finished\n",
    "display_results_algorithms('NMF', nmf_cv)\n",
    "print()\n",
    "display_results_algorithms('SlopeOne', slope_cv)\n",
    "display_results_algorithms('CoClustering', coclus_cv)"
   ]
  },
  {
   "cell_type": "code",
   "execution_count": 66,
   "metadata": {},
   "outputs": [],
   "source": [
    "def show_visually_best_performing(title, metric, label, color):\n",
    "    font_size = 10\n",
    "    x_axis_labels = ['KNN Basic', 'KNN Means', 'SVD', 'NMF', 'SlopeOne','CoClustering']\n",
    "    plt.title(title, loc='center', fontsize=font_size)\n",
    "    plt.plot(x_axis_labels, metric, label=label, color=color, marker='o')\n",
    "    plt.xlabel('Algorithm comparison', fontsize=font_size)\n",
    "    plt.ylabel(\"error score\", fontsize=font_size)\n",
    "    plt.legend()\n",
    "    plt.grid(ls='dashed')\n"
   ]
  },
  {
   "cell_type": "code",
   "execution_count": 59,
   "metadata": {},
   "outputs": [],
   "source": [
    "from statistics import mean\n",
    "list_of_algorithms = [knn_basic_cv, knn_means_cv, svd_cv, nmf_cv, slope_cv, coclus_cv]\n",
    "rmse_cv = [round(item['test_rmse'].mean(), 2) for item in list_of_algorithms]\n",
    "mae_cv = [round(item['test_mae'].mean(), 2) for item in list_of_algorithms]\n"
   ]
  },
  {
   "cell_type": "code",
   "execution_count": 70,
   "metadata": {},
   "outputs": [
    {
     "data": {
      "image/png": "[encoded data removed]",
      "text/plain": [
       "<Figure size 1440x360 with 2 Axes>"
      ]
     },
     "metadata": {
      "needs_background": "light"
     },
     "output_type": "display_data"
    }
   ],
   "source": [
    "plt.figure(figsize=(20, 5))\n",
    "plt.subplot(1, 2, 1)\n",
    "show_visually_best_performing(title=\"RMSE Algorithms\", metric=rmse_cv, label=\"RMSE\", color=\"darkgreen\")\n",
    "plt.subplot(1, 2, 2)\n",
    "show_visually_best_performing(title=\"MAE Algorithms\", metric=mae_cv, label=\"MAE\", color=\"navy\")\n",
    "plt.show()\n"
   ]
  },
  {
   "cell_type": "markdown",
   "metadata": {},
   "source": [
    "choosing the two best algorithms to run through grid search"
   ]
  },
  {
   "cell_type": "markdown",
   "metadata": {},
   "source": [
    "Linkur á surprise doc fyrir parameter grid https://surprise.readthedocs.io/en/v1.0.1/getting_started.html"
   ]
  },
  {
   "cell_type": "code",
   "execution_count": 56,
   "metadata": {},
   "outputs": [
    {
     "ename": "KeyboardInterrupt",
     "evalue": "",
     "output_type": "error",
     "traceback": [
      "\u001b[0;31m---------------------------------------------------------------------------\u001b[0m",
      "\u001b[0;31mKeyboardInterrupt\u001b[0m                         Traceback (most recent call last)",
      "\u001b[0;32m<ipython-input-56-4f08962c8b72>\u001b[0m in \u001b[0;36m<module>\u001b[0;34m\u001b[0m\n\u001b[1;32m      4\u001b[0m \u001b[0;34m\u001b[0m\u001b[0m\n\u001b[1;32m      5\u001b[0m \u001b[0msvd_grid\u001b[0m \u001b[0;34m=\u001b[0m \u001b[0mGridSearchCV\u001b[0m\u001b[0;34m(\u001b[0m\u001b[0mSVD\u001b[0m\u001b[0;34m,\u001b[0m \u001b[0msvd_param_grid\u001b[0m\u001b[0;34m,\u001b[0m \u001b[0mmeasures\u001b[0m\u001b[0;34m=\u001b[0m\u001b[0;34m[\u001b[0m\u001b[0;34m'rmse'\u001b[0m\u001b[0;34m,\u001b[0m \u001b[0;34m'mae'\u001b[0m\u001b[0;34m]\u001b[0m\u001b[0;34m,\u001b[0m \u001b[0mcv\u001b[0m\u001b[0;34m=\u001b[0m\u001b[0;36m5\u001b[0m\u001b[0;34m,\u001b[0m \u001b[0mn_jobs\u001b[0m\u001b[0;34m=\u001b[0m\u001b[0;36m5\u001b[0m\u001b[0;34m)\u001b[0m\u001b[0;34m\u001b[0m\u001b[0;34m\u001b[0m\u001b[0m\n\u001b[0;32m----> 6\u001b[0;31m \u001b[0msvd_grid\u001b[0m\u001b[0;34m.\u001b[0m\u001b[0mfit\u001b[0m\u001b[0;34m(\u001b[0m\u001b[0mdata\u001b[0m\u001b[0;34m)\u001b[0m\u001b[0;34m\u001b[0m\u001b[0;34m\u001b[0m\u001b[0m\n\u001b[0m\u001b[1;32m      7\u001b[0m \u001b[0;34m\u001b[0m\u001b[0m\n\u001b[1;32m      8\u001b[0m \u001b[0mknnwithmeans_grid\u001b[0m \u001b[0;34m=\u001b[0m \u001b[0mGridSearchCV\u001b[0m\u001b[0;34m(\u001b[0m\u001b[0mKNNWithMeans\u001b[0m\u001b[0;34m,\u001b[0m \u001b[0msvd_param_grid\u001b[0m\u001b[0;34m,\u001b[0m \u001b[0mmeasures\u001b[0m\u001b[0;34m=\u001b[0m\u001b[0;34m[\u001b[0m\u001b[0;34m'rmse'\u001b[0m\u001b[0;34m,\u001b[0m \u001b[0;34m'mae'\u001b[0m\u001b[0;34m]\u001b[0m\u001b[0;34m,\u001b[0m \u001b[0mcv\u001b[0m\u001b[0;34m=\u001b[0m\u001b[0;36m5\u001b[0m\u001b[0;34m,\u001b[0m \u001b[0mn_jobs\u001b[0m\u001b[0;34m=\u001b[0m\u001b[0;36m5\u001b[0m\u001b[0;34m)\u001b[0m\u001b[0;34m\u001b[0m\u001b[0;34m\u001b[0m\u001b[0m\n",
      "\u001b[0;32m~/anaconda3/lib/python3.8/site-packages/surprise/model_selection/search.py\u001b[0m in \u001b[0;36mfit\u001b[0;34m(self, data)\u001b[0m\n\u001b[1;32m     86\u001b[0m                                                        cv.split(data))\n\u001b[1;32m     87\u001b[0m         )\n\u001b[0;32m---> 88\u001b[0;31m         out = Parallel(n_jobs=self.n_jobs,\n\u001b[0m\u001b[1;32m     89\u001b[0m                        \u001b[0mpre_dispatch\u001b[0m\u001b[0;34m=\u001b[0m\u001b[0mself\u001b[0m\u001b[0;34m.\u001b[0m\u001b[0mpre_dispatch\u001b[0m\u001b[0;34m,\u001b[0m\u001b[0;34m\u001b[0m\u001b[0;34m\u001b[0m\u001b[0m\n\u001b[1;32m     90\u001b[0m                        verbose=self.joblib_verbose)(delayed_list)\n",
      "\u001b[0;32m~/.local/lib/python3.8/site-packages/joblib/parallel.py\u001b[0m in \u001b[0;36m__call__\u001b[0;34m(self, iterable)\u001b[0m\n\u001b[1;32m   1052\u001b[0m \u001b[0;34m\u001b[0m\u001b[0m\n\u001b[1;32m   1053\u001b[0m             \u001b[0;32mwith\u001b[0m \u001b[0mself\u001b[0m\u001b[0;34m.\u001b[0m\u001b[0m_backend\u001b[0m\u001b[0;34m.\u001b[0m\u001b[0mretrieval_context\u001b[0m\u001b[0;34m(\u001b[0m\u001b[0;34m)\u001b[0m\u001b[0;34m:\u001b[0m\u001b[0;34m\u001b[0m\u001b[0;34m\u001b[0m\u001b[0m\n\u001b[0;32m-> 1054\u001b[0;31m                 \u001b[0mself\u001b[0m\u001b[0;34m.\u001b[0m\u001b[0mretrieve\u001b[0m\u001b[0;34m(\u001b[0m\u001b[0;34m)\u001b[0m\u001b[0;34m\u001b[0m\u001b[0;34m\u001b[0m\u001b[0m\n\u001b[0m\u001b[1;32m   1055\u001b[0m             \u001b[0;31m# Make sure that we get a last message telling us we are done\u001b[0m\u001b[0;34m\u001b[0m\u001b[0;34m\u001b[0m\u001b[0;34m\u001b[0m\u001b[0m\n\u001b[1;32m   1056\u001b[0m             \u001b[0melapsed_time\u001b[0m \u001b[0;34m=\u001b[0m \u001b[0mtime\u001b[0m\u001b[0;34m.\u001b[0m\u001b[0mtime\u001b[0m\u001b[0;34m(\u001b[0m\u001b[0;34m)\u001b[0m \u001b[0;34m-\u001b[0m \u001b[0mself\u001b[0m\u001b[0;34m.\u001b[0m\u001b[0m_start_time\u001b[0m\u001b[0;34m\u001b[0m\u001b[0;34m\u001b[0m\u001b[0m\n",
      "\u001b[0;32m~/.local/lib/python3.8/site-packages/joblib/parallel.py\u001b[0m in \u001b[0;36mretrieve\u001b[0;34m(self)\u001b[0m\n\u001b[1;32m    931\u001b[0m             \u001b[0;32mtry\u001b[0m\u001b[0;34m:\u001b[0m\u001b[0;34m\u001b[0m\u001b[0;34m\u001b[0m\u001b[0m\n\u001b[1;32m    932\u001b[0m                 \u001b[0;32mif\u001b[0m \u001b[0mgetattr\u001b[0m\u001b[0;34m(\u001b[0m\u001b[0mself\u001b[0m\u001b[0;34m.\u001b[0m\u001b[0m_backend\u001b[0m\u001b[0;34m,\u001b[0m \u001b[0;34m'supports_timeout'\u001b[0m\u001b[0;34m,\u001b[0m \u001b[0;32mFalse\u001b[0m\u001b[0;34m)\u001b[0m\u001b[0;34m:\u001b[0m\u001b[0;34m\u001b[0m\u001b[0;34m\u001b[0m\u001b[0m\n\u001b[0;32m--> 933\u001b[0;31m                     \u001b[0mself\u001b[0m\u001b[0;34m.\u001b[0m\u001b[0m_output\u001b[0m\u001b[0;34m.\u001b[0m\u001b[0mextend\u001b[0m\u001b[0;34m(\u001b[0m\u001b[0mjob\u001b[0m\u001b[0;34m.\u001b[0m\u001b[0mget\u001b[0m\u001b[0;34m(\u001b[0m\u001b[0mtimeout\u001b[0m\u001b[0;34m=\u001b[0m\u001b[0mself\u001b[0m\u001b[0;34m.\u001b[0m\u001b[0mtimeout\u001b[0m\u001b[0;34m)\u001b[0m\u001b[0;34m)\u001b[0m\u001b[0;34m\u001b[0m\u001b[0;34m\u001b[0m\u001b[0m\n\u001b[0m\u001b[1;32m    934\u001b[0m                 \u001b[0;32melse\u001b[0m\u001b[0;34m:\u001b[0m\u001b[0;34m\u001b[0m\u001b[0;34m\u001b[0m\u001b[0m\n\u001b[1;32m    935\u001b[0m                     \u001b[0mself\u001b[0m\u001b[0;34m.\u001b[0m\u001b[0m_output\u001b[0m\u001b[0;34m.\u001b[0m\u001b[0mextend\u001b[0m\u001b[0;34m(\u001b[0m\u001b[0mjob\u001b[0m\u001b[0;34m.\u001b[0m\u001b[0mget\u001b[0m\u001b[0;34m(\u001b[0m\u001b[0;34m)\u001b[0m\u001b[0;34m)\u001b[0m\u001b[0;34m\u001b[0m\u001b[0;34m\u001b[0m\u001b[0m\n",
      "\u001b[0;32m~/.local/lib/python3.8/site-packages/joblib/_parallel_backends.py\u001b[0m in \u001b[0;36mwrap_future_result\u001b[0;34m(future, timeout)\u001b[0m\n\u001b[1;32m    540\u001b[0m         AsyncResults.get from multiprocessing.\"\"\"\n\u001b[1;32m    541\u001b[0m         \u001b[0;32mtry\u001b[0m\u001b[0;34m:\u001b[0m\u001b[0;34m\u001b[0m\u001b[0;34m\u001b[0m\u001b[0m\n\u001b[0;32m--> 542\u001b[0;31m             \u001b[0;32mreturn\u001b[0m \u001b[0mfuture\u001b[0m\u001b[0;34m.\u001b[0m\u001b[0mresult\u001b[0m\u001b[0;34m(\u001b[0m\u001b[0mtimeout\u001b[0m\u001b[0;34m=\u001b[0m\u001b[0mtimeout\u001b[0m\u001b[0;34m)\u001b[0m\u001b[0;34m\u001b[0m\u001b[0;34m\u001b[0m\u001b[0m\n\u001b[0m\u001b[1;32m    543\u001b[0m         \u001b[0;32mexcept\u001b[0m \u001b[0mCfTimeoutError\u001b[0m \u001b[0;32mas\u001b[0m \u001b[0me\u001b[0m\u001b[0;34m:\u001b[0m\u001b[0;34m\u001b[0m\u001b[0;34m\u001b[0m\u001b[0m\n\u001b[1;32m    544\u001b[0m             \u001b[0;32mraise\u001b[0m \u001b[0mTimeoutError\u001b[0m \u001b[0;32mfrom\u001b[0m \u001b[0me\u001b[0m\u001b[0;34m\u001b[0m\u001b[0;34m\u001b[0m\u001b[0m\n",
      "\u001b[0;32m~/anaconda3/lib/python3.8/concurrent/futures/_base.py\u001b[0m in \u001b[0;36mresult\u001b[0;34m(self, timeout)\u001b[0m\n\u001b[1;32m    432\u001b[0m                 \u001b[0;32mreturn\u001b[0m \u001b[0mself\u001b[0m\u001b[0;34m.\u001b[0m\u001b[0m__get_result\u001b[0m\u001b[0;34m(\u001b[0m\u001b[0;34m)\u001b[0m\u001b[0;34m\u001b[0m\u001b[0;34m\u001b[0m\u001b[0m\n\u001b[1;32m    433\u001b[0m \u001b[0;34m\u001b[0m\u001b[0m\n\u001b[0;32m--> 434\u001b[0;31m             \u001b[0mself\u001b[0m\u001b[0;34m.\u001b[0m\u001b[0m_condition\u001b[0m\u001b[0;34m.\u001b[0m\u001b[0mwait\u001b[0m\u001b[0;34m(\u001b[0m\u001b[0mtimeout\u001b[0m\u001b[0;34m)\u001b[0m\u001b[0;34m\u001b[0m\u001b[0;34m\u001b[0m\u001b[0m\n\u001b[0m\u001b[1;32m    435\u001b[0m \u001b[0;34m\u001b[0m\u001b[0m\n\u001b[1;32m    436\u001b[0m             \u001b[0;32mif\u001b[0m \u001b[0mself\u001b[0m\u001b[0;34m.\u001b[0m\u001b[0m_state\u001b[0m \u001b[0;32min\u001b[0m \u001b[0;34m[\u001b[0m\u001b[0mCANCELLED\u001b[0m\u001b[0;34m,\u001b[0m \u001b[0mCANCELLED_AND_NOTIFIED\u001b[0m\u001b[0;34m]\u001b[0m\u001b[0;34m:\u001b[0m\u001b[0;34m\u001b[0m\u001b[0;34m\u001b[0m\u001b[0m\n",
      "\u001b[0;32m~/anaconda3/lib/python3.8/threading.py\u001b[0m in \u001b[0;36mwait\u001b[0;34m(self, timeout)\u001b[0m\n\u001b[1;32m    300\u001b[0m         \u001b[0;32mtry\u001b[0m\u001b[0;34m:\u001b[0m    \u001b[0;31m# restore state no matter what (e.g., KeyboardInterrupt)\u001b[0m\u001b[0;34m\u001b[0m\u001b[0;34m\u001b[0m\u001b[0m\n\u001b[1;32m    301\u001b[0m             \u001b[0;32mif\u001b[0m \u001b[0mtimeout\u001b[0m \u001b[0;32mis\u001b[0m \u001b[0;32mNone\u001b[0m\u001b[0;34m:\u001b[0m\u001b[0;34m\u001b[0m\u001b[0;34m\u001b[0m\u001b[0m\n\u001b[0;32m--> 302\u001b[0;31m                 \u001b[0mwaiter\u001b[0m\u001b[0;34m.\u001b[0m\u001b[0macquire\u001b[0m\u001b[0;34m(\u001b[0m\u001b[0;34m)\u001b[0m\u001b[0;34m\u001b[0m\u001b[0;34m\u001b[0m\u001b[0m\n\u001b[0m\u001b[1;32m    303\u001b[0m                 \u001b[0mgotit\u001b[0m \u001b[0;34m=\u001b[0m \u001b[0;32mTrue\u001b[0m\u001b[0;34m\u001b[0m\u001b[0;34m\u001b[0m\u001b[0m\n\u001b[1;32m    304\u001b[0m             \u001b[0;32melse\u001b[0m\u001b[0;34m:\u001b[0m\u001b[0;34m\u001b[0m\u001b[0;34m\u001b[0m\u001b[0m\n",
      "\u001b[0;31mKeyboardInterrupt\u001b[0m: "
     ]
    }
   ],
   "source": [
    "cv = 3\n",
    "n_jobs = 3\n",
    "\n",
    "#svd\n",
    "param_grid = {'n_epochs': [5, 10, 20],\n",
    "              'lr_all': [0.002, 0.01],\n",
    "              'reg_all': [0.4, 0.6]}\n",
    "\n",
    "svd_grid = GridSearchCV(SVD, param_grid, measures=['rmse', 'mae'], cv=cv, n_jobs=n_jobs)\n",
    "svd_grid.fit(data)\n",
    "\n",
    "#knn\n",
    "pram_grid_knn = {'k': [10, 20, 30, 40, 50]}\n",
    "knn_with_means_grid = GridSearchCV(KNNWithMeans, pram_grid_knn, measures=['rmse', 'mae'], cv=cv, n_jobs=n_jobs)\n",
    "knn_with_means_grid.fit(data)\n"
   ]
  },
  {
   "cell_type": "markdown",
   "metadata": {},
   "source": []
  },
  {
   "cell_type": "code",
   "execution_count": null,
   "metadata": {},
   "outputs": [],
   "source": [
    "print('SVD RMSE:', svd_grid.best_params['rmse'])\n",
    "print('SVD MAE:', svd_grid.best_params['mae'])\n"
   ]
  },
  {
   "cell_type": "markdown",
   "metadata": {},
   "source": [
    "### display recommendations"
   ]
  },
  {
   "cell_type": "code",
   "execution_count": 51,
   "metadata": {},
   "outputs": [],
   "source": [
    "number_to_show = 10"
   ]
  },
  {
   "cell_type": "markdown",
   "metadata": {},
   "source": [
    "#### customer = 79724"
   ]
  },
  {
   "cell_type": "code",
   "execution_count": 52,
   "metadata": {},
   "outputs": [
    {
     "name": "stdout",
     "output_type": "stream",
     "text": [
      "items user has rated before\n",
      "Movies/TV Shows rated by customer 532649\n",
      "                                          rating\n",
      "movie_title                                     \n",
      "Matewan                                      5.0\n",
      "Black Orpheus                                5.0\n",
      "Talk to Her                                  4.0\n",
      "Alien: Collector's Edition                   4.0\n",
      "Captain Pantoja and the Special Services     4.0\n",
      "The Silence of the Lambs                     4.0\n",
      "The Hustler                                  4.0\n",
      "Y Tu Mama Tambien                            4.0\n",
      "Quincy Jones: In the Pocket                  4.0\n",
      "The Lower Depths (Donzoko)                   4.0\n"
     ]
    }
   ],
   "source": [
    "print(\"items user has rated before\")\n",
    "display_rated_content(customer_id=532649, number_to_show=number_to_show)"
   ]
  },
  {
   "cell_type": "code",
   "execution_count": 54,
   "metadata": {},
   "outputs": [
    {
     "ename": "AttributeError",
     "evalue": "'dict' object has no attribute 'predict'",
     "output_type": "error",
     "traceback": [
      "\u001b[0;31m---------------------------------------------------------------------------\u001b[0m",
      "\u001b[0;31mAttributeError\u001b[0m                            Traceback (most recent call last)",
      "\u001b[0;32m<ipython-input-54-fa8ce7118dc8>\u001b[0m in \u001b[0;36m<module>\u001b[0;34m\u001b[0m\n\u001b[0;32m----> 1\u001b[0;31m display_recommendation(\n\u001b[0m\u001b[1;32m      2\u001b[0m     customer_id=532649, number_to_show=number_to_show, predictor=svd_cv)\n",
      "\u001b[0;32m<ipython-input-33-c1f670fb941f>\u001b[0m in \u001b[0;36mdisplay_recommendation\u001b[0;34m(customer_id, number_to_show, predictor)\u001b[0m\n\u001b[1;32m     43\u001b[0m \u001b[0;34m\u001b[0m\u001b[0m\n\u001b[1;32m     44\u001b[0m \u001b[0;32mdef\u001b[0m \u001b[0mdisplay_recommendation\u001b[0m\u001b[0;34m(\u001b[0m\u001b[0mcustomer_id\u001b[0m\u001b[0;34m,\u001b[0m \u001b[0mnumber_to_show\u001b[0m\u001b[0;34m,\u001b[0m \u001b[0mpredictor\u001b[0m\u001b[0;34m)\u001b[0m\u001b[0;34m:\u001b[0m\u001b[0;34m\u001b[0m\u001b[0;34m\u001b[0m\u001b[0m\n\u001b[0;32m---> 45\u001b[0;31m     \u001b[0mchosen_customer_pred\u001b[0m \u001b[0;34m=\u001b[0m \u001b[0mget_customer_recommendations\u001b[0m\u001b[0;34m(\u001b[0m\u001b[0mcustomer_id\u001b[0m\u001b[0;34m=\u001b[0m\u001b[0mcustomer_id\u001b[0m\u001b[0;34m,\u001b[0m \u001b[0mpredictor\u001b[0m\u001b[0;34m=\u001b[0m\u001b[0mpredictor\u001b[0m\u001b[0;34m)\u001b[0m\u001b[0;34m\u001b[0m\u001b[0;34m\u001b[0m\u001b[0m\n\u001b[0m\u001b[1;32m     46\u001b[0m     \u001b[0mdisplay_customers_recommendations\u001b[0m\u001b[0;34m(\u001b[0m\u001b[0mcustomer_id\u001b[0m\u001b[0;34m=\u001b[0m\u001b[0mcustomer_id\u001b[0m\u001b[0;34m,\u001b[0m \u001b[0mdf\u001b[0m\u001b[0;34m=\u001b[0m\u001b[0mchosen_customer_pred\u001b[0m\u001b[0;34m,\u001b[0m \u001b[0mnumber_to_show\u001b[0m\u001b[0;34m=\u001b[0m\u001b[0mnumber_to_show\u001b[0m\u001b[0;34m)\u001b[0m\u001b[0;34m\u001b[0m\u001b[0;34m\u001b[0m\u001b[0m\n\u001b[1;32m     47\u001b[0m \u001b[0;34m\u001b[0m\u001b[0m\n",
      "\u001b[0;32m<ipython-input-33-c1f670fb941f>\u001b[0m in \u001b[0;36mget_customer_recommendations\u001b[0;34m(customer_id, predictor)\u001b[0m\n\u001b[1;32m     23\u001b[0m     \u001b[0mchosen_customer_pred\u001b[0m \u001b[0;34m=\u001b[0m \u001b[0mchosen_customer_pred\u001b[0m\u001b[0;34m[\u001b[0m\u001b[0;34m~\u001b[0m\u001b[0mchosen_customer_pred\u001b[0m\u001b[0;34m[\u001b[0m\u001b[0;34m'movie_id'\u001b[0m\u001b[0;34m]\u001b[0m\u001b[0;34m.\u001b[0m\u001b[0misin\u001b[0m\u001b[0;34m(\u001b[0m\u001b[0mdf_movie_drop_list\u001b[0m\u001b[0;34m)\u001b[0m\u001b[0;34m]\u001b[0m\u001b[0;34m\u001b[0m\u001b[0;34m\u001b[0m\u001b[0m\n\u001b[1;32m     24\u001b[0m     \u001b[0;31m# make prediction for customer with id = <customer_id> and put it into 'estimated_score'\u001b[0m\u001b[0;34m\u001b[0m\u001b[0;34m\u001b[0m\u001b[0;34m\u001b[0m\u001b[0m\n\u001b[0;32m---> 25\u001b[0;31m     \u001b[0mchosen_customer_pred\u001b[0m\u001b[0;34m[\u001b[0m\u001b[0;34m'estimated_score'\u001b[0m\u001b[0;34m]\u001b[0m \u001b[0;34m=\u001b[0m \u001b[0mchosen_customer_pred\u001b[0m\u001b[0;34m[\u001b[0m\u001b[0;34m'movie_id'\u001b[0m\u001b[0;34m]\u001b[0m\u001b[0;34m.\u001b[0m\u001b[0mapply\u001b[0m\u001b[0;34m(\u001b[0m\u001b[0;32mlambda\u001b[0m \u001b[0mx\u001b[0m\u001b[0;34m:\u001b[0m \u001b[0mpredictor\u001b[0m\u001b[0;34m.\u001b[0m\u001b[0mpredict\u001b[0m\u001b[0;34m(\u001b[0m\u001b[0mcustomer_id\u001b[0m\u001b[0;34m,\u001b[0m \u001b[0mx\u001b[0m\u001b[0;34m)\u001b[0m\u001b[0;34m.\u001b[0m\u001b[0mest\u001b[0m\u001b[0;34m)\u001b[0m\u001b[0;34m\u001b[0m\u001b[0;34m\u001b[0m\u001b[0m\n\u001b[0m\u001b[1;32m     26\u001b[0m     \u001b[0;31m# sort by 'estimated score'\u001b[0m\u001b[0;34m\u001b[0m\u001b[0;34m\u001b[0m\u001b[0;34m\u001b[0m\u001b[0m\n\u001b[1;32m     27\u001b[0m     \u001b[0mchosen_customer_pred\u001b[0m \u001b[0;34m=\u001b[0m \u001b[0mchosen_customer_pred\u001b[0m\u001b[0;34m.\u001b[0m\u001b[0msort_values\u001b[0m\u001b[0;34m(\u001b[0m\u001b[0;34m'estimated_score'\u001b[0m\u001b[0;34m,\u001b[0m \u001b[0mascending\u001b[0m\u001b[0;34m=\u001b[0m\u001b[0;32mFalse\u001b[0m\u001b[0;34m)\u001b[0m\u001b[0;34m.\u001b[0m\u001b[0mset_index\u001b[0m\u001b[0;34m(\u001b[0m\u001b[0;34m'movie_id'\u001b[0m\u001b[0;34m)\u001b[0m\u001b[0;34m\u001b[0m\u001b[0;34m\u001b[0m\u001b[0m\n",
      "\u001b[0;32m~/.local/lib/python3.8/site-packages/pandas/core/series.py\u001b[0m in \u001b[0;36mapply\u001b[0;34m(self, func, convert_dtype, args, **kwds)\u001b[0m\n\u001b[1;32m   4211\u001b[0m             \u001b[0;32melse\u001b[0m\u001b[0;34m:\u001b[0m\u001b[0;34m\u001b[0m\u001b[0;34m\u001b[0m\u001b[0m\n\u001b[1;32m   4212\u001b[0m                 \u001b[0mvalues\u001b[0m \u001b[0;34m=\u001b[0m \u001b[0mself\u001b[0m\u001b[0;34m.\u001b[0m\u001b[0mastype\u001b[0m\u001b[0;34m(\u001b[0m\u001b[0mobject\u001b[0m\u001b[0;34m)\u001b[0m\u001b[0;34m.\u001b[0m\u001b[0m_values\u001b[0m\u001b[0;34m\u001b[0m\u001b[0;34m\u001b[0m\u001b[0m\n\u001b[0;32m-> 4213\u001b[0;31m                 \u001b[0mmapped\u001b[0m \u001b[0;34m=\u001b[0m \u001b[0mlib\u001b[0m\u001b[0;34m.\u001b[0m\u001b[0mmap_infer\u001b[0m\u001b[0;34m(\u001b[0m\u001b[0mvalues\u001b[0m\u001b[0;34m,\u001b[0m \u001b[0mf\u001b[0m\u001b[0;34m,\u001b[0m \u001b[0mconvert\u001b[0m\u001b[0;34m=\u001b[0m\u001b[0mconvert_dtype\u001b[0m\u001b[0;34m)\u001b[0m\u001b[0;34m\u001b[0m\u001b[0;34m\u001b[0m\u001b[0m\n\u001b[0m\u001b[1;32m   4214\u001b[0m \u001b[0;34m\u001b[0m\u001b[0m\n\u001b[1;32m   4215\u001b[0m         \u001b[0;32mif\u001b[0m \u001b[0mlen\u001b[0m\u001b[0;34m(\u001b[0m\u001b[0mmapped\u001b[0m\u001b[0;34m)\u001b[0m \u001b[0;32mand\u001b[0m \u001b[0misinstance\u001b[0m\u001b[0;34m(\u001b[0m\u001b[0mmapped\u001b[0m\u001b[0;34m[\u001b[0m\u001b[0;36m0\u001b[0m\u001b[0;34m]\u001b[0m\u001b[0;34m,\u001b[0m \u001b[0mSeries\u001b[0m\u001b[0;34m)\u001b[0m\u001b[0;34m:\u001b[0m\u001b[0;34m\u001b[0m\u001b[0;34m\u001b[0m\u001b[0m\n",
      "\u001b[0;32mpandas/_libs/lib.pyx\u001b[0m in \u001b[0;36mpandas._libs.lib.map_infer\u001b[0;34m()\u001b[0m\n",
      "\u001b[0;32m<ipython-input-33-c1f670fb941f>\u001b[0m in \u001b[0;36m<lambda>\u001b[0;34m(x)\u001b[0m\n\u001b[1;32m     23\u001b[0m     \u001b[0mchosen_customer_pred\u001b[0m \u001b[0;34m=\u001b[0m \u001b[0mchosen_customer_pred\u001b[0m\u001b[0;34m[\u001b[0m\u001b[0;34m~\u001b[0m\u001b[0mchosen_customer_pred\u001b[0m\u001b[0;34m[\u001b[0m\u001b[0;34m'movie_id'\u001b[0m\u001b[0;34m]\u001b[0m\u001b[0;34m.\u001b[0m\u001b[0misin\u001b[0m\u001b[0;34m(\u001b[0m\u001b[0mdf_movie_drop_list\u001b[0m\u001b[0;34m)\u001b[0m\u001b[0;34m]\u001b[0m\u001b[0;34m\u001b[0m\u001b[0;34m\u001b[0m\u001b[0m\n\u001b[1;32m     24\u001b[0m     \u001b[0;31m# make prediction for customer with id = <customer_id> and put it into 'estimated_score'\u001b[0m\u001b[0;34m\u001b[0m\u001b[0;34m\u001b[0m\u001b[0;34m\u001b[0m\u001b[0m\n\u001b[0;32m---> 25\u001b[0;31m     \u001b[0mchosen_customer_pred\u001b[0m\u001b[0;34m[\u001b[0m\u001b[0;34m'estimated_score'\u001b[0m\u001b[0;34m]\u001b[0m \u001b[0;34m=\u001b[0m \u001b[0mchosen_customer_pred\u001b[0m\u001b[0;34m[\u001b[0m\u001b[0;34m'movie_id'\u001b[0m\u001b[0;34m]\u001b[0m\u001b[0;34m.\u001b[0m\u001b[0mapply\u001b[0m\u001b[0;34m(\u001b[0m\u001b[0;32mlambda\u001b[0m \u001b[0mx\u001b[0m\u001b[0;34m:\u001b[0m \u001b[0mpredictor\u001b[0m\u001b[0;34m.\u001b[0m\u001b[0mpredict\u001b[0m\u001b[0;34m(\u001b[0m\u001b[0mcustomer_id\u001b[0m\u001b[0;34m,\u001b[0m \u001b[0mx\u001b[0m\u001b[0;34m)\u001b[0m\u001b[0;34m.\u001b[0m\u001b[0mest\u001b[0m\u001b[0;34m)\u001b[0m\u001b[0;34m\u001b[0m\u001b[0;34m\u001b[0m\u001b[0m\n\u001b[0m\u001b[1;32m     26\u001b[0m     \u001b[0;31m# sort by 'estimated score'\u001b[0m\u001b[0;34m\u001b[0m\u001b[0;34m\u001b[0m\u001b[0;34m\u001b[0m\u001b[0m\n\u001b[1;32m     27\u001b[0m     \u001b[0mchosen_customer_pred\u001b[0m \u001b[0;34m=\u001b[0m \u001b[0mchosen_customer_pred\u001b[0m\u001b[0;34m.\u001b[0m\u001b[0msort_values\u001b[0m\u001b[0;34m(\u001b[0m\u001b[0;34m'estimated_score'\u001b[0m\u001b[0;34m,\u001b[0m \u001b[0mascending\u001b[0m\u001b[0;34m=\u001b[0m\u001b[0;32mFalse\u001b[0m\u001b[0;34m)\u001b[0m\u001b[0;34m.\u001b[0m\u001b[0mset_index\u001b[0m\u001b[0;34m(\u001b[0m\u001b[0;34m'movie_id'\u001b[0m\u001b[0;34m)\u001b[0m\u001b[0;34m\u001b[0m\u001b[0;34m\u001b[0m\u001b[0m\n",
      "\u001b[0;31mAttributeError\u001b[0m: 'dict' object has no attribute 'predict'"
     ]
    }
   ],
   "source": [
    "display_recommendation(customer_id=532649, number_to_show=number_to_show, predictor=svd_cv)\n"
   ]
  },
  {
   "cell_type": "code",
   "execution_count": 55,
   "metadata": {},
   "outputs": [
    {
     "ename": "AttributeError",
     "evalue": "'dict' object has no attribute 'predict'",
     "output_type": "error",
     "traceback": [
      "\u001b[0;31m---------------------------------------------------------------------------\u001b[0m",
      "\u001b[0;31mAttributeError\u001b[0m                            Traceback (most recent call last)",
      "\u001b[0;32m<ipython-input-55-0074ffbaa3c2>\u001b[0m in \u001b[0;36m<module>\u001b[0;34m\u001b[0m\n\u001b[0;32m----> 1\u001b[0;31m \u001b[0mdisplay_recommendation\u001b[0m\u001b[0;34m(\u001b[0m\u001b[0mcustomer_id\u001b[0m\u001b[0;34m=\u001b[0m\u001b[0;36m532649\u001b[0m\u001b[0;34m,\u001b[0m \u001b[0mnumber_to_show\u001b[0m\u001b[0;34m=\u001b[0m\u001b[0mnumber_to_show\u001b[0m\u001b[0;34m,\u001b[0m \u001b[0mpredictor\u001b[0m\u001b[0;34m=\u001b[0m\u001b[0mknn_means_cv\u001b[0m\u001b[0;34m)\u001b[0m\u001b[0;34m\u001b[0m\u001b[0;34m\u001b[0m\u001b[0m\n\u001b[0m",
      "\u001b[0;32m<ipython-input-33-c1f670fb941f>\u001b[0m in \u001b[0;36mdisplay_recommendation\u001b[0;34m(customer_id, number_to_show, predictor)\u001b[0m\n\u001b[1;32m     43\u001b[0m \u001b[0;34m\u001b[0m\u001b[0m\n\u001b[1;32m     44\u001b[0m \u001b[0;32mdef\u001b[0m \u001b[0mdisplay_recommendation\u001b[0m\u001b[0;34m(\u001b[0m\u001b[0mcustomer_id\u001b[0m\u001b[0;34m,\u001b[0m \u001b[0mnumber_to_show\u001b[0m\u001b[0;34m,\u001b[0m \u001b[0mpredictor\u001b[0m\u001b[0;34m)\u001b[0m\u001b[0;34m:\u001b[0m\u001b[0;34m\u001b[0m\u001b[0;34m\u001b[0m\u001b[0m\n\u001b[0;32m---> 45\u001b[0;31m     \u001b[0mchosen_customer_pred\u001b[0m \u001b[0;34m=\u001b[0m \u001b[0mget_customer_recommendations\u001b[0m\u001b[0;34m(\u001b[0m\u001b[0mcustomer_id\u001b[0m\u001b[0;34m=\u001b[0m\u001b[0mcustomer_id\u001b[0m\u001b[0;34m,\u001b[0m \u001b[0mpredictor\u001b[0m\u001b[0;34m=\u001b[0m\u001b[0mpredictor\u001b[0m\u001b[0;34m)\u001b[0m\u001b[0;34m\u001b[0m\u001b[0;34m\u001b[0m\u001b[0m\n\u001b[0m\u001b[1;32m     46\u001b[0m     \u001b[0mdisplay_customers_recommendations\u001b[0m\u001b[0;34m(\u001b[0m\u001b[0mcustomer_id\u001b[0m\u001b[0;34m=\u001b[0m\u001b[0mcustomer_id\u001b[0m\u001b[0;34m,\u001b[0m \u001b[0mdf\u001b[0m\u001b[0;34m=\u001b[0m\u001b[0mchosen_customer_pred\u001b[0m\u001b[0;34m,\u001b[0m \u001b[0mnumber_to_show\u001b[0m\u001b[0;34m=\u001b[0m\u001b[0mnumber_to_show\u001b[0m\u001b[0;34m)\u001b[0m\u001b[0;34m\u001b[0m\u001b[0;34m\u001b[0m\u001b[0m\n\u001b[1;32m     47\u001b[0m \u001b[0;34m\u001b[0m\u001b[0m\n",
      "\u001b[0;32m<ipython-input-33-c1f670fb941f>\u001b[0m in \u001b[0;36mget_customer_recommendations\u001b[0;34m(customer_id, predictor)\u001b[0m\n\u001b[1;32m     23\u001b[0m     \u001b[0mchosen_customer_pred\u001b[0m \u001b[0;34m=\u001b[0m \u001b[0mchosen_customer_pred\u001b[0m\u001b[0;34m[\u001b[0m\u001b[0;34m~\u001b[0m\u001b[0mchosen_customer_pred\u001b[0m\u001b[0;34m[\u001b[0m\u001b[0;34m'movie_id'\u001b[0m\u001b[0;34m]\u001b[0m\u001b[0;34m.\u001b[0m\u001b[0misin\u001b[0m\u001b[0;34m(\u001b[0m\u001b[0mdf_movie_drop_list\u001b[0m\u001b[0;34m)\u001b[0m\u001b[0;34m]\u001b[0m\u001b[0;34m\u001b[0m\u001b[0;34m\u001b[0m\u001b[0m\n\u001b[1;32m     24\u001b[0m     \u001b[0;31m# make prediction for customer with id = <customer_id> and put it into 'estimated_score'\u001b[0m\u001b[0;34m\u001b[0m\u001b[0;34m\u001b[0m\u001b[0;34m\u001b[0m\u001b[0m\n\u001b[0;32m---> 25\u001b[0;31m     \u001b[0mchosen_customer_pred\u001b[0m\u001b[0;34m[\u001b[0m\u001b[0;34m'estimated_score'\u001b[0m\u001b[0;34m]\u001b[0m \u001b[0;34m=\u001b[0m \u001b[0mchosen_customer_pred\u001b[0m\u001b[0;34m[\u001b[0m\u001b[0;34m'movie_id'\u001b[0m\u001b[0;34m]\u001b[0m\u001b[0;34m.\u001b[0m\u001b[0mapply\u001b[0m\u001b[0;34m(\u001b[0m\u001b[0;32mlambda\u001b[0m \u001b[0mx\u001b[0m\u001b[0;34m:\u001b[0m \u001b[0mpredictor\u001b[0m\u001b[0;34m.\u001b[0m\u001b[0mpredict\u001b[0m\u001b[0;34m(\u001b[0m\u001b[0mcustomer_id\u001b[0m\u001b[0;34m,\u001b[0m \u001b[0mx\u001b[0m\u001b[0;34m)\u001b[0m\u001b[0;34m.\u001b[0m\u001b[0mest\u001b[0m\u001b[0;34m)\u001b[0m\u001b[0;34m\u001b[0m\u001b[0;34m\u001b[0m\u001b[0m\n\u001b[0m\u001b[1;32m     26\u001b[0m     \u001b[0;31m# sort by 'estimated score'\u001b[0m\u001b[0;34m\u001b[0m\u001b[0;34m\u001b[0m\u001b[0;34m\u001b[0m\u001b[0m\n\u001b[1;32m     27\u001b[0m     \u001b[0mchosen_customer_pred\u001b[0m \u001b[0;34m=\u001b[0m \u001b[0mchosen_customer_pred\u001b[0m\u001b[0;34m.\u001b[0m\u001b[0msort_values\u001b[0m\u001b[0;34m(\u001b[0m\u001b[0;34m'estimated_score'\u001b[0m\u001b[0;34m,\u001b[0m \u001b[0mascending\u001b[0m\u001b[0;34m=\u001b[0m\u001b[0;32mFalse\u001b[0m\u001b[0;34m)\u001b[0m\u001b[0;34m.\u001b[0m\u001b[0mset_index\u001b[0m\u001b[0;34m(\u001b[0m\u001b[0;34m'movie_id'\u001b[0m\u001b[0;34m)\u001b[0m\u001b[0;34m\u001b[0m\u001b[0;34m\u001b[0m\u001b[0m\n",
      "\u001b[0;32m~/.local/lib/python3.8/site-packages/pandas/core/series.py\u001b[0m in \u001b[0;36mapply\u001b[0;34m(self, func, convert_dtype, args, **kwds)\u001b[0m\n\u001b[1;32m   4211\u001b[0m             \u001b[0;32melse\u001b[0m\u001b[0;34m:\u001b[0m\u001b[0;34m\u001b[0m\u001b[0;34m\u001b[0m\u001b[0m\n\u001b[1;32m   4212\u001b[0m                 \u001b[0mvalues\u001b[0m \u001b[0;34m=\u001b[0m \u001b[0mself\u001b[0m\u001b[0;34m.\u001b[0m\u001b[0mastype\u001b[0m\u001b[0;34m(\u001b[0m\u001b[0mobject\u001b[0m\u001b[0;34m)\u001b[0m\u001b[0;34m.\u001b[0m\u001b[0m_values\u001b[0m\u001b[0;34m\u001b[0m\u001b[0;34m\u001b[0m\u001b[0m\n\u001b[0;32m-> 4213\u001b[0;31m                 \u001b[0mmapped\u001b[0m \u001b[0;34m=\u001b[0m \u001b[0mlib\u001b[0m\u001b[0;34m.\u001b[0m\u001b[0mmap_infer\u001b[0m\u001b[0;34m(\u001b[0m\u001b[0mvalues\u001b[0m\u001b[0;34m,\u001b[0m \u001b[0mf\u001b[0m\u001b[0;34m,\u001b[0m \u001b[0mconvert\u001b[0m\u001b[0;34m=\u001b[0m\u001b[0mconvert_dtype\u001b[0m\u001b[0;34m)\u001b[0m\u001b[0;34m\u001b[0m\u001b[0;34m\u001b[0m\u001b[0m\n\u001b[0m\u001b[1;32m   4214\u001b[0m \u001b[0;34m\u001b[0m\u001b[0m\n\u001b[1;32m   4215\u001b[0m         \u001b[0;32mif\u001b[0m \u001b[0mlen\u001b[0m\u001b[0;34m(\u001b[0m\u001b[0mmapped\u001b[0m\u001b[0;34m)\u001b[0m \u001b[0;32mand\u001b[0m \u001b[0misinstance\u001b[0m\u001b[0;34m(\u001b[0m\u001b[0mmapped\u001b[0m\u001b[0;34m[\u001b[0m\u001b[0;36m0\u001b[0m\u001b[0;34m]\u001b[0m\u001b[0;34m,\u001b[0m \u001b[0mSeries\u001b[0m\u001b[0;34m)\u001b[0m\u001b[0;34m:\u001b[0m\u001b[0;34m\u001b[0m\u001b[0;34m\u001b[0m\u001b[0m\n",
      "\u001b[0;32mpandas/_libs/lib.pyx\u001b[0m in \u001b[0;36mpandas._libs.lib.map_infer\u001b[0;34m()\u001b[0m\n",
      "\u001b[0;32m<ipython-input-33-c1f670fb941f>\u001b[0m in \u001b[0;36m<lambda>\u001b[0;34m(x)\u001b[0m\n\u001b[1;32m     23\u001b[0m     \u001b[0mchosen_customer_pred\u001b[0m \u001b[0;34m=\u001b[0m \u001b[0mchosen_customer_pred\u001b[0m\u001b[0;34m[\u001b[0m\u001b[0;34m~\u001b[0m\u001b[0mchosen_customer_pred\u001b[0m\u001b[0;34m[\u001b[0m\u001b[0;34m'movie_id'\u001b[0m\u001b[0;34m]\u001b[0m\u001b[0;34m.\u001b[0m\u001b[0misin\u001b[0m\u001b[0;34m(\u001b[0m\u001b[0mdf_movie_drop_list\u001b[0m\u001b[0;34m)\u001b[0m\u001b[0;34m]\u001b[0m\u001b[0;34m\u001b[0m\u001b[0;34m\u001b[0m\u001b[0m\n\u001b[1;32m     24\u001b[0m     \u001b[0;31m# make prediction for customer with id = <customer_id> and put it into 'estimated_score'\u001b[0m\u001b[0;34m\u001b[0m\u001b[0;34m\u001b[0m\u001b[0;34m\u001b[0m\u001b[0m\n\u001b[0;32m---> 25\u001b[0;31m     \u001b[0mchosen_customer_pred\u001b[0m\u001b[0;34m[\u001b[0m\u001b[0;34m'estimated_score'\u001b[0m\u001b[0;34m]\u001b[0m \u001b[0;34m=\u001b[0m \u001b[0mchosen_customer_pred\u001b[0m\u001b[0;34m[\u001b[0m\u001b[0;34m'movie_id'\u001b[0m\u001b[0;34m]\u001b[0m\u001b[0;34m.\u001b[0m\u001b[0mapply\u001b[0m\u001b[0;34m(\u001b[0m\u001b[0;32mlambda\u001b[0m \u001b[0mx\u001b[0m\u001b[0;34m:\u001b[0m \u001b[0mpredictor\u001b[0m\u001b[0;34m.\u001b[0m\u001b[0mpredict\u001b[0m\u001b[0;34m(\u001b[0m\u001b[0mcustomer_id\u001b[0m\u001b[0;34m,\u001b[0m \u001b[0mx\u001b[0m\u001b[0;34m)\u001b[0m\u001b[0;34m.\u001b[0m\u001b[0mest\u001b[0m\u001b[0;34m)\u001b[0m\u001b[0;34m\u001b[0m\u001b[0;34m\u001b[0m\u001b[0m\n\u001b[0m\u001b[1;32m     26\u001b[0m     \u001b[0;31m# sort by 'estimated score'\u001b[0m\u001b[0;34m\u001b[0m\u001b[0;34m\u001b[0m\u001b[0;34m\u001b[0m\u001b[0m\n\u001b[1;32m     27\u001b[0m     \u001b[0mchosen_customer_pred\u001b[0m \u001b[0;34m=\u001b[0m \u001b[0mchosen_customer_pred\u001b[0m\u001b[0;34m.\u001b[0m\u001b[0msort_values\u001b[0m\u001b[0;34m(\u001b[0m\u001b[0;34m'estimated_score'\u001b[0m\u001b[0;34m,\u001b[0m \u001b[0mascending\u001b[0m\u001b[0;34m=\u001b[0m\u001b[0;32mFalse\u001b[0m\u001b[0;34m)\u001b[0m\u001b[0;34m.\u001b[0m\u001b[0mset_index\u001b[0m\u001b[0;34m(\u001b[0m\u001b[0;34m'movie_id'\u001b[0m\u001b[0;34m)\u001b[0m\u001b[0;34m\u001b[0m\u001b[0;34m\u001b[0m\u001b[0m\n",
      "\u001b[0;31mAttributeError\u001b[0m: 'dict' object has no attribute 'predict'"
     ]
    }
   ],
   "source": [
    "display_recommendation(customer_id=532649, number_to_show=number_to_show, predictor=knn_means_cv)"
   ]
  },
  {
   "cell_type": "markdown",
   "metadata": {},
   "source": [
    "#### customer = customer_id_use"
   ]
  },
  {
   "cell_type": "code",
   "execution_count": null,
   "metadata": {},
   "outputs": [],
   "source": [
    "print(\"items user has rated before\")\n",
    "display_rated_content(customer_id=customer_id_use, number_to_show=number_to_show)"
   ]
  },
  {
   "cell_type": "code",
   "execution_count": null,
   "metadata": {},
   "outputs": [],
   "source": [
    "display_recommendation(customer_id=customer_id_use, number_to_show=number_to_show, predictor=svd)"
   ]
  },
  {
   "cell_type": "code",
   "execution_count": null,
   "metadata": {},
   "outputs": [],
   "source": [
    "display_recommendation(customer_id=customer_id_use, number_to_show=number_to_show, predictor=algo)\n",
    "# recommends for example: Reservoir Dogs, which the user has already rated"
   ]
  },
  {
   "cell_type": "markdown",
   "metadata": {},
   "source": [
    "### print accuracy"
   ]
  },
  {
   "cell_type": "code",
   "execution_count": null,
   "metadata": {},
   "outputs": [],
   "source": [
    "print_evaluation_accuracy(svd_predictions)"
   ]
  },
  {
   "cell_type": "code",
   "execution_count": null,
   "metadata": {},
   "outputs": [],
   "source": []
  },
  {
   "cell_type": "code",
   "execution_count": null,
   "metadata": {},
   "outputs": [],
   "source": []
  },
  {
   "cell_type": "markdown",
   "metadata": {},
   "source": []
  },
  {
   "cell_type": "markdown",
   "metadata": {},
   "source": [
    "## other"
   ]
  },
  {
   "cell_type": "code",
   "execution_count": null,
   "metadata": {},
   "outputs": [],
   "source": [
    "def getMovieName(movieID):\n",
    "  if int(movieID) in tmp_data_movies:\n",
    "      return tmp_data_movies[int(movieID)]\n",
    "  else:\n",
    "      return \"\""
   ]
  },
  {
   "cell_type": "code",
   "execution_count": null,
   "metadata": {},
   "outputs": [],
   "source": [
    "dataset = Dataset.load_from_df(data_rating[['customer_id', 'movie_id', 'rating']], reader)\n",
    "fullTrainset = dataset.build_full_trainset()\n",
    "fullTestSet = fullTrainset.build_anti_testset()\n",
    "trainSet, testSet = train_test_split(dataset, test_size=.25, random_state=1)"
   ]
  },
  {
   "cell_type": "code",
   "execution_count": null,
   "metadata": {},
   "outputs": [],
   "source": [
    "# creating a dict of movie id and movie_title to make sure we don't recommend user something he has rated before\n",
    "tmp_data_movies = data_movies[['movie_id', 'movie_title']]\n",
    "tmp_data_movies = tmp_data_movies.set_index('movie_id').T\n",
    "tmp_data_movies = tmp_data_movies.to_dict('list')\n",
    "tmp_data_movies = {k: str(v[0]) for k,v in tmp_data_movies.items()}"
   ]
  },
  {
   "cell_type": "code",
   "execution_count": null,
   "metadata": {},
   "outputs": [],
   "source": [
    "data_movies"
   ]
  },
  {
   "cell_type": "code",
   "execution_count": null,
   "metadata": {},
   "outputs": [],
   "source": [
    "tmp_data_movies"
   ]
  },
  {
   "cell_type": "code",
   "execution_count": null,
   "metadata": {},
   "outputs": [],
   "source": [
    "similarity_matrix = KNNBasic(sim_options={'name': 'cosine', 'user_based': False}).fit(fullTrainset)"
   ]
  },
  {
   "cell_type": "code",
   "execution_count": null,
   "metadata": {},
   "outputs": [],
   "source": [
    "#save_to_pickle(\"knnbasic_similarity_matrix\", similarity_matrix)"
   ]
  },
  {
   "cell_type": "code",
   "execution_count": null,
   "metadata": {},
   "outputs": [],
   "source": [
    "# generate_random_user_ids(1000, 1500)"
   ]
  },
  {
   "cell_type": "code",
   "execution_count": null,
   "metadata": {},
   "outputs": [],
   "source": [
    "# for i in generate_random_user_ids(1000, 1500):\n",
    "#     if (len(all_custumers_id_rows(i)) > 3):\n",
    "#         print(i)"
   ]
  },
  {
   "cell_type": "code",
   "execution_count": null,
   "metadata": {},
   "outputs": [],
   "source": [
    "test_subject = 596533#16272\n",
    "k = 10"
   ]
  },
  {
   "cell_type": "code",
   "execution_count": null,
   "metadata": {},
   "outputs": [],
   "source": [
    "test_subject_iid = trainSet.to_inner_uid(test_subject)\n",
    "\n",
    "test_subject_ratings = trainSet.ur[test_subject_iid]\n",
    "k_neighbours = heapq.nlargest(k, test_subject_ratings, key=lambda t: t[1])"
   ]
  },
  {
   "cell_type": "code",
   "execution_count": null,
   "metadata": {},
   "outputs": [],
   "source": [
    "def get_candidates(k_neighbours):\n",
    "    candidates = defaultdict(float)\n",
    "    for itemID, rating in k_neighbours:\n",
    "        try:\n",
    "            similarities = similarity_matrix[itemID]\n",
    "            for innerID, score in enumerate(similarities):\n",
    "                candidates[innerID] += score * (rating / 5.0)\n",
    "        except:\n",
    "            continue\n",
    "    return candidates\n",
    "\n",
    "candidates = get_candidates(k_neighbours)"
   ]
  },
  {
   "cell_type": "code",
   "execution_count": null,
   "metadata": {},
   "outputs": [],
   "source": [
    "def get_watched(trainset):\n",
    "    watched = {}\n",
    "    for itemID, rating in trainset.ur[test_subject_iid]:\n",
    "        watched[itemID] = 1\n",
    "    return watched\n",
    "watched = get_watched(trainSet)\n"
   ]
  },
  {
   "cell_type": "code",
   "execution_count": null,
   "metadata": {},
   "outputs": [],
   "source": [
    "def get_recommendations(candidates):\n",
    "    recommendations = []\n",
    "    position = 0\n",
    "    for itemID, rating_sum in sorted(candidates.items(), key=itemgetter(1), reverse=True):\n",
    "        if not itemID in watched:\n",
    "            recommendations.append(getMovieName(trainSet.to_raw_iid(itemID)))\n",
    "            position += 1\n",
    "            # only want top n which in our case in 10\n",
    "            if(position > 10): break\n",
    "    return recommendations\n",
    "recommendations = get_recommendations(candidates)"
   ]
  },
  {
   "cell_type": "code",
   "execution_count": null,
   "metadata": {},
   "outputs": [],
   "source": [
    "for rec in recommendations:\n",
    "    print(\"Movie: \", rec)"
   ]
  },
  {
   "cell_type": "code",
   "execution_count": null,
   "metadata": {},
   "outputs": [],
   "source": [
    "print(\"user\", test_subject, 'previous recommendations')\n",
    "display_recommendation(customer_id=test_subject, number_to_show=10, predictor=svd)"
   ]
  },
  {
   "cell_type": "code",
   "execution_count": null,
   "metadata": {},
   "outputs": [],
   "source": [
    "#TODO:\n",
    "#for the new user problem\n",
    "## find highest rated movie / tv shows that have been watched the most -> how likely is new user to click on it ?"
   ]
  },
  {
   "cell_type": "code",
   "execution_count": null,
   "metadata": {},
   "outputs": [],
   "source": [
    "#cross_validate(similarity_matrix, dataset, measures=['MSE', 'RMSE', 'MAE'], cv=5, verbose=True)"
   ]
  },
  {
   "cell_type": "raw",
   "metadata": {},
   "source": [
    "                  Fold 1  Fold 2  Fold 3  Fold 4  Fold 5  Mean    Std     \n",
    "MSE (testset)     0.9602  0.9557  0.9631  0.9550  0.9619  0.9592  0.0033  \n",
    "RMSE (testset)    0.9799  0.9776  0.9814  0.9772  0.9807  0.9794  0.0017  \n",
    "MAE (testset)     0.7597  0.7583  0.7616  0.7580  0.7612  0.7598  0.0015  \n",
    "Fit time          28.84   29.80   30.16   29.78   30.27   29.77   0.50    \n",
    "Test time         71.32   68.97   72.02   69.09   70.66   70.41   1.21    \n",
    "{'test_mse': array([0.96018258, 0.95572922, 0.9631195 , 0.95499539, 0.96186938]),\n",
    " 'test_rmse': array([0.97988906, 0.97761404, 0.98138652, 0.97723866, 0.9807494 ]),\n",
    " 'test_mae': array([0.7597183 , 0.75826306, 0.76159982, 0.75801584, 0.76119729]),\n",
    " 'fit_time': (28.836588859558105,\n",
    "  29.796326160430908,\n",
    "  30.156323671340942,\n",
    "  29.780963897705078,\n",
    "  30.26855206489563),\n",
    " 'test_time': (71.32496619224548,\n",
    "  68.9672601222992,\n",
    "  72.02299118041992,\n",
    "  69.09478878974915,\n",
    "  70.65942907333374)}"
   ]
  },
  {
   "cell_type": "markdown",
   "metadata": {},
   "source": []
  },
  {
   "cell_type": "code",
   "execution_count": null,
   "metadata": {},
   "outputs": [],
   "source": []
  },
  {
   "cell_type": "code",
   "execution_count": null,
   "metadata": {},
   "outputs": [],
   "source": []
  },
  {
   "cell_type": "code",
   "execution_count": null,
   "metadata": {},
   "outputs": [],
   "source": []
  },
  {
   "cell_type": "code",
   "execution_count": null,
   "metadata": {},
   "outputs": [],
   "source": []
  }
 ],
 "metadata": {
  "interpreter": {
   "hash": "eb60acc68106785d00a40fb3b1b3b80d861e6f0b0d60f9d8440fa3d46ca2822c"
  },
  "kernelspec": {
   "display_name": "Python 3.8.8 64-bit ('base': conda)",
   "name": "python3"
  },
  "language_info": {
   "codemirror_mode": {
    "name": "ipython",
    "version": 3
   },
   "file_extension": ".py",
   "mimetype": "text/x-python",
   "name": "python",
   "nbconvert_exporter": "python",
   "pygments_lexer": "ipython3",
   "version": "3.8.8"
  },
  "orig_nbformat": 2
 },
 "nbformat": 4,
 "nbformat_minor": 2
}
