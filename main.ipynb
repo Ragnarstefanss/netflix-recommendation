{
 "cells": [
  {
   "cell_type": "code",
   "execution_count": 2,
   "metadata": {},
   "outputs": [],
   "source": [
    "#!pip install surprise\n",
    "import pandas as pd\n",
    "import numpy as np\n",
    "import matplotlib.pyplot as plt\n",
    "import seaborn as sns\n",
    "from surprise import Reader, Dataset, SVD\n",
    "from surprise.model_selection import cross_validate\n",
    "import pickle\n",
    "#sns.set_style(\"darkgrid\")"
   ]
  },
  {
   "cell_type": "code",
   "execution_count": 3,
   "metadata": {
    "tags": []
   },
   "outputs": [],
   "source": [
    "## import all combined_data files to pandas\n",
    "df_1 = pd.read_csv('./data/combined_data_1.txt', header = None, names = ['customer_id', 'rating'], usecols = [0,1])\n",
    "#df2 = pd.read_csv('./data/combined_data_2.txt', header = None, names = ['customer_id', 'rating'], usecols = [0,1])\n",
    "#df3 = pd.read_csv('./data/combined_data_3.txt', header = None, names = ['customer_id', 'rating'], usecols = [0,1])\n",
    "#df4 = pd.read_csv('./data/combined_data_4.txt', header = None, names = ['customer_id', 'rating'], usecols = [0,1])\n",
    "## change rating to float\n",
    "df_1['rating'] = df_1['rating'].astype(float)\n",
    "#df2['rating'] = df2['rating'].astype(float)\n",
    "#df3['rating'] = df3['rating'].astype(float)\n",
    "#df4['rating'] = df4['rating'].astype(float)\n",
    "##combine to one large pandas dataframe\n",
    "df_all = df_1\n",
    "#data = data.append(df2)\n",
    "#data = data.append(df3)\n",
    "#data = data.append(df4)\n",
    "df_all.index = np.arange(0,len(df_all))"
   ]
  },
  {
   "cell_type": "code",
   "execution_count": 4,
   "metadata": {
    "tags": []
   },
   "outputs": [],
   "source": [
    "def create_dataframe(use_pickle=True):\n",
    "    if(use_pickle == True):\n",
    "        in_pickle = open(\"pickle/movies_customers_ratings.pickle\", \"rb\")\n",
    "        data = pd.DataFrame(pickle.load(in_pickle), columns=['movie_id', 'customer_id', 'rating', 'index']).drop(['index'], axis=1)\n",
    "    else:\n",
    "        index = 1\n",
    "        last_movie_id = \"1\"\n",
    "        new_data = []\n",
    "        for customer_id in df_all[\"customer_id\"]:\n",
    "            # if we find : that means this is a movie_id and not customer_id\n",
    "            if(customer_id.find(\":\") > 0):\n",
    "                movie_id = customer_id.replace(\":\", \"\")\n",
    "                # if(movie_id != last_movie_id):\n",
    "                #     print(movie_id, \" index is \", index)\n",
    "                last_movie_id = movie_id\n",
    "            else:\n",
    "                # we have this row index so use it to get rating\n",
    "                rating = df_all[\"rating\"][index-1]\n",
    "                new_data.append([last_movie_id, customer_id, rating, index])\n",
    "            index += 1\n",
    "        #output to pickle file\n",
    "        movies_customers_ratings = open(\"pickle/movies_customers_ratings.pickle\",\"wb\")\n",
    "        pickle.dump(new_data, movies_customers_ratings)\n",
    "        movies_customers_ratings.close()\n",
    "        data = pd.DataFrame(new_data, columns=['movie_id', 'customer_id', 'rating', 'index']).drop(['index'], axis=1)\n",
    "\n",
    "    # change columns to numerical\n",
    "    data['movie_id'] = data['movie_id'].astype(int)\n",
    "    data['customer_id'] = data['customer_id'].astype(int)\n",
    "    data[\"rating\"] = data[\"rating\"].astype(int)\n",
    "    return data\n",
    "\n",
    "data = create_dataframe(use_pickle=True)"
   ]
  },
  {
   "cell_type": "code",
   "execution_count": 5,
   "metadata": {},
   "outputs": [
    {
     "data": {
      "text/html": [
       "<div>\n",
       "<style scoped>\n",
       "    .dataframe tbody tr th:only-of-type {\n",
       "        vertical-align: middle;\n",
       "    }\n",
       "\n",
       "    .dataframe tbody tr th {\n",
       "        vertical-align: top;\n",
       "    }\n",
       "\n",
       "    .dataframe thead th {\n",
       "        text-align: right;\n",
       "    }\n",
       "</style>\n",
       "<table border=\"1\" class=\"dataframe\">\n",
       "  <thead>\n",
       "    <tr style=\"text-align: right;\">\n",
       "      <th></th>\n",
       "      <th>movie_id</th>\n",
       "      <th>customer_id</th>\n",
       "      <th>rating</th>\n",
       "    </tr>\n",
       "  </thead>\n",
       "  <tbody>\n",
       "    <tr>\n",
       "      <th>0</th>\n",
       "      <td>1</td>\n",
       "      <td>1488844</td>\n",
       "      <td>3</td>\n",
       "    </tr>\n",
       "    <tr>\n",
       "      <th>1</th>\n",
       "      <td>1</td>\n",
       "      <td>822109</td>\n",
       "      <td>5</td>\n",
       "    </tr>\n",
       "    <tr>\n",
       "      <th>2</th>\n",
       "      <td>1</td>\n",
       "      <td>885013</td>\n",
       "      <td>4</td>\n",
       "    </tr>\n",
       "    <tr>\n",
       "      <th>3</th>\n",
       "      <td>1</td>\n",
       "      <td>30878</td>\n",
       "      <td>4</td>\n",
       "    </tr>\n",
       "    <tr>\n",
       "      <th>4</th>\n",
       "      <td>1</td>\n",
       "      <td>823519</td>\n",
       "      <td>3</td>\n",
       "    </tr>\n",
       "    <tr>\n",
       "      <th>...</th>\n",
       "      <td>...</td>\n",
       "      <td>...</td>\n",
       "      <td>...</td>\n",
       "    </tr>\n",
       "    <tr>\n",
       "      <th>24053759</th>\n",
       "      <td>4499</td>\n",
       "      <td>2591364</td>\n",
       "      <td>2</td>\n",
       "    </tr>\n",
       "    <tr>\n",
       "      <th>24053760</th>\n",
       "      <td>4499</td>\n",
       "      <td>1791000</td>\n",
       "      <td>2</td>\n",
       "    </tr>\n",
       "    <tr>\n",
       "      <th>24053761</th>\n",
       "      <td>4499</td>\n",
       "      <td>512536</td>\n",
       "      <td>5</td>\n",
       "    </tr>\n",
       "    <tr>\n",
       "      <th>24053762</th>\n",
       "      <td>4499</td>\n",
       "      <td>988963</td>\n",
       "      <td>3</td>\n",
       "    </tr>\n",
       "    <tr>\n",
       "      <th>24053763</th>\n",
       "      <td>4499</td>\n",
       "      <td>1704416</td>\n",
       "      <td>3</td>\n",
       "    </tr>\n",
       "  </tbody>\n",
       "</table>\n",
       "<p>24053764 rows × 3 columns</p>\n",
       "</div>"
      ],
      "text/plain": [
       "          movie_id  customer_id  rating\n",
       "0                1      1488844       3\n",
       "1                1       822109       5\n",
       "2                1       885013       4\n",
       "3                1        30878       4\n",
       "4                1       823519       3\n",
       "...            ...          ...     ...\n",
       "24053759      4499      2591364       2\n",
       "24053760      4499      1791000       2\n",
       "24053761      4499       512536       5\n",
       "24053762      4499       988963       3\n",
       "24053763      4499      1704416       3\n",
       "\n",
       "[24053764 rows x 3 columns]"
      ]
     },
     "execution_count": 5,
     "metadata": {},
     "output_type": "execute_result"
    }
   ],
   "source": [
    "data"
   ]
  },
  {
   "cell_type": "code",
   "execution_count": 6,
   "metadata": {},
   "outputs": [
    {
     "name": "stdout",
     "output_type": "stream",
     "text": [
      "24053764\n"
     ]
    }
   ],
   "source": [
    "print(len(data))"
   ]
  },
  {
   "cell_type": "code",
   "execution_count": 7,
   "metadata": {},
   "outputs": [],
   "source": [
    "def all_movie_id_rows(movie_id):\n",
    "    return data[data['movie_id'] == movie_id]\n",
    "\n",
    "def all_custumers_id_rows(customer_id):\n",
    "    return data[data['customer_id'] == customer_id]"
   ]
  },
  {
   "cell_type": "code",
   "execution_count": 8,
   "metadata": {},
   "outputs": [
    {
     "data": {
      "text/html": [
       "<div>\n",
       "<style scoped>\n",
       "    .dataframe tbody tr th:only-of-type {\n",
       "        vertical-align: middle;\n",
       "    }\n",
       "\n",
       "    .dataframe tbody tr th {\n",
       "        vertical-align: top;\n",
       "    }\n",
       "\n",
       "    .dataframe thead th {\n",
       "        text-align: right;\n",
       "    }\n",
       "</style>\n",
       "<table border=\"1\" class=\"dataframe\">\n",
       "  <thead>\n",
       "    <tr style=\"text-align: right;\">\n",
       "      <th></th>\n",
       "      <th>movie_id</th>\n",
       "      <th>customer_id</th>\n",
       "      <th>rating</th>\n",
       "    </tr>\n",
       "  </thead>\n",
       "  <tbody>\n",
       "    <tr>\n",
       "      <th>187297</th>\n",
       "      <td>30</td>\n",
       "      <td>6</td>\n",
       "      <td>3</td>\n",
       "    </tr>\n",
       "    <tr>\n",
       "      <th>539827</th>\n",
       "      <td>157</td>\n",
       "      <td>6</td>\n",
       "      <td>3</td>\n",
       "    </tr>\n",
       "    <tr>\n",
       "      <th>576723</th>\n",
       "      <td>173</td>\n",
       "      <td>6</td>\n",
       "      <td>4</td>\n",
       "    </tr>\n",
       "    <tr>\n",
       "      <th>649632</th>\n",
       "      <td>175</td>\n",
       "      <td>6</td>\n",
       "      <td>5</td>\n",
       "    </tr>\n",
       "    <tr>\n",
       "      <th>795442</th>\n",
       "      <td>191</td>\n",
       "      <td>6</td>\n",
       "      <td>2</td>\n",
       "    </tr>\n",
       "    <tr>\n",
       "      <th>...</th>\n",
       "      <td>...</td>\n",
       "      <td>...</td>\n",
       "      <td>...</td>\n",
       "    </tr>\n",
       "    <tr>\n",
       "      <th>23266008</th>\n",
       "      <td>4356</td>\n",
       "      <td>6</td>\n",
       "      <td>4</td>\n",
       "    </tr>\n",
       "    <tr>\n",
       "      <th>23526258</th>\n",
       "      <td>4393</td>\n",
       "      <td>6</td>\n",
       "      <td>3</td>\n",
       "    </tr>\n",
       "    <tr>\n",
       "      <th>23586501</th>\n",
       "      <td>4406</td>\n",
       "      <td>6</td>\n",
       "      <td>3</td>\n",
       "    </tr>\n",
       "    <tr>\n",
       "      <th>23769931</th>\n",
       "      <td>4432</td>\n",
       "      <td>6</td>\n",
       "      <td>3</td>\n",
       "    </tr>\n",
       "    <tr>\n",
       "      <th>23920753</th>\n",
       "      <td>4472</td>\n",
       "      <td>6</td>\n",
       "      <td>3</td>\n",
       "    </tr>\n",
       "  </tbody>\n",
       "</table>\n",
       "<p>153 rows × 3 columns</p>\n",
       "</div>"
      ],
      "text/plain": [
       "          movie_id  customer_id  rating\n",
       "187297          30            6       3\n",
       "539827         157            6       3\n",
       "576723         173            6       4\n",
       "649632         175            6       5\n",
       "795442         191            6       2\n",
       "...            ...          ...     ...\n",
       "23266008      4356            6       4\n",
       "23526258      4393            6       3\n",
       "23586501      4406            6       3\n",
       "23769931      4432            6       3\n",
       "23920753      4472            6       3\n",
       "\n",
       "[153 rows x 3 columns]"
      ]
     },
     "execution_count": 8,
     "metadata": {},
     "output_type": "execute_result"
    }
   ],
   "source": [
    "all_custumers_id_rows(6)"
   ]
  },
  {
   "cell_type": "code",
   "execution_count": 9,
   "metadata": {},
   "outputs": [],
   "source": [
    "customers_ratings_stats = data.groupby('customer_id').agg({'rating': ['sum', 'count']}).reset_index()"
   ]
  },
  {
   "cell_type": "code",
   "execution_count": 10,
   "metadata": {},
   "outputs": [],
   "source": [
    "customers_ratings_stats['avg_rating'] =  customers_ratings_stats['rating']['sum'] / customers_ratings_stats['rating']['count']"
   ]
  },
  {
   "cell_type": "code",
   "execution_count": 11,
   "metadata": {},
   "outputs": [
    {
     "name": "stdout",
     "output_type": "stream",
     "text": [
      "       customer_id rating       avg_rating\n",
      "                      sum count           \n",
      "0                6    510   153   3.333333\n",
      "1                7    793   195   4.066667\n",
      "2                8     84    21   4.000000\n",
      "3               10    164    49   3.346939\n",
      "4               25     14     4   3.500000\n",
      "...            ...    ...   ...        ...\n",
      "470753     2649404     49    12   4.083333\n",
      "470754     2649409     40    10   4.000000\n",
      "470755     2649421     15     3   5.000000\n",
      "470756     2649426    301    74   4.067568\n",
      "470757     2649429    258    62   4.161290\n",
      "\n",
      "[470758 rows x 4 columns]\n"
     ]
    }
   ],
   "source": [
    "print(customers_ratings_stats)"
   ]
  },
  {
   "cell_type": "code",
   "execution_count": null,
   "metadata": {},
   "outputs": [],
   "source": []
  },
  {
   "cell_type": "markdown",
   "metadata": {},
   "source": [
    "# Recommendations with collaborative filtering"
   ]
  },
  {
   "cell_type": "code",
   "execution_count": 12,
   "metadata": {},
   "outputs": [
    {
     "data": {
      "text/plain": [
       "{'test_rmse': array([0.8817798 , 0.88192341, 0.88248379, 0.88196481, 0.88232605]),\n",
       " 'test_mae': array([0.68604232, 0.68602275, 0.68641537, 0.68610789, 0.68647331]),\n",
       " 'fit_time': (930.4507405757904,\n",
       "  984.6832256317139,\n",
       "  939.8538687229156,\n",
       "  942.2527465820312,\n",
       "  938.3727450370789),\n",
       " 'test_time': (91.36496424674988,\n",
       "  103.47529745101929,\n",
       "  98.98022675514221,\n",
       "  98.00432777404785,\n",
       "  105.73217177391052)}"
      ]
     },
     "execution_count": 12,
     "metadata": {},
     "output_type": "execute_result"
    }
   ],
   "source": [
    "reader = Reader()\n",
    "\n",
    "# get just top 100K rows for faster run time\n",
    "n_data = Dataset.load_from_df(data[['movie_id', 'customer_id', 'rating']][:], reader)\n",
    "#data.split(n_folds=3)\n",
    "\n",
    "svd = SVD()\n",
    "cross_validate(svd, n_data, measures=['RMSE', 'MAE'])"
   ]
  },
  {
   "cell_type": "code",
   "execution_count": null,
   "metadata": {},
   "outputs": [],
   "source": []
  },
  {
   "cell_type": "code",
   "execution_count": null,
   "metadata": {},
   "outputs": [],
   "source": []
  },
  {
   "cell_type": "code",
   "execution_count": null,
   "metadata": {},
   "outputs": [],
   "source": []
  },
  {
   "cell_type": "markdown",
   "metadata": {},
   "source": [
    "# Average rating stats"
   ]
  },
  {
   "cell_type": "code",
   "execution_count": 84,
   "metadata": {},
   "outputs": [],
   "source": [
    "def get_avg_rating_less_than(max_rating):\n",
    "    print(customers_ratings_stats[customers_ratings_stats['avg_rating'] < max_rating])\n",
    "\n",
    "def get_users_avg_rating(user_id):\n",
    "    output = customers_ratings_stats[customers_ratings_stats['customer_id'] == user_id]['avg_rating']\n",
    "    print(output)\n",
    "    #return output"
   ]
  },
  {
   "cell_type": "code",
   "execution_count": 69,
   "metadata": {},
   "outputs": [
    {
     "name": "stdout",
     "output_type": "stream",
     "text": [
      "       customer_id rating       avg_rating\n",
      "                      sum count           \n",
      "0                6    510   153   3.333333\n",
      "1                7    793   195   4.066667\n",
      "2                8     84    21   4.000000\n",
      "3               10    164    49   3.346939\n",
      "4               25     14     4   3.500000\n",
      "...            ...    ...   ...        ...\n",
      "470752     2649401    118    30   3.933333\n",
      "470753     2649404     49    12   4.083333\n",
      "470754     2649409     40    10   4.000000\n",
      "470756     2649426    301    74   4.067568\n",
      "470757     2649429    258    62   4.161290\n",
      "\n",
      "[459896 rows x 4 columns]\n"
     ]
    }
   ],
   "source": [
    "get_avg_rating_less_than(5)"
   ]
  },
  {
   "cell_type": "code",
   "execution_count": 70,
   "metadata": {},
   "outputs": [
    {
     "name": "stdout",
     "output_type": "stream",
     "text": [
      "       customer_id rating       avg_rating\n",
      "                      sum count           \n",
      "0                6    510   153   3.333333\n",
      "3               10    164    49   3.346939\n",
      "4               25     14     4   3.500000\n",
      "5               33     38    11   3.454545\n",
      "6               42    142    36   3.944444\n",
      "...            ...    ...   ...        ...\n",
      "470747     2649376    133    34   3.911765\n",
      "470748     2649378    233    72   3.236111\n",
      "470750     2649384     23     7   3.285714\n",
      "470751     2649388    257    77   3.337662\n",
      "470752     2649401    118    30   3.933333\n",
      "\n",
      "[331845 rows x 4 columns]\n"
     ]
    }
   ],
   "source": [
    "get_avg_rating_less_than(4)"
   ]
  },
  {
   "cell_type": "code",
   "execution_count": 71,
   "metadata": {},
   "outputs": [
    {
     "name": "stdout",
     "output_type": "stream",
     "text": [
      "       customer_id rating       avg_rating\n",
      "                      sum count           \n",
      "40             261     17     7   2.428571\n",
      "71             392     19     8   2.375000\n",
      "75             437    211    78   2.705128\n",
      "117            660      8     3   2.666667\n",
      "125            692      2     1   2.000000\n",
      "...            ...    ...   ...        ...\n",
      "470675     2648907     11     6   1.833333\n",
      "470691     2649034     82    33   2.484848\n",
      "470706     2649093    413   139   2.971223\n",
      "470724     2649240      2     1   2.000000\n",
      "470737     2649326     12     5   2.400000\n",
      "\n",
      "[37409 rows x 4 columns]\n"
     ]
    }
   ],
   "source": [
    "get_avg_rating_less_than(3)"
   ]
  },
  {
   "cell_type": "code",
   "execution_count": 72,
   "metadata": {},
   "outputs": [
    {
     "name": "stdout",
     "output_type": "stream",
     "text": [
      "       customer_id rating       avg_rating\n",
      "                      sum count           \n",
      "195           1109     13     7   1.857143\n",
      "426           2443      2     2   1.000000\n",
      "540           3174     45    45   1.000000\n",
      "589           3423    284   145   1.958621\n",
      "682           3920      1     1   1.000000\n",
      "...            ...    ...   ...        ...\n",
      "470101     2645781      2     2   1.000000\n",
      "470194     2646295      3     2   1.500000\n",
      "470230     2646481     82    51   1.607843\n",
      "470553     2648254      2     2   1.000000\n",
      "470675     2648907     11     6   1.833333\n",
      "\n",
      "[2686 rows x 4 columns]\n"
     ]
    }
   ],
   "source": [
    "get_avg_rating_less_than(2)"
   ]
  },
  {
   "cell_type": "code",
   "execution_count": 73,
   "metadata": {},
   "outputs": [
    {
     "name": "stdout",
     "output_type": "stream",
     "text": [
      "Empty DataFrame\n",
      "Columns: [(customer_id, ), (rating, sum), (rating, count), (avg_rating, )]\n",
      "Index: []\n"
     ]
    }
   ],
   "source": [
    "get_avg_rating_less_than(1)"
   ]
  },
  {
   "cell_type": "code",
   "execution_count": 85,
   "metadata": {},
   "outputs": [
    {
     "name": "stdout",
     "output_type": "stream",
     "text": [
      "195    1.857143\n",
      "Name: avg_rating, dtype: float64\n",
      "\n",
      "470757    4.16129\n",
      "Name: avg_rating, dtype: float64\n"
     ]
    }
   ],
   "source": [
    "get_users_avg_rating(1109)\n",
    "print(\"\")\n",
    "get_users_avg_rating(2649429)"
   ]
  },
  {
   "cell_type": "code",
   "execution_count": null,
   "metadata": {},
   "outputs": [],
   "source": []
  }
 ],
 "metadata": {
  "interpreter": {
   "hash": "eb60acc68106785d00a40fb3b1b3b80d861e6f0b0d60f9d8440fa3d46ca2822c"
  },
  "kernelspec": {
   "display_name": "Python 3.8.5 64-bit ('base': conda)",
   "name": "python3"
  },
  "language_info": {
   "codemirror_mode": {
    "name": "ipython",
    "version": 3
   },
   "file_extension": ".py",
   "mimetype": "text/x-python",
   "name": "python",
   "nbconvert_exporter": "python",
   "pygments_lexer": "ipython3",
   "version": "3.8.5"
  },
  "orig_nbformat": 2
 },
 "nbformat": 4,
 "nbformat_minor": 2
}
