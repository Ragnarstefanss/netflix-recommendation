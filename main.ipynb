{
 "cells": [
  {
   "cell_type": "code",
   "execution_count": 96,
   "metadata": {},
   "outputs": [],
   "source": [
    "#!pip install surprise\n",
    "#!pip install import-ipynb\n",
    "import pandas as pd\n",
    "import numpy as np\n",
    "import matplotlib.pyplot as plt\n",
    "import seaborn as sns\n",
    "from surprise import Reader, Dataset, SVD\n",
    "from surprise.model_selection import cross_validate\n",
    "import pickle\n",
    "#sns.set_style(\"darkgrid\")\n",
    "from surprise import accuracy"
   ]
  },
  {
   "cell_type": "markdown",
   "metadata": {},
   "source": [
    "## Helper functions"
   ]
  },
  {
   "cell_type": "code",
   "execution_count": 100,
   "metadata": {},
   "outputs": [],
   "source": [
    "def all_movie_id_rows(movie_id):\n",
    "    return data_rating[data_rating['movie_id'] == movie_id]\n",
    "\n",
    "def all_custumers_id_rows(customer_id):\n",
    "    return data_rating[data_rating['customer_id'] == customer_id]\n",
    "\n",
    "def all_customers_id_plus_movie_title_rows(customer_id):\n",
    "    return data_rating_plus_movie_title[data_rating_plus_movie_title['customer_id'] == customer_id]\n",
    "\n",
    "def all_movies_get_average_rating():\n",
    "    movie_ratings_stats = data_rating.groupby('movie_id').agg({'rating': ['sum', 'count']}).reset_index()\n",
    "    movie_ratings_stats['avg_rating'] =  movie_ratings_stats['rating']['sum'] / movie_ratings_stats['rating']['count']\n",
    "    return movie_ratings_stats\n",
    "\n",
    "def all_customers_get_average_rating():\n",
    "    customers_ratings_stats = data_rating.groupby('customer_id').agg({'rating': ['sum', 'count']}).reset_index()\n",
    "    customers_ratings_stats['avg_rating'] =  customers_ratings_stats['rating']['sum'] / customers_ratings_stats['rating']['count']\n",
    "    return customers_ratings_stats\n",
    "\n",
    "def all_movies_get_rated_count():\n",
    "    return data_rating.groupby('movie_id').agg({'movie_id': 'count'}).reset_index()\n",
    "\n",
    "def all_customers_get_movie_rated_count():\n",
    "    return data_rating.groupby('customer_id').agg({'movie_id': 'count'}).reset_index()\n",
    "\n",
    "def get_customers_avg_rating_less_than(max_rating):\n",
    "    print(all_customers_average_ratings[all_customers_average_ratings['avg_rating'] < max_rating])\n",
    "\n",
    "def get_movies_avg_rating_less_than(max_rating):\n",
    "    print(all_movies_average_rating[all_movies_average_rating['avg_rating'] < max_rating])\n",
    "\n",
    "def get_customers_avg_rating_higher_than(min_rating):\n",
    "    print(all_customers_average_ratings[all_customers_average_ratings['avg_rating'] > min_rating])\n",
    "\n",
    "def get_movies_avg_rating_higher_than(min_rating):\n",
    "    print(all_movies_average_rating[all_movies_average_rating['avg_rating'] > min_rating])\n",
    "\n",
    "\n",
    "def get_movie_avg_rating(movie_id):\n",
    "    output = all_movies_average_rating[all_movies_average_rating['movie_id'] == movie_id]\n",
    "    #print(output)\n",
    "    return output['avg_rating']\n",
    "\n",
    "def get_users_avg_rating(customer_id):\n",
    "    output = all_customers_average_ratings[all_customers_average_ratings['customer_id'] == customer_id]\n",
    "    #print(output)\n",
    "    return output['avg_rating']\n",
    "\n",
    "def get_movies_customer_rated_higher_than(customer_id, min_rating=4):\n",
    "    temp = data_rating_plus_movie_title.copy()\n",
    "    return temp[(temp['customer_id'] == customer_id) & (temp['rating'] >= min_rating)].set_index('movie_id')\n",
    "\n",
    "def get_movies_customer_rated_lower_than(customer_id, max_rating=4):\n",
    "    temp = data_rating_plus_movie_title.copy()\n",
    "    return temp[(temp['customer_id'] == customer_id) & (temp['rating'] < max_rating)].set_index('movie_id')\n",
    "\n",
    "def display_movies_customer_rated_higher_than(customer_id, min_rating=0):\n",
    "    df_customer_liked = get_movies_customer_rated_higher_than(customer_id=customer_id, min_rating=min_rating)\n",
    "    print(df_customer_liked[['movie_title', 'rating']])\n",
    "    print('average rating', get_users_avg_rating(customer_id))\n",
    "\n",
    "def display_movies_customer_rated_lower_than(customer_id, max_rating=0):\n",
    "    df_customer_disliked = get_movies_customer_rated_lower_than(customer_id=customer_id, max_rating=max_rating)\n",
    "    print(df_customer_disliked[['movie_title', 'rating']])\n",
    "    print('average rating', get_users_avg_rating(customer_id))\n",
    "\n",
    "def save_to_pickle(name, df):\n",
    "    path_name = \"pickle/\"+name+\".pickle\"\n",
    "    pickle_file = open(path_name,\"wb\")\n",
    "    pickle.dump(df, pickle_file)\n",
    "    pickle_file.close()\n",
    "\n",
    "def load_pickle(name):\n",
    "    path_name = \"pickle/\"+name+\".pickle\"\n",
    "    return_input = open(path_name, \"rb\")\n",
    "    return pickle.load(return_input)\n"
   ]
  },
  {
   "cell_type": "markdown",
   "metadata": {},
   "source": [
    "## Get the data"
   ]
  },
  {
   "cell_type": "code",
   "execution_count": 132,
   "metadata": {},
   "outputs": [],
   "source": [
    "def create_dataframe(use_pickle=True):\n",
    "    if(use_pickle == True):\n",
    "        in_pickle = open(\"pickle/movies_customers_ratings.pickle\", \"rb\")\n",
    "        data = pd.DataFrame(pickle.load(in_pickle), columns=['movie_id', 'customer_id', 'rating', 'index']).drop(['index'], axis=1)\n",
    "    else:\n",
    "        index = 1\n",
    "        last_movie_id = \"1\"\n",
    "        new_data = []\n",
    "        ## import all combined_data files to one large pandas dataframe\n",
    "        ##> returns index, customer_id (which is both movie and customer), rating (NaN = customer_id is a movie, Not NaN = customers rating)\n",
    "        df_all = pd.read_csv('./data/combined_data_1.txt', header = None, names = ['customer_id', 'rating'], usecols = [0,1])\n",
    "        #df_all = df_all.append(pd.read_csv('./data/combined_data_2.txt', header = None, names = ['customer_id', 'rating'], usecols = [0,1]))\n",
    "        #df_all = df_all.append(pd.read_csv('./data/combined_data_3.txt', header = None, names = ['customer_id', 'rating'], usecols = [0,1]))\n",
    "        #df_all = df_all.append(pd.read_csv('./data/combined_data_4.txt', header = None, names = ['customer_id', 'rating'], usecols = [0,1]))\n",
    "        df_all.index = np.arange(0,len(df_all))\n",
    "        df_all['rating'] = df_all['rating'].astype(float)\n",
    "        \n",
    "        for customer_id in df_all[\"customer_id\"]:\n",
    "            # if we find : that means this is a movie_id and not customer_id\n",
    "            if(customer_id.find(\":\") > 0):\n",
    "                movie_id = customer_id.replace(\":\", \"\")\n",
    "                last_movie_id = movie_id\n",
    "            else:\n",
    "                # we have this row index so use it to get rating\n",
    "                rating = df_all[\"rating\"][index-1]\n",
    "                new_data.append([last_movie_id, customer_id, rating, index])\n",
    "            index += 1\n",
    "        #output to pickle file\n",
    "        movies_customers_ratings = open(\"pickle/movies_customers_ratings.pickle\",\"wb\")\n",
    "        pickle.dump(new_data, movies_customers_ratings)\n",
    "        movies_customers_ratings.close()\n",
    "        data = pd.DataFrame(new_data, columns=['movie_id', 'customer_id', 'rating', 'index']).drop(['index'], axis=1)\n",
    "\n",
    "    # change columns to numerical\n",
    "    data['movie_id'] = data['movie_id'].astype(int)\n",
    "    data['customer_id'] = data['customer_id'].astype(int)\n",
    "    data[\"rating\"] = data[\"rating\"].astype(float)\n",
    "    return data\n",
    "\n",
    "def get_dataframes(use_pickle=True):\n",
    "    # dataframe containing all informations about the movies\n",
    "    #> returns movie_id, movie_year, movie_title\n",
    "    data_movies = pd.read_csv('./data/movie_titles.csv', header = None, names = ['movie_id', 'movie_year', 'movie_title'], usecols = [0,1,2], encoding=\"latin1\")\n",
    "    #data_movies_import.set_index('movie_id', inplace = True)\n",
    "\n",
    "    ## ------------------------------------------------------------------------------------- ##\n",
    "\n",
    "    # dataframe containing all informations about the movie ratings by customer\n",
    "    #> returns index, movie_id, customer_id, rating\n",
    "    data_rating = create_dataframe(use_pickle=use_pickle)\n",
    "\n",
    "    # ## ------------------------------------------------------------------------------------- ##\n",
    "\n",
    "    # ##combine customer ratings to movie titles\n",
    "    # ##> returns index, movie_id, customer_id, rating, movie_year, movie_title\n",
    "    data_rating_plus_movie_title = data_rating.merge(data_movies, on=\"movie_id\", how=\"inner\")\n",
    "\n",
    "    ## ------------------------------------------------------------------------------------- ##\n",
    "\n",
    "    data_movies_categorize = pd.read_csv('./data/movies.csv', header = None, names = ['movie_id', 'movie_title', 'genres'], usecols = [0,1,2], encoding=\"latin1\")[1:] #dataset is off by one\n",
    "    #data_movies_categorize.set_index('movie_id', inplace = True)\n",
    "    data_movies_categorize_split = data_movies_categorize['movie_title'].str.split('(', n = 1, expand=True) # split movie_title to movie_title and movie_year\n",
    "    data_movies_categorize_split[1] = data_movies_categorize_split[1].str.replace(r')', '') #removing ) at the end of movie_year\n",
    "    data_movies_categorize[\"movie_year\"] = data_movies_categorize_split[1]\n",
    "    data_movies_categorize[\"movie_title\"] = data_movies_categorize_split[0]\n",
    "    #data_movies_categorize[\"movie_year\"] = data_movies_categorize[\"movie_year\"].astype(float)\n",
    "    #data_movies_categorize\n",
    "    data_movies_categorize_cleaned = data_movies_categorize[pd.to_numeric(data_movies_categorize['movie_year'], errors='coerce').notnull()]\n",
    "    data_movies_categorize_cleaned[\"movie_year\"] = data_movies_categorize_cleaned[\"movie_year\"].astype(float)\n",
    "    \n",
    "    return data_movies, data_rating, data_rating_plus_movie_title, data_movies_categorize_cleaned\n",
    "\n",
    "\n",
    "def get_users_loved_hated_movies(customer_id=customer_id_to_use, minmax_rating = minmax_rating):\n",
    "    users_ratings_higher_than_four = get_movies_customer_rated_higher_than(customer_id=customer_id_use, min_rating=minmax_rating)\n",
    "    users_ratings_lower_than_four = get_movies_customer_rated_lower_than(customer_id=customer_id_use, max_rating=minmax_rating)\n",
    "    print(\"User\", customer_id_use ,\"loved these movies\")\n",
    "    for rating in users_ratings_higher_than_four['movie_title']:\n",
    "        print(rating)\n",
    "    print('')\n",
    "    print(\"and disliked these movies\")\n",
    "    for rating in users_ratings_lower_than_four['movie_title']:\n",
    "        print(rating)"
   ]
  },
  {
   "cell_type": "markdown",
   "metadata": {},
   "source": [
    "in these txt files the movie_id's have been placed amongst the customer_id's, which means that we have to split that column into two, we do this by taking all ratings that are equal to NaN \n",
    "( meaning that we are now refering to a movie and not a customer ) and from there we split it into two columns."
   ]
  },
  {
   "cell_type": "code",
   "execution_count": 4,
   "metadata": {
    "tags": []
   },
   "outputs": [
    {
     "name": "stderr",
     "output_type": "stream",
     "text": [
      "<ipython-input-3-f942f5f9ce53>:69: SettingWithCopyWarning: \n",
      "A value is trying to be set on a copy of a slice from a DataFrame.\n",
      "Try using .loc[row_indexer,col_indexer] = value instead\n",
      "\n",
      "See the caveats in the documentation: https://pandas.pydata.org/pandas-docs/stable/user_guide/indexing.html#returning-a-view-versus-a-copy\n",
      "  data_movies_categorize_cleaned[\"movie_year\"] = data_movies_categorize_cleaned[\"movie_year\"].astype(float)\n"
     ]
    }
   ],
   "source": [
    "data_movies, data_rating, data_rating_plus_movie_title, data_movies_categorized = get_dataframes(use_pickle=True)"
   ]
  },
  {
   "cell_type": "markdown",
   "metadata": {},
   "source": [
    "#### try again later"
   ]
  },
  {
   "cell_type": "code",
   "execution_count": 5,
   "metadata": {},
   "outputs": [],
   "source": [
    "# # temporarly while join with genre not working correctly\n",
    "# data_movies = data_movies_import.copy()\n",
    "# data_movies.set_index('movie_id', inplace = True)\n",
    "# print(data_movies)"
   ]
  },
  {
   "cell_type": "code",
   "execution_count": 6,
   "metadata": {},
   "outputs": [],
   "source": [
    "# x_temp = data_movies_import\n",
    "# x2_temp= data_movies_categorize\n",
    "# #x_temp.set_index(\"movie_id\", inplace=True)\n",
    "# #x2_temp.set_index(\"movie_id\", inplace=True)"
   ]
  },
  {
   "cell_type": "code",
   "execution_count": 7,
   "metadata": {},
   "outputs": [],
   "source": [
    "# temp_merge = pd.merge(x_temp, x2_temp, on=['movie_title', 'movie_year'], how='outer')\n",
    "# temp_merge = temp_merge[[\"movie_year\", \"movie_title\"]].drop_duplicates(subset=None, keep=\"last\", inplace=False)"
   ]
  },
  {
   "cell_type": "code",
   "execution_count": 8,
   "metadata": {},
   "outputs": [],
   "source": [
    "# df_merged = pd.merge(x_temp, x2_temp, on=[\"movie_title\", \"movie_year\"], how=\"left\")"
   ]
  },
  {
   "cell_type": "code",
   "execution_count": 9,
   "metadata": {},
   "outputs": [],
   "source": [
    "#df_merged[\"genres\"].isnull()"
   ]
  },
  {
   "cell_type": "code",
   "execution_count": 10,
   "metadata": {},
   "outputs": [],
   "source": [
    "# #data_movies = pd.merge(x, x2, on=['movie_year', 'movie_title'], how='outer')\n",
    "# data_movies = pd.merge(x, x2, on=[\"movie_title\", \"movie_year\"], how='outer')\n",
    "# data_movies#.set_index('movie_id', inplace = True)\n"
   ]
  },
  {
   "cell_type": "code",
   "execution_count": 11,
   "metadata": {},
   "outputs": [],
   "source": [
    "# data_movies.groupby(\"movie_title\").count()"
   ]
  },
  {
   "cell_type": "markdown",
   "metadata": {},
   "source": [
    "#### end of try again later"
   ]
  },
  {
   "cell_type": "markdown",
   "metadata": {},
   "source": [
    "## Working with the data"
   ]
  },
  {
   "cell_type": "markdown",
   "metadata": {},
   "source": [
    "### Details about all customers/movies"
   ]
  },
  {
   "cell_type": "code",
   "execution_count": 58,
   "metadata": {},
   "outputs": [
    {
     "name": "stdout",
     "output_type": "stream",
     "text": [
      "       customer_id rating       avg_rating\n",
      "                      sum count           \n",
      "0                6  510.0   153   3.333333\n",
      "1                7  793.0   195   4.066667\n",
      "2                8   84.0    21   4.000000\n",
      "3               10  164.0    49   3.346939\n",
      "4               25   14.0     4   3.500000\n",
      "...            ...    ...   ...        ...\n",
      "470753     2649404   49.0    12   4.083333\n",
      "470754     2649409   40.0    10   4.000000\n",
      "470755     2649421   15.0     3   5.000000\n",
      "470756     2649426  301.0    74   4.067568\n",
      "470757     2649429  258.0    62   4.161290\n",
      "\n",
      "[470758 rows x 4 columns]\n"
     ]
    }
   ],
   "source": [
    "# get the average movie rating for all customers\n",
    "# used to determine if this user typically gives bad or good reviews\n",
    "# and then we can see if he really hates or loves a movie\n",
    "all_customers_average_ratings = all_customers_get_average_rating()\n",
    "print(all_customers_average_ratings)"
   ]
  },
  {
   "cell_type": "code",
   "execution_count": 71,
   "metadata": {},
   "outputs": [
    {
     "name": "stdout",
     "output_type": "stream",
     "text": [
      "     movie_id   rating       avg_rating\n",
      "                   sum count           \n",
      "0           1   2051.0   547   3.749543\n",
      "1           2    516.0   145   3.558621\n",
      "2           3   7326.0  2012   3.641153\n",
      "3           4    389.0   142   2.739437\n",
      "4           5   4468.0  1140   3.919298\n",
      "...       ...      ...   ...        ...\n",
      "4494     4495   2136.0   614   3.478827\n",
      "4495     4496  35820.0  9519   3.763000\n",
      "4496     4497   1939.0   714   2.715686\n",
      "4497     4498    663.0   269   2.464684\n",
      "4498     4499   1119.0   428   2.614486\n",
      "\n",
      "[4499 rows x 4 columns]\n"
     ]
    }
   ],
   "source": [
    "all_movies_average_rating = all_movies_get_average_rating()\n",
    "print(all_movies_average_rating)"
   ]
  },
  {
   "cell_type": "code",
   "execution_count": 72,
   "metadata": {},
   "outputs": [
    {
     "name": "stdout",
     "output_type": "stream",
     "text": [
      "       customer_id rating       avg_rating\n",
      "                      sum count           \n",
      "0                6  510.0   153   3.333333\n",
      "1                7  793.0   195   4.066667\n",
      "2                8   84.0    21   4.000000\n",
      "3               10  164.0    49   3.346939\n",
      "4               25   14.0     4   3.500000\n",
      "...            ...    ...   ...        ...\n",
      "470752     2649401  118.0    30   3.933333\n",
      "470753     2649404   49.0    12   4.083333\n",
      "470754     2649409   40.0    10   4.000000\n",
      "470756     2649426  301.0    74   4.067568\n",
      "470757     2649429  258.0    62   4.161290\n",
      "\n",
      "[459896 rows x 4 columns]\n"
     ]
    }
   ],
   "source": [
    "get_customers_avg_rating_less_than(max_rating=5)"
   ]
  },
  {
   "cell_type": "code",
   "execution_count": 73,
   "metadata": {},
   "outputs": [
    {
     "name": "stdout",
     "output_type": "stream",
     "text": [
      "       customer_id rating       avg_rating\n",
      "                      sum count           \n",
      "0                6  510.0   153   3.333333\n",
      "3               10  164.0    49   3.346939\n",
      "4               25   14.0     4   3.500000\n",
      "5               33   38.0    11   3.454545\n",
      "6               42  142.0    36   3.944444\n",
      "...            ...    ...   ...        ...\n",
      "470747     2649376  133.0    34   3.911765\n",
      "470748     2649378  233.0    72   3.236111\n",
      "470750     2649384   23.0     7   3.285714\n",
      "470751     2649388  257.0    77   3.337662\n",
      "470752     2649401  118.0    30   3.933333\n",
      "\n",
      "[331845 rows x 4 columns]\n"
     ]
    }
   ],
   "source": [
    "get_customers_avg_rating_less_than(max_rating=4)"
   ]
  },
  {
   "cell_type": "code",
   "execution_count": 74,
   "metadata": {},
   "outputs": [
    {
     "name": "stdout",
     "output_type": "stream",
     "text": [
      "       customer_id rating       avg_rating\n",
      "                      sum count           \n",
      "1                7  793.0   195   4.066667\n",
      "7               59  198.0    49   4.040816\n",
      "9               83   45.0    10   4.500000\n",
      "13             116  185.0    45   4.111111\n",
      "14             126   72.0    15   4.800000\n",
      "...            ...    ...   ...        ...\n",
      "470749     2649379    9.0     2   4.500000\n",
      "470753     2649404   49.0    12   4.083333\n",
      "470755     2649421   15.0     3   5.000000\n",
      "470756     2649426  301.0    74   4.067568\n",
      "470757     2649429  258.0    62   4.161290\n",
      "\n",
      "[111634 rows x 4 columns]\n"
     ]
    }
   ],
   "source": [
    "get_customers_avg_rating_higher_than(min_rating=4)"
   ]
  },
  {
   "cell_type": "code",
   "execution_count": 75,
   "metadata": {},
   "outputs": [
    {
     "name": "stdout",
     "output_type": "stream",
     "text": [
      "     movie_id   rating       avg_rating\n",
      "                   sum count           \n",
      "0           1   2051.0   547   3.749543\n",
      "1           2    516.0   145   3.558621\n",
      "2           3   7326.0  2012   3.641153\n",
      "3           4    389.0   142   2.739437\n",
      "4           5   4468.0  1140   3.919298\n",
      "...       ...      ...   ...        ...\n",
      "4494     4495   2136.0   614   3.478827\n",
      "4495     4496  35820.0  9519   3.763000\n",
      "4496     4497   1939.0   714   2.715686\n",
      "4497     4498    663.0   269   2.464684\n",
      "4498     4499   1119.0   428   2.614486\n",
      "\n",
      "[4499 rows x 4 columns]\n"
     ]
    }
   ],
   "source": [
    "get_movies_avg_rating_less_than(max_rating=5)"
   ]
  },
  {
   "cell_type": "code",
   "execution_count": 76,
   "metadata": {},
   "outputs": [
    {
     "name": "stdout",
     "output_type": "stream",
     "text": [
      "     movie_id   rating       avg_rating\n",
      "                   sum count           \n",
      "0           1   2051.0   547   3.749543\n",
      "1           2    516.0   145   3.558621\n",
      "2           3   7326.0  2012   3.641153\n",
      "3           4    389.0   142   2.739437\n",
      "4           5   4468.0  1140   3.919298\n",
      "...       ...      ...   ...        ...\n",
      "4494     4495   2136.0   614   3.478827\n",
      "4495     4496  35820.0  9519   3.763000\n",
      "4496     4497   1939.0   714   2.715686\n",
      "4497     4498    663.0   269   2.464684\n",
      "4498     4499   1119.0   428   2.614486\n",
      "\n",
      "[4244 rows x 4 columns]\n"
     ]
    }
   ],
   "source": [
    "get_movies_avg_rating_less_than(max_rating=4)"
   ]
  },
  {
   "cell_type": "code",
   "execution_count": 77,
   "metadata": {},
   "outputs": [
    {
     "data": {
      "text/html": [
       "<div>\n",
       "<style scoped>\n",
       "    .dataframe tbody tr th:only-of-type {\n",
       "        vertical-align: middle;\n",
       "    }\n",
       "\n",
       "    .dataframe tbody tr th {\n",
       "        vertical-align: top;\n",
       "    }\n",
       "\n",
       "    .dataframe thead th {\n",
       "        text-align: right;\n",
       "    }\n",
       "</style>\n",
       "<table border=\"1\" class=\"dataframe\">\n",
       "  <thead>\n",
       "    <tr style=\"text-align: right;\">\n",
       "      <th></th>\n",
       "      <th>customer_id</th>\n",
       "      <th>movie_id</th>\n",
       "    </tr>\n",
       "  </thead>\n",
       "  <tbody>\n",
       "    <tr>\n",
       "      <th>0</th>\n",
       "      <td>6</td>\n",
       "      <td>153</td>\n",
       "    </tr>\n",
       "    <tr>\n",
       "      <th>1</th>\n",
       "      <td>7</td>\n",
       "      <td>195</td>\n",
       "    </tr>\n",
       "    <tr>\n",
       "      <th>2</th>\n",
       "      <td>8</td>\n",
       "      <td>21</td>\n",
       "    </tr>\n",
       "    <tr>\n",
       "      <th>3</th>\n",
       "      <td>10</td>\n",
       "      <td>49</td>\n",
       "    </tr>\n",
       "    <tr>\n",
       "      <th>4</th>\n",
       "      <td>25</td>\n",
       "      <td>4</td>\n",
       "    </tr>\n",
       "    <tr>\n",
       "      <th>...</th>\n",
       "      <td>...</td>\n",
       "      <td>...</td>\n",
       "    </tr>\n",
       "    <tr>\n",
       "      <th>470753</th>\n",
       "      <td>2649404</td>\n",
       "      <td>12</td>\n",
       "    </tr>\n",
       "    <tr>\n",
       "      <th>470754</th>\n",
       "      <td>2649409</td>\n",
       "      <td>10</td>\n",
       "    </tr>\n",
       "    <tr>\n",
       "      <th>470755</th>\n",
       "      <td>2649421</td>\n",
       "      <td>3</td>\n",
       "    </tr>\n",
       "    <tr>\n",
       "      <th>470756</th>\n",
       "      <td>2649426</td>\n",
       "      <td>74</td>\n",
       "    </tr>\n",
       "    <tr>\n",
       "      <th>470757</th>\n",
       "      <td>2649429</td>\n",
       "      <td>62</td>\n",
       "    </tr>\n",
       "  </tbody>\n",
       "</table>\n",
       "<p>470758 rows × 2 columns</p>\n",
       "</div>"
      ],
      "text/plain": [
       "        customer_id  movie_id\n",
       "0                 6       153\n",
       "1                 7       195\n",
       "2                 8        21\n",
       "3                10        49\n",
       "4                25         4\n",
       "...             ...       ...\n",
       "470753      2649404        12\n",
       "470754      2649409        10\n",
       "470755      2649421         3\n",
       "470756      2649426        74\n",
       "470757      2649429        62\n",
       "\n",
       "[470758 rows x 2 columns]"
      ]
     },
     "execution_count": 77,
     "metadata": {},
     "output_type": "execute_result"
    }
   ],
   "source": [
    "count_movies_rated_by_customer = all_customers_get_movie_rated_count()\n",
    "count_movies_rated_by_customer"
   ]
  },
  {
   "cell_type": "code",
   "execution_count": 79,
   "metadata": {},
   "outputs": [
    {
     "name": "stdout",
     "output_type": "stream",
     "text": [
      "random user id used while in development\n",
      " [79602 79612 79613 79616 79625 79627 79633 79640 79643 79652 79655 79658\n",
      " 79660 79663 79666 79682 79683 79686 79692 79695 79699 79703 79712 79713\n",
      " 79721 79724 79730 79731 79732 79733 79735 79740 79745 79746 79747 79750\n",
      " 79755 79756 79764 79770 79772 79773 79774 79782 79794 79799 79806 79807\n",
      " 79809 79811 79812 79826 79835 79838 79839 79861 79867 79870 79880 79883\n",
      " 79884 79890 79898 79900 79911 79917 79918 79922 79925 79926 79927 79940\n",
      " 79944 79948 79954 79961 79967 79981 79986 79988 79989 79999 80003 80007\n",
      " 80010 80014 80017 80022 80025 80038 80044 80055 80058 80060 80063 80064\n",
      " 80065 80091 80102 80108 80112 80117 80123 80124 80127 80135 80138 80139\n",
      " 80140 80142 80146 80148 80152 80155 80158 80160 80161 80163 80164 80165\n",
      " 80176 80177 80178 80187 80191 80198 80209 80218 80229 80231 80233 80241\n",
      " 80250 80259 80264 80266 80276 80277 80284 80286 80290 80295 80298 80304\n",
      " 80306 80308 80311 80320 80325 80327 80339 80340 80346 80348 80351 80354\n",
      " 80356 80363 80365 80380 80381 80400 80412 80417 80436 80440 80443 80445\n",
      " 80461 80478 80482 80486 80495 80506 80507 80511 80523 80525 80531 80539\n",
      " 80540 80542 80548 80562 80568 80574 80586 80613 80621 80623 80630 80638\n",
      " 80650 80651 80652 80657 80660 80666 80667 80674 80682 80683 80688 80689\n",
      " 80696 80697 80700 80740 80747 80751 80753 80759 80760 80768 80769 80803\n",
      " 80835 80843 80844 80851 80860 80869 80871 80879 80887 80890 80894 80899\n",
      " 80903 80910 80914 80916 80928 80938 80941 80946 80947 80955 80960 80966\n",
      " 80969 80972 80976 80999 81007 81010 81023 81027 81031 81034 81036 81040\n",
      " 81041 81050 81066 81072 81074 81081 81090 81091 81093 81097 81105 81108\n",
      " 81113 81119 81120 81129 81130 81134 81144 81149 81150 81151 81157 81164\n",
      " 81165 81166 81168 81175 81180 81186 81188 81193 81211 81218 81219 81224\n",
      " 81227 81230 81234 81243 81246 81253 81262 81271 81273 81285 81287 81292\n",
      " 81293 81300 81302 81312 81324 81335 81336 81338 81341 81343 81346 81357\n",
      " 81362 81363 81364 81369 81373 81379 81395 81410 81414 81420 81421 81437\n",
      " 81439 81443 81453 81464 81478 81490 81501 81503 81508 81516 81518 81519\n",
      " 81529 81538 81544 81560 81563 81565 81566 81567 81572 81587 81596 81601\n",
      " 81606 81608 81610 81614 81635 81644 81654 81663 81664 81672 81675 81683\n",
      " 81684 81686 81690 81692 81700 81708 81710 81721 81723 81724 81725 81734\n",
      " 81743 81749 81757 81759 81760 81762 81770 81782 81789 81793 81806 81809\n",
      " 81810 81811 81812 81815 81833 81835 81836 81843 81858 81860 81861 81865\n",
      " 81866 81877 81881 81890 81894 81897 81901 81907 81912 81921 81922 81925\n",
      " 81931 81933 81937 81942 81979 81981 81988 81990 81994 81998 82011 82012\n",
      " 82019 82020 82021 82041 82046 82048 82050 82058 82059 82065 82068 82082\n",
      " 82086 82087 82089 82092 82096 82100 82102 82103 82108 82110 82113 82117\n",
      " 82118 82122 82138 82141 82145 82148 82155 82161 82162 82168 82178 82188\n",
      " 82197 82210 82214 82233 82235 82237 82241 82243 82246 82247 82250 82251\n",
      " 82257 82259 82262 82265 82267 82271 82273 82279 82285 82286 82287 82291\n",
      " 82297 82300 82301 82316 82330 82334 82338 82361 82368 82369 82371 82372\n",
      " 82375 82377 82386 82391 82404 82408 82425 82428 82435 82443 82450 82457\n",
      " 82458 82486 82499 82507 82509 82514 82516 82520 82540 82543 82547 82551\n",
      " 82571 82577 82586 82587 82591 82594 82600 82601 82610 82627 82632 82634\n",
      " 82642 82645 82646 82648 82657 82659 82662 82663 82664 82672 82681 82683\n",
      " 82689 82700 82702 82715 82726 82728 82731 82739 82741 82742 82745 82760\n",
      " 82768 82769 82771 82779 82796 82815 82817 82821 82824 82826 82836 82837\n",
      " 82839 82840 82843 82845 82846 82848 82865 82868 82872 82874 82884 82916\n",
      " 82917 82921 82924 82931 82933 82935 82938 82950 82958 82961 82977 82982\n",
      " 82988 82997 83001 83003 83006 83007 83015 83019 83028 83034 83035 83049\n",
      " 83054 83060 83066 83071 83072 83076 83087 83089 83100 83104 83108 83110\n",
      " 83118 83126 83129 83139 83143 83150 83151 83158 83180 83186 83190 83195\n",
      " 83196 83217 83218 83227 83230 83239 83243 83244 83246 83247 83253 83256\n",
      " 83260 83264 83267 83269 83271 83277 83278 83282 83290 83312 83318 83319\n",
      " 83320 83324 83336 83338 83346 83356 83366 83367 83371 83373 83377 83386\n",
      " 83388 83391 83396 83403 83404 83420 83423 83430 83432 83445 83446 83474\n",
      " 83476 83477 83480 83481 83485 83487 83494 83500 83502 83506 83521 83526\n",
      " 83530 83540 83541 83562 83563 83566 83576 83584 83586 83594 83595 83599\n",
      " 83617 83621 83628 83637 83639 83643 83646 83647 83648 83650 83676 83678\n",
      " 83679 83682 83687 83688 83696 83701 83712 83720 83721 83730 83735 83740\n",
      " 83748 83754 83755 83756 83776 83781 83794 83795 83803 83805 83808 83814\n",
      " 83819 83825 83839 83855 83857 83858 83869 83874 83879 83881 83889 83893\n",
      " 83895 83896 83902 83909 83911 83914 83917 83922 83923 83926 83940 83942\n",
      " 83945 83950 83961 83963 83978 83992 84021 84022 84030 84040 84046 84048\n",
      " 84051 84065 84068 84071 84088 84092 84093 84094 84095 84100 84102 84104\n",
      " 84106 84111 84123 84127 84128 84133 84146 84150 84152 84164 84168 84171\n",
      " 84189 84192 84208 84213 84218 84223 84234 84237 84240 84248 84263 84266\n",
      " 84270 84271 84274 84285 84288 84291 84303 84306 84309 84315 84316 84328\n",
      " 84338 84351 84352 84357 84369 84381 84386 84387 84389 84392 84398 84400\n",
      " 84410 84411 84412 84413 84414 84421 84423 84433 84437 84447 84454 84456\n",
      " 84457 84461 84462 84477 84482 84498 84505 84508 84509 84513 84514 84527\n",
      " 84542 84555 84556 84557 84559 84566 84568 84569 84584 84586 84589 84601\n",
      " 84605 84613 84619 84627 84645 84651 84658 84665 84670 84691 84695 84705\n",
      " 84714 84721 84728 84737 84747 84748 84749 84762 84764 84772 84776 84778\n",
      " 84779 84780 84804 84811 84814 84836 84843 84850 84852 84858 84873 84882]\n"
     ]
    }
   ],
   "source": [
    "print(\"random user id used while in development\\n\", np.unique(data_rating['customer_id'])[14100:15000])"
   ]
  },
  {
   "cell_type": "markdown",
   "metadata": {},
   "source": [
    "### Details about a specific customer"
   ]
  },
  {
   "cell_type": "code",
   "execution_count": 18,
   "metadata": {},
   "outputs": [],
   "source": [
    "# ids I like -> 28812, 56514, 56520, 1488844\n",
    "customer_id_use = 84100"
   ]
  },
  {
   "cell_type": "code",
   "execution_count": 19,
   "metadata": {},
   "outputs": [
    {
     "data": {
      "text/html": [
       "<div>\n",
       "<style scoped>\n",
       "    .dataframe tbody tr th:only-of-type {\n",
       "        vertical-align: middle;\n",
       "    }\n",
       "\n",
       "    .dataframe tbody tr th {\n",
       "        vertical-align: top;\n",
       "    }\n",
       "\n",
       "    .dataframe thead th {\n",
       "        text-align: right;\n",
       "    }\n",
       "</style>\n",
       "<table border=\"1\" class=\"dataframe\">\n",
       "  <thead>\n",
       "    <tr style=\"text-align: right;\">\n",
       "      <th></th>\n",
       "      <th>movie_id</th>\n",
       "      <th>customer_id</th>\n",
       "      <th>rating</th>\n",
       "      <th>movie_year</th>\n",
       "      <th>movie_title</th>\n",
       "    </tr>\n",
       "  </thead>\n",
       "  <tbody>\n",
       "    <tr>\n",
       "      <th>141847</th>\n",
       "      <td>30</td>\n",
       "      <td>84100</td>\n",
       "      <td>5.0</td>\n",
       "      <td>2003.0</td>\n",
       "      <td>Something's Gotta Give</td>\n",
       "    </tr>\n",
       "    <tr>\n",
       "      <th>757653</th>\n",
       "      <td>191</td>\n",
       "      <td>84100</td>\n",
       "      <td>4.0</td>\n",
       "      <td>2003.0</td>\n",
       "      <td>X2: X-Men United</td>\n",
       "    </tr>\n",
       "    <tr>\n",
       "      <th>1408832</th>\n",
       "      <td>299</td>\n",
       "      <td>84100</td>\n",
       "      <td>4.0</td>\n",
       "      <td>2001.0</td>\n",
       "      <td>Bridget Jones's Diary</td>\n",
       "    </tr>\n",
       "    <tr>\n",
       "      <th>1936216</th>\n",
       "      <td>357</td>\n",
       "      <td>84100</td>\n",
       "      <td>5.0</td>\n",
       "      <td>2003.0</td>\n",
       "      <td>House of Sand and Fog</td>\n",
       "    </tr>\n",
       "    <tr>\n",
       "      <th>2417368</th>\n",
       "      <td>457</td>\n",
       "      <td>84100</td>\n",
       "      <td>4.0</td>\n",
       "      <td>2004.0</td>\n",
       "      <td>Kill Bill: Vol. 2</td>\n",
       "    </tr>\n",
       "    <tr>\n",
       "      <th>3936782</th>\n",
       "      <td>758</td>\n",
       "      <td>84100</td>\n",
       "      <td>4.0</td>\n",
       "      <td>2004.0</td>\n",
       "      <td>Mean Girls</td>\n",
       "    </tr>\n",
       "    <tr>\n",
       "      <th>5510889</th>\n",
       "      <td>1110</td>\n",
       "      <td>84100</td>\n",
       "      <td>4.0</td>\n",
       "      <td>2003.0</td>\n",
       "      <td>Secondhand Lions</td>\n",
       "    </tr>\n",
       "    <tr>\n",
       "      <th>6259259</th>\n",
       "      <td>1220</td>\n",
       "      <td>84100</td>\n",
       "      <td>4.0</td>\n",
       "      <td>2004.0</td>\n",
       "      <td>Man on Fire</td>\n",
       "    </tr>\n",
       "    <tr>\n",
       "      <th>6680950</th>\n",
       "      <td>1307</td>\n",
       "      <td>84100</td>\n",
       "      <td>4.0</td>\n",
       "      <td>2003.0</td>\n",
       "      <td>S.W.A.T.</td>\n",
       "    </tr>\n",
       "    <tr>\n",
       "      <th>7777139</th>\n",
       "      <td>1561</td>\n",
       "      <td>84100</td>\n",
       "      <td>3.0</td>\n",
       "      <td>2003.0</td>\n",
       "      <td>American Wedding</td>\n",
       "    </tr>\n",
       "    <tr>\n",
       "      <th>10045988</th>\n",
       "      <td>1962</td>\n",
       "      <td>84100</td>\n",
       "      <td>4.0</td>\n",
       "      <td>2004.0</td>\n",
       "      <td>50 First Dates</td>\n",
       "    </tr>\n",
       "    <tr>\n",
       "      <th>10741601</th>\n",
       "      <td>2112</td>\n",
       "      <td>84100</td>\n",
       "      <td>3.0</td>\n",
       "      <td>2003.0</td>\n",
       "      <td>Identity</td>\n",
       "    </tr>\n",
       "    <tr>\n",
       "      <th>12466301</th>\n",
       "      <td>2391</td>\n",
       "      <td>84100</td>\n",
       "      <td>3.0</td>\n",
       "      <td>2004.0</td>\n",
       "      <td>Along Came Polly</td>\n",
       "    </tr>\n",
       "    <tr>\n",
       "      <th>12929173</th>\n",
       "      <td>2457</td>\n",
       "      <td>84100</td>\n",
       "      <td>3.0</td>\n",
       "      <td>2004.0</td>\n",
       "      <td>A Cinderella Story</td>\n",
       "    </tr>\n",
       "    <tr>\n",
       "      <th>13516734</th>\n",
       "      <td>2580</td>\n",
       "      <td>84100</td>\n",
       "      <td>4.0</td>\n",
       "      <td>2003.0</td>\n",
       "      <td>Freaky Friday</td>\n",
       "    </tr>\n",
       "    <tr>\n",
       "      <th>17237977</th>\n",
       "      <td>3320</td>\n",
       "      <td>84100</td>\n",
       "      <td>4.0</td>\n",
       "      <td>2002.0</td>\n",
       "      <td>About a Boy</td>\n",
       "    </tr>\n",
       "    <tr>\n",
       "      <th>18997762</th>\n",
       "      <td>3624</td>\n",
       "      <td>84100</td>\n",
       "      <td>5.0</td>\n",
       "      <td>2003.0</td>\n",
       "      <td>The Last Samurai</td>\n",
       "    </tr>\n",
       "    <tr>\n",
       "      <th>19680944</th>\n",
       "      <td>3756</td>\n",
       "      <td>84100</td>\n",
       "      <td>4.0</td>\n",
       "      <td>2002.0</td>\n",
       "      <td>About Schmidt</td>\n",
       "    </tr>\n",
       "    <tr>\n",
       "      <th>20225369</th>\n",
       "      <td>3860</td>\n",
       "      <td>84100</td>\n",
       "      <td>4.0</td>\n",
       "      <td>2003.0</td>\n",
       "      <td>Bruce Almighty</td>\n",
       "    </tr>\n",
       "    <tr>\n",
       "      <th>20814844</th>\n",
       "      <td>3925</td>\n",
       "      <td>84100</td>\n",
       "      <td>4.0</td>\n",
       "      <td>2003.0</td>\n",
       "      <td>The Matrix: Reloaded</td>\n",
       "    </tr>\n",
       "    <tr>\n",
       "      <th>21017062</th>\n",
       "      <td>3938</td>\n",
       "      <td>84100</td>\n",
       "      <td>4.0</td>\n",
       "      <td>2004.0</td>\n",
       "      <td>Shrek 2</td>\n",
       "    </tr>\n",
       "    <tr>\n",
       "      <th>23881856</th>\n",
       "      <td>4472</td>\n",
       "      <td>84100</td>\n",
       "      <td>4.0</td>\n",
       "      <td>2003.0</td>\n",
       "      <td>Love Actually</td>\n",
       "    </tr>\n",
       "  </tbody>\n",
       "</table>\n",
       "</div>"
      ],
      "text/plain": [
       "          movie_id  customer_id  rating  movie_year             movie_title\n",
       "141847          30        84100     5.0      2003.0  Something's Gotta Give\n",
       "757653         191        84100     4.0      2003.0        X2: X-Men United\n",
       "1408832        299        84100     4.0      2001.0   Bridget Jones's Diary\n",
       "1936216        357        84100     5.0      2003.0   House of Sand and Fog\n",
       "2417368        457        84100     4.0      2004.0       Kill Bill: Vol. 2\n",
       "3936782        758        84100     4.0      2004.0              Mean Girls\n",
       "5510889       1110        84100     4.0      2003.0        Secondhand Lions\n",
       "6259259       1220        84100     4.0      2004.0             Man on Fire\n",
       "6680950       1307        84100     4.0      2003.0                S.W.A.T.\n",
       "7777139       1561        84100     3.0      2003.0        American Wedding\n",
       "10045988      1962        84100     4.0      2004.0          50 First Dates\n",
       "10741601      2112        84100     3.0      2003.0                Identity\n",
       "12466301      2391        84100     3.0      2004.0        Along Came Polly\n",
       "12929173      2457        84100     3.0      2004.0      A Cinderella Story\n",
       "13516734      2580        84100     4.0      2003.0           Freaky Friday\n",
       "17237977      3320        84100     4.0      2002.0             About a Boy\n",
       "18997762      3624        84100     5.0      2003.0        The Last Samurai\n",
       "19680944      3756        84100     4.0      2002.0           About Schmidt\n",
       "20225369      3860        84100     4.0      2003.0          Bruce Almighty\n",
       "20814844      3925        84100     4.0      2003.0    The Matrix: Reloaded\n",
       "21017062      3938        84100     4.0      2004.0                 Shrek 2\n",
       "23881856      4472        84100     4.0      2003.0           Love Actually"
      ]
     },
     "execution_count": 19,
     "metadata": {},
     "output_type": "execute_result"
    }
   ],
   "source": [
    "#all_custumers_id_rows(customer_id=customer_id_use)\n",
    "## same as line above but including movie_year and movie_title\n",
    "all_customers_id_plus_movie_title_rows(customer_id=customer_id_use)"
   ]
  },
  {
   "cell_type": "code",
   "execution_count": 20,
   "metadata": {},
   "outputs": [
    {
     "data": {
      "text/plain": [
       "14877    3.954545\n",
       "Name: avg_rating, dtype: float64"
      ]
     },
     "execution_count": 20,
     "metadata": {},
     "output_type": "execute_result"
    }
   ],
   "source": [
    "get_users_avg_rating(customer_id=customer_id_use)"
   ]
  },
  {
   "cell_type": "code",
   "execution_count": 128,
   "metadata": {},
   "outputs": [
    {
     "name": "stdout",
     "output_type": "stream",
     "text": [
      "                     movie_title  rating\n",
      "movie_id                                \n",
      "30        Something's Gotta Give     5.0\n",
      "191             X2: X-Men United     4.0\n",
      "299        Bridget Jones's Diary     4.0\n",
      "357        House of Sand and Fog     5.0\n",
      "457            Kill Bill: Vol. 2     4.0\n",
      "758                   Mean Girls     4.0\n",
      "1110            Secondhand Lions     4.0\n",
      "1220                 Man on Fire     4.0\n",
      "1307                    S.W.A.T.     4.0\n",
      "1962              50 First Dates     4.0\n",
      "2580               Freaky Friday     4.0\n",
      "3320                 About a Boy     4.0\n",
      "3624            The Last Samurai     5.0\n",
      "3756               About Schmidt     4.0\n",
      "3860              Bruce Almighty     4.0\n",
      "3925        The Matrix: Reloaded     4.0\n",
      "3938                     Shrek 2     4.0\n",
      "4472               Love Actually     4.0\n",
      "average rating 14877    3.954545\n",
      "Name: avg_rating, dtype: float64\n"
     ]
    }
   ],
   "source": [
    "display_movies_customer_rated_higher_than(customer_id=customer_id_use, min_rating=4)"
   ]
  },
  {
   "cell_type": "code",
   "execution_count": 130,
   "metadata": {},
   "outputs": [
    {
     "name": "stdout",
     "output_type": "stream",
     "text": [
      "                 movie_title  rating\n",
      "movie_id                            \n",
      "1561        American Wedding     3.0\n",
      "2112                Identity     3.0\n",
      "2391        Along Came Polly     3.0\n",
      "2457      A Cinderella Story     3.0\n",
      "average rating 14877    3.954545\n",
      "Name: avg_rating, dtype: float64\n"
     ]
    }
   ],
   "source": [
    "display_movies_customer_rated_lower_than(customer_id=customer_id_use, max_rating=4)"
   ]
  },
  {
   "cell_type": "code",
   "execution_count": 133,
   "metadata": {},
   "outputs": [
    {
     "name": "stdout",
     "output_type": "stream",
     "text": [
      "User 84100 loved these movies\n",
      "Something's Gotta Give\n",
      "X2: X-Men United\n",
      "Bridget Jones's Diary\n",
      "House of Sand and Fog\n",
      "Kill Bill: Vol. 2\n",
      "Mean Girls\n",
      "Secondhand Lions\n",
      "Man on Fire\n",
      "S.W.A.T.\n",
      "50 First Dates\n",
      "Freaky Friday\n",
      "About a Boy\n",
      "The Last Samurai\n",
      "About Schmidt\n",
      "Bruce Almighty\n",
      "The Matrix: Reloaded\n",
      "Shrek 2\n",
      "Love Actually\n",
      "\n",
      "and disliked these movies\n",
      "American Wedding\n",
      "Identity\n",
      "Along Came Polly\n",
      "A Cinderella Story\n"
     ]
    }
   ],
   "source": [
    "get_users_loved_hated_movies(customer_id=customer_id_use, minmax_rating=4)"
   ]
  },
  {
   "cell_type": "markdown",
   "metadata": {},
   "source": [
    "## Recommendations with collaborative filtering"
   ]
  },
  {
   "cell_type": "code",
   "execution_count": 99,
   "metadata": {},
   "outputs": [],
   "source": [
    "def build_training_set(df):\n",
    "    reader = Reader()\n",
    "    svd = SVD()\n",
    "    data_new = Dataset.load_from_df(df[['customer_id', 'movie_id', 'rating']], reader)\n",
    "    trainset = data_new.build_full_trainset()\n",
    "    svd.fit(trainset)\n",
    "    return trainset, svd\n",
    "\n",
    "def get_summary(type=\"movie_id\"):\n",
    "    #>IF MOVIE:  movie_id, movie rating count, movie rating mean\n",
    "    #>IF CUSTOMER: customer_id, custumer rating count, customer rating mean\n",
    "    df_count_mean_summary = data_rating.groupby(type)['rating'].agg(['count', 'mean'])\n",
    "    df_count_mean_summary.index = df_count_mean_summary.index.map(int)\n",
    "    #>IF MOVIE: returns 1799.0 as a benchmark number\n",
    "    #IF CUSTOMER: returns 52.0 as a benchmark number\n",
    "    benchmark = round(df_count_mean_summary['count'].quantile(0.7),0)\n",
    "    # drop all rows below benchmark\n",
    "    df_drop_list = df_count_mean_summary[df_count_mean_summary['count'] < benchmark]\n",
    "    # return all indexes to drop\n",
    "    return df_drop_list\n",
    "\n",
    "def get_customer_recommendations(customer_id=customer_id_use):\n",
    "    #> returns movie_id, movie_year, movie_title\n",
    "    chosen_customer_pred = data_movies.copy()\n",
    "    # fails if movie_id is the index so we have to reset the index back to normal (0-N)\n",
    "    chosen_customer_pred = chosen_customer_pred.reset_index()\n",
    "    # makes sure that we only pick movies that are not in the movie dropped list\n",
    "    chosen_customer_pred = chosen_customer_pred[~chosen_customer_pred['movie_id'].isin(df_movie_drop_list)]\n",
    "    # make prediction for customer with id = <customer_id> and put it into 'estimated_score'\n",
    "    chosen_customer_pred['estimated_score'] = chosen_customer_pred['movie_id'].apply(lambda x: svd.predict(customer_id, x).est)\n",
    "    # sort by 'estimated score'\n",
    "    chosen_customer_pred = chosen_customer_pred.sort_values('estimated_score', ascending=False).set_index('movie_id')\n",
    "    return chosen_customer_pred\n",
    "\n",
    "def display_rated_content(customer_id=customer_id_use, number_to_show=20):\n",
    "    print(\"Movies/TV Shows rated by customer\", customer_id)\n",
    "    df = all_customers_id_plus_movie_title_rows(customer_id=customer_id)\n",
    "    df = df[['movie_title', 'rating']].sort_values('rating', ascending=False)\n",
    "    print(df[0:number_to_show].set_index('movie_title'))\n",
    "\n",
    "def display_customers_recommendations(customer_id=customer_id_use, df=[], number_to_show=20):\n",
    "    print(\"Movies/TV Shows recommended to customer\")\n",
    "    print(df[['movie_title', 'estimated_score']][0:number_to_show].set_index('movie_title'))\n",
    "\n",
    "def display_history_plus_recommended(customer_id=customer_id_use, number_to_show=25):\n",
    "    display_rated_content(customer_id=customer_id, number_to_show=number_to_show)\n",
    "    chosen_customer_pred = get_customer_recommendations(customer_id)\n",
    "    display_customers_recommendations(customer_id=customer_id, df=chosen_customer_pred, number_to_show=number_to_show)\n",
    "\n",
    "def get_evaluation_and_svd(use_pickle=True):\n",
    "    evaluationData_file_name = \"evaluationData_build_training_set\"\n",
    "    svd_file_name = \"svd_build_training_set\"\n",
    "    if(use_pickle == True):\n",
    "        evaluationData = load_pickle(evaluationData_file_name)\n",
    "        svd = load_pickle(svd_file_name)\n",
    "        return evaluationData, svd\n",
    "    else:\n",
    "        evaluationData, svd = build_training_set(data_rating)\n",
    "        save_to_pickle(evaluationData_file_name, evaluationData)\n",
    "        save_to_pickle(svd_file_name, svd)\n",
    "        return evaluationData, svd"
   ]
  },
  {
   "cell_type": "code",
   "execution_count": 83,
   "metadata": {},
   "outputs": [],
   "source": [
    "evaluationData, svd = get_evaluation_and_svd(use_pickle=True)"
   ]
  },
  {
   "cell_type": "code",
   "execution_count": 84,
   "metadata": {},
   "outputs": [],
   "source": [
    "## creating a list of the movies that we don't wanna include\n",
    "df_movie_drop_list = get_summary(type=\"movie_id\")\n",
    "#df_customer_drop_list = get_summary(type=\"customer_id\")"
   ]
  },
  {
   "cell_type": "code",
   "execution_count": 94,
   "metadata": {},
   "outputs": [
    {
     "name": "stdout",
     "output_type": "stream",
     "text": [
      "Movies/TV Shows rated by customer 79724\n",
      "                                               rating\n",
      "movie_title                                          \n",
      "The X-Files: Season 9                             5.0\n",
      "American Beauty                                   5.0\n",
      "Alien: Collector's Edition                        5.0\n",
      "Lord of the Rings: The Fellowship of the Ring     5.0\n",
      "La Femme Nikita: Season 2                         5.0\n",
      "Buffalo '66                                       5.0\n",
      "Napoleon Dynamite                                 5.0\n",
      "Dogma                                             5.0\n",
      "28 Days Later                                     5.0\n",
      "The Silence of the Lambs                          4.0\n",
      "Movies/TV Shows recommended to customer\n",
      "                                              estimated_score\n",
      "movie_title                                                  \n",
      "Eternal Sunshine of the Spotless Mind                5.000000\n",
      "Cracker: Series 1                                    4.852637\n",
      "American Beauty                                      4.679694\n",
      "Being John Malkovich                                 4.675382\n",
      "Whale Rider                                          4.662109\n",
      "Cracker: Series 2                                    4.629534\n",
      "Garden State                                         4.603839\n",
      "MI-5: Vol. 2                                         4.581391\n",
      "Prime Suspect 1                                      4.572622\n",
      "Wallace & Gromit in Three Amazing Adventures         4.534384\n"
     ]
    }
   ],
   "source": [
    "display_history_plus_recommended(customer_id=79724, number_to_show=10)"
   ]
  },
  {
   "cell_type": "code",
   "execution_count": 125,
   "metadata": {},
   "outputs": [
    {
     "name": "stdout",
     "output_type": "stream",
     "text": [
      "Movies/TV Shows rated by customer 84100\n",
      "                        rating\n",
      "movie_title                   \n",
      "Something's Gotta Give     5.0\n",
      "House of Sand and Fog      5.0\n",
      "The Last Samurai           5.0\n",
      "X2: X-Men United           4.0\n",
      "Shrek 2                    4.0\n",
      "The Matrix: Reloaded       4.0\n",
      "Bruce Almighty             4.0\n",
      "About Schmidt              4.0\n",
      "About a Boy                4.0\n",
      "Freaky Friday              4.0\n",
      "Movies/TV Shows recommended to customer\n",
      "                                                    estimated_score\n",
      "movie_title                                                        \n",
      "Lost: Season 1                                             5.000000\n",
      "Curb Your Enthusiasm: Season 3                             5.000000\n",
      "Foyle's War: Set 2                                         5.000000\n",
      "The West Wing: Season 3                                    4.944963\n",
      "Mail Call: The Best of Season 1                            4.936956\n",
      "As Time Goes By: Series 8                                  4.930461\n",
      "Alias: Season 1                                            4.907193\n",
      "Braveheart                                                 4.891431\n",
      "Mail Call: The Best of Season 2                            4.881306\n",
      "Lewis and Clark: The Journey of the Corps of Di...         4.875828\n"
     ]
    }
   ],
   "source": [
    "display_history_plus_recommended(customer_id=customer_id_use, number_to_show=10)"
   ]
  },
  {
   "cell_type": "code",
   "execution_count": null,
   "metadata": {},
   "outputs": [],
   "source": [
    "#TODO:\n",
    "#for the new user problem\n",
    "## find highest rated movie / tv shows that have been watched the most -> how likely is new user to click on it ?"
   ]
  },
  {
   "cell_type": "markdown",
   "metadata": {},
   "source": [
    "## SOMETHING"
   ]
  },
  {
   "cell_type": "code",
   "execution_count": 139,
   "metadata": {},
   "outputs": [],
   "source": [
    "from surprise import dataset\n",
    "from surprise import KNNBaseline\n",
    "from surprise.model_selection import train_test_split \n",
    "from surprise.model_selection import LeaveOneOut\n",
    "from surprise import accuracy"
   ]
  },
  {
   "cell_type": "code",
   "execution_count": 140,
   "metadata": {},
   "outputs": [],
   "source": [
    "def build_training_set(df):\n",
    "    reader = Reader()\n",
    "    svd = SVD()\n",
    "    data_new = Dataset.load_from_df(df[['customer_id', 'movie_id', 'rating']], reader)\n",
    "    trainset = data_new.build_full_trainset()\n",
    "    svd.fit(trainset)\n",
    "    return trainset, svd\n",
    "\n",
    "def print_evaluation_accuracy(prediction):\n",
    "    print(\"\\nEvaluating accuracy of model...\")\n",
    "    print(\"RMSE: \", accuracy.rmse(prediction, verbose=False))\n",
    "    print(\"MAE: \", accuracy.mae(prediction, verbose=False))"
   ]
  },
  {
   "cell_type": "code",
   "execution_count": null,
   "metadata": {},
   "outputs": [],
   "source": [
    "reader = Reader(line_format='user item rating', rating_scale=(1, 5))\n",
    "class MyDataset(dataset.DatasetAutoFolds):\n",
    "    def __init__(self, df, reader):\n",
    "        self.raw_ratings = [(uid, iid, r, None) for (uid, iid, r) in zip(df['customer_id'], df['movie_id'], df['rating'])]\n",
    "        self.reader=reader\n",
    "\n",
    "data = MyDataset(data_rating, reader)\n",
    "print(\"\\nBuilding recommendation model...\")\n",
    "trainSet, testSet = train_test_split(data, test_size=.25, random_state=1)"
   ]
  },
  {
   "cell_type": "code",
   "execution_count": 141,
   "metadata": {},
   "outputs": [
    {
     "name": "stdout",
     "output_type": "stream",
     "text": [
      "\n",
      "Computing recommendations...\n",
      "\n",
      "Evaluating accuracy of model...\n",
      "RMSE:  0.9031234558172019\n",
      "MAE:  0.6975635778170713\n"
     ]
    }
   ],
   "source": [
    "algo = SVD(random_state=10)\n",
    "algo.fit(trainSet)\n",
    "\n",
    "print(\"\\nComputing recommendations...\")\n",
    "predictions = algo.test(testSet)"
   ]
  },
  {
   "cell_type": "code",
   "execution_count": 145,
   "metadata": {},
   "outputs": [
    {
     "name": "stdout",
     "output_type": "stream",
     "text": [
      "\n",
      "Evaluating accuracy of model...\n",
      "RMSE:  0.9031234558172019\n",
      "MAE:  0.6975635778170713\n"
     ]
    }
   ],
   "source": [
    "print_evaluation_accuracy(predictions)"
   ]
  },
  {
   "cell_type": "code",
   "execution_count": 146,
   "metadata": {},
   "outputs": [],
   "source": [
    "print_evaluation_accuracy(svd.test(testSet))"
   ]
  },
  {
   "cell_type": "code",
   "execution_count": 142,
   "metadata": {},
   "outputs": [],
   "source": [
    "# #TODO: keep or throw away since it's never used\n",
    "# sim_options = {'name': 'pearson_baseline', 'user_based': False}\n",
    "# simsAlgo = KNNBaseline(sim_options=sim_options)\n",
    "# simsAlgo.fit(evaluationData)"
   ]
  },
  {
   "cell_type": "code",
   "execution_count": null,
   "metadata": {},
   "outputs": [],
   "source": [
    "print(algo)"
   ]
  },
  {
   "cell_type": "code",
   "execution_count": null,
   "metadata": {},
   "outputs": [
    {
     "name": "stdout",
     "output_type": "stream",
     "text": [
      "<surprise.prediction_algorithms.matrix_factorization.SVD object at 0x7fae4ae74190>\n"
     ]
    }
   ],
   "source": [
    "print(svd)"
   ]
  },
  {
   "cell_type": "code",
   "execution_count": null,
   "metadata": {},
   "outputs": [],
   "source": [
    "#save_to_pickle(name=\"recommendation_predictions\", df=predictions)"
   ]
  }
 ],
 "metadata": {
  "interpreter": {
   "hash": "eb60acc68106785d00a40fb3b1b3b80d861e6f0b0d60f9d8440fa3d46ca2822c"
  },
  "kernelspec": {
   "display_name": "Python 3.8.8 64-bit ('base': conda)",
   "name": "python3"
  },
  "language_info": {
   "codemirror_mode": {
    "name": "ipython",
    "version": 3
   },
   "file_extension": ".py",
   "mimetype": "text/x-python",
   "name": "python",
   "nbconvert_exporter": "python",
   "pygments_lexer": "ipython3",
   "version": "3.8.3"
  },
  "orig_nbformat": 2
 },
 "nbformat": 4,
 "nbformat_minor": 2
}
