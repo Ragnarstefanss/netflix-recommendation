{
 "metadata": {
  "language_info": {
   "codemirror_mode": {
    "name": "ipython",
    "version": 3
   },
   "file_extension": ".py",
   "mimetype": "text/x-python",
   "name": "python",
   "nbconvert_exporter": "python",
   "pygments_lexer": "ipython3",
   "version": "3.8.3-final"
  },
  "orig_nbformat": 2,
  "kernelspec": {
   "name": "python3",
   "display_name": "Python 3.8.3 64-bit ('base': conda)",
   "metadata": {
    "interpreter": {
     "hash": "0d158f84c2f3d074d34ede1982584345f07b8b4224587ed517e2c2a049ea603d"
    }
   }
  }
 },
 "nbformat": 4,
 "nbformat_minor": 2,
 "cells": [
  {
   "cell_type": "code",
   "execution_count": 1,
   "metadata": {},
   "outputs": [],
   "source": [
    "import pandas as pd\n",
    "import numpy as np\n",
    "import matplotlib.pyplot as plt\n",
    "import seaborn as sns\n",
    "from surprise import Reader, Dataset, SVD\n",
    "from surprise.model_selection import cross_validate\n",
    "import pickle\n",
    "#sns.set_style(\"darkgrid\")"
   ]
  },
  {
   "cell_type": "code",
   "execution_count": 2,
   "metadata": {
    "tags": []
   },
   "outputs": [],
   "source": [
    "## import all combined_data files to pandas\n",
    "df1 = pd.read_csv('./data/combined_data_1.txt', header = None, names = ['customer_id', 'rating'], usecols = [0,1])\n",
    "#df2 = pd.read_csv('./data/combined_data_2.txt', header = None, names = ['customer_id', 'rating'], usecols = [0,1])\n",
    "#df3 = pd.read_csv('./data/combined_data_3.txt', header = None, names = ['customer_id', 'rating'], usecols = [0,1])\n",
    "#df4 = pd.read_csv('./data/combined_data_4.txt', header = None, names = ['customer_id', 'rating'], usecols = [0,1])\n",
    "## change rating to float\n",
    "df1['rating'] = df1['rating'].astype(float)\n",
    "#df2['rating'] = df2['rating'].astype(float)\n",
    "#df3['rating'] = df3['rating'].astype(float)\n",
    "#df4['rating'] = df4['rating'].astype(float)\n",
    "##combine to one large pandas dataframe\n",
    "data = df1\n",
    "#data = data.append(df2)\n",
    "#data = data.append(df3)\n",
    "#data = data.append(df4)\n",
    "data.index = np.arange(0,len(data))"
   ]
  },
  {
   "cell_type": "code",
   "execution_count": 3,
   "metadata": {},
   "outputs": [
    {
     "output_type": "stream",
     "name": "stdout",
     "text": [
      "  customer_id  rating\n0          1:     NaN\n1     1488844     3.0\n2      822109     5.0\n3      885013     4.0\n4       30878     4.0\n5      823519     3.0\n6      893988     3.0\n7      124105     4.0\n8     1248029     3.0\n9     1842128     4.0\n"
     ]
    }
   ],
   "source": [
    "print(data.head(10))"
   ]
  },
  {
   "cell_type": "code",
   "execution_count": 4,
   "metadata": {},
   "outputs": [],
   "source": [
    "# # find all movies -> if rating is NaN then this is a movie\n",
    "# movies = data[data['rating'].isna()]\n",
    "# # replace all : from movie_id\n",
    "# movies['customer_id'] = movies['customer_id'].str.replace(':', '')\n",
    "# # we only want the movie_id -> in this case it's in customer_id\n",
    "# movies = movies[\"customer_id\"]\n",
    "# print(movies)"
   ]
  },
  {
   "cell_type": "code",
   "execution_count": 5,
   "metadata": {},
   "outputs": [],
   "source": [
    "# # find all movies -> if rating is NaN then this is a movie\n",
    "# ratings = data[data['rating'].notna()]\n",
    "# print(ratings)"
   ]
  },
  {
   "cell_type": "code",
   "execution_count": 6,
   "metadata": {
    "tags": []
   },
   "outputs": [],
   "source": [
    "index = 1\n",
    "last_movie_id = \"1\"\n",
    "new_data = []\n",
    "for customer_id in data[\"customer_id\"]:\n",
    "    # if we find : that means this is a movie_id and not customer_id\n",
    "    if(customer_id.find(\":\") > 0):\n",
    "        movie_id = customer_id.replace(\":\", \"\")\n",
    "        # if(movie_id != last_movie_id):\n",
    "        #     print(movie_id, \" index is \", index)\n",
    "        last_movie_id = movie_id\n",
    "    else:\n",
    "        # we have this row index so use it to get rating\n",
    "        rating = data[\"rating\"][index-1]\n",
    "        new_data.append([last_movie_id, customer_id, rating, index])\n",
    "    index += 1"
   ]
  },
  {
   "cell_type": "code",
   "execution_count": 14,
   "metadata": {},
   "outputs": [
    {
     "output_type": "stream",
     "name": "stdout",
     "text": [
      "24058263\n"
     ]
    }
   ],
   "source": [
    "print(len(data))"
   ]
  },
  {
   "cell_type": "code",
   "execution_count": 15,
   "metadata": {},
   "outputs": [
    {
     "output_type": "stream",
     "name": "stdout",
     "text": [
      "24053764\n"
     ]
    }
   ],
   "source": [
    "print(len(new_data))"
   ]
  },
  {
   "cell_type": "code",
   "execution_count": 8,
   "metadata": {},
   "outputs": [],
   "source": [
    "#len(new_data)"
   ]
  },
  {
   "cell_type": "code",
   "execution_count": 10,
   "metadata": {},
   "outputs": [],
   "source": [
    "##output to pickle file\n",
    "#movies_customers_ratings = open(\"pickle/movies_customers_ratings.pickle\",\"wb\")\n",
    "#pickle.dump(new_data, movies_customers_ratings)\n",
    "#movies_customers_ratings.close()"
   ]
  },
  {
   "cell_type": "code",
   "execution_count": 11,
   "metadata": {},
   "outputs": [],
   "source": [
    "in_pickle = open(\"pickle/movies_customers_ratings.pickle\", \"rb\")\n",
    "movies_customer_in = pickle.load(in_pickle)"
   ]
  },
  {
   "cell_type": "code",
   "execution_count": null,
   "metadata": {},
   "outputs": [],
   "source": []
  }
 ]
}