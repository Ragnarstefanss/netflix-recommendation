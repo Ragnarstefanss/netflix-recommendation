{
 "cells": [
  {
   "cell_type": "code",
   "execution_count": 4,
   "metadata": {},
   "outputs": [],
   "source": [
    "#!pip install surprise\n",
    "#!pip install import-ipynb\n",
    "import os\n",
    "import csv\n",
    "import pandas as pd\n",
    "import numpy as np\n",
    "import heapq\n",
    "import matplotlib.pyplot as plt\n",
    "import seaborn as sns\n",
    "from surprise import Reader, Dataset, SVD\n",
    "from surprise.model_selection import cross_validate\n",
    "import pickle\n",
    "from random import *\n",
    "from surprise import accuracy\n",
    "from collections import defaultdict\n",
    "from surprise import KNNBasic\n",
    "from collections import defaultdict\n",
    "from operator import itemgetter\n",
    "import NetflixLoadData as NetflixLoadData \n",
    "#sns.set_style(\"darkgrid\")"
   ]
  },
  {
   "cell_type": "code",
   "execution_count": 5,
   "metadata": {},
   "outputs": [],
   "source": [
    "use_pickle_file = True\n",
    "max_n = 2500000 #how many rows we want from data_ratings and data_rating_plus_movie_title\n",
    "reader = Reader(line_format='user item rating', rating_scale=(1, 5))"
   ]
  },
  {
   "cell_type": "code",
   "execution_count": 6,
   "metadata": {},
   "outputs": [],
   "source": [
    "use_pickle_file = True\n",
    "max_n = 2500000 #how many rows we want from data_ratings and data_rating_plus_movie_title\n",
    "reader = Reader(line_format='user item rating', rating_scale=(1, 5))"
   ]
  },
  {
   "cell_type": "markdown",
   "metadata": {},
   "source": [
    "## Get data"
   ]
  },
  {
   "cell_type": "code",
   "execution_count": 7,
   "metadata": {},
   "outputs": [
    {
     "name": "stdout",
     "output_type": "stream",
     "text": [
      "This part was a huge problem for me since the original files where weirdly structured\n",
      "For example the ratings file was structured with the movie_id randomly being placed in a line and each line after that was refering to that movie without having the id in their line, then another movie randomly started in a line and lines after that were a reference to that movie\n",
      "\n",
      "How it looked before:\n",
      "1:\n",
      " 1488844, 3, 2005-09-06 \n",
      " 822109, 5, 2005-05-13 \n",
      " 885013, 4, 2005-10-19 \n",
      " 30878, 4, 2005-12-26 \n",
      "....\n",
      "....\n",
      "...\n",
      "\n",
      "2:\n",
      " 2059652, 4, 2005-09-05 \n",
      " 1666394, 3, 2005-04-19 \n",
      " 1759415, 4, 2005-04-22 \n",
      " 1959936, 5, 2005-11-21 \n",
      "....\n",
      "....\n",
      "...\n",
      "\n",
      "the way I fixed this was include everything in a dataframe and if there was a missing rating then that was a movie_id other wise it was a customer rating, then I combined all these rows to those ratingsm so each movie had a correct reference\n"
     ]
    }
   ],
   "source": [
    "NetflixLoadData.commented_implementation()"
   ]
  },
  {
   "cell_type": "markdown",
   "metadata": {},
   "source": [
    "(** to see all how these four files below were created, look at the file NetflixLoadData.py and there look at these functions -> get_dataframes(), create_dataframe() and commented_code_that_was_used_before() **)"
   ]
  },
  {
   "cell_type": "code",
   "execution_count": 8,
   "metadata": {},
   "outputs": [],
   "source": [
    "data_movies, data_rating, data_rating_plus_movie_title, _ = NetflixLoadData.get_data_files(use_small_dataset=True)"
   ]
  },
  {
   "cell_type": "code",
   "execution_count": 9,
   "metadata": {},
   "outputs": [
    {
     "data": {
      "text/html": [
       "<div>\n",
       "<style scoped>\n",
       "    .dataframe tbody tr th:only-of-type {\n",
       "        vertical-align: middle;\n",
       "    }\n",
       "\n",
       "    .dataframe tbody tr th {\n",
       "        vertical-align: top;\n",
       "    }\n",
       "\n",
       "    .dataframe thead th {\n",
       "        text-align: right;\n",
       "    }\n",
       "</style>\n",
       "<table border=\"1\" class=\"dataframe\">\n",
       "  <thead>\n",
       "    <tr style=\"text-align: right;\">\n",
       "      <th></th>\n",
       "      <th>movie_id</th>\n",
       "      <th>customer_id</th>\n",
       "      <th>rating</th>\n",
       "    </tr>\n",
       "  </thead>\n",
       "  <tbody>\n",
       "    <tr>\n",
       "      <th>0</th>\n",
       "      <td>1</td>\n",
       "      <td>1488844</td>\n",
       "      <td>3.0</td>\n",
       "    </tr>\n",
       "    <tr>\n",
       "      <th>1</th>\n",
       "      <td>1</td>\n",
       "      <td>822109</td>\n",
       "      <td>5.0</td>\n",
       "    </tr>\n",
       "    <tr>\n",
       "      <th>2</th>\n",
       "      <td>1</td>\n",
       "      <td>885013</td>\n",
       "      <td>4.0</td>\n",
       "    </tr>\n",
       "    <tr>\n",
       "      <th>3</th>\n",
       "      <td>1</td>\n",
       "      <td>30878</td>\n",
       "      <td>4.0</td>\n",
       "    </tr>\n",
       "    <tr>\n",
       "      <th>4</th>\n",
       "      <td>1</td>\n",
       "      <td>823519</td>\n",
       "      <td>3.0</td>\n",
       "    </tr>\n",
       "    <tr>\n",
       "      <th>...</th>\n",
       "      <td>...</td>\n",
       "      <td>...</td>\n",
       "      <td>...</td>\n",
       "    </tr>\n",
       "    <tr>\n",
       "      <th>813413</th>\n",
       "      <td>4499</td>\n",
       "      <td>101554</td>\n",
       "      <td>4.0</td>\n",
       "    </tr>\n",
       "    <tr>\n",
       "      <th>813414</th>\n",
       "      <td>4499</td>\n",
       "      <td>1334851</td>\n",
       "      <td>3.0</td>\n",
       "    </tr>\n",
       "    <tr>\n",
       "      <th>813415</th>\n",
       "      <td>4499</td>\n",
       "      <td>1852040</td>\n",
       "      <td>1.0</td>\n",
       "    </tr>\n",
       "    <tr>\n",
       "      <th>813416</th>\n",
       "      <td>4499</td>\n",
       "      <td>185372</td>\n",
       "      <td>1.0</td>\n",
       "    </tr>\n",
       "    <tr>\n",
       "      <th>813417</th>\n",
       "      <td>4499</td>\n",
       "      <td>2562830</td>\n",
       "      <td>4.0</td>\n",
       "    </tr>\n",
       "  </tbody>\n",
       "</table>\n",
       "<p>813418 rows × 3 columns</p>\n",
       "</div>"
      ],
      "text/plain": [
       "        movie_id  customer_id  rating\n",
       "0              1      1488844     3.0\n",
       "1              1       822109     5.0\n",
       "2              1       885013     4.0\n",
       "3              1        30878     4.0\n",
       "4              1       823519     3.0\n",
       "...          ...          ...     ...\n",
       "813413      4499       101554     4.0\n",
       "813414      4499      1334851     3.0\n",
       "813415      4499      1852040     1.0\n",
       "813416      4499       185372     1.0\n",
       "813417      4499      2562830     4.0\n",
       "\n",
       "[813418 rows x 3 columns]"
      ]
     },
     "execution_count": 9,
     "metadata": {},
     "output_type": "execute_result"
    }
   ],
   "source": [
    "data_rating"
   ]
  },
  {
   "cell_type": "markdown",
   "metadata": {},
   "source": [
    "## Helper functions"
   ]
  },
  {
   "cell_type": "code",
   "execution_count": 10,
   "metadata": {},
   "outputs": [],
   "source": [
    "def save_to_pickle(name, df):\n",
    "    path_name = \"pickle/\"+name+\".pickle\"\n",
    "    pickle_file = open(path_name,\"wb\")\n",
    "    pickle.dump(df, pickle_file)\n",
    "    pickle_file.close()\n",
    "\n",
    "def load_pickle(name):\n",
    "    path_name = \"pickle/\"+name+\".pickle\"\n",
    "    return_input = open(path_name, \"rb\")\n",
    "    return pickle.load(return_input)"
   ]
  },
  {
   "cell_type": "markdown",
   "metadata": {},
   "source": [
    "## Finding information about the data before doing anything major"
   ]
  },
  {
   "cell_type": "code",
   "execution_count": 11,
   "metadata": {},
   "outputs": [],
   "source": [
    "import MovieCustomerInformation as information\n",
    "max_rating = 4\n",
    "min_rating = 4"
   ]
  },
  {
   "cell_type": "markdown",
   "metadata": {},
   "source": [
    "### Details about all customers/movies"
   ]
  },
  {
   "cell_type": "code",
   "execution_count": 12,
   "metadata": {},
   "outputs": [
    {
     "name": "stdout",
     "output_type": "stream",
     "text": [
      "     customer_id  rating       avg_rating\n",
      "                     sum count           \n",
      "0            685   124.0    30   4.133333\n",
      "1            915    30.0     7   4.285714\n",
      "2            967    87.0    24   3.625000\n",
      "3           1333  2007.0   750   2.676000\n",
      "4           2442   404.0   118   3.423729\n",
      "...          ...     ...   ...        ...\n",
      "4824     2646591   163.0    51   3.196078\n",
      "4825     2647871   814.0   248   3.282258\n",
      "4826     2648122   306.0    85   3.600000\n",
      "4827     2648650    83.0    27   3.074074\n",
      "4828     2648861   181.0    53   3.415094\n",
      "\n",
      "[4829 rows x 4 columns]\n"
     ]
    }
   ],
   "source": [
    "# get the average movie rating for all customers\n",
    "# used to determine if this user typically gives bad or good reviews\n",
    "# and then we can see if he really hates or loves a movie\n",
    "all_customers_average_ratings =  information.all_average_ratings(df=data_rating, type='customer_id')\n",
    "print(all_customers_average_ratings)"
   ]
  },
  {
   "cell_type": "code",
   "execution_count": 13,
   "metadata": {},
   "outputs": [
    {
     "name": "stdout",
     "output_type": "stream",
     "text": [
      "     movie_id  rating       avg_rating\n",
      "                  sum count           \n",
      "0           1  2051.0   547   3.749543\n",
      "1           2   516.0   145   3.558621\n",
      "2           3  7326.0  2012   3.641153\n",
      "3           4   389.0   142   2.739437\n",
      "4           5  4468.0  1140   3.919298\n",
      "...       ...     ...   ...        ...\n",
      "4494     4495   162.0    60   2.700000\n",
      "4495     4496  2676.0   713   3.753156\n",
      "4496     4497   220.0    84   2.619048\n",
      "4497     4498    88.0    36   2.444444\n",
      "4498     4499   230.0    83   2.771084\n",
      "\n",
      "[4499 rows x 4 columns]\n"
     ]
    }
   ],
   "source": [
    "all_movies_average_rating = information.all_average_ratings(df=data_rating, type='movie_id')\n",
    "print(all_movies_average_rating)"
   ]
  },
  {
   "cell_type": "code",
   "execution_count": 14,
   "metadata": {},
   "outputs": [
    {
     "name": "stdout",
     "output_type": "stream",
     "text": [
      "     customer_id  rating       avg_rating\n",
      "                     sum count           \n",
      "2            967    87.0    24   3.625000\n",
      "3           1333  2007.0   750   2.676000\n",
      "4           2442   404.0   118   3.423729\n",
      "5           3321  2718.0  1062   2.559322\n",
      "7           3718   529.0   175   3.022857\n",
      "...          ...     ...   ...        ...\n",
      "4824     2646591   163.0    51   3.196078\n",
      "4825     2647871   814.0   248   3.282258\n",
      "4826     2648122   306.0    85   3.600000\n",
      "4827     2648650    83.0    27   3.074074\n",
      "4828     2648861   181.0    53   3.415094\n",
      "\n",
      "[4039 rows x 4 columns]\n"
     ]
    }
   ],
   "source": [
    "information.get_avg_rating_less_than(df=all_customers_average_ratings , max_rating=max_rating)"
   ]
  },
  {
   "cell_type": "code",
   "execution_count": 15,
   "metadata": {},
   "outputs": [
    {
     "name": "stdout",
     "output_type": "stream",
     "text": [
      "     customer_id  rating       avg_rating\n",
      "                     sum count           \n",
      "0            685   124.0    30   4.133333\n",
      "1            915    30.0     7   4.285714\n",
      "6           3417   165.0    41   4.024390\n",
      "12          5225   108.0    26   4.153846\n",
      "18          8117  1062.0   260   4.084615\n",
      "...          ...     ...   ...        ...\n",
      "4800     2632269   103.0    25   4.120000\n",
      "4804     2634414    33.0     8   4.125000\n",
      "4806     2635437   499.0   115   4.339130\n",
      "4807     2635895   314.0    75   4.186667\n",
      "4814     2640085   158.0    34   4.647059\n",
      "\n",
      "[721 rows x 4 columns]\n"
     ]
    }
   ],
   "source": [
    "information.get_avg_rating_higher_than(df=all_customers_average_ratings, min_rating=min_rating)"
   ]
  },
  {
   "cell_type": "code",
   "execution_count": 16,
   "metadata": {},
   "outputs": [
    {
     "name": "stdout",
     "output_type": "stream",
     "text": [
      "     movie_id  rating       avg_rating\n",
      "                  sum count           \n",
      "0           1  2051.0   547   3.749543\n",
      "1           2   516.0   145   3.558621\n",
      "2           3  7326.0  2012   3.641153\n",
      "3           4   389.0   142   2.739437\n",
      "4           5  4468.0  1140   3.919298\n",
      "...       ...     ...   ...        ...\n",
      "4494     4495   162.0    60   2.700000\n",
      "4495     4496  2676.0   713   3.753156\n",
      "4496     4497   220.0    84   2.619048\n",
      "4497     4498    88.0    36   2.444444\n",
      "4498     4499   230.0    83   2.771084\n",
      "\n",
      "[4457 rows x 4 columns]\n"
     ]
    }
   ],
   "source": [
    "information.get_avg_rating_less_than(df=all_movies_average_rating, max_rating=max_rating)"
   ]
  },
  {
   "cell_type": "code",
   "execution_count": 17,
   "metadata": {},
   "outputs": [
    {
     "name": "stdout",
     "output_type": "stream",
     "text": [
      "     movie_id   rating       avg_rating\n",
      "                   sum count           \n",
      "12         13     38.0     8   4.750000\n",
      "222       223   3594.0   875   4.107429\n",
      "240       241   5359.0  1317   4.069096\n",
      "570       571  12222.0  3021   4.045680\n",
      "752       753     33.0     8   4.125000\n",
      "871       872   5000.0  1206   4.145937\n",
      "885       886   7719.0  1918   4.024505\n",
      "1019     1020   3501.0   842   4.157957\n",
      "1255     1256    925.0   227   4.074890\n",
      "1475     1476   1936.0   447   4.331096\n",
      "1624     1625   5149.0  1258   4.093005\n",
      "1914     1915    456.0   113   4.035398\n",
      "2101     2102   1714.0   384   4.463542\n",
      "2141     2142     49.0    11   4.454545\n",
      "2161     2162   1919.0   471   4.074310\n",
      "2171     2172   3516.0   811   4.335388\n",
      "2429     2430   5708.0  1399   4.080057\n",
      "2451     2452  11777.0  2736   4.304459\n",
      "2462     2463    206.0    51   4.039216\n",
      "2607     2608    474.0   116   4.086207\n",
      "2699     2700    763.0   185   4.124324\n",
      "2742     2743   6786.0  1695   4.003540\n",
      "2781     2782   9395.0  2320   4.049569\n",
      "2861     2862  11235.0  2638   4.258908\n",
      "3045     3046   2610.0   610   4.278689\n",
      "3289     3290   8399.0  1937   4.336087\n",
      "3443     3444   1695.0   392   4.323980\n",
      "3445     3446   4694.0  1161   4.043066\n",
      "3455     3456    872.0   191   4.565445\n",
      "3604     3605   7545.0  1850   4.078378\n",
      "3863     3864   5176.0  1252   4.134185\n",
      "3927     3928   1024.0   255   4.015686\n",
      "3961     3962  10408.0  2465   4.222312\n",
      "4114     4115    973.0   239   4.071130\n",
      "4128     4129    101.0    25   4.040000\n",
      "4206     4207   1204.0   296   4.067568\n",
      "4305     4306  10877.0  2642   4.116957\n",
      "4352     4353   2027.0   491   4.128310\n"
     ]
    }
   ],
   "source": [
    "information.get_avg_rating_higher_than(df=all_movies_average_rating, min_rating=min_rating)"
   ]
  },
  {
   "cell_type": "code",
   "execution_count": 18,
   "metadata": {},
   "outputs": [
    {
     "data": {
      "text/html": [
       "<div>\n",
       "<style scoped>\n",
       "    .dataframe tbody tr th:only-of-type {\n",
       "        vertical-align: middle;\n",
       "    }\n",
       "\n",
       "    .dataframe tbody tr th {\n",
       "        vertical-align: top;\n",
       "    }\n",
       "\n",
       "    .dataframe thead th {\n",
       "        text-align: right;\n",
       "    }\n",
       "</style>\n",
       "<table border=\"1\" class=\"dataframe\">\n",
       "  <thead>\n",
       "    <tr style=\"text-align: right;\">\n",
       "      <th></th>\n",
       "      <th>customer_id</th>\n",
       "      <th>movie_id</th>\n",
       "    </tr>\n",
       "  </thead>\n",
       "  <tbody>\n",
       "    <tr>\n",
       "      <th>0</th>\n",
       "      <td>685</td>\n",
       "      <td>30</td>\n",
       "    </tr>\n",
       "    <tr>\n",
       "      <th>1</th>\n",
       "      <td>915</td>\n",
       "      <td>7</td>\n",
       "    </tr>\n",
       "    <tr>\n",
       "      <th>2</th>\n",
       "      <td>967</td>\n",
       "      <td>24</td>\n",
       "    </tr>\n",
       "    <tr>\n",
       "      <th>3</th>\n",
       "      <td>1333</td>\n",
       "      <td>750</td>\n",
       "    </tr>\n",
       "    <tr>\n",
       "      <th>4</th>\n",
       "      <td>2442</td>\n",
       "      <td>118</td>\n",
       "    </tr>\n",
       "    <tr>\n",
       "      <th>...</th>\n",
       "      <td>...</td>\n",
       "      <td>...</td>\n",
       "    </tr>\n",
       "    <tr>\n",
       "      <th>4824</th>\n",
       "      <td>2646591</td>\n",
       "      <td>51</td>\n",
       "    </tr>\n",
       "    <tr>\n",
       "      <th>4825</th>\n",
       "      <td>2647871</td>\n",
       "      <td>248</td>\n",
       "    </tr>\n",
       "    <tr>\n",
       "      <th>4826</th>\n",
       "      <td>2648122</td>\n",
       "      <td>85</td>\n",
       "    </tr>\n",
       "    <tr>\n",
       "      <th>4827</th>\n",
       "      <td>2648650</td>\n",
       "      <td>27</td>\n",
       "    </tr>\n",
       "    <tr>\n",
       "      <th>4828</th>\n",
       "      <td>2648861</td>\n",
       "      <td>53</td>\n",
       "    </tr>\n",
       "  </tbody>\n",
       "</table>\n",
       "<p>4829 rows × 2 columns</p>\n",
       "</div>"
      ],
      "text/plain": [
       "      customer_id  movie_id\n",
       "0             685        30\n",
       "1             915         7\n",
       "2             967        24\n",
       "3            1333       750\n",
       "4            2442       118\n",
       "...           ...       ...\n",
       "4824      2646591        51\n",
       "4825      2647871       248\n",
       "4826      2648122        85\n",
       "4827      2648650        27\n",
       "4828      2648861        53\n",
       "\n",
       "[4829 rows x 2 columns]"
      ]
     },
     "execution_count": 18,
     "metadata": {},
     "output_type": "execute_result"
    }
   ],
   "source": [
    "count_movies_rated_by_customer = information.all_get_rated_count(df=data_rating, type=\"customer_id\")\n",
    "count_movies_rated_by_customer"
   ]
  },
  {
   "cell_type": "markdown",
   "metadata": {},
   "source": [
    "find customers who rated a random movie"
   ]
  },
  {
   "cell_type": "code",
   "execution_count": 19,
   "metadata": {},
   "outputs": [
    {
     "data": {
      "text/html": [
       "<div>\n",
       "<style scoped>\n",
       "    .dataframe tbody tr th:only-of-type {\n",
       "        vertical-align: middle;\n",
       "    }\n",
       "\n",
       "    .dataframe tbody tr th {\n",
       "        vertical-align: top;\n",
       "    }\n",
       "\n",
       "    .dataframe thead th {\n",
       "        text-align: right;\n",
       "    }\n",
       "</style>\n",
       "<table border=\"1\" class=\"dataframe\">\n",
       "  <thead>\n",
       "    <tr style=\"text-align: right;\">\n",
       "      <th></th>\n",
       "      <th>movie_id</th>\n",
       "      <th>customer_id</th>\n",
       "      <th>rating</th>\n",
       "      <th>movie_year</th>\n",
       "      <th>movie_title</th>\n",
       "    </tr>\n",
       "  </thead>\n",
       "  <tbody>\n",
       "    <tr>\n",
       "      <th>50541</th>\n",
       "      <td>284</td>\n",
       "      <td>1314869</td>\n",
       "      <td>3.0</td>\n",
       "      <td>2005.0</td>\n",
       "      <td>Sasquatch Hunters</td>\n",
       "    </tr>\n",
       "    <tr>\n",
       "      <th>50542</th>\n",
       "      <td>284</td>\n",
       "      <td>147386</td>\n",
       "      <td>3.0</td>\n",
       "      <td>2005.0</td>\n",
       "      <td>Sasquatch Hunters</td>\n",
       "    </tr>\n",
       "    <tr>\n",
       "      <th>50543</th>\n",
       "      <td>284</td>\n",
       "      <td>1664010</td>\n",
       "      <td>4.0</td>\n",
       "      <td>2005.0</td>\n",
       "      <td>Sasquatch Hunters</td>\n",
       "    </tr>\n",
       "    <tr>\n",
       "      <th>50544</th>\n",
       "      <td>284</td>\n",
       "      <td>491531</td>\n",
       "      <td>5.0</td>\n",
       "      <td>2005.0</td>\n",
       "      <td>Sasquatch Hunters</td>\n",
       "    </tr>\n",
       "    <tr>\n",
       "      <th>50545</th>\n",
       "      <td>284</td>\n",
       "      <td>305344</td>\n",
       "      <td>1.0</td>\n",
       "      <td>2005.0</td>\n",
       "      <td>Sasquatch Hunters</td>\n",
       "    </tr>\n",
       "    <tr>\n",
       "      <th>50546</th>\n",
       "      <td>284</td>\n",
       "      <td>160474</td>\n",
       "      <td>2.0</td>\n",
       "      <td>2005.0</td>\n",
       "      <td>Sasquatch Hunters</td>\n",
       "    </tr>\n",
       "    <tr>\n",
       "      <th>50547</th>\n",
       "      <td>284</td>\n",
       "      <td>387418</td>\n",
       "      <td>1.0</td>\n",
       "      <td>2005.0</td>\n",
       "      <td>Sasquatch Hunters</td>\n",
       "    </tr>\n",
       "  </tbody>\n",
       "</table>\n",
       "</div>"
      ],
      "text/plain": [
       "       movie_id  customer_id  rating  movie_year        movie_title\n",
       "50541       284      1314869     3.0      2005.0  Sasquatch Hunters\n",
       "50542       284       147386     3.0      2005.0  Sasquatch Hunters\n",
       "50543       284      1664010     4.0      2005.0  Sasquatch Hunters\n",
       "50544       284       491531     5.0      2005.0  Sasquatch Hunters\n",
       "50545       284       305344     1.0      2005.0  Sasquatch Hunters\n",
       "50546       284       160474     2.0      2005.0  Sasquatch Hunters\n",
       "50547       284       387418     1.0      2005.0  Sasquatch Hunters"
      ]
     },
     "execution_count": 19,
     "metadata": {},
     "output_type": "execute_result"
    }
   ],
   "source": [
    "movie_to_find = data_movies['movie_title'][randrange(1000)]\n",
    "information.get_customers_who_rated_movie_title(movie_title=movie_to_find)"
   ]
  },
  {
   "cell_type": "code",
   "execution_count": 20,
   "metadata": {},
   "outputs": [
    {
     "data": {
      "text/html": [
       "<div>\n",
       "<style scoped>\n",
       "    .dataframe tbody tr th:only-of-type {\n",
       "        vertical-align: middle;\n",
       "    }\n",
       "\n",
       "    .dataframe tbody tr th {\n",
       "        vertical-align: top;\n",
       "    }\n",
       "\n",
       "    .dataframe thead tr th {\n",
       "        text-align: left;\n",
       "    }\n",
       "</style>\n",
       "<table border=\"1\" class=\"dataframe\">\n",
       "  <thead>\n",
       "    <tr>\n",
       "      <th></th>\n",
       "      <th>movie_id</th>\n",
       "      <th colspan=\"2\" halign=\"left\">rating</th>\n",
       "      <th>avg_rating</th>\n",
       "      <th colspan=\"3\" halign=\"left\">movie_id</th>\n",
       "    </tr>\n",
       "    <tr>\n",
       "      <th></th>\n",
       "      <th></th>\n",
       "      <th>sum</th>\n",
       "      <th>count</th>\n",
       "      <th></th>\n",
       "      <th>movie_id</th>\n",
       "      <th>movie_year</th>\n",
       "      <th>movie_title</th>\n",
       "    </tr>\n",
       "  </thead>\n",
       "  <tbody>\n",
       "    <tr>\n",
       "      <th>283</th>\n",
       "      <td>284</td>\n",
       "      <td>19.0</td>\n",
       "      <td>7</td>\n",
       "      <td>2.714286</td>\n",
       "      <td>284</td>\n",
       "      <td>2005.0</td>\n",
       "      <td>Sasquatch Hunters</td>\n",
       "    </tr>\n",
       "  </tbody>\n",
       "</table>\n",
       "</div>"
      ],
      "text/plain": [
       "    movie_id rating       avg_rating movie_id                              \n",
       "                sum count            movie_id movie_year        movie_title\n",
       "283      284   19.0     7   2.714286      284     2005.0  Sasquatch Hunters"
      ]
     },
     "execution_count": 20,
     "metadata": {},
     "output_type": "execute_result"
    }
   ],
   "source": [
    "information.get_avg_rating_for_movie_title(movie_title=movie_to_find)"
   ]
  },
  {
   "cell_type": "markdown",
   "metadata": {},
   "source": [
    "finding customers who rated a specific movie"
   ]
  },
  {
   "cell_type": "code",
   "execution_count": 21,
   "metadata": {},
   "outputs": [
    {
     "data": {
      "text/html": [
       "<div>\n",
       "<style scoped>\n",
       "    .dataframe tbody tr th:only-of-type {\n",
       "        vertical-align: middle;\n",
       "    }\n",
       "\n",
       "    .dataframe tbody tr th {\n",
       "        vertical-align: top;\n",
       "    }\n",
       "\n",
       "    .dataframe thead th {\n",
       "        text-align: right;\n",
       "    }\n",
       "</style>\n",
       "<table border=\"1\" class=\"dataframe\">\n",
       "  <thead>\n",
       "    <tr style=\"text-align: right;\">\n",
       "      <th></th>\n",
       "      <th>movie_id</th>\n",
       "      <th>customer_id</th>\n",
       "      <th>rating</th>\n",
       "      <th>movie_year</th>\n",
       "      <th>movie_title</th>\n",
       "    </tr>\n",
       "  </thead>\n",
       "  <tbody>\n",
       "    <tr>\n",
       "      <th>51402</th>\n",
       "      <td>290</td>\n",
       "      <td>1436762</td>\n",
       "      <td>4.0</td>\n",
       "      <td>2004.0</td>\n",
       "      <td>Harold and Kumar Go to White Castle</td>\n",
       "    </tr>\n",
       "    <tr>\n",
       "      <th>51403</th>\n",
       "      <td>290</td>\n",
       "      <td>1745265</td>\n",
       "      <td>5.0</td>\n",
       "      <td>2004.0</td>\n",
       "      <td>Harold and Kumar Go to White Castle</td>\n",
       "    </tr>\n",
       "    <tr>\n",
       "      <th>51404</th>\n",
       "      <td>290</td>\n",
       "      <td>1176140</td>\n",
       "      <td>2.0</td>\n",
       "      <td>2004.0</td>\n",
       "      <td>Harold and Kumar Go to White Castle</td>\n",
       "    </tr>\n",
       "    <tr>\n",
       "      <th>51405</th>\n",
       "      <td>290</td>\n",
       "      <td>439011</td>\n",
       "      <td>5.0</td>\n",
       "      <td>2004.0</td>\n",
       "      <td>Harold and Kumar Go to White Castle</td>\n",
       "    </tr>\n",
       "    <tr>\n",
       "      <th>51406</th>\n",
       "      <td>290</td>\n",
       "      <td>2632461</td>\n",
       "      <td>4.0</td>\n",
       "      <td>2004.0</td>\n",
       "      <td>Harold and Kumar Go to White Castle</td>\n",
       "    </tr>\n",
       "    <tr>\n",
       "      <th>...</th>\n",
       "      <td>...</td>\n",
       "      <td>...</td>\n",
       "      <td>...</td>\n",
       "      <td>...</td>\n",
       "      <td>...</td>\n",
       "    </tr>\n",
       "    <tr>\n",
       "      <th>52628</th>\n",
       "      <td>290</td>\n",
       "      <td>999312</td>\n",
       "      <td>5.0</td>\n",
       "      <td>2004.0</td>\n",
       "      <td>Harold and Kumar Go to White Castle</td>\n",
       "    </tr>\n",
       "    <tr>\n",
       "      <th>52629</th>\n",
       "      <td>290</td>\n",
       "      <td>520675</td>\n",
       "      <td>4.0</td>\n",
       "      <td>2004.0</td>\n",
       "      <td>Harold and Kumar Go to White Castle</td>\n",
       "    </tr>\n",
       "    <tr>\n",
       "      <th>52630</th>\n",
       "      <td>290</td>\n",
       "      <td>1550207</td>\n",
       "      <td>2.0</td>\n",
       "      <td>2004.0</td>\n",
       "      <td>Harold and Kumar Go to White Castle</td>\n",
       "    </tr>\n",
       "    <tr>\n",
       "      <th>52631</th>\n",
       "      <td>290</td>\n",
       "      <td>1424777</td>\n",
       "      <td>3.0</td>\n",
       "      <td>2004.0</td>\n",
       "      <td>Harold and Kumar Go to White Castle</td>\n",
       "    </tr>\n",
       "    <tr>\n",
       "      <th>52632</th>\n",
       "      <td>290</td>\n",
       "      <td>2317644</td>\n",
       "      <td>1.0</td>\n",
       "      <td>2004.0</td>\n",
       "      <td>Harold and Kumar Go to White Castle</td>\n",
       "    </tr>\n",
       "  </tbody>\n",
       "</table>\n",
       "<p>1231 rows × 5 columns</p>\n",
       "</div>"
      ],
      "text/plain": [
       "       movie_id  customer_id  rating  movie_year  \\\n",
       "51402       290      1436762     4.0      2004.0   \n",
       "51403       290      1745265     5.0      2004.0   \n",
       "51404       290      1176140     2.0      2004.0   \n",
       "51405       290       439011     5.0      2004.0   \n",
       "51406       290      2632461     4.0      2004.0   \n",
       "...         ...          ...     ...         ...   \n",
       "52628       290       999312     5.0      2004.0   \n",
       "52629       290       520675     4.0      2004.0   \n",
       "52630       290      1550207     2.0      2004.0   \n",
       "52631       290      1424777     3.0      2004.0   \n",
       "52632       290      2317644     1.0      2004.0   \n",
       "\n",
       "                               movie_title  \n",
       "51402  Harold and Kumar Go to White Castle  \n",
       "51403  Harold and Kumar Go to White Castle  \n",
       "51404  Harold and Kumar Go to White Castle  \n",
       "51405  Harold and Kumar Go to White Castle  \n",
       "51406  Harold and Kumar Go to White Castle  \n",
       "...                                    ...  \n",
       "52628  Harold and Kumar Go to White Castle  \n",
       "52629  Harold and Kumar Go to White Castle  \n",
       "52630  Harold and Kumar Go to White Castle  \n",
       "52631  Harold and Kumar Go to White Castle  \n",
       "52632  Harold and Kumar Go to White Castle  \n",
       "\n",
       "[1231 rows x 5 columns]"
      ]
     },
     "execution_count": 21,
     "metadata": {},
     "output_type": "execute_result"
    }
   ],
   "source": [
    "\n",
    "information.get_customers_who_rated_movie_title(movie_title=\"Harold and Kumar Go to White Castle\")"
   ]
  },
  {
   "cell_type": "code",
   "execution_count": 22,
   "metadata": {},
   "outputs": [
    {
     "data": {
      "text/html": [
       "<div>\n",
       "<style scoped>\n",
       "    .dataframe tbody tr th:only-of-type {\n",
       "        vertical-align: middle;\n",
       "    }\n",
       "\n",
       "    .dataframe tbody tr th {\n",
       "        vertical-align: top;\n",
       "    }\n",
       "\n",
       "    .dataframe thead tr th {\n",
       "        text-align: left;\n",
       "    }\n",
       "</style>\n",
       "<table border=\"1\" class=\"dataframe\">\n",
       "  <thead>\n",
       "    <tr>\n",
       "      <th></th>\n",
       "      <th>movie_id</th>\n",
       "      <th colspan=\"2\" halign=\"left\">rating</th>\n",
       "      <th>avg_rating</th>\n",
       "      <th colspan=\"3\" halign=\"left\">movie_id</th>\n",
       "    </tr>\n",
       "    <tr>\n",
       "      <th></th>\n",
       "      <th></th>\n",
       "      <th>sum</th>\n",
       "      <th>count</th>\n",
       "      <th></th>\n",
       "      <th>movie_id</th>\n",
       "      <th>movie_year</th>\n",
       "      <th>movie_title</th>\n",
       "    </tr>\n",
       "  </thead>\n",
       "  <tbody>\n",
       "    <tr>\n",
       "      <th>289</th>\n",
       "      <td>290</td>\n",
       "      <td>4351.0</td>\n",
       "      <td>1231</td>\n",
       "      <td>3.534525</td>\n",
       "      <td>290</td>\n",
       "      <td>2004.0</td>\n",
       "      <td>Harold and Kumar Go to White Castle</td>\n",
       "    </tr>\n",
       "  </tbody>\n",
       "</table>\n",
       "</div>"
      ],
      "text/plain": [
       "    movie_id  rating       avg_rating movie_id             \\\n",
       "                 sum count            movie_id movie_year   \n",
       "289      290  4351.0  1231   3.534525      290     2004.0   \n",
       "\n",
       "                                          \n",
       "                             movie_title  \n",
       "289  Harold and Kumar Go to White Castle  "
      ]
     },
     "execution_count": 22,
     "metadata": {},
     "output_type": "execute_result"
    }
   ],
   "source": [
    "information.get_avg_rating_for_movie_title(movie_title=\"Harold and Kumar Go to White Castle\")"
   ]
  },
  {
   "cell_type": "code",
   "execution_count": null,
   "metadata": {},
   "outputs": [],
   "source": []
  },
  {
   "cell_type": "code",
   "execution_count": 23,
   "metadata": {},
   "outputs": [],
   "source": [
    "def generate_random_user_ids(from_n, to_n):\n",
    "    ids = np.unique(data_rating['customer_id'])[from_n:to_n]\n",
    "    print(\"random user id used while in development\\n\")\n",
    "    return ids\n",
    "#generate_random_user_ids(1000, 1500)"
   ]
  },
  {
   "cell_type": "markdown",
   "metadata": {},
   "source": [
    "### Details about a specific customer"
   ]
  },
  {
   "cell_type": "code",
   "execution_count": 24,
   "metadata": {},
   "outputs": [],
   "source": [
    "# ids I like -> 28812, 56514, 56520, 1488844\n",
    "customer_id_use = 534046 #84100"
   ]
  },
  {
   "cell_type": "code",
   "execution_count": 25,
   "metadata": {},
   "outputs": [
    {
     "data": {
      "text/html": [
       "<div>\n",
       "<style scoped>\n",
       "    .dataframe tbody tr th:only-of-type {\n",
       "        vertical-align: middle;\n",
       "    }\n",
       "\n",
       "    .dataframe tbody tr th {\n",
       "        vertical-align: top;\n",
       "    }\n",
       "\n",
       "    .dataframe thead th {\n",
       "        text-align: right;\n",
       "    }\n",
       "</style>\n",
       "<table border=\"1\" class=\"dataframe\">\n",
       "  <thead>\n",
       "    <tr style=\"text-align: right;\">\n",
       "      <th></th>\n",
       "      <th>movie_id</th>\n",
       "      <th>customer_id</th>\n",
       "      <th>rating</th>\n",
       "      <th>movie_year</th>\n",
       "      <th>movie_title</th>\n",
       "    </tr>\n",
       "  </thead>\n",
       "  <tbody>\n",
       "    <tr>\n",
       "      <th>3131</th>\n",
       "      <td>5</td>\n",
       "      <td>534046</td>\n",
       "      <td>5.0</td>\n",
       "      <td>2004.0</td>\n",
       "      <td>The Rise and Fall of ECW</td>\n",
       "    </tr>\n",
       "    <tr>\n",
       "      <th>8700</th>\n",
       "      <td>30</td>\n",
       "      <td>534046</td>\n",
       "      <td>5.0</td>\n",
       "      <td>2003.0</td>\n",
       "      <td>Something's Gotta Give</td>\n",
       "    </tr>\n",
       "    <tr>\n",
       "      <th>12247</th>\n",
       "      <td>52</td>\n",
       "      <td>534046</td>\n",
       "      <td>5.0</td>\n",
       "      <td>2002.0</td>\n",
       "      <td>The Weather Underground</td>\n",
       "    </tr>\n",
       "    <tr>\n",
       "      <th>31214</th>\n",
       "      <td>187</td>\n",
       "      <td>534046</td>\n",
       "      <td>3.0</td>\n",
       "      <td>2002.0</td>\n",
       "      <td>Death to Smoochy</td>\n",
       "    </tr>\n",
       "    <tr>\n",
       "      <th>34441</th>\n",
       "      <td>194</td>\n",
       "      <td>534046</td>\n",
       "      <td>4.0</td>\n",
       "      <td>1996.0</td>\n",
       "      <td>Arliss: The Best of Arliss</td>\n",
       "    </tr>\n",
       "    <tr>\n",
       "      <th>51683</th>\n",
       "      <td>290</td>\n",
       "      <td>534046</td>\n",
       "      <td>4.0</td>\n",
       "      <td>2004.0</td>\n",
       "      <td>Harold and Kumar Go to White Castle</td>\n",
       "    </tr>\n",
       "    <tr>\n",
       "      <th>111420</th>\n",
       "      <td>571</td>\n",
       "      <td>534046</td>\n",
       "      <td>4.0</td>\n",
       "      <td>1999.0</td>\n",
       "      <td>American Beauty</td>\n",
       "    </tr>\n",
       "    <tr>\n",
       "      <th>187786</th>\n",
       "      <td>1029</td>\n",
       "      <td>534046</td>\n",
       "      <td>1.0</td>\n",
       "      <td>1995.0</td>\n",
       "      <td>Tromeo and Juliet</td>\n",
       "    </tr>\n",
       "    <tr>\n",
       "      <th>210575</th>\n",
       "      <td>1148</td>\n",
       "      <td>534046</td>\n",
       "      <td>4.0</td>\n",
       "      <td>1981.0</td>\n",
       "      <td>For Your Eyes Only</td>\n",
       "    </tr>\n",
       "    <tr>\n",
       "      <th>289148</th>\n",
       "      <td>1642</td>\n",
       "      <td>534046</td>\n",
       "      <td>5.0</td>\n",
       "      <td>1995.0</td>\n",
       "      <td>Casino: 10th Anniversary Edition</td>\n",
       "    </tr>\n",
       "    <tr>\n",
       "      <th>299773</th>\n",
       "      <td>1700</td>\n",
       "      <td>534046</td>\n",
       "      <td>3.0</td>\n",
       "      <td>1996.0</td>\n",
       "      <td>Bottle Rocket</td>\n",
       "    </tr>\n",
       "    <tr>\n",
       "      <th>304076</th>\n",
       "      <td>1719</td>\n",
       "      <td>534046</td>\n",
       "      <td>5.0</td>\n",
       "      <td>2004.0</td>\n",
       "      <td>The Life Aquatic with Steve Zissou</td>\n",
       "    </tr>\n",
       "    <tr>\n",
       "      <th>308255</th>\n",
       "      <td>1744</td>\n",
       "      <td>534046</td>\n",
       "      <td>3.0</td>\n",
       "      <td>1984.0</td>\n",
       "      <td>Beverly Hills Cop</td>\n",
       "    </tr>\n",
       "    <tr>\n",
       "      <th>318144</th>\n",
       "      <td>1798</td>\n",
       "      <td>534046</td>\n",
       "      <td>4.0</td>\n",
       "      <td>1987.0</td>\n",
       "      <td>Lethal Weapon</td>\n",
       "    </tr>\n",
       "    <tr>\n",
       "      <th>328339</th>\n",
       "      <td>1843</td>\n",
       "      <td>534046</td>\n",
       "      <td>4.0</td>\n",
       "      <td>1994.0</td>\n",
       "      <td>Beverly Hills Cop III</td>\n",
       "    </tr>\n",
       "    <tr>\n",
       "      <th>391845</th>\n",
       "      <td>2178</td>\n",
       "      <td>534046</td>\n",
       "      <td>4.0</td>\n",
       "      <td>1998.0</td>\n",
       "      <td>Lock</td>\n",
       "    </tr>\n",
       "    <tr>\n",
       "      <th>445103</th>\n",
       "      <td>2464</td>\n",
       "      <td>534046</td>\n",
       "      <td>4.0</td>\n",
       "      <td>1999.0</td>\n",
       "      <td>Trekkies</td>\n",
       "    </tr>\n",
       "    <tr>\n",
       "      <th>494701</th>\n",
       "      <td>2782</td>\n",
       "      <td>534046</td>\n",
       "      <td>4.0</td>\n",
       "      <td>1995.0</td>\n",
       "      <td>Braveheart</td>\n",
       "    </tr>\n",
       "    <tr>\n",
       "      <th>503004</th>\n",
       "      <td>2840</td>\n",
       "      <td>534046</td>\n",
       "      <td>1.0</td>\n",
       "      <td>1977.0</td>\n",
       "      <td>Fantasm Comes Again</td>\n",
       "    </tr>\n",
       "    <tr>\n",
       "      <th>506551</th>\n",
       "      <td>2862</td>\n",
       "      <td>534046</td>\n",
       "      <td>5.0</td>\n",
       "      <td>1991.0</td>\n",
       "      <td>The Silence of the Lambs</td>\n",
       "    </tr>\n",
       "    <tr>\n",
       "      <th>522995</th>\n",
       "      <td>2939</td>\n",
       "      <td>534046</td>\n",
       "      <td>5.0</td>\n",
       "      <td>2004.0</td>\n",
       "      <td>Michael Moore Hates America</td>\n",
       "    </tr>\n",
       "    <tr>\n",
       "      <th>585867</th>\n",
       "      <td>3290</td>\n",
       "      <td>534046</td>\n",
       "      <td>5.0</td>\n",
       "      <td>1974.0</td>\n",
       "      <td>The Godfather</td>\n",
       "    </tr>\n",
       "    <tr>\n",
       "      <th>645503</th>\n",
       "      <td>3610</td>\n",
       "      <td>534046</td>\n",
       "      <td>4.0</td>\n",
       "      <td>1992.0</td>\n",
       "      <td>Lethal Weapon 3</td>\n",
       "    </tr>\n",
       "    <tr>\n",
       "      <th>661228</th>\n",
       "      <td>3684</td>\n",
       "      <td>534046</td>\n",
       "      <td>4.0</td>\n",
       "      <td>1964.0</td>\n",
       "      <td>Goldfinger</td>\n",
       "    </tr>\n",
       "    <tr>\n",
       "      <th>699273</th>\n",
       "      <td>3893</td>\n",
       "      <td>534046</td>\n",
       "      <td>4.0</td>\n",
       "      <td>1996.0</td>\n",
       "      <td>The People vs. Larry Flynt</td>\n",
       "    </tr>\n",
       "    <tr>\n",
       "      <th>705228</th>\n",
       "      <td>3917</td>\n",
       "      <td>534046</td>\n",
       "      <td>4.0</td>\n",
       "      <td>2004.0</td>\n",
       "      <td>Garden State</td>\n",
       "    </tr>\n",
       "    <tr>\n",
       "      <th>734591</th>\n",
       "      <td>4080</td>\n",
       "      <td>534046</td>\n",
       "      <td>5.0</td>\n",
       "      <td>2003.0</td>\n",
       "      <td>A Mighty Wind</td>\n",
       "    </tr>\n",
       "    <tr>\n",
       "      <th>785187</th>\n",
       "      <td>4356</td>\n",
       "      <td>534046</td>\n",
       "      <td>5.0</td>\n",
       "      <td>2002.0</td>\n",
       "      <td>Road to Perdition</td>\n",
       "    </tr>\n",
       "  </tbody>\n",
       "</table>\n",
       "</div>"
      ],
      "text/plain": [
       "        movie_id  customer_id  rating  movie_year  \\\n",
       "3131           5       534046     5.0      2004.0   \n",
       "8700          30       534046     5.0      2003.0   \n",
       "12247         52       534046     5.0      2002.0   \n",
       "31214        187       534046     3.0      2002.0   \n",
       "34441        194       534046     4.0      1996.0   \n",
       "51683        290       534046     4.0      2004.0   \n",
       "111420       571       534046     4.0      1999.0   \n",
       "187786      1029       534046     1.0      1995.0   \n",
       "210575      1148       534046     4.0      1981.0   \n",
       "289148      1642       534046     5.0      1995.0   \n",
       "299773      1700       534046     3.0      1996.0   \n",
       "304076      1719       534046     5.0      2004.0   \n",
       "308255      1744       534046     3.0      1984.0   \n",
       "318144      1798       534046     4.0      1987.0   \n",
       "328339      1843       534046     4.0      1994.0   \n",
       "391845      2178       534046     4.0      1998.0   \n",
       "445103      2464       534046     4.0      1999.0   \n",
       "494701      2782       534046     4.0      1995.0   \n",
       "503004      2840       534046     1.0      1977.0   \n",
       "506551      2862       534046     5.0      1991.0   \n",
       "522995      2939       534046     5.0      2004.0   \n",
       "585867      3290       534046     5.0      1974.0   \n",
       "645503      3610       534046     4.0      1992.0   \n",
       "661228      3684       534046     4.0      1964.0   \n",
       "699273      3893       534046     4.0      1996.0   \n",
       "705228      3917       534046     4.0      2004.0   \n",
       "734591      4080       534046     5.0      2003.0   \n",
       "785187      4356       534046     5.0      2002.0   \n",
       "\n",
       "                                movie_title  \n",
       "3131               The Rise and Fall of ECW  \n",
       "8700                 Something's Gotta Give  \n",
       "12247               The Weather Underground  \n",
       "31214                      Death to Smoochy  \n",
       "34441            Arliss: The Best of Arliss  \n",
       "51683   Harold and Kumar Go to White Castle  \n",
       "111420                      American Beauty  \n",
       "187786                    Tromeo and Juliet  \n",
       "210575                   For Your Eyes Only  \n",
       "289148     Casino: 10th Anniversary Edition  \n",
       "299773                        Bottle Rocket  \n",
       "304076   The Life Aquatic with Steve Zissou  \n",
       "308255                    Beverly Hills Cop  \n",
       "318144                        Lethal Weapon  \n",
       "328339                Beverly Hills Cop III  \n",
       "391845                                 Lock  \n",
       "445103                             Trekkies  \n",
       "494701                           Braveheart  \n",
       "503004                  Fantasm Comes Again  \n",
       "506551             The Silence of the Lambs  \n",
       "522995          Michael Moore Hates America  \n",
       "585867                        The Godfather  \n",
       "645503                      Lethal Weapon 3  \n",
       "661228                           Goldfinger  \n",
       "699273           The People vs. Larry Flynt  \n",
       "705228                         Garden State  \n",
       "734591                        A Mighty Wind  \n",
       "785187                    Road to Perdition  "
      ]
     },
     "execution_count": 25,
     "metadata": {},
     "output_type": "execute_result"
    }
   ],
   "source": [
    "#all_custumers_id_rows(customer_id=customer_id_use)\n",
    "## same as line above but including movie_year and movie_title\n",
    "\n",
    "#all_customers_id_plus_movie_title_rows(customer_id=customer_id_use)\n",
    "information.all_id_rows(df=data_rating_plus_movie_title, type=\"customer_id\", item_id=customer_id_use)"
   ]
  },
  {
   "cell_type": "code",
   "execution_count": 26,
   "metadata": {},
   "outputs": [
    {
     "data": {
      "text/html": [
       "<div>\n",
       "<style scoped>\n",
       "    .dataframe tbody tr th:only-of-type {\n",
       "        vertical-align: middle;\n",
       "    }\n",
       "\n",
       "    .dataframe tbody tr th {\n",
       "        vertical-align: top;\n",
       "    }\n",
       "\n",
       "    .dataframe thead tr th {\n",
       "        text-align: left;\n",
       "    }\n",
       "</style>\n",
       "<table border=\"1\" class=\"dataframe\">\n",
       "  <thead>\n",
       "    <tr>\n",
       "      <th></th>\n",
       "      <th>customer_id</th>\n",
       "      <th colspan=\"2\" halign=\"left\">rating</th>\n",
       "      <th>avg_rating</th>\n",
       "    </tr>\n",
       "    <tr>\n",
       "      <th></th>\n",
       "      <th></th>\n",
       "      <th>sum</th>\n",
       "      <th>count</th>\n",
       "      <th></th>\n",
       "    </tr>\n",
       "  </thead>\n",
       "  <tbody>\n",
       "    <tr>\n",
       "      <th>1005</th>\n",
       "      <td>534046</td>\n",
       "      <td>113.0</td>\n",
       "      <td>28</td>\n",
       "      <td>4.035714</td>\n",
       "    </tr>\n",
       "  </tbody>\n",
       "</table>\n",
       "</div>"
      ],
      "text/plain": [
       "     customer_id rating       avg_rating\n",
       "                    sum count           \n",
       "1005      534046  113.0    28   4.035714"
      ]
     },
     "execution_count": 26,
     "metadata": {},
     "output_type": "execute_result"
    }
   ],
   "source": [
    "#get_users_avg_rating(customer_id=customer_id_use)\n",
    "information.get_item_avg_rating(df=all_customers_average_ratings, type='customer_id', item_id=customer_id_use)"
   ]
  },
  {
   "cell_type": "code",
   "execution_count": 27,
   "metadata": {},
   "outputs": [
    {
     "name": "stdout",
     "output_type": "stream",
     "text": [
      "                                  movie_title  rating\n",
      "movie_id                                             \n",
      "5                    The Rise and Fall of ECW     5.0\n",
      "30                     Something's Gotta Give     5.0\n",
      "52                    The Weather Underground     5.0\n",
      "194                Arliss: The Best of Arliss     4.0\n",
      "290       Harold and Kumar Go to White Castle     4.0\n",
      "571                           American Beauty     4.0\n",
      "1148                       For Your Eyes Only     4.0\n",
      "1642         Casino: 10th Anniversary Edition     5.0\n",
      "1719       The Life Aquatic with Steve Zissou     5.0\n",
      "1798                            Lethal Weapon     4.0\n",
      "1843                    Beverly Hills Cop III     4.0\n",
      "2178                                     Lock     4.0\n",
      "2464                                 Trekkies     4.0\n",
      "2782                               Braveheart     4.0\n",
      "2862                 The Silence of the Lambs     5.0\n",
      "2939              Michael Moore Hates America     5.0\n",
      "3290                            The Godfather     5.0\n",
      "3610                          Lethal Weapon 3     4.0\n",
      "3684                               Goldfinger     4.0\n",
      "3893               The People vs. Larry Flynt     4.0\n",
      "3917                             Garden State     4.0\n",
      "4080                            A Mighty Wind     5.0\n",
      "4356                        Road to Perdition     5.0\n",
      "average rating 1005    4.035714\n",
      "Name: avg_rating, dtype: float64\n"
     ]
    }
   ],
   "source": [
    "#display_movies_customer_rated_higher_than(customer_id=customer_id_use, min_rating=4)\n",
    "information.display_movies_customer_rated_higher_than(df=data_rating_plus_movie_title, customer_id=customer_id_use, min_rating=min_rating)"
   ]
  },
  {
   "cell_type": "code",
   "execution_count": 28,
   "metadata": {},
   "outputs": [
    {
     "name": "stdout",
     "output_type": "stream",
     "text": [
      "                  movie_title  rating\n",
      "movie_id                             \n",
      "187          Death to Smoochy     3.0\n",
      "1029        Tromeo and Juliet     1.0\n",
      "1700            Bottle Rocket     3.0\n",
      "1744        Beverly Hills Cop     3.0\n",
      "2840      Fantasm Comes Again     1.0\n",
      "average rating 1005    4.035714\n",
      "Name: avg_rating, dtype: float64\n"
     ]
    }
   ],
   "source": [
    "information.display_movies_customer_rated_lower_than(df= data_rating_plus_movie_title,customer_id=customer_id_use, max_rating=max_rating)"
   ]
  },
  {
   "cell_type": "code",
   "execution_count": 29,
   "metadata": {},
   "outputs": [
    {
     "name": "stdout",
     "output_type": "stream",
     "text": [
      "User 534046 loved these movies\n",
      "The Rise and Fall of ECW\n",
      "Something's Gotta Give\n",
      "The Weather Underground\n",
      "Arliss: The Best of Arliss\n",
      "Harold and Kumar Go to White Castle\n",
      "American Beauty\n",
      "For Your Eyes Only\n",
      "Casino: 10th Anniversary Edition\n",
      "The Life Aquatic with Steve Zissou\n",
      "Lethal Weapon\n",
      "Beverly Hills Cop III\n",
      "Lock\n",
      "Trekkies\n",
      "Braveheart\n",
      "The Silence of the Lambs\n",
      "Michael Moore Hates America\n",
      "The Godfather\n",
      "Lethal Weapon 3\n",
      "Goldfinger\n",
      "The People vs. Larry Flynt\n",
      "Garden State\n",
      "A Mighty Wind\n",
      "Road to Perdition\n",
      "\n",
      "and disliked these movies\n",
      "Death to Smoochy\n",
      "Tromeo and Juliet\n",
      "Bottle Rocket\n",
      "Beverly Hills Cop\n",
      "Fantasm Comes Again\n"
     ]
    }
   ],
   "source": [
    "information.get_users_loved_hated_movies(df=data_rating_plus_movie_title, customer_id=customer_id_use, minmax_rating=4)"
   ]
  },
  {
   "cell_type": "markdown",
   "metadata": {},
   "source": [
    "## Recommendations with collaborative filtering"
   ]
  },
  {
   "cell_type": "markdown",
   "metadata": {},
   "source": [
    "#### functions"
   ]
  },
  {
   "cell_type": "code",
   "execution_count": null,
   "metadata": {},
   "outputs": [],
   "source": [
    "from surprise import dataset, KNNBaseline, accuracy\n",
    "from surprise.model_selection import train_test_split, LeaveOneOut\n",
    "\n",
    "def get_drop_list(type=\"movie_id\"):\n",
    "    #>IF MOVIE:  movie_id, movie rating count, movie rating mean\n",
    "    #>IF CUSTOMER: customer_id, custumer rating count, customer rating mean\n",
    "    df_count_mean_summary = data_rating.groupby(type)['rating'].agg(['count', 'mean'])\n",
    "    df_count_mean_summary.index = df_count_mean_summary.index.map(int)\n",
    "    #>IF MOVIE: returns 1799.0 as a benchmark number\n",
    "    #IF CUSTOMER: returns 52.0 as a benchmark number\n",
    "    benchmark = round(df_count_mean_summary['count'].quantile(0.7),0)\n",
    "    # drop all rows below benchmark\n",
    "    df_drop_list = df_count_mean_summary[df_count_mean_summary['count'] < benchmark]\n",
    "    # return all indexes to drop\n",
    "    return df_drop_list\n",
    "\n",
    "def get_customer_recommendations(customer_id, predictor):\n",
    "    #> returns movie_id, movie_year, movie_title\n",
    "    chosen_customer_pred = data_movies.copy()\n",
    "    # fails if movie_id is the index so we have to reset the index back to normal (0-N)\n",
    "    chosen_customer_pred = chosen_customer_pred.reset_index()\n",
    "    # makes sure that we only pick movies that are not in the movie dropped list\n",
    "    chosen_customer_pred = chosen_customer_pred[~chosen_customer_pred['movie_id'].isin(df_movie_drop_list)]\n",
    "    # make prediction for customer with id = <customer_id> and put it into 'estimated_score'\n",
    "    chosen_customer_pred['estimated_score'] = chosen_customer_pred['movie_id'].apply(lambda x: predictor.predict(customer_id, x).est)\n",
    "    # sort by 'estimated score'\n",
    "    chosen_customer_pred = chosen_customer_pred.sort_values('estimated_score', ascending=False).set_index('movie_id')\n",
    "    return chosen_customer_pred\n",
    "\n",
    "# print out movies/tv show user has previously rated\n",
    "def display_rated_content(customer_id=customer_id_use, number_to_show=20):\n",
    "    print(\"Movies/TV Shows rated by customer\", customer_id)\n",
    "    #df = all_customers_id_plus_movie_title_rows(customer_id=customer_id)\n",
    "    df = information.all_id_rows(df=data_rating_plus_movie_title, type='customer_id', item_id=customer_id)\n",
    "    df = df[['movie_title', 'rating']].sort_values('rating', ascending=False)\n",
    "    print(df[0:number_to_show].set_index('movie_title'))\n",
    "\n",
    "def display_customers_recommendations(customer_id=customer_id_use, df=[], number_to_show=20):\n",
    "    print(\"Movies/TV Shows recommended to customer\")\n",
    "    tmp_df = df[['movie_title', 'estimated_score']][0:number_to_show]\n",
    "    tmp_df = tmp_df.set_index('movie_title')\n",
    "    print(tmp_df)\n",
    "\n",
    "def display_recommendation(customer_id, number_to_show, predictor):\n",
    "    chosen_customer_pred = get_customer_recommendations(customer_id=customer_id, predictor=predictor)\n",
    "    display_customers_recommendations(customer_id=customer_id, df=chosen_customer_pred, number_to_show=number_to_show)\n",
    "\n",
    "def print_evaluation_accuracy(prediction):\n",
    "    print(\"\\nEvaluating accuracy of model...\")\n",
    "    print(\"RMSE: \", accuracy.rmse(prediction, verbose=False))\n",
    "    print(\"MAE: \", accuracy.mae(prediction, verbose=False))"
   ]
  },
  {
   "cell_type": "markdown",
   "metadata": {},
   "source": [
    "#### create recommenders"
   ]
  },
  {
   "cell_type": "code",
   "execution_count": null,
   "metadata": {},
   "outputs": [],
   "source": [
    "## creating a list of the movies that we don't wanna include\n",
    "df_movie_drop_list = get_drop_list(type=\"movie_id\")\n",
    "#df_customer_drop_list = get_summary(type=\"customer_id\")"
   ]
  },
  {
   "cell_type": "code",
   "execution_count": null,
   "metadata": {},
   "outputs": [],
   "source": [
    "class convert_to_raw_ratings(dataset.DatasetAutoFolds):\n",
    "    def __init__(self, df, reader):\n",
    "        self.raw_ratings = [(uid, iid, r, None) for (uid, iid, r) in zip(df['customer_id'], df['movie_id'], df['rating'])]\n",
    "        self.reader=reader\n",
    "\n",
    "raw_ratings = convert_to_raw_ratings(data_rating, reader)\n",
    "print(\"\\nBuilding recommendation model...\")\n",
    "trainSet, testSet = train_test_split(raw_ratings, test_size=.25, random_state=1)\n",
    "\n",
    "algo = SVD(random_state=10)\n",
    "algo.fit(trainSet)\n",
    "algo_predictions = algo.test(testSet)"
   ]
  },
  {
   "cell_type": "code",
   "execution_count": null,
   "metadata": {},
   "outputs": [],
   "source": [
    "svd = SVD(random_state=10)\n",
    "data_new = Dataset.load_from_df(data_rating[['customer_id', 'movie_id', 'rating']], reader)\n",
    "trainset = data_new.build_full_trainset()\n",
    "svd.fit(trainset)\n",
    "svd_predictions = svd.test(testSet)\n"
   ]
  },
  {
   "cell_type": "markdown",
   "metadata": {},
   "source": [
    "### display recommendations"
   ]
  },
  {
   "cell_type": "code",
   "execution_count": null,
   "metadata": {},
   "outputs": [],
   "source": [
    "number_to_show = 10"
   ]
  },
  {
   "cell_type": "markdown",
   "metadata": {},
   "source": [
    "#### customer = 79724"
   ]
  },
  {
   "cell_type": "code",
   "execution_count": null,
   "metadata": {},
   "outputs": [],
   "source": [
    "display_rated_content(customer_id=79724, number_to_show=number_to_show)"
   ]
  },
  {
   "cell_type": "code",
   "execution_count": null,
   "metadata": {},
   "outputs": [],
   "source": [
    "display_recommendation(customer_id=79724, number_to_show=number_to_show, predictor=svd)"
   ]
  },
  {
   "cell_type": "code",
   "execution_count": null,
   "metadata": {},
   "outputs": [],
   "source": [
    "display_recommendation(customer_id=79724, number_to_show=number_to_show, predictor=algo)"
   ]
  },
  {
   "cell_type": "markdown",
   "metadata": {},
   "source": [
    "#### customer = customer_id_use"
   ]
  },
  {
   "cell_type": "code",
   "execution_count": null,
   "metadata": {},
   "outputs": [],
   "source": [
    "display_rated_content(customer_id=customer_id_use, number_to_show=number_to_show)"
   ]
  },
  {
   "cell_type": "code",
   "execution_count": null,
   "metadata": {},
   "outputs": [],
   "source": [
    "display_recommendation(customer_id=customer_id_use, number_to_show=number_to_show, predictor=svd)"
   ]
  },
  {
   "cell_type": "code",
   "execution_count": null,
   "metadata": {},
   "outputs": [],
   "source": [
    "display_recommendation(customer_id=customer_id_use, number_to_show=number_to_show, predictor=algo)\n",
    "# recommends for example: Reservoir Dogs, which the user has already rated"
   ]
  },
  {
   "cell_type": "markdown",
   "metadata": {},
   "source": [
    "### print accuracy"
   ]
  },
  {
   "cell_type": "code",
   "execution_count": null,
   "metadata": {},
   "outputs": [],
   "source": [
    "print_evaluation_accuracy(svd_predictions)"
   ]
  },
  {
   "cell_type": "code",
   "execution_count": null,
   "metadata": {},
   "outputs": [],
   "source": [
    "print_evaluation_accuracy(algo_predictions)"
   ]
  },
  {
   "cell_type": "markdown",
   "metadata": {},
   "source": [
    "## other"
   ]
  },
  {
   "cell_type": "code",
   "execution_count": null,
   "metadata": {},
   "outputs": [],
   "source": [
    "\n",
    "dataset = Dataset.load_from_df(data_rating[['customer_id', 'movie_id', 'rating']], reader)\n",
    "trainset = dataset.build_full_trainset()"
   ]
  },
  {
   "cell_type": "code",
   "execution_count": null,
   "metadata": {},
   "outputs": [],
   "source": [
    "tmp_data_movies = data_movies[['movie_id', 'movie_title']]\n",
    "tmp_data_movies = tmp_data_movies.set_index('movie_id').T\n",
    "tmp_data_movies = tmp_data_movies.to_dict('list')\n",
    "tmp_data_movies = {k: str(v[0]) for k,v in tmp_data_movies.items()}"
   ]
  },
  {
   "cell_type": "code",
   "execution_count": null,
   "metadata": {},
   "outputs": [],
   "source": [
    "similarity_matrix = KNNBasic(sim_options={'name': 'cosine', 'user_based': False}).fit(trainset).compute_similarities()"
   ]
  },
  {
   "cell_type": "code",
   "execution_count": null,
   "metadata": {},
   "outputs": [],
   "source": [
    "# generate_random_user_ids(1000, 1500)"
   ]
  },
  {
   "cell_type": "code",
   "execution_count": null,
   "metadata": {},
   "outputs": [],
   "source": [
    "# for i in generate_random_user_ids(1000, 1500):\n",
    "#     if (len(all_custumers_id_rows(i)) > 3):\n",
    "#         print(i)"
   ]
  },
  {
   "cell_type": "code",
   "execution_count": null,
   "metadata": {},
   "outputs": [],
   "source": [
    "test_subject = customer_id_use#16272\n",
    "k = 10"
   ]
  },
  {
   "cell_type": "code",
   "execution_count": null,
   "metadata": {},
   "outputs": [],
   "source": [
    "test_subject_iid = trainset.to_inner_uid(test_subject)\n",
    "\n",
    "test_subject_ratings = trainset.ur[test_subject_iid]\n",
    "k_neighbours = heapq.nlargest(k, test_subject_ratings, key=lambda t: t[1])"
   ]
  },
  {
   "cell_type": "code",
   "execution_count": null,
   "metadata": {},
   "outputs": [],
   "source": [
    "candidates = defaultdict(float)\n",
    "\n",
    "for itemID, rating in k_neighbours:\n",
    "    try:\n",
    "        similarities = similarity_matrix[itemID]\n",
    "        for innerID, score in enumerate(similarities):\n",
    "            candidates[innerID] += score * (rating / 5.0)\n",
    "    except:\n",
    "        continue"
   ]
  },
  {
   "cell_type": "code",
   "execution_count": null,
   "metadata": {},
   "outputs": [],
   "source": [
    "def getMovieName(movieID):\n",
    "  if int(movieID) in tmp_data_movies:\n",
    "    return tmp_data_movies[int(movieID)]\n",
    "  else:\n",
    "      return \"\""
   ]
  },
  {
   "cell_type": "code",
   "execution_count": null,
   "metadata": {},
   "outputs": [],
   "source": [
    "watched = {}\n",
    "for itemID, rating in trainset.ur[test_subject_iid]:\n",
    "    watched[itemID] = 1\n",
    "\n",
    "recommendations = []\n",
    "position = 0\n",
    "for itemID, rating_sum in sorted(candidates.items(), key=itemgetter(1), reverse=True):\n",
    "    if not itemID in watched:\n",
    "        recommendations.append(getMovieName(trainset.to_raw_iid(itemID)))\n",
    "        position += 1\n",
    "        # only want top n which in our case in 10\n",
    "        if(position > 10): break\n",
    "\n",
    "for rec in recommendations:\n",
    "    print(\"Movie: \", rec)\n"
   ]
  },
  {
   "cell_type": "code",
   "execution_count": null,
   "metadata": {},
   "outputs": [],
   "source": [
    "print(\"user\", test_subject, 'previous recommendations')\n",
    "display_recommendation(customer_id=test_subject, number_to_show=10, predictor=svd)"
   ]
  },
  {
   "cell_type": "code",
   "execution_count": null,
   "metadata": {},
   "outputs": [],
   "source": [
    "#TODO:\n",
    "#for the new user problem\n",
    "## find highest rated movie / tv shows that have been watched the most -> how likely is new user to click on it ?"
   ]
  },
  {
   "cell_type": "code",
   "execution_count": null,
   "metadata": {},
   "outputs": [],
   "source": []
  }
 ],
 "metadata": {
  "interpreter": {
   "hash": "eb60acc68106785d00a40fb3b1b3b80d861e6f0b0d60f9d8440fa3d46ca2822c"
  },
  "kernelspec": {
   "display_name": "Python 3.8.8 64-bit ('base': conda)",
   "name": "python3"
  },
  "language_info": {
   "codemirror_mode": {
    "name": "ipython",
    "version": 3
   },
   "file_extension": ".py",
   "mimetype": "text/x-python",
   "name": "python",
   "nbconvert_exporter": "python",
   "pygments_lexer": "ipython3",
   "version": "3.8.3"
  },
  "orig_nbformat": 2
 },
 "nbformat": 4,
 "nbformat_minor": 2
}
